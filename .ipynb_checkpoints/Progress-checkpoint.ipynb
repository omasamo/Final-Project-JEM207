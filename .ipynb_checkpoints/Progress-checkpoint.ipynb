{
 "cells": [
  {
   "cell_type": "code",
   "execution_count": 19,
   "metadata": {},
   "outputs": [],
   "source": [
    "###IMPORTANT ####\n",
    " # Actor until 1976\n",
    " # Actor in a Leading Role since 1977\n",
    " # Same for Actress\n",
    "    \n",
    "### Stock the data better than doing a request every try # Done\n",
    "\n",
    "### PROBLEME : COMMENT GERER LES 2 WINNERS, existe plusieurs fois # Done\n",
    "\n",
    "### PROBLEM : for DIRECTION, names and titles are swapped # Done\n",
    "\n",
    "\n",
    "### PROBLEME : Incohérence des noms de catégories sur plusieurs année : best motion picture -> best picture\n",
    "# Special effect -> Visual effects etc\n",
    "\n",
    "### Les informations récoltées ne sont pas les mêmes ex : foreign film c'est le pays qui est récolté, comment faire ?\n",
    "\n",
    "\n",
    "\n",
    "import sys\n",
    "!{sys.executable} -m pip install jellyfish"
   ]
  },
  {
   "cell_type": "code",
   "execution_count": 9,
   "metadata": {},
   "outputs": [],
   "source": [
    "### OOP   ### ROTTENTOMATOES\n",
    "\n",
    "import time\n",
    "import requests\n",
    "from scrapy import Selector\n",
    "from tqdm import tqdm\n",
    "import pandas as pd\n",
    "import re  # text processing\n",
    "import numpy as np\n",
    "import json\n",
    "import jellyfish\n",
    "\n",
    "class Oscar_Scraper:\n",
    "    \n",
    "    list_names = []\n",
    "    list_year = []\n",
    "    list_category = []\n",
    "    list_films = []\n",
    "    list_results = [] \n",
    "    list_ratings_imdb = []\n",
    "    list_ratings_rottentomatoes = []\n",
    "    list_metacritics = []\n",
    "    list_boxoffice = []\n",
    "    list_id_movie = []\n",
    "    list_birthday = []\n",
    "    list_gender = []\n",
    "    list_id_indiv = []\n",
    "\n",
    "    \n",
    "    def __init__(self, from_time, to_time):\n",
    "        self.links = {\n",
    "            'oscars':[],\n",
    "            'rotten':[],\n",
    "        }\n",
    "        \n",
    "        self.categories_interest = ['Directing', 'Actor', 'Actor in a Leading Role', 'Actress', 'Actress in a Leading Role',\n",
    "                  'Outstanding Picture','Outstanding Production','Best Motion Picture', 'Best Picture', 'Foreign Language Film', \n",
    "                  'Special Effects', 'Special Visual Effects','Special Achievement Award (Visual Effects)', 'Visual Effects']\n",
    "        \n",
    "        self.categories_individuals = ['Directing', 'Actor', 'Actor in a Leading Role', 'Actress', 'Actress in a Leading Role']\n",
    "        self.categories_films = ['Outstanding Picture','Outstanding Production','Best Motion Picture', 'Best Picture', 'Foreign Language Film', \n",
    "                  'Special Effects', 'Special Visual Effects','Special Achievement Award (Visual Effects)', 'Visual Effects']\n",
    "        \n",
    "        #lists of different names for same categories\n",
    "        self.categories_dictionary = {\n",
    "                    \"Actor\": ['Actor', 'Actor in a Leading Role'],\n",
    "                    \"Actress\": ['Actress', 'Actress in a Leading Role'],\n",
    "                    \"Picture\": ['Outstanding Picture', 'Outstanding Production','Best Motion Picture', 'Best Picture'],\n",
    "                    \"VE\" : ['Special Effects', 'Special Visual Effects','Special Achievement Award (Visual Effects)','Visual Effects']\n",
    "                    }\n",
    "        \n",
    "        \n",
    "        self.from_time = from_time\n",
    "        self.time_period = range(from_time, to_time + 1)\n",
    "        self.data = {\n",
    "            'category':[],\n",
    "            'film':[],\n",
    "            'year':[],\n",
    "            'name':[],\n",
    "            'gender':[],\n",
    "            'result':[],\n",
    "            'birthdate':[],\n",
    "            'imbd_ratings':[],\n",
    "            'rotten_ratings':[],\n",
    "            'metacritics_ratings':[],\n",
    "            'box office':[],\n",
    "            'id_movie':[]\n",
    "            \n",
    "        }\n",
    "        \n",
    "        \n",
    "\n",
    "    def getHTML(self):\n",
    "        \n",
    "        for i in self.time_period:\n",
    "            #time.sleep(10) # Crawlerdelay\n",
    "            url = \"https://www.oscars.org/oscars/ceremonies/{}\".format(i)\n",
    "            response_oscars = requests.get(url)\n",
    "            sel = Selector(text = response_oscars.text)   # Scrapy chose over BeautifulSoup for selector CSS\n",
    "            self.links['oscars'].append(sel)\n",
    "\n",
    "    def getNominees(self, years, i, category, number_nominees, number_winners):\n",
    "\n",
    "        for number in range(number_nominees):   \n",
    "            if number_winners == 1:\n",
    "                # NAME\n",
    "                path_name = \"#quicktabs-tabpage-honorees-0 > div > div.view-content > div:nth-child({}) > div.view-grouping-content > div:nth-child({}) > div.views-field.views-field-field-actor-name > h4::text\".format(i+1, 4 +number)\n",
    "                nominee_name = ''.join(self.links['oscars'][years].css(path_name).extract()) # ''.join() transforms the list produced by the selector into a string\n",
    "            if number_winners == 2:\n",
    "                 # NAME\n",
    "                path_name = \"#quicktabs-tabpage-honorees-0 > div > div.view-content > div:nth-child({}) > div.view-grouping-content > div:nth-child({}) > div.views-field.views-field-field-actor-name > h4::text\".format(i+1, 5 +number)\n",
    "                nominee_name = ''.join(self.links['oscars'][years].css(path_name).extract()) # ''.join() transforms the list produced by the selector into a string\n",
    "            \n",
    "            if category == \"Directing\": # For Directing, titles and names are swapped on the website\n",
    "                self.list_films.append(nominee_name)\n",
    "            else:\n",
    "                self.list_names.append(nominee_name)\n",
    "\n",
    "            # FILM\n",
    "            if number_winners == 1:\n",
    "                path_film = \"#quicktabs-tabpage-honorees-0 > div > div.view-content > div:nth-child({}) > div.view-grouping-content > div:nth-child({}) > div.views-field.views-field-title > span::text\".format(i+1, 4 +number)\n",
    "                nominee_film = ''.join(self.links['oscars'][years].css(path_film).extract()) # ''.join() transforms the list produced by the selector into a string\n",
    "                nominee_film = nominee_film.replace(\"\\n\", \"\") # Cleaning up the string\n",
    "            if number_winners == 2:\n",
    "                path_film = \"#quicktabs-tabpage-honorees-0 > div > div.view-content > div:nth-child({}) > div.view-grouping-content > div:nth-child({}) > div.views-field.views-field-title > span::text\".format(i+1, 5 +number)\n",
    "                nominee_film = ''.join(self.links['oscars'][years].css(path_film).extract()) # ''.join() transforms the list produced by the selector into a string\n",
    "                nominee_film = nominee_film.replace(\"\\n\", \"\") # Cleaning up the string\n",
    "            if category == \"Directing\":# For Directing, titles and names are swapped on the website\n",
    "                self.list_names.append(nominee_film)\n",
    "            else:\n",
    "                self.list_films.append(nominee_film)\n",
    "            \n",
    "            self.list_year.append(self.from_time + years)         \n",
    "            self.list_category.append(category)\n",
    "            self.list_results.append(\"Nominee\")\n",
    "\n",
    "    def getWinners(self, years, i, category, number_winners):\n",
    "\n",
    "        if number_winners == 1: # 1 Winner\n",
    "        # NAME\n",
    "            path_name = \"#quicktabs-tabpage-honorees-0 > div > div.view-content > div:nth-child({}) > div.view-grouping-content > div.views-row.views-row-1.views-row-odd.views-row-first.views-row-last > div.views-field.views-field-field-actor-name > h4::text\".format(i+1)\n",
    "            nominee_name = ''.join(self.links['oscars'][years].css(path_name).extract()) # ''.join() transforms the list produced by the selector into a string\n",
    "\n",
    "            if category == \"Directing\": # For Directing, titles and names are swapped on the website\n",
    "                self.list_films.append(nominee_name)\n",
    "            else:\n",
    "                self.list_names.append(nominee_name)\n",
    "            \n",
    "        \n",
    "            # FIlM\n",
    "            path_film = '#quicktabs-tabpage-honorees-0 > div > div.view-content > div:nth-child({}) > div.view-grouping-content > div.views-row.views-row-1.views-row-odd.views-row-first.views-row-last > div.views-field.views-field-title > span::text'.format(i+1)\n",
    "            nominee_film = ''.join(self.links['oscars'][years].css(path_film).extract()) # ''.join() transforms the list produced by the selector into a string\n",
    "            nominee_film = nominee_film.replace(\"\\n\", \"\") # Cleaning up the string\n",
    "\n",
    "            if category == \"Directing\":# For Directing, titles and names are swapped on the website\n",
    "                self.list_names.append(nominee_film)\n",
    "            else:\n",
    "                self.list_films.append(nominee_film)\n",
    "           \n",
    "            self.list_year.append(self.from_time + years)\n",
    "            self.list_category.append(category)\n",
    "            self.list_results.append(\"Winner\")\n",
    "\n",
    "\n",
    "        if number_winners == 2: # 2 Winners\n",
    "            # NAME 1st Winner \n",
    "            path_name = \"#quicktabs-tabpage-honorees-0 > div > div.view-content > div:nth-child({}) > div.view-grouping-content > div:nth-child(2) > div.views-field.views-field-field-actor-name > h4::text\".format(i+1)\n",
    "            nominee_name = ''.join(self.links['oscars'][years].css(path_name).extract()) # ''.join() transforms the list produced by the selector into a string4\n",
    "\n",
    "            if category == \"Directing\": # For Directing, titles and names are swapped on the website\n",
    "                self.list_films.append(nominee_name)\n",
    "            else:\n",
    "                self.list_names.append(nominee_name)\n",
    "\n",
    "            self.list_year.append(self.from_time + years)\n",
    "            self.list_category.append(category)\n",
    "            self.list_results.append(\"Tie-winner\")\n",
    "\n",
    "            # NAME 2st Winner \n",
    "            path_name = \"#quicktabs-tabpage-honorees-0 > div > div.view-content > div:nth-child({}) > div.view-grouping-content > div:nth-child(3) > div.views-field.views-field-field-actor-name > h4::text\".format(i+1)\n",
    "            nominee_name = ''.join(self.links['oscars'][years].css(path_name).extract()) # ''.join() transforms the list produced by the selector into a string4\n",
    "\n",
    "            if category == \"Directing\": # For Directing, titles and names are swapped on the website\n",
    "                self.list_films.append(nominee_name)\n",
    "            else:\n",
    "                self.list_names.append(nominee_name)\n",
    "\n",
    "            self.list_year.append(self.from_time + years)\n",
    "            self.list_category.append(category)\n",
    "            self.list_results.append(\"Tie-winner\")\n",
    "\n",
    "            # FILM\n",
    "            path_film1 = '#quicktabs-tabpage-honorees-0 > div > div.view-content > div:nth-child({}) > div.view-grouping-content > div:nth-child(2) > div.views-field.views-field-title > span::text'.format(i+1)\n",
    "            path_film2 = '#quicktabs-tabpage-honorees-0 > div > div.view-content > div:nth-child({}) > div.view-grouping-content > div:nth-child(3) > div.views-field.views-field-title > span::text'.format(i+1)\n",
    "\n",
    "            nominee_film = ''.join(self.links['oscars'][years].css(path_film1).extract()) # ''.join() transforms the list produced by the selector into a string\n",
    "            nominee_film = nominee_film.replace(\"\\n\", \"\") # Cleaning up the string\n",
    "\n",
    "            if category == \"Directing\":# For Directing, titles and names are swapped on the website\n",
    "                self.list_names.append(nominee_film)\n",
    "            else:\n",
    "                self.list_films.append(nominee_film)\n",
    "\n",
    "            winner2_film = ''.join(self.links['oscars'][years].css(path_film2).extract()) # ''.join() transforms the list produced by the selector into a string\n",
    "            winner2_film = winner2_film.replace(\"\\n\", \"\") # Cleaning up the string\n",
    "\n",
    "            if category == \"Directing\":# For Directing, titles and names are swapped on the website\n",
    "                self.list_names.append(winner2_film)\n",
    "            else:\n",
    "                self.list_films.append(winner2_film)        \n",
    "\n",
    "\n",
    "\n",
    "    def getDATA(self):\n",
    "            \n",
    "        for years in tqdm(range(len(self.links['oscars']))):\n",
    "\n",
    "            categories = self.links['oscars'][years].css('#quicktabs-tabpage-honorees-0 > div > div.view-content > div.view-grouping > div.view-grouping-header > h2::text').extract()    \n",
    "            \n",
    "            for i in range(len(categories)):\n",
    "                if categories[i] in self.categories_individuals:\n",
    "\n",
    "                    # Need the number of winners (might be ties) and nominated          \n",
    "                    path_nominated = \"#quicktabs-tabpage-honorees-0 > div > div.view-content > div:nth-child({}) > div.view-grouping-content > div:last-child\".format(i+1)\n",
    "                    number_of_film_nominated = int(''.join(self.links['oscars'][years].css(path_nominated).extract()).split(\"views-row-\")[1])\n",
    "\n",
    "                    path_winner = \"#quicktabs-tabpage-honorees-0 > div > div.view-content > div:nth-child({}) > div.view-grouping-content > div:nth-child(2)\".format(i+1)\n",
    "                    trial = ''.join(self.links['oscars'][years].css(path_winner).extract()).split(\"views-row-first views-row-last\") # If 1 winner then it splits the string into 1 list of 2 elements, if 2 winners, it does nothing\n",
    "                    if len(trial) == 2:\n",
    "                        number_winners = 1\n",
    "                    elif len(trial) == 1:\n",
    "                        number_winners = 2\n",
    "                    else:\n",
    "                        print(\"problem\")\n",
    "\n",
    "\n",
    "                    ## WINNERS                 \n",
    "                    self.getWinners(years, i, categories[i], number_winners)     \n",
    "                    ## NOMINEES\n",
    "                    self.getNominees(years, i, categories[i], number_of_film_nominated, number_winners)   \n",
    "                    \n",
    "                    \n",
    "        self.data = {\n",
    "            'year': self.list_year,\n",
    "            'category': self.list_category,\n",
    "            'film': self.list_films,\n",
    "            'name': self.list_names,\n",
    "            #'gender':[],\n",
    "            'result':self.list_results\n",
    "            #,\n",
    "            #'birthdate':[]\n",
    "        }            \n",
    "        \n",
    "        \n",
    "        for i in range(len(self.data['film'])):\n",
    "            if self.data[\"film\"][i] == \"Good Fellas\":\n",
    "                self.data[\"film\"][i] = \"Goodfellas\"\n",
    "            if self.data[\"film\"][i] == \"Life Is Beautiful\":\n",
    "                self.data[\"film\"][i] = \"La vita è bella\"\n",
    "            if self.data[\"film\"][i] == \"Pelle the Conqueror\":\n",
    "                self.data[\"film\"][i] = \"Pelle Erobreren\"\n",
    "            if self.data[\"film\"][i] == \"Roland Joffé\":\n",
    "                self.data[\"film\"][i] = \"The Killing Fields\"\n",
    "                self.data[\"name\"][i] = \"Roland Joffé\"\n",
    "            if self.data[\"film\"][i] == \"Mulholland Drive\":\n",
    "                self.data[\"film\"][i] = \"Mulholland Dr.\"\n",
    "            if self.data[\"film\"][i] == \"Precious: Based on the Novel 'Push' by Sapphire\":\n",
    "                self.data[\"film\"][i] = \"Precious\"\n",
    "            if self.data[\"film\"][i] == \"Demián Bichir\":\n",
    "                self.data[\"film\"][i] = \"A Better Life\"\n",
    "                self.data[\"name\"][i] = \"Demián Bichir\"\n",
    "            if self.data[\"film\"][i] == \"Two Days, One Night\":\n",
    "                self.data[\"film\"][i] = \"Deux jours, une nuit\"\n",
    "            if self.data[\"film\"][i] == \"Five Fingers\" and self.data[\"year\"][i] == 1953:\n",
    "                self.data[\"film\"][i] = \"5 Fingers\"\n",
    "            if self.data[\"film\"][i] == \"Adventures of Robinson Crusoe\":\n",
    "                self.data[\"film\"][i] = \"Robinson Crusoe\"\n",
    "            if self.data[\"film\"][i] == \"Henry V\" and self.data[\"year\"][i] == 1947:\n",
    "                self.data[\"film\"][i] = \"The Chronicle History of King Henry the Fifth with His Battell Fought at Agincourt in France\"    \n",
    "     #       if self.data[\"film\"][i] == \"All That Money Can Buy\":\n",
    "    #            self.data[\"film\"][i] = \"The Devil and Daniel Webster\"\n",
    "            if self.data[\"film\"][i] == \"Two Women\":\n",
    "                self.data[\"film\"][i] = \"La ciociara\"\n",
    "            if self.data[\"film\"][i] == \"Divorce--Italian Style\":\n",
    "                self.data[\"#film\"][i] = \"Divorzio all'italiana\"    \n",
    "            if self.data[\"film\"][i] == \"Federico Fellini's 8-1/2\":\n",
    "                self.data[\"film\"][i] = \"8½\"\n",
    "            if self.data[\"film\"][i] == \"Zorba the Greek\":\n",
    "                self.data[\"film\"][i] = \"Aléxis Zorbás\"  \n",
    "            if self.data[\"film\"][i] == \"The Emigrants\":\n",
    "                self.data[\"film\"][i] = \"Utvandrarna\"\n",
    "            if self.data[\"film\"][i] == \"Last Tango in Paris\":\n",
    "                self.data[\"film\"][i] = \"Ultimo tango a Parigi\"\n",
    "            if self.data[\"film\"][i] == \"Cries and Whispers\":\n",
    "                self.data[\"film\"][i] = \"Viskningar och rop\"   \n",
    "            if self.data[\"film\"][i] == \"A Special Day\":\n",
    "                self.data[\"film\"][i] = \"Una giornata particolare\"\n",
    "            if self.data[\"film\"][i] == \"Central Station\":\n",
    "                self.data[\"film\"][i] = \"Central do Brasil\"  \n",
    "            if self.data[\"film\"][i] == \"Red\":\n",
    "                self.data[\"film\"][i] = \"Three colors: Red\"\n",
    "            if self.data[\"film\"][i] == \"Marriage Italian Style\":\n",
    "                self.data[\"film\"][i] = \"Matrimonio all'italiana\"\n",
    "            if self.data[\"film\"][i] == \"Woman in the Dunes\":\n",
    "                self.data[\"film\"][i] = \"Suna no onna\"\n",
    "            if self.data[\"film\"][i] == \"A Man and a Woman\":\n",
    "                self.data[\"film\"][i] = \"Un homme et une femme\" \n",
    "\n",
    "    def getINDIVIDUALS(self):\n",
    "        df = pd.DataFrame(self.data)\n",
    "        df = df.set_index(['year','category'])\n",
    "        individuals = df.loc(axis = 0)[pd.IndexSlice[:, self.categories_individuals]]\n",
    "        return(individuals)\n",
    "    \n",
    "    def getFILMS(self):\n",
    "        df = pd.DataFrame(self.data)\n",
    "        df = df.set_index(['year','category'])\n",
    "        films = df.loc(axis = 0)[pd.IndexSlice[:, self.categories_interest[5:]]]\n",
    "        films.columns = ('film', 'Studio/Creator(s)', 'result')\n",
    "        return(films)\n",
    "    \n",
    "     #creating big dataframe with all data\n",
    "    def getAllCategories(self):\n",
    "        df = pd.DataFrame(self.data)\n",
    "        df = df.set_index(['year','category'])\n",
    "        return(df)\n",
    "    \n",
    "    #in progress\n",
    "    \"\"\" #creating CSV files based on scraped data. Possible naming of the columns for different datasets\n",
    "    def create_named_CSV(self,dataframe,categories,columns_name):\n",
    "        if len(column_name) > 2:\n",
    "          raise Exception('Items exceeds the maximum allowed length of 2')\n",
    "        category = []\n",
    "        if type(categories) == 'str':\n",
    "        category.append(categories)\n",
    "        for x in self.categories_dictionary:\n",
    "            for y in range(len(self.categories_dictionary[x])):\n",
    "                if category == self.categories_dictionary[x][y]:\n",
    "                    if x not in names:\n",
    "                        names.append(x)\n",
    "        for x in names:\n",
    "            create_empty_CSV(x)\n",
    "        df_final.columns = columns_name\n",
    "             films.to_csv(i + '.csv', sep=' ', mode='a')\"\"\"\n",
    "        \n",
    "    #creating empty csv names after argument of the method   \n",
    "    def create_empty_CSV(*stringcsv_names):\n",
    "        for i in stringcsv_names:\n",
    "            with open(i + '.csv', 'w') as f:\n",
    "                pass\n",
    "            \n",
    "######################################################### \n",
    "    \n",
    "    def getAPI_omdb(self):\n",
    "        key = \"59d5666b\"\n",
    "        url_api = \"https://www.omdbapi.com/?t={}&y={}&apikey={}\"\n",
    "        for film_number in tqdm(range(len(self.data['film']))):\n",
    "            film = self.data['film']\n",
    "            title_standard = film[film_number].upper().replace(\" \",\"+\").replace(\".\",\"\").replace(\"&\",\"%26\").replace(\"ONCE+UPON+A+TIMEIN+HOLLYWOOD\", \"ONCE+UPON+A+TIME...+IN+HOLLYWOOD\")\n",
    "            year_standard = self.data['year'][film_number]-1\n",
    "            response_api = json.loads(requests.get(url_api.format(title_standard, year_standard, key)).text)\n",
    "            if response_api[\"Response\"] != \"False\":        \n",
    "                self.Ombd_get(response_api)\n",
    "            else:\n",
    "                year_standard = self.data['year'][film_number]-2\n",
    "                response_api = json.loads(requests.get(url_api.format(title_standard, year_standard, key)).text)\n",
    "                if response_api[\"Response\"] != \"False\":               \n",
    "                    self.Ombd_get(response_api)\n",
    "                else:\n",
    "                    year_standard = self.data['year'][film_number]-3\n",
    "                    response_api = json.loads(requests.get(url_api.format(title_standard, year_standard, key)).text)\n",
    "                    if response_api[\"Response\"] != \"False\":\n",
    "                        self.Ombd_get(response_api)\n",
    "                    else:\n",
    "                        year_standard = self.data['year'][film_number]\n",
    "                        response_api = json.loads(requests.get(url_api.format(title_standard, year_standard, key)).text)\n",
    "                        if response_api[\"Response\"] != \"False\":\n",
    "                            self.Ombd_get(response_api)\n",
    "                        else:\n",
    "                            title_standard = title_standard.replace(\"%26\",\"and\")\n",
    "                            year_standard = self.data['year'][film_number]-1\n",
    "                            response_api = json.loads(requests.get(url_api.format(title_standard, year_standard, key)).text)\n",
    "                            if response_api[\"Response\"] != \"False\":\n",
    "                                self.Ombd_get(response_api)\n",
    "                            else:\n",
    "                                year_standard = self.data['year'][film_number]-2\n",
    "                                response_api = json.loads(requests.get(url_api.format(title_standard, year_standard, key)).text)\n",
    "                                if response_api[\"Response\"] != \"False\":\n",
    "                                    self.Ombd_get(response_api)\n",
    "                                else: \n",
    "                                    year_standard = self.data['year'][film_number]-3\n",
    "                                    response_api = json.loads(requests.get(url_api.format(title_standard, year_standard, key)).text)\n",
    "                                    if response_api[\"Response\"] != \"False\":\n",
    "                                        self.Ombd_get(response_api)\n",
    "                                    else:\n",
    "                                        print(\"Error\",film[film_number],title_standard,year_standard)\n",
    "            \n",
    "        # Standardization\n",
    "        \n",
    "        for i in tqdm(range(len(self.data['film']))): \n",
    "            if self.list_boxoffice[i] == \"N/A\":\n",
    "                self.list_boxoffice[i] = np.nan\n",
    "            else:\n",
    "                self.list_boxoffice[i] = float(self.list_boxoffice[i].replace(\"$\",\"\").replace(\",\",\"\"))\n",
    "\n",
    "            if self.list_ratings_imdb[i] == \"N/A\":\n",
    "                self.list_ratings_imdb[i] = np.nan\n",
    "            else:\n",
    "                self.list_ratings_imdb[i] = float(self.list_ratings_imdb[i])\n",
    "\n",
    "            if self.list_ratings_rottentomatoes[i] == \"N/A\":\n",
    "                self.list_ratings_rottentomatoes[i] = np.nan\n",
    "            else:\n",
    "                self.list_ratings_rottentomatoes[i] = float(self.list_ratings_rottentomatoes[i].replace(\"%\",\"\"))\n",
    "\n",
    "            if self.list_metacritics[i] == \"N/A\":\n",
    "                self.list_metacritics[i] = np.nan\n",
    "            else:\n",
    "                self.list_metacritics[i] = float(self.list_metacritics[i].replace(\"/100\",\"\"))\n",
    "            if self.data[\"film\"][i] == \"The Postman (Il Postino)\":\n",
    "                self.list_id_movie[i] = \"tt0110877\"\n",
    "    \n",
    "        self.data['imbd_ratings'] = self.list_ratings_imdb,\n",
    "        self.data['rotten_ratings'] = self.list_ratings_rottentomatoes,\n",
    "        self.data['metacritics_ratings'] = self.list_metacritics,\n",
    "        self.data['box office'] = self.list_boxoffice\n",
    "        self.data['id_movie'] = self.list_id_movie\n",
    "        \n",
    "        \n",
    "        \n",
    "    def Ombd_get(self, response_api):\n",
    "        for ratings in range(len(response_api[\"Ratings\"])):\n",
    "\n",
    "            if response_api[\"Ratings\"][ratings][\"Source\"] == \"Rotten Tomatoes\":\n",
    "                self.list_ratings_rottentomatoes.append(response_api[\"Ratings\"][ratings][\"Value\"])\n",
    "\n",
    "            if response_api[\"Ratings\"][ratings][\"Source\"] == \"Metacritic\":\n",
    "                self.list_metacritics.append(response_api[\"Ratings\"][ratings][\"Value\"]) \n",
    "                    \n",
    "        if not any(\"Rotten Tomatoes\" in response_api[\"Ratings\"][ratings][\"Source\"] for ratings in range(len(response_api[\"Ratings\"]))):\n",
    "            self.list_ratings_rottentomatoes.append(\"N/A\")\n",
    "        if not any(\"Metacritic\" in response_api[\"Ratings\"][ratings][\"Source\"] for ratings in range(len(response_api[\"Ratings\"]))):\n",
    "            self.list_metacritics.append(\"N/A\")\n",
    "\n",
    "        self.list_ratings_imdb.append(response_api.get(\"imdbRating\", \"N/A\"))            \n",
    "        self.list_boxoffice.append(response_api.get(\"BoxOffice\", \"N/A\"))\n",
    "        self.list_id_movie.append(response_api.get(\"imdbID\", \"N/A\"))            \n",
    "\n",
    "        \n",
    "        \n",
    "    def getAPI_MDB(self):\n",
    "        # \n",
    "        API_KEY_MDB = \"a68690ebf69567801e68c26ee82d7787\"\n",
    "        url_MDB_find = \"http://api.tmdb.org/3/find/{}?api_key={}&external_source=imdb_id\"\n",
    "        url_MDB_credit = \"http://api.tmdb.org/3/movie/{}/credits?api_key={}\"\n",
    "        url_MDB_person = \"https://api.themoviedb.org/3/person/{}?api_key={}\"\n",
    "        \n",
    "        for movie_count in tqdm(range(len(self.data['id_movie']))):\n",
    "            id_imbd = self.data['id_movie'][movie_count] #identifiant IMBD (external to the API) used to get the ID (internal to the API) of the movie\n",
    "            response_find = json.loads(requests.get(url_MDB_find.format(id_imbd,API_KEY_MDB)).text)\n",
    "            if response_find.get(\"success\") != False: # Check if the API find a movie\n",
    "                if len(response_find[\"movie_results\"]) == 1: # Check for no two movies\n",
    "                    id_MDB = response_find[\"movie_results\"][0][\"id\"]\n",
    "                else:\n",
    "                    print(\"longueur movie\",len(response_find[\"movie_results\"]),response_find)\n",
    "                \n",
    "                response_credit = json.loads(requests.get(url_MDB_credit.format(id_MDB,API_KEY_MDB)).text)\n",
    "                if response_credit.get(\"success\") != False: # Check if the API find a person\n",
    "                    if self.data[\"category\"][movie_count] == \"Directing\":\n",
    "                        for acteurs in range(len(response_credit[\"crew\"])):\n",
    "                            if jellyfish.damerau_levenshtein_distance(response_credit[\"crew\"][acteurs][\"name\"], self.data[\"name\"][movie_count]) < 2:\n",
    "                                id_indiv = response_credit[\"crew\"][acteurs][\"id\"]\n",
    "                        if not any(jellyfish.damerau_levenshtein_distance(response_credit[\"crew\"][acteurs][\"name\"], self.data[\"name\"][movie_count]) < 2 for acteurs in range(len(response_credit[\"cast\"]))):\n",
    "                            print(\"Pas acteur dans liste crew\", self.data[\"name\"][movie_count],response_credit[\"crew\"])\n",
    "                    else:\n",
    "                        for acteurs in range(len(response_credit[\"cast\"])):\n",
    "                            if jellyfish.damerau_levenshtein_distance(response_credit[\"cast\"][acteurs][\"name\"], self.data[\"name\"][movie_count]) < 2:\n",
    "                                id_indiv = response_credit[\"cast\"][acteurs][\"id\"]\n",
    "                        if not any(jellyfish.damerau_levenshtein_distance(response_credit[\"cast\"][acteurs][\"name\"], self.data[\"name\"][movie_count]) < 2 for acteurs in range(len(response_credit[\"cast\"]))):\n",
    "                            print(\"Pas acteur dans liste crew\", self.data[\"name\"][movie_count],response_credit[\"cast\"])\n",
    "                \n",
    "                    response_person = json.loads(requests.get(url_MDB_person.format(id_indiv,API_KEY_MDB)).text)\n",
    "                    if response_person.get(\"success\") != False: # Check if the API find a person\n",
    "                        print(\"Birthday\", response_person[\"birthday\"])\n",
    "                        if response_person[\"birthday\"] in (None,0):\n",
    "                            print(response_person, response_credit, response_find)\n",
    "                        print(\"Gender\", response_person[\"gender\"])\n",
    "                        if response_person[\"gender\"] in (None,0):\n",
    "                            print(response_person, response_credit, response_find)\n",
    "                        self.list_birthday.append(response_person[\"birthday\"])\n",
    "                        self.list_gender.append(response_person[\"gender\"])\n",
    "                    else:\n",
    "                        print(response_person, id_imbd, self.data[\"film\"][movie_count])\n",
    "                else:\n",
    "                    print(response_credit, id_imbd, self.data[\"film\"][movie_count])\n",
    "            else:\n",
    "                print(response_find, id_imbd, self.data[\"film\"][movie_count])\n",
    "        \n",
    "        # Standardization\n",
    "        print(len(self.list_gender))\n",
    "        print(len(self.list_birthday))\n",
    "        \n",
    "        for i in tqdm(range(len(self.data['film']))): \n",
    "            if self.list_gender[i] == 1:\n",
    "                self.list_gender[i] = \"Female\"\n",
    "            elif self.list_gender[i] == 2:\n",
    "                self.list_gender[i] = \"Male\"\n",
    "            else:\n",
    "                print(\"problème genre\")\n",
    "\n",
    "            self.list_birthday[i] = float(self.list_birthday[i][0:4]) # We keep only the year and transform from string to float\n",
    "            \n",
    "        self.data['gender'] = self.list_gender,\n",
    "        self.data['birthday'] = self.list_birthday\n",
    "\n",
    "        \n",
    "\n",
    "\n",
    "\n",
    "                "
   ]
  },
  {
   "cell_type": "code",
   "execution_count": 10,
   "metadata": {},
   "outputs": [
    {
     "name": "stderr",
     "output_type": "stream",
     "text": [
      "100%|██████████████████████████████████████████████████████████████████████████████████| 22/22 [00:01<00:00, 18.77it/s]\n"
     ]
    }
   ],
   "source": [
    "test = Oscar_Scraper(2000,2021)\n",
    "test.getHTML()\n",
    "test.getDATA()\n"
   ]
  },
  {
   "cell_type": "code",
   "execution_count": 11,
   "metadata": {
    "scrolled": true
   },
   "outputs": [
    {
     "name": "stderr",
     "output_type": "stream",
     "text": [
      "100%|████████████████████████████████████████████████████████████████████████████████| 330/330 [00:37<00:00,  8.84it/s]\n",
      "100%|████████████████████████████████████████████████████████████████████████████| 330/330 [00:00<00:00, 165327.32it/s]\n"
     ]
    }
   ],
   "source": [
    "test.getAPI_omdb()\n",
    "##PROBLEME : PAS DE BOX OFFICE et METACRITICS\n",
    "\n",
    "# Problème avec Once Upon a Time in Hollywood (reportage, pas le film), ce n'est pas le seul, mais oublié lequel c'était l'autre"
   ]
  },
  {
   "cell_type": "code",
   "execution_count": null,
   "metadata": {},
   "outputs": [],
   "source": [
    "test.getAPI_MDB()"
   ]
  },
  {
   "cell_type": "code",
   "execution_count": 45,
   "metadata": {},
   "outputs": [
    {
     "name": "stdout",
     "output_type": "stream",
     "text": [
      "https://www.rottentomatoes.com/m/lglfo\n",
      "ça fonfonctionne\n",
      "404\n"
     ]
    }
   ],
   "source": [
    "\n",
    "url_rotten = \"https://www.rottentomatoes.com/m/lglfo\"\n",
    "print(url_rotten)\n",
    "response_rotten = requests.get(url_rotten)\n",
    "if response_rotten.status_code == requests.codes.ok:\n",
    "    print(\"tkt bg\")\n",
    "else:\n",
    "    print(\"ça fonfonctionne\")\n",
    "    print(response_rotten.status_code)\n",
    "    \n",
    "        for i in tqdm(self.data['film']):\n",
    "            #time.sleep(10) # Crawlerdelay\n",
    "            standardization = i.lower().replace(\"&\", \"and\").replace(\"the\",\"\").replace(\".\",\"\").replace(\"'\", \"\").replace(\",\", \" \").replace(\" \", \"_\")\n",
    "            url_rotten = \"https://www.rottentomatoes.com/m/{}\".format(standardization)\n",
    "            response_rotten = requests.get(url_rotten)\n",
    "            if response_rotten.status_code == requests.codes.ok:\n",
    "                sel = Selector(text = response_rotten.text)   # Scrapy chose over BeautifulSoup for selector CSS\n",
    "                self.links['rotten'].append(sel)\n",
    "            else:\n",
    "                print(url_rotten)"
   ]
  },
  {
   "cell_type": "code",
   "execution_count": 25,
   "metadata": {},
   "outputs": [
    {
     "name": "stdout",
     "output_type": "stream",
     "text": [
      "Leaving Las Vegas Elisabeth Shue Actress in a Leading Role tt0113627\n"
     ]
    }
   ],
   "source": [
    "number = 96\n",
    "print(test.data[\"film\"][number],test.data[\"name\"][number], test.data[\"category\"][number], test.data[\"id_movie\"][number])\n"
   ]
  },
  {
   "cell_type": "code",
   "execution_count": 6,
   "metadata": {},
   "outputs": [
    {
     "name": "stdout",
     "output_type": "stream",
     "text": [
      "{\"movie_results\":[],\"person_results\":[],\"tv_results\":[],\"tv_episode_results\":[],\"tv_season_results\":[]}\n"
     ]
    }
   ],
   "source": [
    "response = requests.get(\"https://api.themoviedb.org/3/find/tt0383591?api_key=a68690ebf69567801e68c26ee82d7787&language=en-US&external_source=imdb_id\")\n",
    "print(response.text)\n",
    "\n",
    "mauvais imdb id sur odmb"
   ]
  },
  {
   "cell_type": "code",
   "execution_count": 1,
   "metadata": {},
   "outputs": [],
   "source": [
    "from urllib.parse import quote"
   ]
  },
  {
   "cell_type": "code",
   "execution_count": 1,
   "metadata": {},
   "outputs": [
    {
     "ename": "NameError",
     "evalue": "name 'test' is not defined",
     "output_type": "error",
     "traceback": [
      "\u001b[1;31m---------------------------------------------------------------------------\u001b[0m",
      "\u001b[1;31mNameError\u001b[0m                                 Traceback (most recent call last)",
      "\u001b[1;32m<ipython-input-1-4e1243bd22c6>\u001b[0m in \u001b[0;36m<module>\u001b[1;34m\u001b[0m\n\u001b[1;32m----> 1\u001b[1;33m \u001b[0mtest\u001b[0m\u001b[1;33m\u001b[0m\u001b[1;33m\u001b[0m\u001b[0m\n\u001b[0m",
      "\u001b[1;31mNameError\u001b[0m: name 'test' is not defined"
     ]
    }
   ],
   "source": [
    "def getAPI_omdb(self):\n",
    "        key = \"a68690ebf69567801e68c26ee82d7787\"\n",
    "        url_MDB_search = \"https://api.themoviedb.org/3/search/movie?api_key={}language=en-US&query={}&page=1&include_adult=false\"\n",
    "        url_MDB_credit = \"http://api.tmdb.org/3/movie/{}/credits?api_key={}\"\n",
    "        url_MDB_person = \"https://api.themoviedb.org/3/person/{}?api_key={}\"\n",
    "        for film_number in tqdm(range(len(self.data['film']))):\n",
    "            film = self.data['film']\n",
    "            title_standard = quote(film[film_number])\n",
    "            response_search = json.loads(requests.get(url_MDB_search.format(key,title_standard)).text)\n",
    "            if response_search[\"total_results\"] != 0:        \n",
    "                self.TMDB_get(response_search, film_number)\n",
    "            else:\n",
    "                print(\"Error\",film[film_number],film[film_number])\n",
    "            \n",
    "            response_person = json.loads(requests.get(url_MDB_person.format(self.list_id_indiv[film_number],API_KEY_MDB)).text)\n",
    "                if response_person.get(\"success\") != False: # Check if the API find a person\n",
    "                    print(\"Birthday\", response_person[\"birthday\"])\n",
    "                    if response_person[\"birthday\"] in (None,0):\n",
    "                        print(response_person, response_credit, response_find)\n",
    "                    print(\"Gender\", response_person[\"gender\"])\n",
    "                    if response_person[\"gender\"] in (None,0):\n",
    "                        print(response_person, response_credit, response_find)\n",
    "                    self.list_birthday.append(response_person[\"birthday\"])\n",
    "                    self.list_gender.append(response_person[\"gender\"])\n",
    "                else:\n",
    "                    print(response_person, id_imbd, self.data[\"film\"][movie_count])\n",
    "                                        \n",
    "def TMDB_get(self, response_search, film_number):\n",
    "    for number_results in range(len(response_search[\"results\"])):\n",
    "        if int(response_search[\"results\"][i][\"release_date\"][0:4]) in (self.data[\"year\"][film_number],self.data[\"year\"][film_number]-1, self.data[\"year\"][film_number]-2, self.data[\"year\"][film_number]-3):\n",
    "            id_MDB = response_search[\"results\"][i][\"id\"]\n",
    "            response_credit = json.loads(requests.get(url_MDB_credit.format(id_MDB,API_KEY_MDB)).text)\n",
    "            if response_credit.get(\"success\") != False: # Check if the API find a person\n",
    "                if self.data[\"category\"][movie_count] == \"Directing\":\n",
    "                    for acteurs in range(len(response_credit[\"crew\"])):\n",
    "                        if jellyfish.damerau_levenshtein_distance(response_credit[\"crew\"][acteurs][\"name\"], self.data[\"name\"][movie_count]) < 2:\n",
    "                            self.list_id_indiv.append(response_credit[\"crew\"][acteurs][\"id\"])\n",
    "                            # Debug \n",
    "                            print(\"C'est bon ça fonctionne\")\n",
    "                            #\n",
    "                            break                      \n",
    "                else:\n",
    "                    for acteurs in range(len(response_credit[\"cast\"])):\n",
    "                        if jellyfish.damerau_levenshtein_distance(response_credit[\"cast\"][acteurs][\"name\"], self.data[\"name\"][movie_count]) < 2:\n",
    "                            self.list_id_indiv.append(response_credit[\"cast\"][acteurs][\"id\"])\n",
    "                            break\n",
    "                            # Debug \n",
    "                            print(\"C'est bon ça fonctionne\")\n",
    "                            #\n",
    "            print(\"Not in the 4 years\", self.data[\"name\"][movie_count],response_credit[\"crew\"])\n",
    "        \n",
    " \n",
    "        "
   ]
  },
  {
   "cell_type": "code",
   "execution_count": 86,
   "metadata": {},
   "outputs": [],
   "source": [
    "### OOP   ### ROTTENTOMATOES\n",
    "\n",
    "import time\n",
    "import requests\n",
    "from scrapy import Selector\n",
    "from tqdm import tqdm\n",
    "import pandas as pd\n",
    "import re  # text processing\n",
    "import numpy as np\n",
    "import json\n",
    "import jellyfish\n",
    "from urllib.parse import quote\n",
    "\n",
    "class Oscar_Scraper:\n",
    "    \n",
    "    list_names = []\n",
    "    list_year = []\n",
    "    list_category = []\n",
    "    list_films = []\n",
    "    list_results = [] \n",
    "    list_ratings_imdb = []\n",
    "    list_ratings_rottentomatoes = []\n",
    "    list_metacritics = []\n",
    "    list_boxoffice = []\n",
    "    list_id_movie = []\n",
    "    list_birthday = []\n",
    "    list_gender = []\n",
    "    list_id_indiv = []\n",
    "    list_names_right = []\n",
    "    list_films_right = []\n",
    "    list_names_wrong = []\n",
    "    list_films_wrong = []\n",
    "    \n",
    "    def __init__(self, from_time, to_time):\n",
    "        self.links = {\n",
    "            'oscars':[],\n",
    "            'rotten':[],\n",
    "        }\n",
    "        \n",
    "        self.categories_interest = ['Directing', 'Actor', 'Actor in a Leading Role', 'Actress', 'Actress in a Leading Role',\n",
    "                  'Outstanding Picture','Outstanding Production','Best Motion Picture', 'Best Picture', 'Foreign Language Film', \n",
    "                  'Special Effects', 'Special Visual Effects','Special Achievement Award (Visual Effects)', 'Visual Effects']\n",
    "        \n",
    "        self.categories_individuals = ['Directing', 'Actor', 'Actor in a Leading Role', 'Actress', 'Actress in a Leading Role']\n",
    "        self.categories_films = ['Outstanding Picture','Outstanding Production','Best Motion Picture', 'Best Picture', 'Foreign Language Film', \n",
    "                  'Special Effects', 'Special Visual Effects','Special Achievement Award (Visual Effects)', 'Visual Effects']\n",
    "        \n",
    "        #lists of different names for same categories\n",
    "        self.categories_dictionary = {\n",
    "                    \"Actor\": ['Actor', 'Actor in a Leading Role'],\n",
    "                    \"Actress\": ['Actress', 'Actress in a Leading Role'],\n",
    "                    \"Picture\": ['Outstanding Picture', 'Outstanding Production','Best Motion Picture', 'Best Picture'],\n",
    "                    \"VE\" : ['Special Effects', 'Special Visual Effects','Special Achievement Award (Visual Effects)','Visual Effects']\n",
    "                    }\n",
    "        \n",
    "        \n",
    "        self.from_time = from_time\n",
    "        self.time_period = range(from_time, to_time + 1)\n",
    "        self.data = {\n",
    "            'category':[],\n",
    "            'film':[],\n",
    "            'year':[],\n",
    "            'name':[],\n",
    "            'gender':[],\n",
    "            'result':[],\n",
    "            'birthdate':[],\n",
    "            'imbd_ratings':[],\n",
    "            'rotten_ratings':[],\n",
    "            'metacritics_ratings':[],\n",
    "            'box office':[],\n",
    "            'id_movie':[]\n",
    "            \n",
    "        }\n",
    "        \n",
    "        \n",
    "\n",
    "    def getHTML(self):\n",
    "        \n",
    "        for i in self.time_period:\n",
    "            #time.sleep(10) # Crawlerdelay\n",
    "            url = \"https://www.oscars.org/oscars/ceremonies/{}\".format(i)\n",
    "            response_oscars = requests.get(url)\n",
    "            sel = Selector(text = response_oscars.text)   # Scrapy chose over BeautifulSoup for selector CSS\n",
    "            self.links['oscars'].append(sel)\n",
    "\n",
    "    def getNominees(self, years, i, category, number_nominees, number_winners):\n",
    "\n",
    "        for number in range(number_nominees):   \n",
    "            if number_winners == 1:\n",
    "                # NAME\n",
    "                path_name = \"#quicktabs-tabpage-honorees-0 > div > div.view-content > div:nth-child({}) > div.view-grouping-content > div:nth-child({}) > div.views-field.views-field-field-actor-name > h4::text\".format(i+1, 4 +number)\n",
    "                nominee_name = ''.join(self.links['oscars'][years].css(path_name).extract()) # ''.join() transforms the list produced by the selector into a string\n",
    "            if number_winners == 2:\n",
    "                 # NAME\n",
    "                path_name = \"#quicktabs-tabpage-honorees-0 > div > div.view-content > div:nth-child({}) > div.view-grouping-content > div:nth-child({}) > div.views-field.views-field-field-actor-name > h4::text\".format(i+1, 5 +number)\n",
    "                nominee_name = ''.join(self.links['oscars'][years].css(path_name).extract()) # ''.join() transforms the list produced by the selector into a string\n",
    "            \n",
    "            if category == \"Directing\": # For Directing, titles and names are swapped on the website\n",
    "                self.list_films.append(nominee_name)\n",
    "            else:\n",
    "                self.list_names.append(nominee_name)\n",
    "\n",
    "            # FILM\n",
    "            if number_winners == 1:\n",
    "                path_film = \"#quicktabs-tabpage-honorees-0 > div > div.view-content > div:nth-child({}) > div.view-grouping-content > div:nth-child({}) > div.views-field.views-field-title > span::text\".format(i+1, 4 +number)\n",
    "                nominee_film = ''.join(self.links['oscars'][years].css(path_film).extract()) # ''.join() transforms the list produced by the selector into a string\n",
    "                nominee_film = nominee_film.replace(\"\\n\", \"\") # Cleaning up the string\n",
    "            if number_winners == 2:\n",
    "                path_film = \"#quicktabs-tabpage-honorees-0 > div > div.view-content > div:nth-child({}) > div.view-grouping-content > div:nth-child({}) > div.views-field.views-field-title > span::text\".format(i+1, 5 +number)\n",
    "                nominee_film = ''.join(self.links['oscars'][years].css(path_film).extract()) # ''.join() transforms the list produced by the selector into a string\n",
    "                nominee_film = nominee_film.replace(\"\\n\", \"\") # Cleaning up the string\n",
    "            if category == \"Directing\":# For Directing, titles and names are swapped on the website\n",
    "                self.list_names.append(nominee_film)\n",
    "            else:\n",
    "                self.list_films.append(nominee_film)\n",
    "            \n",
    "            self.list_year.append(self.from_time + years)         \n",
    "            self.list_category.append(category)\n",
    "            self.list_results.append(\"Nominee\")\n",
    "\n",
    "    def getWinners(self, years, i, category, number_winners):\n",
    "\n",
    "        if number_winners == 1: # 1 Winner\n",
    "        # NAME\n",
    "            path_name = \"#quicktabs-tabpage-honorees-0 > div > div.view-content > div:nth-child({}) > div.view-grouping-content > div.views-row.views-row-1.views-row-odd.views-row-first.views-row-last > div.views-field.views-field-field-actor-name > h4::text\".format(i+1)\n",
    "            nominee_name = ''.join(self.links['oscars'][years].css(path_name).extract()) # ''.join() transforms the list produced by the selector into a string\n",
    "\n",
    "            if category == \"Directing\": # For Directing, titles and names are swapped on the website\n",
    "                self.list_films.append(nominee_name)\n",
    "            else:\n",
    "                self.list_names.append(nominee_name)\n",
    "            \n",
    "        \n",
    "            # FIlM\n",
    "            path_film = '#quicktabs-tabpage-honorees-0 > div > div.view-content > div:nth-child({}) > div.view-grouping-content > div.views-row.views-row-1.views-row-odd.views-row-first.views-row-last > div.views-field.views-field-title > span::text'.format(i+1)\n",
    "            nominee_film = ''.join(self.links['oscars'][years].css(path_film).extract()) # ''.join() transforms the list produced by the selector into a string\n",
    "            nominee_film = nominee_film.replace(\"\\n\", \"\") # Cleaning up the string\n",
    "\n",
    "            if category == \"Directing\":# For Directing, titles and names are swapped on the website\n",
    "                self.list_names.append(nominee_film)\n",
    "            else:\n",
    "                self.list_films.append(nominee_film)\n",
    "           \n",
    "            self.list_year.append(self.from_time + years)\n",
    "            self.list_category.append(category)\n",
    "            self.list_results.append(\"Winner\")\n",
    "\n",
    "\n",
    "        if number_winners == 2: # 2 Winners\n",
    "            # NAME 1st Winner \n",
    "            path_name = \"#quicktabs-tabpage-honorees-0 > div > div.view-content > div:nth-child({}) > div.view-grouping-content > div:nth-child(2) > div.views-field.views-field-field-actor-name > h4::text\".format(i+1)\n",
    "            nominee_name = ''.join(self.links['oscars'][years].css(path_name).extract()) # ''.join() transforms the list produced by the selector into a string4\n",
    "\n",
    "            if category == \"Directing\": # For Directing, titles and names are swapped on the website\n",
    "                self.list_films.append(nominee_name)\n",
    "            else:\n",
    "                self.list_names.append(nominee_name)\n",
    "\n",
    "            self.list_year.append(self.from_time + years)\n",
    "            self.list_category.append(category)\n",
    "            self.list_results.append(\"Tie-winner\")\n",
    "\n",
    "            # NAME 2st Winner \n",
    "            path_name = \"#quicktabs-tabpage-honorees-0 > div > div.view-content > div:nth-child({}) > div.view-grouping-content > div:nth-child(3) > div.views-field.views-field-field-actor-name > h4::text\".format(i+1)\n",
    "            nominee_name = ''.join(self.links['oscars'][years].css(path_name).extract()) # ''.join() transforms the list produced by the selector into a string4\n",
    "\n",
    "            if category == \"Directing\": # For Directing, titles and names are swapped on the website\n",
    "                self.list_films.append(nominee_name)\n",
    "            else:\n",
    "                self.list_names.append(nominee_name)\n",
    "\n",
    "            self.list_year.append(self.from_time + years)\n",
    "            self.list_category.append(category)\n",
    "            self.list_results.append(\"Tie-winner\")\n",
    "\n",
    "            # FILM\n",
    "            path_film1 = '#quicktabs-tabpage-honorees-0 > div > div.view-content > div:nth-child({}) > div.view-grouping-content > div:nth-child(2) > div.views-field.views-field-title > span::text'.format(i+1)\n",
    "            path_film2 = '#quicktabs-tabpage-honorees-0 > div > div.view-content > div:nth-child({}) > div.view-grouping-content > div:nth-child(3) > div.views-field.views-field-title > span::text'.format(i+1)\n",
    "\n",
    "            nominee_film = ''.join(self.links['oscars'][years].css(path_film1).extract()) # ''.join() transforms the list produced by the selector into a string\n",
    "            nominee_film = nominee_film.replace(\"\\n\", \"\") # Cleaning up the string\n",
    "\n",
    "            if category == \"Directing\":# For Directing, titles and names are swapped on the website\n",
    "                self.list_names.append(nominee_film)\n",
    "            else:\n",
    "                self.list_films.append(nominee_film)\n",
    "\n",
    "            winner2_film = ''.join(self.links['oscars'][years].css(path_film2).extract()) # ''.join() transforms the list produced by the selector into a string\n",
    "            winner2_film = winner2_film.replace(\"\\n\", \"\") # Cleaning up the string\n",
    "\n",
    "            if category == \"Directing\":# For Directing, titles and names are swapped on the website\n",
    "                self.list_names.append(winner2_film)\n",
    "            else:\n",
    "                self.list_films.append(winner2_film)        \n",
    "\n",
    "\n",
    "\n",
    "    def getDATA(self):\n",
    "            \n",
    "        for years in tqdm(range(len(self.links['oscars']))):\n",
    "\n",
    "            categories = self.links['oscars'][years].css('#quicktabs-tabpage-honorees-0 > div > div.view-content > div.view-grouping > div.view-grouping-header > h2::text').extract()    \n",
    "            \n",
    "            for i in range(len(categories)):\n",
    "                if categories[i] in self.categories_individuals:\n",
    "\n",
    "                    # Need the number of winners (might be ties) and nominated          \n",
    "                    path_nominated = \"#quicktabs-tabpage-honorees-0 > div > div.view-content > div:nth-child({}) > div.view-grouping-content > div:last-child\".format(i+1)\n",
    "                    number_of_film_nominated = int(''.join(self.links['oscars'][years].css(path_nominated).extract()).split(\"views-row-\")[1])\n",
    "\n",
    "                    path_winner = \"#quicktabs-tabpage-honorees-0 > div > div.view-content > div:nth-child({}) > div.view-grouping-content > div:nth-child(2)\".format(i+1)\n",
    "                    trial = ''.join(self.links['oscars'][years].css(path_winner).extract()).split(\"views-row-first views-row-last\") # If 1 winner then it splits the string into 1 list of 2 elements, if 2 winners, it does nothing\n",
    "                    if len(trial) == 2:\n",
    "                        number_winners = 1\n",
    "                    elif len(trial) == 1:\n",
    "                        number_winners = 2\n",
    "                    else:\n",
    "                        print(\"problem\")\n",
    "\n",
    "\n",
    "                    ## WINNERS                 \n",
    "                    self.getWinners(years, i, categories[i], number_winners)     \n",
    "                    ## NOMINEES\n",
    "                    self.getNominees(years, i, categories[i], number_of_film_nominated, number_winners)   \n",
    "                    \n",
    "                    \n",
    "        self.data = {\n",
    "            'year': self.list_year,\n",
    "            'category': self.list_category,\n",
    "            'film': self.list_films,\n",
    "            'name': self.list_names,\n",
    "            #'gender':[],\n",
    "            'result':self.list_results\n",
    "            #,\n",
    "            #'birthdate':[]\n",
    "        }            \n",
    "        \n",
    "        list_films_right = pd.read_csv(\"list_films_right.csv\")\n",
    "        list_films_wrong = pd.read_csv(\"list_films_wrong.csv\")\n",
    "        list_names_right = pd.read_csv(\"list_names_right.csv\")\n",
    "        list_names_wrong = pd.read_csv(\"list_names_wrong.csv\")\n",
    "        l_films = len(list_films_right)\n",
    "        l_names = len(list_names_right)\n",
    "        l_data = len(self.data[\"film\"])\n",
    "        \n",
    "        for i in range(max(l_films,l_names)):\n",
    "            if i < l_names:\n",
    "                self.list_names_right.append(list_names_right.values.tolist()[i][0])\n",
    "                self.list_names_wrong.append(list_names_wrong.values.tolist()[i][0])\n",
    "            if i < l_films:\n",
    "                self.list_films_right.append(list_films_right.values.tolist()[i][0])\n",
    "                self.list_films_wrong.append(list_films_wrong.values.tolist()[i][0])\n",
    "                \n",
    "        for i in range(l_data):\n",
    "            for y in range(max(l_films,l_names)):\n",
    "                if y < l_films:\n",
    "                    if self.data['film'][i] == self.list_films_wrong[y]:\n",
    "                        self.data['film'][i] = self.list_films_right[y]\n",
    "                if y < l_names:       \n",
    "                    if self.data['name'][i] == self.list_names_wrong[y]:\n",
    "                        self.data['name'][i] = self.list_names_right[y]\n",
    "\n",
    "    def getINDIVIDUALS(self):\n",
    "        df = pd.DataFrame(self.data)\n",
    "        df = df.set_index(['year','category'])\n",
    "        individuals = df.loc(axis = 0)[pd.IndexSlice[:, self.categories_individuals]]\n",
    "        return(individuals)\n",
    "    \n",
    "    def getFILMS(self):\n",
    "        df = pd.DataFrame(self.data)\n",
    "        df = df.set_index(['year','category'])\n",
    "        films = df.loc(axis = 0)[pd.IndexSlice[:, self.categories_interest[5:]]]\n",
    "        films.columns = ('film', 'Studio/Creator(s)', 'result')\n",
    "        return(films)\n",
    "    \n",
    "     #creating big dataframe with all data\n",
    "    def getAllCategories(self):\n",
    "        df = pd.DataFrame(self.data)\n",
    "        df = df.set_index(['year','category'])\n",
    "        return(df)\n",
    "    \n",
    "    #in progress\n",
    "    \"\"\" #creating CSV files based on scraped data. Possible naming of the columns for different datasets\n",
    "    def create_named_CSV(self,dataframe,categories,columns_name):\n",
    "        if len(column_name) > 2:\n",
    "          raise Exception('Items exceeds the maximum allowed length of 2')\n",
    "        category = []\n",
    "        if type(categories) == 'str':\n",
    "        category.append(categories)\n",
    "        for x in self.categories_dictionary:\n",
    "            for y in range(len(self.categories_dictionary[x])):\n",
    "                if category == self.categories_dictionary[x][y]:\n",
    "                    if x not in names:\n",
    "                        names.append(x)\n",
    "        for x in names:\n",
    "            create_empty_CSV(x)\n",
    "        df_final.columns = columns_name\n",
    "             films.to_csv(i + '.csv', sep=' ', mode='a')\"\"\"\n",
    "        \n",
    "    #creating empty csv names after argument of the method   \n",
    "    def create_empty_CSV(*stringcsv_names):\n",
    "        for i in stringcsv_names:\n",
    "            with open(i + '.csv', 'w') as f:\n",
    "                pass\n",
    "            \n",
    "######################################################### \n",
    "    \n",
    "    def getAPI_omdb(self):\n",
    "        key = \"59d5666b\"\n",
    "        url_api = \"https://www.omdbapi.com/?t={}&y={}&apikey={}\"\n",
    "        for film_number in tqdm(range(len(self.data['film']))):\n",
    "            film = self.data['film']\n",
    "            title_standard = film[film_number].upper().replace(\" \",\"+\").replace(\".\",\"\").replace(\"&\",\"%26\").replace(\"ONCE+UPON+A+TIMEIN+HOLLYWOOD\", \"ONCE+UPON+A+TIME...+IN+HOLLYWOOD\")\n",
    "            year_standard = self.data['year'][film_number]-1\n",
    "            response_api = json.loads(requests.get(url_api.format(title_standard, year_standard, key)).text)\n",
    "            if response_api[\"Response\"] != \"False\":        \n",
    "                self.Ombd_get(response_api)\n",
    "            else:\n",
    "                year_standard = self.data['year'][film_number]-2\n",
    "                response_api = json.loads(requests.get(url_api.format(title_standard, year_standard, key)).text)\n",
    "                if response_api[\"Response\"] != \"False\":               \n",
    "                    self.Ombd_get(response_api)\n",
    "                else:\n",
    "                    year_standard = self.data['year'][film_number]-3\n",
    "                    response_api = json.loads(requests.get(url_api.format(title_standard, year_standard, key)).text)\n",
    "                    if response_api[\"Response\"] != \"False\":\n",
    "                        self.Ombd_get(response_api)\n",
    "                    else:\n",
    "                        year_standard = self.data['year'][film_number]\n",
    "                        response_api = json.loads(requests.get(url_api.format(title_standard, year_standard, key)).text)\n",
    "                        if response_api[\"Response\"] != \"False\":\n",
    "                            self.Ombd_get(response_api)\n",
    "                        else:\n",
    "                            title_standard = title_standard.replace(\"%26\",\"and\")\n",
    "                            year_standard = self.data['year'][film_number]-1\n",
    "                            response_api = json.loads(requests.get(url_api.format(title_standard, year_standard, key)).text)\n",
    "                            if response_api[\"Response\"] != \"False\":\n",
    "                                self.Ombd_get(response_api)\n",
    "                            else:\n",
    "                                year_standard = self.data['year'][film_number]-2\n",
    "                                response_api = json.loads(requests.get(url_api.format(title_standard, year_standard, key)).text)\n",
    "                                if response_api[\"Response\"] != \"False\":\n",
    "                                    self.Ombd_get(response_api)\n",
    "                                else: \n",
    "                                    year_standard = self.data['year'][film_number]-3\n",
    "                                    response_api = json.loads(requests.get(url_api.format(title_standard, year_standard, key)).text)\n",
    "                                    if response_api[\"Response\"] != \"False\":\n",
    "                                        self.Ombd_get(response_api)\n",
    "                                    else:\n",
    "                                        print(\"Error\",film[film_number],title_standard,year_standard)\n",
    "            \n",
    "        # Standardization\n",
    "        \n",
    "        for i in tqdm(range(len(self.data['film']))): \n",
    "            if self.list_boxoffice[i] == \"N/A\":\n",
    "                self.list_boxoffice[i] = np.nan\n",
    "            else:\n",
    "                self.list_boxoffice[i] = float(self.list_boxoffice[i].replace(\"$\",\"\").replace(\",\",\"\"))\n",
    "\n",
    "            if self.list_ratings_imdb[i] == \"N/A\":\n",
    "                self.list_ratings_imdb[i] = np.nan\n",
    "            else:\n",
    "                self.list_ratings_imdb[i] = float(self.list_ratings_imdb[i])\n",
    "\n",
    "            if self.list_ratings_rottentomatoes[i] == \"N/A\":\n",
    "                self.list_ratings_rottentomatoes[i] = np.nan\n",
    "            else:\n",
    "                self.list_ratings_rottentomatoes[i] = float(self.list_ratings_rottentomatoes[i].replace(\"%\",\"\"))\n",
    "\n",
    "            if self.list_metacritics[i] == \"N/A\":\n",
    "                self.list_metacritics[i] = np.nan\n",
    "            else:\n",
    "                self.list_metacritics[i] = float(self.list_metacritics[i].replace(\"/100\",\"\"))\n",
    "            if self.data[\"film\"][i] == \"The Postman (Il Postino)\":\n",
    "                self.list_id_movie[i] = \"tt0110877\"\n",
    "    \n",
    "        self.data['imbd_ratings'] = self.list_ratings_imdb,\n",
    "        self.data['rotten_ratings'] = self.list_ratings_rottentomatoes,\n",
    "        self.data['metacritics_ratings'] = self.list_metacritics,\n",
    "        self.data['box office'] = self.list_boxoffice\n",
    "        self.data['id_movie'] = self.list_id_movie\n",
    "        \n",
    "        \n",
    "        \n",
    "    def Ombd_get(self, response_api):\n",
    "        for ratings in range(len(response_api[\"Ratings\"])):\n",
    "\n",
    "            if response_api[\"Ratings\"][ratings][\"Source\"] == \"Rotten Tomatoes\":\n",
    "                self.list_ratings_rottentomatoes.append(response_api[\"Ratings\"][ratings][\"Value\"])\n",
    "\n",
    "            if response_api[\"Ratings\"][ratings][\"Source\"] == \"Metacritic\":\n",
    "                self.list_metacritics.append(response_api[\"Ratings\"][ratings][\"Value\"]) \n",
    "                    \n",
    "        if not any(\"Rotten Tomatoes\" in response_api[\"Ratings\"][ratings][\"Source\"] for ratings in range(len(response_api[\"Ratings\"]))):\n",
    "            self.list_ratings_rottentomatoes.append(\"N/A\")\n",
    "        if not any(\"Metacritic\" in response_api[\"Ratings\"][ratings][\"Source\"] for ratings in range(len(response_api[\"Ratings\"]))):\n",
    "            self.list_metacritics.append(\"N/A\")\n",
    "\n",
    "        self.list_ratings_imdb.append(response_api.get(\"imdbRating\", \"N/A\"))            \n",
    "        self.list_boxoffice.append(response_api.get(\"BoxOffice\", \"N/A\"))\n",
    "        self.list_id_movie.append(response_api.get(\"imdbID\", \"N/A\"))            \n",
    "\n",
    "        \n",
    "        \n",
    "    def getAPI_omdb(self):\n",
    "        API_KEY_MDB = \"a68690ebf69567801e68c26ee82d7787\"\n",
    "        url_MDB_search = \"https://api.themoviedb.org/3/search/movie?api_key={}&language=en-US&query={}&page={}&include_adult=false\"\n",
    "        url_MDB_person = \"https://api.themoviedb.org/3/person/{}?api_key={}\"\n",
    "        for film_number in tqdm(range(len(self.data['film']))):\n",
    "            title_standard = quote(self.data['film'][film_number])\n",
    "            response_search = json.loads(requests.get(url_MDB_search.format(API_KEY_MDB,title_standard,1)).text)\n",
    "            if response_search[\"total_results\"] != 0:        \n",
    "                if self.TMDB_get(response_search, film_number, 0) == 1:\n",
    "                    print(self.list_id_indiv[film_number])\n",
    "                    response_person = json.loads(requests.get(url_MDB_person.format(self.list_id_indiv[film_number],API_KEY_MDB)).text)\n",
    "                    if response_person.get(\"success\") != False: # Check if the API find a person\n",
    "                        print(\"Birthday\", response_person.get(\"birthday\"), response_person.get(\"name\"))\n",
    "                        if response_person[\"birthday\"] in (None,0):\n",
    "                            print(response_person, response_person)\n",
    "                        print(\"Gender\", response_person[\"gender\"])\n",
    "                        if response_person[\"gender\"] in (None,0):\n",
    "                            print(response_person, response_person)\n",
    "                        self.list_birthday.append(response_person[\"birthday\"])\n",
    "                        self.list_gender.append(response_person[\"gender\"])\n",
    "                    else:\n",
    "                        print(response_person, self.list_id_indiv[film_number], self.data[\"film\"][film_number])\n",
    "                else:\n",
    "                    response_search = json.loads(requests.get(url_MDB_search.format(API_KEY_MDB,title_standard,2)).text)\n",
    "                    if response_search[\"total_results\"] != 0:        \n",
    "                        if self.TMDB_get(response_search, film_number, 1) == 1:\n",
    "                            response_person = json.loads(requests.get(url_MDB_person.format(self.list_id_indiv[film_number],API_KEY_MDB)).text)\n",
    "                            if response_person.get(\"success\") != False: # Check if the API find a person\n",
    "                                print(\"Birthday\", response_person.get(\"birthday\"), response_person.get(\"name\"))\n",
    "                                if response_person[\"birthday\"] in (None,0):\n",
    "                                    print(response_person, response_person)\n",
    "                                print(\"Gender\", response_person[\"gender\"])\n",
    "                                if response_person[\"gender\"] in (None,0):\n",
    "                                    print(response_person, response_person)\n",
    "                                self.list_birthday.append(response_person[\"birthday\"])\n",
    "                                self.list_gender.append(response_person[\"gender\"])\n",
    "                            else:\n",
    "                                print(response_person, self.list_id_indiv[film_number], self.data[\"film\"][film_number])\n",
    "            else:\n",
    "                print(\"Error\",self.data['name'][film_number],self.data['film'][film_number])\n",
    "        \n",
    "        \n",
    "        pd.DataFrame(self.list_names_right).to_csv('list_names_right.csv',index=False) \n",
    "        pd.DataFrame(self.list_films_right).to_csv('list_films_right.csv',index=False) \n",
    "        pd.DataFrame(self.list_names_wrong).to_csv('list_names_wrong.csv',index=False) \n",
    "        pd.DataFrame(self.list_films_wrong).to_csv('list_films_wrong.csv',index=False) \n",
    "        \n",
    "                                        \n",
    "    def TMDB_get(self, response_search, film_number, number_of_time):\n",
    "        url_MDB_credit = \"http://api.tmdb.org/3/movie/{}/credits?api_key={}\"\n",
    "        API_KEY_MDB = \"a68690ebf69567801e68c26ee82d7787\"\n",
    "        count = 0\n",
    "        # DEBUG\n",
    "        print(len(response_search[\"results\"]), self.data[\"film\"][film_number],self.data[\"name\"][film_number], [response_search[\"results\"][nombre_film].get(\"title\") for nombre_film in range(len(response_search[\"results\"]))])\n",
    "        #\n",
    "        for number_results in range(len(response_search[\"results\"])):\n",
    "            if count == 0:\n",
    "                if response_search[\"results\"][number_results].get(\"release_date\") not in (None,0,''): # There is a release date\n",
    "                    if (int(response_search[\"results\"][number_results][\"release_date\"][0:4]) in (self.data[\"year\"][film_number],self.data[\"year\"][film_number]-1, self.data[\"year\"][film_number]-2, self.data[\"year\"][film_number]-3)) and count == 0:\n",
    "                        id_MDB = response_search[\"results\"][number_results][\"id\"]\n",
    "                        response_credit = json.loads(requests.get(url_MDB_credit.format(id_MDB,API_KEY_MDB)).text)\n",
    "                        if response_credit.get(\"success\") != False: # Check if the API find a person\n",
    "                            if self.data[\"category\"][film_number] == \"Directing\":\n",
    "                                for acteurs in range(len(response_credit[\"crew\"])):\n",
    "                                    if jellyfish.damerau_levenshtein_distance(response_credit[\"crew\"][acteurs][\"name\"], self.data[\"name\"][film_number]) < 2:\n",
    "                                        self.list_id_indiv.append(response_credit[\"crew\"][acteurs][\"id\"])\n",
    "                                        count = count + 1\n",
    "                                        # Debug \n",
    "                                        print(\"C'est bon ça fonctionne pour directeur:\",(response_credit[\"crew\"][acteurs][\"name\"]))\n",
    "                                        print(response_credit[\"crew\"][acteurs])\n",
    "                                        #\n",
    "                                        break\n",
    "\n",
    "\n",
    "                                if not any(jellyfish.damerau_levenshtein_distance(response_credit[\"crew\"][acteurs][\"name\"], self.data[\"name\"][film_number]) < 2 for acteurs in range(len(response_credit[\"crew\"]))):\n",
    "                                    print(\"Pas acteur dans liste crew\", self.data[\"name\"][film_number])\n",
    "                                    self.Correction(film_number)\n",
    "                                    if number_of_time == 1:\n",
    "                                        self.list_id_indiv.append(\"N/A\")\n",
    "\n",
    "                            else:\n",
    "                                for acteurs in range(len(response_credit[\"cast\"])):\n",
    "                                    if jellyfish.damerau_levenshtein_distance(response_credit[\"cast\"][acteurs][\"name\"], self.data[\"name\"][film_number]) < 2:\n",
    "                                        self.list_id_indiv.append(response_credit[\"cast\"][acteurs][\"id\"])\n",
    "                                        count = count + 1 # Empêche d'avoir plusieurs fois le même acteur si on l'a déjà trouvé\n",
    "                                        # Debug \n",
    "                                        print(\"C'est bon ça fonctionne pour acteur:\",(response_credit[\"cast\"][acteurs][\"name\"]))\n",
    "                                        print(response_credit[\"cast\"][acteurs])\n",
    "                                        #\n",
    "                                        break    \n",
    "                                if not any(jellyfish.damerau_levenshtein_distance(response_credit[\"cast\"][acteurs][\"name\"], self.data[\"name\"][film_number]) < 2 for acteurs in range(len(response_credit[\"cast\"]))):\n",
    "                                    print(\"Pas acteur dans liste cast\", self.data[\"name\"][film_number])\n",
    "                                    self.Correction(film_number)\n",
    "                                    if number_of_time == 1:\n",
    "                                        self.list_id_indiv.append(\"N/A\")\n",
    "\n",
    "                        else:\n",
    "                            print(\"Error person not found\")\n",
    "                    else:\n",
    "                        print(\"jsp\")\n",
    "\n",
    "                else:\n",
    "                    print(\"l'autre\")\n",
    "        print(count)\n",
    "        return(count)\n",
    "                                \n",
    "         # Standardization\n",
    "      #  print(len(self.list_gender))\n",
    "      #  print(len(self.list_birthday))\n",
    "        \n",
    "       # for i in tqdm(range(len(self.data['film']))): \n",
    "     #       if self.list_gender[i] == 1:\n",
    "     #           self.list_gender[i] = \"Female\"\n",
    "      ##      elif self.list_gender[i] == 2:\n",
    "      #          self.list_gender[i] = \"Male\"\n",
    "         #   else:\n",
    "      #          print(\"problème genre\")\n",
    "###\n",
    "      #      self.list_birthday[i] = float(self.list_birthday[i][0:4]) # We keep only the year and transform from string to float\n",
    "      #      \n",
    "     ##   self.data['gender'] = self.list_gender,\n",
    "    #    self.data['birthday'] = self.list_birthday\n",
    "    #    \n",
    "\n",
    "    def Correction(self,film_number):\n",
    "        question = input(\"Film (f) or Name (n) or Both (b) or Pass (p)?\")\n",
    "        if question == \"f\":\n",
    "            answer = input(\"Bon titre film ?\")\n",
    "            self.list_films_wrong.append(self.data[\"film\"][film_number])\n",
    "            self.list_films_right.append(answer)\n",
    "            self.data[\"film\"][film_number] = answer\n",
    "        if question == \"n\":\n",
    "            answer = input(\"Bon nom ?\")\n",
    "            self.list_names_wrong.append(self.data[\"name\"][film_number])\n",
    "            self.list_names_right.append(answer)           \n",
    "            self.data[\"name\"][film_number] = answer\n",
    "        if question == \"b\":\n",
    "            answer1 = input(\"Bon titre film ?\")\n",
    "            answer2 = input(\"Bon nom ?\")\n",
    "            self.list_films_wrong.append(self.data[\"film\"][film_number])\n",
    "            self.list_names_wrong.append(self.data[\"name\"][film_number])\n",
    "            self.list_films_right.append(answer1)\n",
    "            self.list_names_right.append(answer2)\n",
    "            self.data[\"film\"][film_number] = answer1\n",
    "            self.data[\"name\"][film_number] = answer2\n",
    "        if question == \"p\":\n",
    "            pass\n",
    "            \n",
    "# Alejandro González Iñárritu\n"
   ]
  },
  {
   "cell_type": "code",
   "execution_count": 87,
   "metadata": {},
   "outputs": [
    {
     "name": "stderr",
     "output_type": "stream",
     "text": [
      "100%|██████████████████████████████████████████████████████████████████████████████████| 11/11 [00:00<00:00, 20.40it/s]\n",
      "  1%|▍                                                                                 | 1/165 [00:00<01:08,  2.40it/s]"
     ]
    },
    {
     "name": "stdout",
     "output_type": "stream",
     "text": [
      "2 Kramer vs. Kramer Dustin Hoffman ['Kramer vs. Kramer', \"Finding the Truth: The Making of 'Kramer vs. Kramer'\"]\n",
      "C'est bon ça fonctionne pour acteur: Dustin Hoffman\n",
      "{'adult': False, 'gender': 2, 'id': 4483, 'known_for_department': 'Acting', 'name': 'Dustin Hoffman', 'original_name': 'Dustin Hoffman', 'popularity': 5.389, 'profile_path': '/1bXm1InGd97vxneeE8JkvKXF81P.jpg', 'cast_id': 1, 'character': 'Ted Kramer', 'credit_id': '52fe44b49251416c7503e2f5', 'order': 0}\n",
      "1\n",
      "4483\n",
      "Birthday 1937-08-08 Dustin Hoffman\n",
      "Gender 2\n"
     ]
    },
    {
     "name": "stderr",
     "output_type": "stream",
     "text": [
      "\r",
      "  1%|▉                                                                                 | 2/165 [00:00<01:05,  2.48it/s]"
     ]
    },
    {
     "name": "stdout",
     "output_type": "stream",
     "text": [
      "3 The China Syndrome Jack Lemmon ['The China Syndrome', 'The China Syndrome: A Fusion of Talent', 'The China Syndrome: Creating a Controversy']\n",
      "C'est bon ça fonctionne pour acteur: Jack Lemmon\n",
      "{'adult': False, 'gender': 2, 'id': 3151, 'known_for_department': 'Acting', 'name': 'Jack Lemmon', 'original_name': 'Jack Lemmon', 'popularity': 5.429, 'profile_path': '/yfS8K77QzICgOcBuQfd5WfgOnCo.jpg', 'cast_id': 15, 'character': 'Jack Godell', 'credit_id': '52fe4297c3a36847f802a821', 'order': 1}\n",
      "1\n",
      "3151\n",
      "Birthday 1925-02-08 Jack Lemmon\n",
      "Gender 2\n"
     ]
    },
    {
     "name": "stderr",
     "output_type": "stream",
     "text": [
      "\r",
      "  2%|█▍                                                                                | 3/165 [00:01<01:02,  2.60it/s]"
     ]
    },
    {
     "name": "stdout",
     "output_type": "stream",
     "text": [
      "3 ...And Justice for All Al Pacino ['...And Justice for All', 'And Justice for All', 'Metallica - ...And Justice For All']\n",
      "C'est bon ça fonctionne pour acteur: Al Pacino\n",
      "{'adult': False, 'gender': 2, 'id': 1158, 'known_for_department': 'Acting', 'name': 'Al Pacino', 'original_name': 'Al Pacino', 'popularity': 16.02, 'profile_path': '/fMDFeVf0pjopTJbyRSLFwNDm8Wr.jpg', 'cast_id': 1, 'character': 'Arthur Kirkland', 'credit_id': '52fe47259251416c7508f4d3', 'order': 0}\n",
      "1\n",
      "1158\n",
      "Birthday 1940-04-25 Al Pacino\n",
      "Gender 2\n"
     ]
    },
    {
     "name": "stderr",
     "output_type": "stream",
     "text": [
      "\r",
      "  2%|█▉                                                                                | 4/165 [00:01<00:59,  2.71it/s]"
     ]
    },
    {
     "name": "stdout",
     "output_type": "stream",
     "text": [
      "4 All That Jazz Roy Scheider ['All That Jazz', 'All That Jazz: From New Orleans to New York', 'And All That Jazz', 'Grammar, Girls and All That Jazz']\n",
      "C'est bon ça fonctionne pour acteur: Roy Scheider\n",
      "{'adult': False, 'gender': 2, 'id': 6355, 'known_for_department': 'Acting', 'name': 'Roy Scheider', 'original_name': 'Roy Scheider', 'popularity': 3.086, 'profile_path': '/yyZ0DwUz3qAelJIUGVoOktGgMIh.jpg', 'cast_id': 2, 'character': 'Joe Gideon', 'credit_id': '52fe46f09251416c75088867', 'order': 0}\n",
      "1\n",
      "6355\n",
      "Birthday 1932-11-10 Roy Scheider\n",
      "Gender 2\n"
     ]
    },
    {
     "name": "stderr",
     "output_type": "stream",
     "text": [
      "\r",
      "  3%|██▍                                                                               | 5/165 [00:01<00:56,  2.81it/s]"
     ]
    },
    {
     "name": "stdout",
     "output_type": "stream",
     "text": [
      "9 Being There Peter Sellers ['Being There', 'Being There', 'Being There', 'Just Like Being There', 'Being There', 'Being There', 'Being There', 'Being There', 'We Who Dwell in the Mountains Cannot Be Blamed for Being There']\n",
      "C'est bon ça fonctionne pour acteur: Peter Sellers\n",
      "{'adult': False, 'gender': 2, 'id': 12446, 'known_for_department': 'Acting', 'name': 'Peter Sellers', 'original_name': 'Peter Sellers', 'popularity': 2.975, 'profile_path': '/k68WsOAixUuzaTCLFLy5JsODdKL.jpg', 'cast_id': 1, 'character': 'Chance', 'credit_id': '52fe43599251416c7500ce67', 'order': 0}\n",
      "1\n",
      "12446\n",
      "Birthday 1925-09-08 Peter Sellers\n",
      "Gender 2\n"
     ]
    },
    {
     "name": "stderr",
     "output_type": "stream",
     "text": [
      "\r",
      "  4%|██▉                                                                               | 6/165 [00:02<00:55,  2.88it/s]"
     ]
    },
    {
     "name": "stdout",
     "output_type": "stream",
     "text": [
      "1 Norma Rae Sally Field ['Norma Rae']\n",
      "C'est bon ça fonctionne pour acteur: Sally Field\n",
      "{'adult': False, 'gender': 1, 'id': 35, 'known_for_department': 'Acting', 'name': 'Sally Field', 'original_name': 'Sally Field', 'popularity': 4.665, 'profile_path': '/36qWnokCU1VOdSyrmGbTxzGou44.jpg', 'cast_id': 1, 'character': 'Norma Rae', 'credit_id': '52fe45a6c3a36847f80d2e45', 'order': 0}\n",
      "1\n",
      "35\n",
      "Birthday 1946-11-06 Sally Field\n",
      "Gender 1\n"
     ]
    },
    {
     "name": "stderr",
     "output_type": "stream",
     "text": [
      "\r",
      "  4%|███▍                                                                              | 7/165 [00:02<00:53,  2.94it/s]"
     ]
    },
    {
     "name": "stdout",
     "output_type": "stream",
     "text": [
      "10 Starting Over Jill Clayburgh ['Starting Over', 'Starting Over Again', 'Starting Over', 'Starting Over', 'Starting Over', 'Starting Over', 'Starting Over in America: The Story of the Hungarian 56ers', 'Starting Over', 'Starting Over', 'Meet Bill']\n",
      "C'est bon ça fonctionne pour acteur: Jill Clayburgh\n",
      "{'adult': False, 'gender': 1, 'id': 20362, 'known_for_department': 'Acting', 'name': 'Jill Clayburgh', 'original_name': 'Jill Clayburgh', 'popularity': 2.166, 'profile_path': '/sMdQSgCSlSYdMq4aBAnoaIZYuLT.jpg', 'cast_id': 3, 'character': 'Marilyn Holmburg', 'credit_id': '52fe48a9c3a36847f817307d', 'order': 2}\n",
      "1\n",
      "20362\n",
      "Birthday 1944-04-30 Jill Clayburgh\n",
      "Gender 1\n"
     ]
    },
    {
     "name": "stderr",
     "output_type": "stream",
     "text": [
      "\r",
      "  5%|███▉                                                                              | 8/165 [00:02<00:47,  3.30it/s]"
     ]
    },
    {
     "name": "stdout",
     "output_type": "stream",
     "text": [
      "3 The China Syndrome Jane Fonda ['The China Syndrome', 'The China Syndrome: A Fusion of Talent', 'The China Syndrome: Creating a Controversy']\n",
      "C'est bon ça fonctionne pour acteur: Jane Fonda\n",
      "{'adult': False, 'gender': 1, 'id': 6352, 'known_for_department': 'Acting', 'name': 'Jane Fonda', 'original_name': 'Jane Fonda', 'popularity': 8.737, 'profile_path': '/5Yb3nmRWXXZAxNhfhEuOMdfyVNN.jpg', 'cast_id': 14, 'character': 'Kimberly Wells', 'credit_id': '52fe4297c3a36847f802a81d', 'order': 0}\n",
      "1\n",
      "6352\n",
      "Birthday 1937-12-21 Jane Fonda\n",
      "Gender 1\n"
     ]
    },
    {
     "name": "stderr",
     "output_type": "stream",
     "text": [
      "\r",
      "  5%|████▍                                                                             | 9/165 [00:03<00:50,  3.12it/s]"
     ]
    },
    {
     "name": "stdout",
     "output_type": "stream",
     "text": [
      "11 Chapter Two Marsha Mason ['It Chapter Two', 'The Summers of IT: Chapter Two', 'Chapter Two', 'Girl Night Stand: Chapter Two', 'Story of the Dreaming Water – Chapter Two', 'Walter Sickert & The Army of Broken Toys: Witchcraft - War Gospel: Chapter Two', 'The Fable: Chapter Two', 'John Wick: Chapter 2', 'Angela’s Diaries. Two Filmmakers. Chapter Two', 'May the Devil Take You Too', 'Incarnation of the Devil 2']\n",
      "jsp\n",
      "jsp\n",
      "C'est bon ça fonctionne pour acteur: Marsha Mason\n",
      "{'adult': False, 'gender': 1, 'id': 19131, 'known_for_department': 'Acting', 'name': 'Marsha Mason', 'original_name': 'Marsha Mason', 'popularity': 2.585, 'profile_path': '/2IkzpW9eYT0m1jhssQryvmN4gS6.jpg', 'cast_id': 2, 'character': 'Jennie MacLaine', 'credit_id': '52fe45f1c3a36847f80e3643', 'order': 1}\n",
      "1\n",
      "19131\n",
      "Birthday 1942-04-03 Marsha Mason\n",
      "Gender 1\n"
     ]
    },
    {
     "name": "stderr",
     "output_type": "stream",
     "text": [
      "\r",
      "  6%|████▉                                                                            | 10/165 [00:03<00:51,  3.04it/s]"
     ]
    },
    {
     "name": "stdout",
     "output_type": "stream",
     "text": [
      "20 The Rose Bette Midler ['The Name of the Rose', 'The Rose', 'The Poison Rose', 'The Slipper and the Rose', 'The Rose Tattoo', 'The Sword and the Rose', 'U2: 360° at the Rose Bowl', 'Specter of the Rose', 'The Rose Garden', 'The Shamrock and the Rose', 'The Rose', 'The Rose', 'The Rose', 'So Red the Rose', 'Float: The Rose Parade', 'The Purple Rose of Cairo', 'The rose and I', 'Rose and the Players – Part 1', 'Rose and the Players – Part 2', \"Oscar Wilde's the Nightingale and the Rose\"]\n",
      "jsp\n",
      "C'est bon ça fonctionne pour acteur: Bette Midler\n",
      "{'adult': False, 'gender': 1, 'id': 73931, 'known_for_department': 'Acting', 'name': 'Bette Midler', 'original_name': 'Bette Midler', 'popularity': 3.735, 'profile_path': '/AboHBmgeoFkCwp7mQHyfORnbOPY.jpg', 'cast_id': 1, 'character': 'Mary Rose Foster', 'credit_id': '52fe46c69251416c75083141', 'order': 0}\n",
      "1\n",
      "73931\n",
      "Birthday 1945-12-01 Bette Midler\n",
      "Gender 1\n"
     ]
    },
    {
     "name": "stderr",
     "output_type": "stream",
     "text": [
      "\r",
      "  7%|█████▍                                                                           | 11/165 [00:03<00:44,  3.45it/s]"
     ]
    },
    {
     "name": "stdout",
     "output_type": "stream",
     "text": [
      "2 Kramer vs. Kramer Robert Benton ['Kramer vs. Kramer', \"Finding the Truth: The Making of 'Kramer vs. Kramer'\"]\n",
      "C'est bon ça fonctionne pour directeur: Robert Benton\n",
      "{'adult': False, 'gender': 2, 'id': 6729, 'known_for_department': 'Writing', 'name': 'Robert Benton', 'original_name': 'Robert Benton', 'popularity': 0.6, 'profile_path': '/309zHbAHOXv1PffWz4C9SEEgEGa.jpg', 'credit_id': '52fe44b49251416c7503e30d', 'department': 'Writing', 'job': 'Screenplay'}\n",
      "1\n",
      "6729\n",
      "Birthday 1932-09-29 Robert Benton\n",
      "Gender 2\n"
     ]
    },
    {
     "name": "stderr",
     "output_type": "stream",
     "text": [
      "\r",
      "  7%|█████▉                                                                           | 12/165 [00:03<00:42,  3.64it/s]"
     ]
    },
    {
     "name": "stdout",
     "output_type": "stream",
     "text": [
      "4 All That Jazz Bob Fosse ['All That Jazz', 'All That Jazz: From New Orleans to New York', 'And All That Jazz', 'Grammar, Girls and All That Jazz']\n",
      "C'est bon ça fonctionne pour directeur: Bob Fosse\n",
      "{'adult': False, 'gender': 2, 'id': 66777, 'known_for_department': 'Acting', 'name': 'Bob Fosse', 'original_name': 'Bob Fosse', 'popularity': 1.473, 'profile_path': '/sCndI9C9hIOrca9751M2gMy4Rmz.jpg', 'credit_id': '52fe46f09251416c75088863', 'department': 'Directing', 'job': 'Director'}\n",
      "1\n",
      "66777\n",
      "Birthday 1927-06-23 Bob Fosse\n",
      "Gender 2\n"
     ]
    },
    {
     "name": "stderr",
     "output_type": "stream",
     "text": [
      "\r",
      "  8%|██████▍                                                                          | 13/165 [00:04<00:44,  3.39it/s]"
     ]
    },
    {
     "name": "stdout",
     "output_type": "stream",
     "text": [
      "4 Apocalypse Now Francis Ford Coppola ['Apocalypse Now', 'Apocalypse Now Now', 'Dutch Angle: Chas Gerretsen & Apocalypse Now', 'Zombie Apocalypse Now: A Zombie Hunter']\n",
      "C'est bon ça fonctionne pour directeur: Francis Ford Coppola\n",
      "{'adult': False, 'gender': 2, 'id': 1776, 'known_for_department': 'Directing', 'name': 'Francis Ford Coppola', 'original_name': 'Francis Ford Coppola', 'popularity': 2.951, 'profile_path': '/mGKkVp3l9cipPt10AqoQnwaPrfI.jpg', 'credit_id': '52fe4210c3a36847f80012c7', 'department': 'Directing', 'job': 'Director'}\n",
      "1\n",
      "1776\n",
      "Birthday 1939-04-07 Francis Ford Coppola\n",
      "Gender 2\n"
     ]
    },
    {
     "name": "stderr",
     "output_type": "stream",
     "text": [
      "\r",
      "  8%|██████▊                                                                          | 14/165 [00:04<00:45,  3.30it/s]"
     ]
    },
    {
     "name": "stdout",
     "output_type": "stream",
     "text": [
      "4 Breaking Away Peter Yates ['Breaking Away', 'Buried and Breaking Away', 'Breaking Away to Come Together', '30 Seconds Away: Breaking the Cycle']\n",
      "C'est bon ça fonctionne pour directeur: Peter Yates\n",
      "{'adult': False, 'gender': 2, 'id': 12804, 'known_for_department': 'Directing', 'name': 'Peter Yates', 'original_name': 'Peter Yates', 'popularity': 1.292, 'profile_path': '/sHcC917Y0F7UoaVAnF2yKMvUnSn.jpg', 'credit_id': '52fe43dfc3a368484e0030f1', 'department': 'Directing', 'job': 'Director'}\n",
      "1\n",
      "12804\n",
      "Birthday 1929-07-24 Peter Yates\n",
      "Gender 2\n"
     ]
    },
    {
     "name": "stderr",
     "output_type": "stream",
     "text": [
      "\r",
      "  9%|███████▎                                                                         | 15/165 [00:04<00:48,  3.08it/s]"
     ]
    },
    {
     "name": "stdout",
     "output_type": "stream",
     "text": [
      "5 La Cage aux Folles Edouard Molinaro ['La Cage aux Folles', 'La Cage aux Folles II', 'La Cage aux Folles 3: The Wedding', 'La Cage aux folles', 'La Cage aux folles']\n",
      "C'est bon ça fonctionne pour directeur: Édouard Molinaro\n",
      "{'adult': False, 'gender': 2, 'id': 24380, 'known_for_department': 'Directing', 'name': 'Édouard Molinaro', 'original_name': 'Édouard Molinaro', 'popularity': 1.139, 'profile_path': '/i0TSDPTyO2ZUFE1Ornrp5ioV8Pw.jpg', 'credit_id': '52fe43c5c3a36847f806e6dd', 'department': 'Writing', 'job': 'Screenplay'}\n",
      "1\n",
      "24380\n",
      "Birthday 1928-05-13 Édouard Molinaro\n",
      "Gender 2\n"
     ]
    },
    {
     "name": "stderr",
     "output_type": "stream",
     "text": [
      "\r",
      " 10%|███████▊                                                                         | 16/165 [00:05<00:48,  3.08it/s]"
     ]
    },
    {
     "name": "stdout",
     "output_type": "stream",
     "text": [
      "2 Raging Bull Robert De Niro ['Raging Bull', \"Easy Riders, Raging Bulls: How the Sex, Drugs and Rock 'N' Roll Generation Saved Hollywood\"]\n",
      "C'est bon ça fonctionne pour acteur: Robert De Niro\n",
      "{'adult': False, 'gender': 2, 'id': 380, 'known_for_department': 'Acting', 'name': 'Robert De Niro', 'original_name': 'Robert De Niro', 'popularity': 7.949, 'profile_path': '/cT8htcckIuyI1Lqwt1CvD02ynTh.jpg', 'cast_id': 1, 'character': 'Jake LaMotta', 'credit_id': '52fe4300c3a36847f8032f07', 'order': 0}\n",
      "1\n",
      "380\n",
      "Birthday 1943-08-17 Robert De Niro\n",
      "Gender 2\n"
     ]
    },
    {
     "name": "stderr",
     "output_type": "stream",
     "text": [
      "\r",
      " 10%|████████▎                                                                        | 17/165 [00:05<00:47,  3.09it/s]"
     ]
    },
    {
     "name": "stdout",
     "output_type": "stream",
     "text": [
      "1 The Great Santini Robert Duvall ['The Great Santini']\n",
      "C'est bon ça fonctionne pour acteur: Robert Duvall\n",
      "{'adult': False, 'gender': 2, 'id': 3087, 'known_for_department': 'Acting', 'name': 'Robert Duvall', 'original_name': 'Robert Duvall', 'popularity': 10.057, 'profile_path': '/nLBIEvJDvSV0WhFv0bi7sU9tLyb.jpg', 'cast_id': 1, 'character': \"Lt. Col. 'Bull' Meechum\", 'credit_id': '52fe442cc3a368484e013b8f', 'order': 0}\n",
      "1\n",
      "3087\n",
      "Birthday 1931-01-05 Robert Duvall\n",
      "Gender 2\n"
     ]
    },
    {
     "name": "stderr",
     "output_type": "stream",
     "text": [
      "\r",
      " 11%|████████▊                                                                        | 18/165 [00:05<00:47,  3.08it/s]"
     ]
    },
    {
     "name": "stdout",
     "output_type": "stream",
     "text": [
      "7 The Elephant Man John Hurt ['The Elephant Man', 'The Elephant Man', 'Photographing the Elephant Man', 'Revenge of the Elephant Man', 'The Curse of the Elephant Man', 'The Terrible Elephant Man Revealed', 'Joseph Merrick: The Real Elephant Man']\n",
      "C'est bon ça fonctionne pour acteur: John Hurt\n",
      "{'adult': False, 'gender': 2, 'id': 5049, 'known_for_department': 'Acting', 'name': 'John Hurt', 'original_name': 'John Hurt', 'popularity': 6.3, 'profile_path': '/kLW1Q53NRuB0EihduBFX3Lbtcl6.jpg', 'cast_id': 11, 'character': 'John Merrick', 'credit_id': '52fe4326c3a36847f803df93', 'order': 1}\n",
      "1\n",
      "5049\n",
      "Birthday 1940-01-22 John Hurt\n",
      "Gender 2\n"
     ]
    },
    {
     "name": "stderr",
     "output_type": "stream",
     "text": [
      "\r",
      " 12%|█████████▎                                                                       | 19/165 [00:06<00:47,  3.06it/s]"
     ]
    },
    {
     "name": "stdout",
     "output_type": "stream",
     "text": [
      "20 Tribute Jack Lemmon ['Tribute', 'The Freddie Mercury Tribute Concert', \"Nora Roberts' Tribute\", 'Chadwick Boseman:  A Tribute for a King', 'Elvis All-Star Tribute', 'America: A Tribute to Heroes', 'Yanni: Tribute', \"Mat Hoffman's Tribute to Evel Knievel\", 'A MusiCares Tribute to Barbra Streisand', 'A Tribute To Burt Bacharach & Hal David', 'Tribute to Desmond Llewelyn', 'Dolly Parton: A MusiCares Tribute', 'Tribute', 'Avicii Tribute Concert', 'Tribute to a Bad Man', 'Tribute', 'Tribute', 'A Tribute to Ryan Dunn', 'The Perfect Tribute', 'Rocky Horror Tribute Show']\n",
      "C'est bon ça fonctionne pour acteur: Jack Lemmon\n",
      "{'adult': False, 'gender': 2, 'id': 3151, 'known_for_department': 'Acting', 'name': 'Jack Lemmon', 'original_name': 'Jack Lemmon', 'popularity': 5.429, 'profile_path': '/yfS8K77QzICgOcBuQfd5WfgOnCo.jpg', 'cast_id': 1, 'character': 'Scottie Templeton', 'credit_id': '52fe4b68c3a368484e1878c5', 'order': 0}\n",
      "1\n",
      "3151\n",
      "Birthday 1925-02-08 Jack Lemmon\n",
      "Gender 2\n"
     ]
    },
    {
     "name": "stderr",
     "output_type": "stream",
     "text": [
      "\r",
      " 12%|█████████▊                                                                       | 20/165 [00:06<00:46,  3.10it/s]"
     ]
    },
    {
     "name": "stdout",
     "output_type": "stream",
     "text": [
      "4 The Stunt Man Peter O'Toole ['The Stunt Man', 'The Stunt Man', 'The Sinister Saga of Making The Stunt Man', 'The Stunt Manual']\n",
      "C'est bon ça fonctionne pour acteur: Peter O'Toole\n",
      "{'adult': False, 'gender': 2, 'id': 11390, 'known_for_department': 'Acting', 'name': \"Peter O'Toole\", 'original_name': \"Peter O'Toole\", 'popularity': 3.122, 'profile_path': '/2F15qrkiDp4qhYJnXuFqINIBsHp.jpg', 'cast_id': 4, 'character': 'Eli Cross', 'credit_id': '52fe45f1c3a36847f80e3567', 'order': 0}\n",
      "1\n",
      "11390\n",
      "Birthday 1932-08-02 Peter O'Toole\n",
      "Gender 2\n"
     ]
    },
    {
     "name": "stderr",
     "output_type": "stream",
     "text": [
      "\r",
      " 13%|██████████▎                                                                      | 21/165 [00:06<00:46,  3.07it/s]"
     ]
    },
    {
     "name": "stdout",
     "output_type": "stream",
     "text": [
      "2 Coal Miner's Daughter Sissy Spacek [\"Coal Miner's Daughter\", \"Coal Miner's Granddaughter\"]\n",
      "C'est bon ça fonctionne pour acteur: Sissy Spacek\n",
      "{'adult': False, 'gender': 1, 'id': 5606, 'known_for_department': 'Acting', 'name': 'Sissy Spacek', 'original_name': 'Sissy Spacek', 'popularity': 2.923, 'profile_path': '/xAxenjxjLNQFq4v1ccS2to3Mnoq.jpg', 'cast_id': 2, 'character': 'Loretta Lynn', 'credit_id': '52fe46e99251416c75087b17', 'order': 0}\n",
      "1\n",
      "5606\n",
      "Birthday 1949-12-25 Sissy Spacek\n",
      "Gender 1\n"
     ]
    },
    {
     "name": "stderr",
     "output_type": "stream",
     "text": [
      "\r",
      " 13%|██████████▊                                                                      | 22/165 [00:07<00:46,  3.05it/s]"
     ]
    },
    {
     "name": "stdout",
     "output_type": "stream",
     "text": [
      "20 Resurrection Ellen Burstyn ['Mechanic: Resurrection', 'Alien Resurrection', 'Halloween: Resurrection', 'Afro Samurai: Resurrection', 'Tupac: Resurrection', 'Resurrection', 'Zombie Resurrection', 'A Resurrection', \"Dragon Ball Z: Resurrection 'F'\", 'Resurrection', 'Resurrection County', 'Neon Genesis Evangelion: Resurrection', 'Birdemic 2: The Resurrection', 'Dark Resurrection', 'Atlantic Rim: Resurrection', 'Resurrection', 'The Fear: Resurrection', 'Resurrection Man', 'Resurrection', 'The Resurrection of Jake The Snake']\n",
      "jsp\n",
      "jsp\n",
      "jsp\n",
      "jsp\n",
      "jsp\n",
      "jsp\n",
      "jsp\n",
      "jsp\n",
      "jsp\n",
      "C'est bon ça fonctionne pour acteur: Ellen Burstyn\n",
      "{'adult': False, 'gender': 1, 'id': 9560, 'known_for_department': 'Acting', 'name': 'Ellen Burstyn', 'original_name': 'Ellen Burstyn', 'popularity': 2.907, 'profile_path': '/cAR8sU569iSJqLy1PwtcBT1syjJ.jpg', 'cast_id': 3, 'character': 'Edna', 'credit_id': '52fe4a1f9251416c750de749', 'order': 0}\n",
      "1\n",
      "9560\n",
      "Birthday 1932-12-07 Ellen Burstyn\n",
      "Gender 1\n"
     ]
    },
    {
     "name": "stderr",
     "output_type": "stream",
     "text": [
      "\r",
      " 14%|███████████▎                                                                     | 23/165 [00:07<00:46,  3.04it/s]"
     ]
    },
    {
     "name": "stdout",
     "output_type": "stream",
     "text": [
      "1 Private Benjamin Goldie Hawn ['Private Benjamin']\n",
      "C'est bon ça fonctionne pour acteur: Goldie Hawn\n",
      "{'adult': False, 'gender': 1, 'id': 18892, 'known_for_department': 'Acting', 'name': 'Goldie Hawn', 'original_name': 'Goldie Hawn', 'popularity': 4.445, 'profile_path': '/u2g5VUylAJoXGWhoxFTLUmaX6O7.jpg', 'cast_id': 1, 'character': 'Pvt. Judy Benjamin - Judy Goodman', 'credit_id': '52fe43b39251416c7501ab5d', 'order': 0}\n",
      "1\n",
      "18892\n",
      "Birthday 1945-11-21 Goldie Hawn\n",
      "Gender 1\n"
     ]
    },
    {
     "name": "stderr",
     "output_type": "stream",
     "text": [
      "\r",
      " 15%|███████████▊                                                                     | 24/165 [00:07<00:46,  3.01it/s]"
     ]
    },
    {
     "name": "stdout",
     "output_type": "stream",
     "text": [
      "13 Ordinary People Mary Tyler Moore ['Ordinary People', 'An Ordinary People', 'Ordinary People', 'Ordinary People', \"Angus Buchan's Ordinary People\", 'Extraordinary Ordinary People', 'Ordinary People', 'Ordinary People', 'The Ordinary People', 'Ordinary People', 'Ordinary People', 'Ordinary People', 'Of Great Events and Ordinary People']\n",
      "C'est bon ça fonctionne pour acteur: Mary Tyler Moore\n",
      "{'adult': False, 'gender': 1, 'id': 21277, 'known_for_department': 'Acting', 'name': 'Mary Tyler Moore', 'original_name': 'Mary Tyler Moore', 'popularity': 3.116, 'profile_path': '/v4tIqWFbCcvqLrFhhHbeelR5f1l.jpg', 'cast_id': 18, 'character': 'Beth Jarrett', 'credit_id': '52fe46e09251416c75086839', 'order': 1}\n",
      "1\n",
      "21277\n",
      "Birthday 1936-12-29 Mary Tyler Moore\n",
      "Gender 1\n"
     ]
    },
    {
     "name": "stderr",
     "output_type": "stream",
     "text": [
      "\r",
      " 15%|████████████▎                                                                    | 25/165 [00:08<00:46,  2.99it/s]"
     ]
    },
    {
     "name": "stdout",
     "output_type": "stream",
     "text": [
      "20 Gloria Gena Rowlands ['Gloria Bell', 'Gloria', 'Gloria', 'Gloria Mundi', 'Pain and Glory', 'Gloria', 'Gloria', 'Gloria', 'Uncertain Glory', 'The Siege of Firebase Gloria', 'Gloria!', 'Gloria Estefan: Sangre Yoruba', 'Ghosting Gloria', 'GLORIA', 'Gloria', 'Gloria Mundi', 'Gloria', \"Gloria's Presentation\", 'Gloria and Grace', 'Divina Gloria']\n",
      "jsp\n",
      "C'est bon ça fonctionne pour acteur: Gena Rowlands\n",
      "{'adult': False, 'gender': 1, 'id': 4800, 'known_for_department': 'Acting', 'name': 'Gena Rowlands', 'original_name': 'Gena Rowlands', 'popularity': 3.852, 'profile_path': '/qkEeCpF7k4fE1QNQeYf2fdMpu6q.jpg', 'cast_id': 1, 'character': 'Gloria Swenson', 'credit_id': '52fe43ca9251416c7501e445', 'order': 0}\n",
      "1\n",
      "4800\n",
      "Birthday 1930-06-19 Gena Rowlands\n",
      "Gender 1\n"
     ]
    },
    {
     "name": "stderr",
     "output_type": "stream",
     "text": [
      "\r",
      " 16%|████████████▊                                                                    | 26/165 [00:08<00:40,  3.40it/s]"
     ]
    },
    {
     "name": "stdout",
     "output_type": "stream",
     "text": [
      "13 Ordinary People Robert Redford ['Ordinary People', 'An Ordinary People', 'Ordinary People', 'Ordinary People', \"Angus Buchan's Ordinary People\", 'Extraordinary Ordinary People', 'Ordinary People', 'Ordinary People', 'The Ordinary People', 'Ordinary People', 'Ordinary People', 'Ordinary People', 'Of Great Events and Ordinary People']\n",
      "C'est bon ça fonctionne pour directeur: Robert Redford\n",
      "{'adult': False, 'gender': 2, 'id': 4135, 'known_for_department': 'Acting', 'name': 'Robert Redford', 'original_name': 'Robert Redford', 'popularity': 8.008, 'profile_path': '/fUj0y9f69EYqWcGgjDhEcHlyzTW.jpg', 'credit_id': '52fe46e09251416c750867d7', 'department': 'Directing', 'job': 'Director'}\n",
      "1\n",
      "4135\n",
      "Birthday 1936-08-18 Robert Redford\n",
      "Gender 2\n"
     ]
    },
    {
     "name": "stderr",
     "output_type": "stream",
     "text": [
      "\r",
      " 16%|█████████████▎                                                                   | 27/165 [00:08<00:37,  3.72it/s]"
     ]
    },
    {
     "name": "stdout",
     "output_type": "stream",
     "text": [
      "7 The Elephant Man David Lynch ['The Elephant Man', 'The Elephant Man', 'Photographing the Elephant Man', 'Revenge of the Elephant Man', 'The Curse of the Elephant Man', 'The Terrible Elephant Man Revealed', 'Joseph Merrick: The Real Elephant Man']\n",
      "C'est bon ça fonctionne pour directeur: David Lynch\n",
      "{'adult': False, 'gender': 2, 'id': 5602, 'known_for_department': 'Directing', 'name': 'David Lynch', 'original_name': 'David Lynch', 'popularity': 3.813, 'profile_path': '/b6TnSpuqeOlbq7aHH9G4inmQ1v9.jpg', 'credit_id': '52fe4326c3a36847f803df61', 'department': 'Writing', 'job': 'Screenplay'}\n",
      "1\n",
      "5602\n",
      "Birthday 1946-01-20 David Lynch\n",
      "Gender 2\n"
     ]
    },
    {
     "name": "stderr",
     "output_type": "stream",
     "text": [
      "\r",
      " 17%|█████████████▋                                                                   | 28/165 [00:08<00:36,  3.80it/s]"
     ]
    },
    {
     "name": "stdout",
     "output_type": "stream",
     "text": [
      "2 Raging Bull Martin Scorsese ['Raging Bull', \"Easy Riders, Raging Bulls: How the Sex, Drugs and Rock 'N' Roll Generation Saved Hollywood\"]\n",
      "C'est bon ça fonctionne pour directeur: Martin Scorsese\n",
      "{'adult': False, 'gender': 2, 'id': 1032, 'known_for_department': 'Directing', 'name': 'Martin Scorsese', 'original_name': 'Martin Scorsese', 'popularity': 8.523, 'profile_path': '/9U9Y5GQuWX3EZy39B8nkk4NY01S.jpg', 'credit_id': '52fe4300c3a36847f8032f25', 'department': 'Directing', 'job': 'Director'}\n",
      "1\n",
      "1032\n",
      "Birthday 1942-11-17 Martin Scorsese\n",
      "Gender 2\n"
     ]
    },
    {
     "name": "stderr",
     "output_type": "stream",
     "text": [
      "\r",
      " 18%|██████████████▏                                                                  | 29/165 [00:09<00:33,  4.00it/s]"
     ]
    },
    {
     "name": "stdout",
     "output_type": "stream",
     "text": [
      "4 The Stunt Man Richard Rush ['The Stunt Man', 'The Stunt Man', 'The Sinister Saga of Making The Stunt Man', 'The Stunt Manual']\n",
      "C'est bon ça fonctionne pour directeur: Richard Rush\n",
      "{'adult': False, 'gender': 2, 'id': 21806, 'known_for_department': 'Directing', 'name': 'Richard Rush', 'original_name': 'Richard Rush', 'popularity': 0.71, 'profile_path': '/eJs57eZOrm3Di0Jr1z4OeK453gY.jpg', 'credit_id': '52fe45f1c3a36847f80e3557', 'department': 'Directing', 'job': 'Director'}\n",
      "1\n",
      "21806\n",
      "Birthday 1929-04-15 Richard Rush\n",
      "Gender 2\n"
     ]
    },
    {
     "name": "stderr",
     "output_type": "stream",
     "text": [
      "\r",
      " 18%|██████████████▋                                                                  | 30/165 [00:09<00:37,  3.61it/s]"
     ]
    },
    {
     "name": "stdout",
     "output_type": "stream",
     "text": [
      "20 Tess Roman Polanski ['My Extraordinary Summer With Tess', 'Tess', 'Guarding Tess', 'Tess', \"Tess of the D'Urbervilles\", 'Tess and Nana', 'Filming Tess', 'Tess of the Storm Country', 'Tess of the Storm Country', 'Tess: The Experience', 'Tess of the Storm Country', \"Tess of the D'Urbervilles\", 'Tess of the Storm Country', \"Strictly Come Dancing - Tess & Craig's Christmas Night In\", 'Tess: From Novel to Screen', 'Once Upon a Time...: Tess', 'Ciné regards: Tess: Roman Polanski', 'Tess: Looking for My Next Ex-Husband', 'Tess Has a Stain on Her Dress', 'The Tesseract']\n",
      "jsp\n",
      "C'est bon ça fonctionne pour directeur: Roman Polanski\n",
      "{'adult': False, 'gender': 2, 'id': 3556, 'known_for_department': 'Directing', 'name': 'Roman Polanski', 'original_name': 'Roman Polanski', 'popularity': 2.916, 'profile_path': '/60UYC6apdoC8VBh62WCkZ2LPGPk.jpg', 'credit_id': '52fe43fc9251416c75025211', 'department': 'Writing', 'job': 'Screenplay'}\n",
      "1\n",
      "3556\n",
      "Birthday 1933-08-18 Roman Polanski\n",
      "Gender 2\n"
     ]
    },
    {
     "name": "stderr",
     "output_type": "stream",
     "text": [
      "\r",
      " 19%|███████████████▏                                                                 | 31/165 [00:09<00:39,  3.41it/s]"
     ]
    },
    {
     "name": "stdout",
     "output_type": "stream",
     "text": [
      "3 On Golden Pond Henry Fonda ['On Golden Pond', 'On Golden Pond', 'The Loons On Golden Pond']\n",
      "C'est bon ça fonctionne pour acteur: Henry Fonda\n",
      "{'adult': False, 'gender': 2, 'id': 4958, 'known_for_department': 'Acting', 'name': 'Henry Fonda', 'original_name': 'Henry Fonda', 'popularity': 8.349, 'profile_path': '/9DtuGZrwsEFUE9VhrkHEUusF0hZ.jpg', 'cast_id': 2, 'character': 'Norman Thayer Jr.', 'credit_id': '52fe448b9251416c75038735', 'order': 1}\n",
      "1\n",
      "4958\n",
      "Birthday 1905-05-16 Henry Fonda\n",
      "Gender 2\n"
     ]
    },
    {
     "name": "stderr",
     "output_type": "stream",
     "text": [
      "\r",
      " 19%|███████████████▋                                                                 | 32/165 [00:10<00:40,  3.26it/s]"
     ]
    },
    {
     "name": "stdout",
     "output_type": "stream",
     "text": [
      "20 Reds Warren Beatty ['Reds', \"Red's Dream\", 'A Study in Reds', 'Note Chicago Reds and Blues', 'Reds & Blues: Derby Days', 'American Reds: The Failed Revolution', 'Remo, Rambo, Reagan and Reds: The Eighties Action Movie Explosion', 'Reds & Blues: The Ballad of Dixie & Kenny', 'MLB Vintage World Series Films - Cincinnati Reds (1975, 1976, 1990)', \"Little Red's Pie\", \"Secretariat: Big Red's Last Race\", \"Red's Breakfast 2: Dawn Of The Red\", 'Carmen and the Reds', 'Reds in Taiwan', 'Red Is the Color of', 'The Redsin Tower', 'When the Redskins Rode', 'Dj Q Bert Redstar Live Session QFO Tour In Paris', 'Wild West Days', 'Redskin']\n",
      "C'est bon ça fonctionne pour acteur: Warren Beatty\n",
      "{'adult': False, 'gender': 2, 'id': 6449, 'known_for_department': 'Acting', 'name': 'Warren Beatty', 'original_name': 'Warren Beatty', 'popularity': 4.131, 'profile_path': '/4IDilrr21iRKv75QOwNKJPC3WgW.jpg', 'cast_id': 2, 'character': 'John Reed', 'credit_id': '52fe476e9251416c7509908d', 'order': 0}\n",
      "1\n",
      "6449\n",
      "Birthday 1937-03-30 Warren Beatty\n",
      "Gender 2\n"
     ]
    },
    {
     "name": "stderr",
     "output_type": "stream",
     "text": [
      "\r",
      " 20%|████████████████▏                                                                | 33/165 [00:10<00:42,  3.10it/s]"
     ]
    },
    {
     "name": "stdout",
     "output_type": "stream",
     "text": [
      "20 Atlantic City Burt Lancaster ['Atlantic City', 'Atlantic City', 'Beyoncé Live in Atlantic City', 'The Atlantic City Story', 'Bathing at Atlantic City', 'Atlantic City Floral Parade', 'Atlantic City Fire Department', 'Heart: Live in Atlantic City', 'Tool: [2007] Atlantic City, NJ', 'The Rolling Stones: Atlantic City', 'Easter Sunday, Atlantic City Boardwalk', 'Parade, Fiftieth Anniversary, Atlantic City, N.J.', 'The Cohens and Kellys in Atlantic City', 'Lynyrd Skynyrd: Live in Atlantic City', 'Life Rescue Scene at Atlantic City, N.J.', 'The Who: Atlantic City 3/9/2007', 'Outing, Mystic Shriners, Atlantic City, New Jersey', 'The Rolling Stones:Terrifying - The Legendary Atlantic City Concert', \"Bon Jovi: It's My life - Live in Atlantic city\", \"Atlantic City Hookers: It Ain't E-Z Being a Ho'\"]\n",
      "C'est bon ça fonctionne pour acteur: Burt Lancaster\n",
      "{'adult': False, 'gender': 2, 'id': 13784, 'known_for_department': 'Acting', 'name': 'Burt Lancaster', 'original_name': 'Burt Lancaster', 'popularity': 2.312, 'profile_path': '/lQAO1wrjL37WbYWiCRVQdaBfcHn.jpg', 'cast_id': 1, 'character': 'Lou', 'credit_id': '52fe4479c3a368484e0253ab', 'order': 0}\n",
      "1\n",
      "13784\n",
      "Birthday 1913-11-02 Burt Lancaster\n",
      "Gender 2\n"
     ]
    },
    {
     "name": "stderr",
     "output_type": "stream",
     "text": [
      "\r",
      " 21%|████████████████▋                                                                | 34/165 [00:10<00:42,  3.06it/s]"
     ]
    },
    {
     "name": "stdout",
     "output_type": "stream",
     "text": [
      "20 Arthur Dudley Moore ['King Arthur', 'Arthur', 'Arthur and the Invisibles', 'Arthur Christmas', 'King Arthur: Legend of the Sword', 'Arthur', 'Arthur Newman', 'Arthur & Merlin', 'Arthur and the Revenge of Maltazard', 'Arthur 3: The War of the Two Worlds', 'Arthur & Merlin: Knights of Camelot', 'Arthur 2: On the Rocks', 'King Arthur: Excalibur Rising', 'Arthur & Claire', 'Ben & Arthur', 'King Arthur and the Knights of the Round Table', \"Arthur Hailey's Detective\", 'Arthur Miller: Writer', 'Port Arthur', 'Arthur Rambo']\n",
      "jsp\n",
      "jsp\n",
      "jsp\n",
      "jsp\n",
      "jsp\n",
      "C'est bon ça fonctionne pour acteur: Dudley Moore\n",
      "{'adult': False, 'gender': 2, 'id': 56819, 'known_for_department': 'Acting', 'name': 'Dudley Moore', 'original_name': 'Dudley Moore', 'popularity': 1.606, 'profile_path': '/8xLueKMu5tpBmLNzZ73eWBNHycW.jpg', 'cast_id': 1, 'character': 'Arthur Bach', 'credit_id': '52fe45889251416c75059c8d', 'order': 0}\n",
      "1\n",
      "56819\n",
      "Birthday 1935-04-19 Dudley Moore\n",
      "Gender 2\n"
     ]
    },
    {
     "name": "stderr",
     "output_type": "stream",
     "text": [
      "\r",
      " 21%|█████████████████▏                                                               | 35/165 [00:11<00:42,  3.03it/s]"
     ]
    },
    {
     "name": "stdout",
     "output_type": "stream",
     "text": [
      "2 Absence of Malice Paul Newman ['Absence of Malice', 'The Story Behind \"Absence of Malice\"']\n",
      "C'est bon ça fonctionne pour acteur: Paul Newman\n",
      "{'adult': False, 'gender': 2, 'id': 3636, 'known_for_department': 'Acting', 'name': 'Paul Newman', 'original_name': 'Paul Newman', 'popularity': 3.857, 'profile_path': '/jDt6BVOywi77MjFcUbdhSHTmlm.jpg', 'cast_id': 1, 'character': 'Michael Colin Gallagher', 'credit_id': '52fe47d89251416c750a753b', 'order': 1}\n",
      "1\n",
      "3636\n",
      "Birthday 1925-01-26 Paul Newman\n",
      "Gender 2\n"
     ]
    },
    {
     "name": "stderr",
     "output_type": "stream",
     "text": [
      "\r",
      " 22%|█████████████████▋                                                               | 36/165 [00:11<00:38,  3.36it/s]"
     ]
    },
    {
     "name": "stdout",
     "output_type": "stream",
     "text": [
      "3 On Golden Pond Katharine Hepburn ['On Golden Pond', 'On Golden Pond', 'The Loons On Golden Pond']\n",
      "C'est bon ça fonctionne pour acteur: Katharine Hepburn\n",
      "{'adult': False, 'gender': 1, 'id': 6598, 'known_for_department': 'Acting', 'name': 'Katharine Hepburn', 'original_name': 'Katharine Hepburn', 'popularity': 2.778, 'profile_path': '/hzBSOe6bburyMeeCqD9kR9tRfdD.jpg', 'cast_id': 1, 'character': 'Ethel Thayer', 'credit_id': '52fe448b9251416c75038731', 'order': 0}\n",
      "1\n",
      "6598\n",
      "Birthday 1907-05-12 Katharine Hepburn\n",
      "Gender 1\n"
     ]
    },
    {
     "name": "stderr",
     "output_type": "stream",
     "text": [
      "\r",
      " 22%|██████████████████▏                                                              | 37/165 [00:11<00:34,  3.74it/s]"
     ]
    },
    {
     "name": "stdout",
     "output_type": "stream",
     "text": [
      "20 Reds Diane Keaton ['Reds', \"Red's Dream\", 'A Study in Reds', 'Note Chicago Reds and Blues', 'Reds & Blues: Derby Days', 'American Reds: The Failed Revolution', 'Remo, Rambo, Reagan and Reds: The Eighties Action Movie Explosion', 'Reds & Blues: The Ballad of Dixie & Kenny', 'MLB Vintage World Series Films - Cincinnati Reds (1975, 1976, 1990)', \"Little Red's Pie\", \"Secretariat: Big Red's Last Race\", \"Red's Breakfast 2: Dawn Of The Red\", 'Carmen and the Reds', 'Reds in Taiwan', 'Red Is the Color of', 'The Redsin Tower', 'When the Redskins Rode', 'Dj Q Bert Redstar Live Session QFO Tour In Paris', 'Wild West Days', 'Redskin']\n",
      "C'est bon ça fonctionne pour acteur: Diane Keaton\n",
      "{'adult': False, 'gender': 1, 'id': 3092, 'known_for_department': 'Acting', 'name': 'Diane Keaton', 'original_name': 'Diane Keaton', 'popularity': 8.147, 'profile_path': '/d9uVnuOjQ3VBYz5oR1nsJRR3uy0.jpg', 'cast_id': 1, 'character': 'Louise Bryant', 'credit_id': '52fe476e9251416c75099089', 'order': 1}\n",
      "1\n",
      "3092\n",
      "Birthday 1946-01-05 Diane Keaton\n",
      "Gender 1\n"
     ]
    },
    {
     "name": "stderr",
     "output_type": "stream",
     "text": [
      "\r",
      " 23%|██████████████████▋                                                              | 38/165 [00:11<00:36,  3.49it/s]"
     ]
    },
    {
     "name": "stdout",
     "output_type": "stream",
     "text": [
      "1 Only When I Laugh Marsha Mason ['Only When I Laugh']\n",
      "C'est bon ça fonctionne pour acteur: Marsha Mason\n",
      "{'adult': False, 'gender': 1, 'id': 19131, 'known_for_department': 'Acting', 'name': 'Marsha Mason', 'original_name': 'Marsha Mason', 'popularity': 2.585, 'profile_path': '/2IkzpW9eYT0m1jhssQryvmN4gS6.jpg', 'cast_id': 2, 'character': 'Georgia', 'credit_id': '52fe45f0c3a36847f80e31f9', 'order': 0}\n",
      "1\n",
      "19131\n",
      "Birthday 1942-04-03 Marsha Mason\n",
      "Gender 1\n"
     ]
    },
    {
     "name": "stderr",
     "output_type": "stream",
     "text": [
      "\r",
      " 24%|███████████████████▏                                                             | 39/165 [00:12<00:33,  3.77it/s]"
     ]
    },
    {
     "name": "stdout",
     "output_type": "stream",
     "text": [
      "20 Atlantic City Susan Sarandon ['Atlantic City', 'Atlantic City', 'Beyoncé Live in Atlantic City', 'The Atlantic City Story', 'Bathing at Atlantic City', 'Atlantic City Floral Parade', 'Atlantic City Fire Department', 'Heart: Live in Atlantic City', 'Tool: [2007] Atlantic City, NJ', 'The Rolling Stones: Atlantic City', 'Easter Sunday, Atlantic City Boardwalk', 'Parade, Fiftieth Anniversary, Atlantic City, N.J.', 'The Cohens and Kellys in Atlantic City', 'Lynyrd Skynyrd: Live in Atlantic City', 'Life Rescue Scene at Atlantic City, N.J.', 'The Who: Atlantic City 3/9/2007', 'Outing, Mystic Shriners, Atlantic City, New Jersey', 'The Rolling Stones:Terrifying - The Legendary Atlantic City Concert', \"Bon Jovi: It's My life - Live in Atlantic city\", \"Atlantic City Hookers: It Ain't E-Z Being a Ho'\"]\n",
      "C'est bon ça fonctionne pour acteur: Susan Sarandon\n",
      "{'adult': False, 'gender': 1, 'id': 4038, 'known_for_department': 'Acting', 'name': 'Susan Sarandon', 'original_name': 'Susan Sarandon', 'popularity': 8.088, 'profile_path': '/oHYYL8bNakAREaLUBtMul5uMG0A.jpg', 'cast_id': 2, 'character': 'Sally', 'credit_id': '52fe4479c3a368484e0253af', 'order': 1}\n",
      "1\n",
      "4038\n",
      "Birthday 1946-10-04 Susan Sarandon\n",
      "Gender 1\n"
     ]
    },
    {
     "name": "stderr",
     "output_type": "stream",
     "text": [
      "\r",
      " 24%|███████████████████▋                                                             | 40/165 [00:12<00:36,  3.43it/s]"
     ]
    },
    {
     "name": "stdout",
     "output_type": "stream",
     "text": [
      "3 The French Lieutenant's Woman Meryl Streep [\"The French Lieutenant's Woman\", \"The French Lieutenant's Woman\", \"The South Bank Show: The French Lieutenant's Woman\"]\n",
      "C'est bon ça fonctionne pour acteur: Meryl Streep\n",
      "{'adult': False, 'gender': 1, 'id': 5064, 'known_for_department': 'Acting', 'name': 'Meryl Streep', 'original_name': 'Meryl Streep', 'popularity': 5.885, 'profile_path': '/xqL5IJxV0fDeD3OfkS3eWqwJoGV.jpg', 'cast_id': 1, 'character': 'Sarah / Anna', 'credit_id': '52fe44f69251416c75046fd3', 'order': 0}\n",
      "1\n",
      "5064\n",
      "Birthday 1949-06-22 Meryl Streep\n",
      "Gender 1\n"
     ]
    },
    {
     "name": "stderr",
     "output_type": "stream",
     "text": [
      "\r",
      " 25%|████████████████████▏                                                            | 41/165 [00:12<00:33,  3.72it/s]"
     ]
    },
    {
     "name": "stdout",
     "output_type": "stream",
     "text": [
      "20 Reds Warren Beatty ['Reds', \"Red's Dream\", 'A Study in Reds', 'Note Chicago Reds and Blues', 'Reds & Blues: Derby Days', 'American Reds: The Failed Revolution', 'Remo, Rambo, Reagan and Reds: The Eighties Action Movie Explosion', 'Reds & Blues: The Ballad of Dixie & Kenny', 'MLB Vintage World Series Films - Cincinnati Reds (1975, 1976, 1990)', \"Little Red's Pie\", \"Secretariat: Big Red's Last Race\", \"Red's Breakfast 2: Dawn Of The Red\", 'Carmen and the Reds', 'Reds in Taiwan', 'Red Is the Color of', 'The Redsin Tower', 'When the Redskins Rode', 'Dj Q Bert Redstar Live Session QFO Tour In Paris', 'Wild West Days', 'Redskin']\n",
      "C'est bon ça fonctionne pour directeur: Warren Beatty\n",
      "{'adult': False, 'gender': 2, 'id': 6449, 'known_for_department': 'Acting', 'name': 'Warren Beatty', 'original_name': 'Warren Beatty', 'popularity': 4.131, 'profile_path': '/4IDilrr21iRKv75QOwNKJPC3WgW.jpg', 'credit_id': '5d4cf9fe1065d300144d2936', 'department': 'Writing', 'job': 'Screenplay'}\n",
      "1\n",
      "6449\n",
      "Birthday 1937-03-30 Warren Beatty\n",
      "Gender 2\n"
     ]
    },
    {
     "name": "stderr",
     "output_type": "stream",
     "text": [
      "\r",
      " 25%|████████████████████▌                                                            | 42/165 [00:12<00:30,  4.02it/s]"
     ]
    },
    {
     "name": "stdout",
     "output_type": "stream",
     "text": [
      "20 Atlantic City Louis Malle ['Atlantic City', 'Atlantic City', 'Beyoncé Live in Atlantic City', 'The Atlantic City Story', 'Bathing at Atlantic City', 'Atlantic City Floral Parade', 'Atlantic City Fire Department', 'Heart: Live in Atlantic City', 'Tool: [2007] Atlantic City, NJ', 'The Rolling Stones: Atlantic City', 'Easter Sunday, Atlantic City Boardwalk', 'Parade, Fiftieth Anniversary, Atlantic City, N.J.', 'The Cohens and Kellys in Atlantic City', 'Lynyrd Skynyrd: Live in Atlantic City', 'Life Rescue Scene at Atlantic City, N.J.', 'The Who: Atlantic City 3/9/2007', 'Outing, Mystic Shriners, Atlantic City, New Jersey', 'The Rolling Stones:Terrifying - The Legendary Atlantic City Concert', \"Bon Jovi: It's My life - Live in Atlantic city\", \"Atlantic City Hookers: It Ain't E-Z Being a Ho'\"]\n",
      "C'est bon ça fonctionne pour directeur: Louis Malle\n",
      "{'adult': False, 'gender': 2, 'id': 15389, 'known_for_department': 'Directing', 'name': 'Louis Malle', 'original_name': 'Louis Malle', 'popularity': 1.271, 'profile_path': '/8BKM2iXcr4b8pvx1OOcNsO9wADn.jpg', 'credit_id': '52fe4479c3a368484e0253c1', 'department': 'Directing', 'job': 'Director'}\n",
      "1\n",
      "15389\n",
      "Birthday 1932-10-30 Louis Malle\n",
      "Gender 2\n"
     ]
    },
    {
     "name": "stderr",
     "output_type": "stream",
     "text": [
      "\r",
      " 26%|█████████████████████                                                            | 43/165 [00:13<00:34,  3.57it/s]"
     ]
    },
    {
     "name": "stdout",
     "output_type": "stream",
     "text": [
      "2 Chariots of Fire Hugh Hudson ['Chariots of Fire', \"Wings on Their Heels: The Making of 'Chariots of Fire'\"]\n",
      "C'est bon ça fonctionne pour directeur: Hugh Hudson\n",
      "{'adult': False, 'gender': 2, 'id': 58220, 'known_for_department': 'Directing', 'name': 'Hugh Hudson', 'original_name': 'Hugh Hudson', 'popularity': 0.766, 'profile_path': '/mVuyIOGwLBMGABMoZwLVCqowLuo.jpg', 'credit_id': '52fe44f8c3a36847f80b4d47', 'department': 'Directing', 'job': 'Director'}\n",
      "1\n",
      "58220\n",
      "Birthday 1936-08-25 Hugh Hudson\n",
      "Gender 2\n"
     ]
    },
    {
     "name": "stderr",
     "output_type": "stream",
     "text": [
      "\r",
      " 27%|█████████████████████▌                                                           | 44/165 [00:13<00:30,  3.94it/s]"
     ]
    },
    {
     "name": "stdout",
     "output_type": "stream",
     "text": [
      "3 On Golden Pond Mark Rydell ['On Golden Pond', 'On Golden Pond', 'The Loons On Golden Pond']\n",
      "C'est bon ça fonctionne pour directeur: Mark Rydell\n",
      "{'adult': False, 'gender': 2, 'id': 21958, 'known_for_department': 'Directing', 'name': 'Mark Rydell', 'original_name': 'Mark Rydell', 'popularity': 0.84, 'profile_path': '/jnv40T7RTervb0jHzkh9bJFtQvH.jpg', 'credit_id': '52fe448b9251416c75038743', 'department': 'Directing', 'job': 'Director'}\n",
      "1\n",
      "21958\n",
      "Birthday 1934-03-23 Mark Rydell\n",
      "Gender 2\n"
     ]
    },
    {
     "name": "stderr",
     "output_type": "stream",
     "text": [
      "\r",
      " 27%|██████████████████████                                                           | 45/165 [00:13<00:33,  3.57it/s]"
     ]
    },
    {
     "name": "stdout",
     "output_type": "stream",
     "text": [
      "4 Raiders of the Lost Ark Steven Spielberg ['Raiders of the Lost Ark', 'Raiders of the Lost Ark: The Adaptation', \"The Making of 'Raiders of the Lost Ark'\", 'Great Movie Stunts: Raiders of the Lost Ark']\n",
      "C'est bon ça fonctionne pour directeur: Steven Spielberg\n",
      "{'adult': False, 'gender': 2, 'id': 488, 'known_for_department': 'Directing', 'name': 'Steven Spielberg', 'original_name': 'Steven Spielberg', 'popularity': 9.917, 'profile_path': '/tZxcg19YQ3e8fJ0pOs7hjlnmmr6.jpg', 'credit_id': '52fe4215c3a36847f8002a01', 'department': 'Directing', 'job': 'Director'}\n",
      "1\n",
      "488\n",
      "Birthday 1946-12-18 Steven Spielberg\n",
      "Gender 2\n"
     ]
    },
    {
     "name": "stderr",
     "output_type": "stream",
     "text": [
      "\r",
      " 28%|██████████████████████▌                                                          | 46/165 [00:14<00:35,  3.33it/s]"
     ]
    },
    {
     "name": "stdout",
     "output_type": "stream",
     "text": [
      "20 Gandhi Ben Kingsley ['Gandhi', 'Rupinder Gandhi The Gangster', 'Little Gandhi', 'The Gandhi Murder', 'And Gandhi Goes Missing...', 'Gandhi Dies', 'Gandhi Talks', 'Gandhi, My Father', 'The Making of Gandhi: Mr. Attenborough and Mr. Gandhi', 'Gandhi e a Ética Inspiradora', 'Mahatma: Life of Gandhi, 1869-1948', 'Gandhi to Hitler', 'Then Came Gandhi', 'Gandhi en China', 'Fishing with Gandhi', 'Mahatma Gandhi Talks', 'Rupinder Gandhi 2 - The Robinhood', 'In Search of Gandhi', 'Gandhi of the Month', \"Footsteps of Gandhi: Home of God's Children\"]\n",
      "C'est bon ça fonctionne pour acteur: Ben Kingsley\n",
      "{'adult': False, 'gender': 2, 'id': 2282, 'known_for_department': 'Acting', 'name': 'Ben Kingsley', 'original_name': 'Ben Kingsley', 'popularity': 6.634, 'profile_path': '/vQtBqpF2HDdzbfXHDzR4u37i1Ac.jpg', 'cast_id': 7, 'character': 'Mahatma Gandhi', 'credit_id': '52fe4275c3a36847f8020621', 'order': 0}\n",
      "1\n",
      "2282\n",
      "Birthday 1943-12-31 Ben Kingsley\n",
      "Gender 2\n"
     ]
    },
    {
     "name": "stderr",
     "output_type": "stream",
     "text": [
      "\r",
      " 28%|███████████████████████                                                          | 47/165 [00:14<00:36,  3.21it/s]"
     ]
    },
    {
     "name": "stdout",
     "output_type": "stream",
     "text": [
      "9 Tootsie Dustin Hoffman ['Tootsie', 'The Making of Tootsie', 'Tootsie Wootsie: Ang Bandang Walang Atrasan', 'A Better Man: The Making of Tootsie', \"Tootsie's Orchid Lounge: Where the Music Began\", 'Tootsies & The Fake', 'Kung Fu Tootsie', 'Saving Private Tootsie', 'Tootsies in Autumn']\n",
      "C'est bon ça fonctionne pour acteur: Dustin Hoffman\n",
      "{'adult': False, 'gender': 2, 'id': 4483, 'known_for_department': 'Acting', 'name': 'Dustin Hoffman', 'original_name': 'Dustin Hoffman', 'popularity': 5.389, 'profile_path': '/1bXm1InGd97vxneeE8JkvKXF81P.jpg', 'cast_id': 1, 'character': 'Michael Dorsey / Dorothy Michaels', 'credit_id': '52fe450cc3a36847f80b9477', 'order': 0}\n",
      "1\n",
      "4483\n",
      "Birthday 1937-08-08 Dustin Hoffman\n",
      "Gender 2\n"
     ]
    },
    {
     "name": "stderr",
     "output_type": "stream",
     "text": [
      "\r",
      " 29%|███████████████████████▌                                                         | 48/165 [00:14<00:37,  3.15it/s]"
     ]
    },
    {
     "name": "stdout",
     "output_type": "stream",
     "text": [
      "20 Missing Jack Lemmon ['Missing Link', 'K: Missing Kings', 'Megan Is Missing', 'Missing', 'Missing in Action', 'The Missing', 'Braddock: Missing in Action III', 'Missing in Action 2: The Beginning', 'Bunny Lake Is Missing', 'Gone Missing', 'Missing in America', \"She's Missing\", 'Born and Missing', 'Elizabeth Is Missing', 'Twin Peaks: The Missing Pieces', 'The Missing Person', 'Seventeen and Missing', '16 And Missing', 'Missing', 'Girl Missing']\n",
      "jsp\n",
      "jsp\n",
      "jsp\n",
      "C'est bon ça fonctionne pour acteur: Jack Lemmon\n",
      "{'adult': False, 'gender': 2, 'id': 3151, 'known_for_department': 'Acting', 'name': 'Jack Lemmon', 'original_name': 'Jack Lemmon', 'popularity': 5.429, 'profile_path': '/yfS8K77QzICgOcBuQfd5WfgOnCo.jpg', 'cast_id': 1, 'character': 'Ed Horman', 'credit_id': '52fe466a9251416c750779f3', 'order': 0}\n",
      "1\n",
      "3151\n",
      "Birthday 1925-02-08 Jack Lemmon\n",
      "Gender 2\n"
     ]
    },
    {
     "name": "stderr",
     "output_type": "stream",
     "text": [
      "\r",
      " 30%|████████████████████████                                                         | 49/165 [00:15<00:37,  3.11it/s]"
     ]
    },
    {
     "name": "stdout",
     "output_type": "stream",
     "text": [
      "13 The Verdict Paul Newman ['The Verdict', 'The Verdict', 'The Verdict', 'After the Verdict', 'The Chauvin Verdict', 'The Hustle, the Flow, the Verdict', 'The Verdict', 'The Verdict', 'The Verdict in the Case of K.', 'The Verdict', 'The Verdict', 'The Verdict', 'Terror - Ihr Urteil']\n",
      "C'est bon ça fonctionne pour acteur: Paul Newman\n",
      "{'adult': False, 'gender': 2, 'id': 3636, 'known_for_department': 'Acting', 'name': 'Paul Newman', 'original_name': 'Paul Newman', 'popularity': 3.857, 'profile_path': '/jDt6BVOywi77MjFcUbdhSHTmlm.jpg', 'cast_id': 1, 'character': 'Frank Galvin', 'credit_id': '52fe448bc3a368484e028c0b', 'order': 0}\n",
      "1\n",
      "3636\n",
      "Birthday 1925-01-26 Paul Newman\n",
      "Gender 2\n"
     ]
    },
    {
     "name": "stderr",
     "output_type": "stream",
     "text": [
      "\r",
      " 30%|████████████████████████▌                                                        | 50/165 [00:15<00:38,  3.00it/s]"
     ]
    },
    {
     "name": "stdout",
     "output_type": "stream",
     "text": [
      "1 My Favorite Year Peter O'Toole ['My Favorite Year']\n",
      "C'est bon ça fonctionne pour acteur: Peter O'Toole\n",
      "{'adult': False, 'gender': 2, 'id': 11390, 'known_for_department': 'Acting', 'name': \"Peter O'Toole\", 'original_name': \"Peter O'Toole\", 'popularity': 3.122, 'profile_path': '/2F15qrkiDp4qhYJnXuFqINIBsHp.jpg', 'cast_id': 1, 'character': 'Alan Swann', 'credit_id': '52fe44599251416c9100d8af', 'order': 0}\n",
      "1\n",
      "11390\n",
      "Birthday 1932-08-02 Peter O'Toole\n",
      "Gender 2\n"
     ]
    },
    {
     "name": "stderr",
     "output_type": "stream",
     "text": [
      "\r",
      " 31%|█████████████████████████                                                        | 51/165 [00:15<00:37,  3.03it/s]"
     ]
    },
    {
     "name": "stdout",
     "output_type": "stream",
     "text": [
      "2 Sophie's Choice Meryl Streep [\"Sophie's Choice\", \"Maw: Sophie's Choice\"]\n",
      "C'est bon ça fonctionne pour acteur: Meryl Streep\n",
      "{'adult': False, 'gender': 1, 'id': 5064, 'known_for_department': 'Acting', 'name': 'Meryl Streep', 'original_name': 'Meryl Streep', 'popularity': 5.885, 'profile_path': '/xqL5IJxV0fDeD3OfkS3eWqwJoGV.jpg', 'cast_id': 1, 'character': 'Zofia \"Sophie\" Zawistowski', 'credit_id': '52fe467a9251416c750799f5', 'order': 0}\n",
      "1\n",
      "5064\n",
      "Birthday 1949-06-22 Meryl Streep\n",
      "Gender 1\n"
     ]
    },
    {
     "name": "stderr",
     "output_type": "stream",
     "text": [
      "\r",
      " 32%|█████████████████████████▌                                                       | 52/165 [00:16<00:37,  3.03it/s]"
     ]
    },
    {
     "name": "stdout",
     "output_type": "stream",
     "text": [
      "3 Victor/Victoria Julie Andrews ['Victor/Victoria', 'Victor/Victoria', 'Victor and Victoria']\n",
      "C'est bon ça fonctionne pour acteur: Julie Andrews\n",
      "{'adult': False, 'gender': 1, 'id': 5823, 'known_for_department': 'Acting', 'name': 'Julie Andrews', 'original_name': 'Julie Andrews', 'popularity': 2.771, 'profile_path': '/kTXM2KfsXh2vSav0s9vaDKfs4lR.jpg', 'cast_id': 16, 'character': 'Victoria Grant / Count Victor Grezhinski', 'credit_id': '52fe45079251416c75049437', 'order': 0}\n",
      "1\n",
      "5823\n",
      "Birthday 1935-10-01 Julie Andrews\n",
      "Gender 1\n"
     ]
    },
    {
     "name": "stderr",
     "output_type": "stream",
     "text": [
      "\r",
      " 32%|██████████████████████████                                                       | 53/165 [00:16<00:37,  3.03it/s]"
     ]
    },
    {
     "name": "stdout",
     "output_type": "stream",
     "text": [
      "20 Frances Jessica Lange ['Frances', 'Frances Ha', 'Saint Frances', 'Frances Ferguson', \"The Frenchman's Garden\", 'Frances', \"Frances Carroll & 'The Coquettes'\", 'Frances: Bedtime for Frances', 'Frances 2.0', 'Frances Stein', 'Frances White', 'Name of Baptism — Frances', 'Corresponsal francés', 'Frances and Her Rabbit', 'How Tasty Was My Little Frenchman', 'Seven Billiard Tables', 'Um Filme Francês', 'Dear Frances (in memoriam)', 'A Portrait of Frances, Enclosed', 'Frances Dilorinzo: The Problem Solver']\n",
      "C'est bon ça fonctionne pour acteur: Jessica Lange\n",
      "{'adult': False, 'gender': 1, 'id': 4431, 'known_for_department': 'Acting', 'name': 'Jessica Lange', 'original_name': 'Jessica Lange', 'popularity': 2.52, 'profile_path': '/xybRNUGzzJuilStFGmIOSy0WFwQ.jpg', 'cast_id': 1, 'character': 'Frances Farmer', 'credit_id': '52fe4399c3a36847f806091b', 'order': 0}\n",
      "1\n",
      "4431\n",
      "Birthday 1949-04-20 Jessica Lange\n",
      "Gender 1\n"
     ]
    },
    {
     "name": "stderr",
     "output_type": "stream",
     "text": [
      "\r",
      " 33%|██████████████████████████▌                                                      | 54/165 [00:16<00:32,  3.44it/s]"
     ]
    },
    {
     "name": "stdout",
     "output_type": "stream",
     "text": [
      "20 Missing Sissy Spacek ['Missing Link', 'K: Missing Kings', 'Megan Is Missing', 'Missing', 'Missing in Action', 'The Missing', 'Braddock: Missing in Action III', 'Missing in Action 2: The Beginning', 'Bunny Lake Is Missing', 'Gone Missing', 'Missing in America', \"She's Missing\", 'Born and Missing', 'Elizabeth Is Missing', 'Twin Peaks: The Missing Pieces', 'The Missing Person', 'Seventeen and Missing', '16 And Missing', 'Missing', 'Girl Missing']\n",
      "jsp\n",
      "jsp\n",
      "jsp\n",
      "C'est bon ça fonctionne pour acteur: Sissy Spacek\n",
      "{'adult': False, 'gender': 1, 'id': 5606, 'known_for_department': 'Acting', 'name': 'Sissy Spacek', 'original_name': 'Sissy Spacek', 'popularity': 2.923, 'profile_path': '/xAxenjxjLNQFq4v1ccS2to3Mnoq.jpg', 'cast_id': 2, 'character': 'Beth Horman', 'credit_id': '52fe466a9251416c750779f7', 'order': 1}\n",
      "1\n",
      "5606\n",
      "Birthday 1949-12-25 Sissy Spacek\n",
      "Gender 1\n"
     ]
    },
    {
     "name": "stderr",
     "output_type": "stream",
     "text": [
      "\r",
      " 33%|███████████████████████████                                                      | 55/165 [00:16<00:34,  3.15it/s]"
     ]
    },
    {
     "name": "stdout",
     "output_type": "stream",
     "text": [
      "14 An Officer and a Gentleman Debra Winger ['An Officer and a Gentleman', 'An Officer and a Gentleman', 'An Officer & A Gentleman: Bill Carr', 'An Officer & A Gentleman: Bobby Fish', 'An Officer and A Gentleman: Bull James', 'An Officer & A Gentleman: Mark Andrews', 'An Officer & A Gentleman: John Silver', 'An Officer & A Gentleman: Joey Janela', 'An Officer & A Gentleman: Matt Riddle', 'An Officer & A Gentleman: Dave Meltzer', 'An Officer & A Gentleman: Sami Callihan', 'An Officer & A Gentleman: Dalton Castle', 'An Officer & A Gentleman: Sami Callihan & Ricochet', 'An Officer and A Gentleman: Mark Haskins and Travis Banks']\n",
      "C'est bon ça fonctionne pour acteur: Debra Winger\n",
      "{'adult': False, 'gender': 1, 'id': 26513, 'known_for_department': 'Acting', 'name': 'Debra Winger', 'original_name': 'Debra Winger', 'popularity': 1.901, 'profile_path': '/phxlcLmuqozbw2X8S0v0zg1Rxu5.jpg', 'cast_id': 2, 'character': 'Paula Pokrifki', 'credit_id': '52fe4360c3a36847f804fc03', 'order': 1}\n",
      "1\n",
      "26513\n",
      "Birthday 1955-05-16 Debra Winger\n",
      "Gender 1\n"
     ]
    },
    {
     "name": "stderr",
     "output_type": "stream",
     "text": [
      "\r",
      " 34%|███████████████████████████▍                                                     | 56/165 [00:17<00:30,  3.58it/s]"
     ]
    },
    {
     "name": "stdout",
     "output_type": "stream",
     "text": [
      "20 Gandhi Richard Attenborough ['Gandhi', 'Rupinder Gandhi The Gangster', 'Little Gandhi', 'The Gandhi Murder', 'And Gandhi Goes Missing...', 'Gandhi Dies', 'Gandhi Talks', 'Gandhi, My Father', 'The Making of Gandhi: Mr. Attenborough and Mr. Gandhi', 'Gandhi e a Ética Inspiradora', 'Mahatma: Life of Gandhi, 1869-1948', 'Gandhi to Hitler', 'Then Came Gandhi', 'Gandhi en China', 'Fishing with Gandhi', 'Mahatma Gandhi Talks', 'Rupinder Gandhi 2 - The Robinhood', 'In Search of Gandhi', 'Gandhi of the Month', \"Footsteps of Gandhi: Home of God's Children\"]\n",
      "C'est bon ça fonctionne pour directeur: Richard Attenborough\n",
      "{'adult': False, 'gender': 2, 'id': 4786, 'known_for_department': 'Acting', 'name': 'Richard Attenborough', 'original_name': 'Richard Attenborough', 'popularity': 3.314, 'profile_path': '/bU0o3g5rbpzRkJ5bGowekGvfiHw.jpg', 'credit_id': '52fe4275c3a36847f80205ff', 'department': 'Directing', 'job': 'Director'}\n",
      "1\n",
      "4786\n",
      "Birthday 1923-08-29 Richard Attenborough\n",
      "Gender 2\n"
     ]
    },
    {
     "name": "stderr",
     "output_type": "stream",
     "text": [
      "\r",
      " 35%|███████████████████████████▉                                                     | 57/165 [00:17<00:32,  3.34it/s]"
     ]
    },
    {
     "name": "stdout",
     "output_type": "stream",
     "text": [
      "6 Das Boot Wolfgang Petersen ['Das Boot', 'The Boat Is Full', 'Das Boot Revisited: An Underwater Success Story', 'Mnozil Brass - Das Trojanische Boot', 'The Last U-Boat', 'The Damned']\n",
      "C'est bon ça fonctionne pour directeur: Wolfgang Petersen\n",
      "{'adult': False, 'gender': 2, 'id': 5231, 'known_for_department': 'Directing', 'name': 'Wolfgang Petersen', 'original_name': 'Wolfgang Petersen', 'popularity': 1.809, 'profile_path': '/whnyJpavNvYOqylpgMXZ1ocsOId.jpg', 'credit_id': '52fe423dc3a36847f800ead1', 'department': 'Writing', 'job': 'Screenplay'}\n",
      "1\n",
      "5231\n",
      "Birthday 1941-03-14 Wolfgang Petersen\n",
      "Gender 2\n"
     ]
    },
    {
     "name": "stderr",
     "output_type": "stream",
     "text": [
      "\r",
      " 35%|████████████████████████████▍                                                    | 58/165 [00:17<00:33,  3.20it/s]"
     ]
    },
    {
     "name": "stdout",
     "output_type": "stream",
     "text": [
      "2 E.T. The Extra-Terrestrial Steven Spielberg ['E.T. the Extra-Terrestrial', 'The Making of E.T. the Extra-Terrestrial: 20th Anniversary Special']\n",
      "C'est bon ça fonctionne pour directeur: Steven Spielberg\n",
      "{'adult': False, 'gender': 2, 'id': 488, 'known_for_department': 'Directing', 'name': 'Steven Spielberg', 'original_name': 'Steven Spielberg', 'popularity': 9.917, 'profile_path': '/tZxcg19YQ3e8fJ0pOs7hjlnmmr6.jpg', 'credit_id': '52fe425bc3a36847f8017ddd', 'department': 'Directing', 'job': 'Director'}\n",
      "1\n",
      "488\n",
      "Birthday 1946-12-18 Steven Spielberg\n",
      "Gender 2\n"
     ]
    },
    {
     "name": "stderr",
     "output_type": "stream",
     "text": [
      "\r",
      " 36%|████████████████████████████▉                                                    | 59/165 [00:18<00:29,  3.59it/s]"
     ]
    },
    {
     "name": "stdout",
     "output_type": "stream",
     "text": [
      "9 Tootsie Sydney Pollack ['Tootsie', 'The Making of Tootsie', 'Tootsie Wootsie: Ang Bandang Walang Atrasan', 'A Better Man: The Making of Tootsie', \"Tootsie's Orchid Lounge: Where the Music Began\", 'Tootsies & The Fake', 'Kung Fu Tootsie', 'Saving Private Tootsie', 'Tootsies in Autumn']\n",
      "C'est bon ça fonctionne pour directeur: Sydney Pollack\n",
      "{'adult': False, 'gender': 2, 'id': 2226, 'known_for_department': 'Directing', 'name': 'Sydney Pollack', 'original_name': 'Sydney Pollack', 'popularity': 5.118, 'profile_path': '/Ejg60nQr6qBR0pZNxLd5gO5zRF.jpg', 'credit_id': '52fe450cc3a36847f80b9495', 'department': 'Directing', 'job': 'Director'}\n",
      "1\n",
      "2226\n",
      "Birthday 1934-07-01 Sydney Pollack\n",
      "Gender 2\n",
      "13 The Verdict Sidney Lumet ['The Verdict', 'The Verdict', 'The Verdict', 'After the Verdict', 'The Chauvin Verdict', 'The Hustle, the Flow, the Verdict', 'The Verdict', 'The Verdict', 'The Verdict in the Case of K.', 'The Verdict', 'The Verdict', 'The Verdict', 'Terror - Ihr Urteil']\n"
     ]
    },
    {
     "name": "stderr",
     "output_type": "stream",
     "text": [
      "\r",
      " 36%|█████████████████████████████▍                                                   | 60/165 [00:18<00:26,  3.98it/s]"
     ]
    },
    {
     "name": "stdout",
     "output_type": "stream",
     "text": [
      "C'est bon ça fonctionne pour directeur: Sidney Lumet\n",
      "{'adult': False, 'gender': 2, 'id': 39996, 'known_for_department': 'Directing', 'name': 'Sidney Lumet', 'original_name': 'Sidney Lumet', 'popularity': 1.96, 'profile_path': '/Ac24Ya2bVvhW7sI5da041MeaeBT.jpg', 'credit_id': '52fe448bc3a368484e028c25', 'department': 'Directing', 'job': 'Director'}\n",
      "1\n",
      "39996\n",
      "Birthday 1924-06-25 Sidney Lumet\n",
      "Gender 2\n"
     ]
    },
    {
     "name": "stderr",
     "output_type": "stream",
     "text": [
      "\r",
      " 37%|█████████████████████████████▉                                                   | 61/165 [00:18<00:29,  3.55it/s]"
     ]
    },
    {
     "name": "stdout",
     "output_type": "stream",
     "text": [
      "1 Tender Mercies Robert Duvall ['Tender Mercies']\n",
      "C'est bon ça fonctionne pour acteur: Robert Duvall\n",
      "{'adult': False, 'gender': 2, 'id': 3087, 'known_for_department': 'Acting', 'name': 'Robert Duvall', 'original_name': 'Robert Duvall', 'popularity': 10.057, 'profile_path': '/nLBIEvJDvSV0WhFv0bi7sU9tLyb.jpg', 'cast_id': 1, 'character': 'Mac Sledge', 'credit_id': '52fe45eec3a36847f80e2c79', 'order': 0}\n",
      "1\n",
      "3087\n",
      "Birthday 1931-01-05 Robert Duvall\n",
      "Gender 2\n"
     ]
    },
    {
     "name": "stderr",
     "output_type": "stream",
     "text": [
      "\r",
      " 38%|██████████████████████████████▍                                                  | 62/165 [00:18<00:30,  3.42it/s]"
     ]
    },
    {
     "name": "stdout",
     "output_type": "stream",
     "text": [
      "1 Educating Rita Michael Caine ['Educating Rita']\n",
      "C'est bon ça fonctionne pour acteur: Michael Caine\n",
      "{'adult': False, 'gender': 2, 'id': 3895, 'known_for_department': 'Acting', 'name': 'Michael Caine', 'original_name': 'Michael Caine', 'popularity': 6.749, 'profile_path': '/klNx4UqkcE9u7P3vsg20AKwgplw.jpg', 'cast_id': 3, 'character': 'Dr. Frank Bryant', 'credit_id': '52fe46a79251416c9105b4ef', 'order': 0}\n",
      "1\n",
      "3895\n",
      "Birthday 1933-03-14 Michael Caine\n",
      "Gender 2\n"
     ]
    },
    {
     "name": "stderr",
     "output_type": "stream",
     "text": [
      "\r",
      " 38%|██████████████████████████████▉                                                  | 63/165 [00:19<00:31,  3.27it/s]"
     ]
    },
    {
     "name": "stdout",
     "output_type": "stream",
     "text": [
      "1 Reuben, Reuben Tom Conti ['Reuben, Reuben']\n",
      "C'est bon ça fonctionne pour acteur: Tom Conti\n",
      "{'adult': False, 'gender': 2, 'id': 71010, 'known_for_department': 'Acting', 'name': 'Tom Conti', 'original_name': 'Tom Conti', 'popularity': 1.491, 'profile_path': '/2OqrVBoTYX5oeU1Qt8tfq3i9JUQ.jpg', 'cast_id': 2, 'character': 'Gowan McGland', 'credit_id': '52fe44ab9251416c91018b41', 'order': 0}\n",
      "1\n",
      "71010\n",
      "Birthday 1941-11-22 Tom Conti\n",
      "Gender 2\n"
     ]
    },
    {
     "name": "stderr",
     "output_type": "stream",
     "text": [
      "\r",
      " 39%|███████████████████████████████▍                                                 | 64/165 [00:19<00:31,  3.24it/s]"
     ]
    },
    {
     "name": "stdout",
     "output_type": "stream",
     "text": [
      "3 The Dresser Tom Courtenay ['The Dresser', 'The Dresser', 'The Hair Dresser']\n",
      "jsp\n",
      "C'est bon ça fonctionne pour acteur: Tom Courtenay\n",
      "{'adult': False, 'gender': 2, 'id': 14011, 'known_for_department': 'Acting', 'name': 'Tom Courtenay', 'original_name': 'Tom Courtenay', 'popularity': 2.072, 'profile_path': '/qdWWbANnljRUSj56r5BZiD760oi.jpg', 'cast_id': 3, 'character': 'Norman', 'credit_id': '52fe45eec3a36847f80e2cad', 'order': 1}\n",
      "1\n",
      "14011\n",
      "Birthday 1937-02-25 Tom Courtenay\n",
      "Gender 2\n"
     ]
    },
    {
     "name": "stderr",
     "output_type": "stream",
     "text": [
      "\r",
      " 39%|███████████████████████████████▉                                                 | 65/165 [00:19<00:27,  3.61it/s]"
     ]
    },
    {
     "name": "stdout",
     "output_type": "stream",
     "text": [
      "3 The Dresser Albert Finney ['The Dresser', 'The Dresser', 'The Hair Dresser']\n",
      "jsp\n",
      "C'est bon ça fonctionne pour acteur: Albert Finney\n",
      "{'adult': False, 'gender': 2, 'id': 3926, 'known_for_department': 'Acting', 'name': 'Albert Finney', 'original_name': 'Albert Finney', 'popularity': 5.333, 'profile_path': '/tAwXUmAbQGka31CTGQ0xS89QNYC.jpg', 'cast_id': 2, 'character': 'Sir', 'credit_id': '52fe45eec3a36847f80e2ca9', 'order': 0}\n",
      "1\n",
      "3926\n",
      "Birthday 1936-05-09 Albert Finney\n",
      "Gender 2\n"
     ]
    },
    {
     "name": "stderr",
     "output_type": "stream",
     "text": [
      "\r",
      " 40%|████████████████████████████████▍                                                | 66/165 [00:20<00:28,  3.47it/s]"
     ]
    },
    {
     "name": "stdout",
     "output_type": "stream",
     "text": [
      "2 Terms of Endearment Shirley MacLaine ['Terms of Endearment', 'Terms of Endearment']\n",
      "C'est bon ça fonctionne pour acteur: Shirley MacLaine\n",
      "{'adult': False, 'gender': 1, 'id': 4090, 'known_for_department': 'Acting', 'name': 'Shirley MacLaine', 'original_name': 'Shirley MacLaine', 'popularity': 3.878, 'profile_path': '/mpW9c34IAFPW0ODuKR8J0FAqN5i.jpg', 'cast_id': 1, 'character': 'Aurora Greenway', 'credit_id': '52fe43eb9251416c75023117', 'order': 0}\n",
      "1\n",
      "4090\n",
      "Birthday 1934-04-24 Shirley MacLaine\n",
      "Gender 1\n"
     ]
    },
    {
     "name": "stderr",
     "output_type": "stream",
     "text": [
      "\r",
      " 41%|████████████████████████████████▉                                                | 67/165 [00:20<00:29,  3.27it/s]"
     ]
    },
    {
     "name": "stdout",
     "output_type": "stream",
     "text": [
      "20 Testament Jane Alexander ['The Brand New Testament', 'Testament', 'Testament of Orpheus', 'The Testament of Dr. Mabuse', 'Testament of Youth', 'The Last Will and Testament of Rosalind Leigh', 'The Falls: Testament Of Love', 'The New Testament', 'Testament', 'The Terror of Doctor Mabuse', 'A Little Testament', \"Adam's Testament\", 'Testament', \"The Doctor's Horrible Experiment\", 'Testament', 'Testament', 'Testament', 'Testament', 'Testament', 'Testament']\n",
      "jsp\n",
      "C'est bon ça fonctionne pour acteur: Jane Alexander\n",
      "{'adult': False, 'gender': 1, 'id': 13724, 'known_for_department': 'Acting', 'name': 'Jane Alexander', 'original_name': 'Jane Alexander', 'popularity': 3.478, 'profile_path': '/5nWLBhNH6tQGVskI89J45C7LU2o.jpg', 'cast_id': 1, 'character': 'Carol Wetherly', 'credit_id': '52fe4412c3a368484e00db91', 'order': 0}\n",
      "1\n",
      "13724\n",
      "Birthday 1939-10-28 Jane Alexander\n",
      "Gender 1\n"
     ]
    },
    {
     "name": "stderr",
     "output_type": "stream",
     "text": [
      "\r",
      " 41%|█████████████████████████████████▍                                               | 68/165 [00:20<00:30,  3.20it/s]"
     ]
    },
    {
     "name": "stdout",
     "output_type": "stream",
     "text": [
      "1 Silkwood Meryl Streep ['Silkwood']\n",
      "C'est bon ça fonctionne pour acteur: Meryl Streep\n",
      "{'adult': False, 'gender': 1, 'id': 5064, 'known_for_department': 'Acting', 'name': 'Meryl Streep', 'original_name': 'Meryl Streep', 'popularity': 5.885, 'profile_path': '/xqL5IJxV0fDeD3OfkS3eWqwJoGV.jpg', 'cast_id': 1, 'character': 'Karen Silkwood', 'credit_id': '52fe44ef9251416c75046135', 'order': 0}\n",
      "1\n",
      "5064\n",
      "Birthday 1949-06-22 Meryl Streep\n",
      "Gender 1\n"
     ]
    },
    {
     "name": "stderr",
     "output_type": "stream",
     "text": [
      "\r",
      " 42%|█████████████████████████████████▊                                               | 69/165 [00:20<00:27,  3.48it/s]"
     ]
    },
    {
     "name": "stdout",
     "output_type": "stream",
     "text": [
      "1 Educating Rita Julie Walters ['Educating Rita']\n",
      "C'est bon ça fonctionne pour acteur: Julie Walters\n",
      "{'adult': False, 'gender': 1, 'id': 477, 'known_for_department': 'Acting', 'name': 'Julie Walters', 'original_name': 'Julie Walters', 'popularity': 2.237, 'profile_path': '/bCTkV2OUgzbJdQEoCk3GesE4DXq.jpg', 'cast_id': 4, 'character': 'Rita Susan White', 'credit_id': '52fe46a79251416c9105b4f3', 'order': 1}\n",
      "1\n",
      "477\n",
      "Birthday 1950-02-22 Julie Walters\n",
      "Gender 1\n"
     ]
    },
    {
     "name": "stderr",
     "output_type": "stream",
     "text": [
      "\r",
      " 42%|██████████████████████████████████▎                                              | 70/165 [00:21<00:24,  3.82it/s]"
     ]
    },
    {
     "name": "stdout",
     "output_type": "stream",
     "text": [
      "2 Terms of Endearment Debra Winger ['Terms of Endearment', 'Terms of Endearment']\n",
      "C'est bon ça fonctionne pour acteur: Debra Winger\n",
      "{'adult': False, 'gender': 1, 'id': 26513, 'known_for_department': 'Acting', 'name': 'Debra Winger', 'original_name': 'Debra Winger', 'popularity': 1.901, 'profile_path': '/phxlcLmuqozbw2X8S0v0zg1Rxu5.jpg', 'cast_id': 2, 'character': 'Emma Greenway Horton', 'credit_id': '52fe43eb9251416c7502311b', 'order': 1}\n",
      "1\n",
      "26513\n",
      "Birthday 1955-05-16 Debra Winger\n",
      "Gender 1\n",
      "2 Terms of Endearment James L. Brooks ['Terms of Endearment', 'Terms of Endearment']\n"
     ]
    },
    {
     "name": "stderr",
     "output_type": "stream",
     "text": [
      "\r",
      " 43%|██████████████████████████████████▊                                              | 71/165 [00:21<00:23,  4.08it/s]"
     ]
    },
    {
     "name": "stdout",
     "output_type": "stream",
     "text": [
      "C'est bon ça fonctionne pour directeur: James L. Brooks\n",
      "{'adult': False, 'gender': 2, 'id': 3388, 'known_for_department': 'Production', 'name': 'James L. Brooks', 'original_name': 'James L. Brooks', 'popularity': 2.59, 'profile_path': '/vGiq4Fny4uRu3y5zOUMnklfw8n6.jpg', 'credit_id': '52fe43eb9251416c75023137', 'department': 'Writing', 'job': 'Screenplay'}\n",
      "1\n",
      "3388\n",
      "Birthday 1940-05-09 James L. Brooks\n",
      "Gender 2\n",
      "3 The Dresser Peter Yates ['The Dresser', 'The Dresser', 'The Hair Dresser']\n",
      "jsp\n"
     ]
    },
    {
     "name": "stderr",
     "output_type": "stream",
     "text": [
      "\r",
      " 44%|███████████████████████████████████▎                                             | 72/165 [00:21<00:21,  4.40it/s]"
     ]
    },
    {
     "name": "stdout",
     "output_type": "stream",
     "text": [
      "C'est bon ça fonctionne pour directeur: Peter Yates\n",
      "{'adult': False, 'gender': 2, 'id': 12804, 'known_for_department': 'Directing', 'name': 'Peter Yates', 'original_name': 'Peter Yates', 'popularity': 1.292, 'profile_path': '/sHcC917Y0F7UoaVAnF2yKMvUnSn.jpg', 'credit_id': '52fe45eec3a36847f80e2ca5', 'department': 'Directing', 'job': 'Director'}\n",
      "1\n",
      "12804\n",
      "Birthday 1929-07-24 Peter Yates\n",
      "Gender 2\n"
     ]
    },
    {
     "name": "stderr",
     "output_type": "stream",
     "text": [
      "\r",
      " 44%|███████████████████████████████████▊                                             | 73/165 [00:21<00:24,  3.81it/s]"
     ]
    },
    {
     "name": "stdout",
     "output_type": "stream",
     "text": [
      "3 Fanny & Alexander Ingmar Bergman ['Fanny and Alexander', 'The Making of Fanny and Alexander', 'Fanny & Alexander: A Bergman Tapestry']\n",
      "C'est bon ça fonctionne pour directeur: Ingmar Bergman\n",
      "{'adult': False, 'gender': 2, 'id': 6648, 'known_for_department': 'Directing', 'name': 'Ingmar Bergman', 'original_name': 'Ingmar Bergman', 'popularity': 3.725, 'profile_path': '/nkmOaXNRoioViN9OQf2n9Iu6akA.jpg', 'credit_id': '52fe4432c3a36847f8087efd', 'department': 'Writing', 'job': 'Screenplay'}\n",
      "1\n",
      "6648\n",
      "Birthday 1918-07-14 Ingmar Bergman\n",
      "Gender 2\n"
     ]
    },
    {
     "name": "stderr",
     "output_type": "stream",
     "text": [
      "\r",
      " 45%|████████████████████████████████████▎                                            | 74/165 [00:22<00:21,  4.20it/s]"
     ]
    },
    {
     "name": "stdout",
     "output_type": "stream",
     "text": [
      "1 Silkwood Mike Nichols ['Silkwood']\n",
      "C'est bon ça fonctionne pour directeur: Mike Nichols\n",
      "{'adult': False, 'gender': 2, 'id': 5342, 'known_for_department': 'Directing', 'name': 'Mike Nichols', 'original_name': 'Mike Nichols', 'popularity': 2.188, 'profile_path': '/eJgJEVil7iOJ9sTAXLCVRKfeKKM.jpg', 'credit_id': '52fe44ef9251416c75046143', 'department': 'Directing', 'job': 'Director'}\n",
      "1\n",
      "5342\n",
      "Birthday 1931-11-06 Mike Nichols\n",
      "Gender 2\n",
      "1 Tender Mercies Bruce Beresford ['Tender Mercies']\n"
     ]
    },
    {
     "name": "stderr",
     "output_type": "stream",
     "text": [
      "\r",
      " 45%|████████████████████████████████████▊                                            | 75/165 [00:22<00:20,  4.29it/s]"
     ]
    },
    {
     "name": "stdout",
     "output_type": "stream",
     "text": [
      "C'est bon ça fonctionne pour directeur: Bruce Beresford\n",
      "{'adult': False, 'gender': 2, 'id': 5696, 'known_for_department': 'Directing', 'name': 'Bruce Beresford', 'original_name': 'Bruce Beresford', 'popularity': 0.6, 'profile_path': '/p5p1YhKTh1EOSvf1NO96oBQI2Ll.jpg', 'credit_id': '52fe45eec3a36847f80e2c8f', 'department': 'Directing', 'job': 'Director'}\n",
      "1\n",
      "5696\n",
      "Birthday 1940-08-16 Bruce Beresford\n",
      "Gender 2\n"
     ]
    },
    {
     "name": "stderr",
     "output_type": "stream",
     "text": [
      "\r",
      " 46%|█████████████████████████████████████▎                                           | 76/165 [00:22<00:23,  3.87it/s]"
     ]
    },
    {
     "name": "stdout",
     "output_type": "stream",
     "text": [
      "20 Amadeus F. Murray Abraham ['Amadeus', \"The Making of 'Amadeus'\", 'National Theatre Live: Amadeus', 'Amadeus - more than a son', 'Amadeus', 'Amadeus', 'Amadeus Nickelnagel', 'Falco meets Amadeus', 'Wolfgang Amadeus Mozart - Requiem - Claudio Abbado', 'Pik & Amadeus – Freunde wider Willen', 'Wolfgang Amadeus Mozart: Lucio Silla', 'Wolfgang Amadeus Mozart - Die Zauberflote, Salzburg', 'Wolfgang Amadeus Mozart - Don Giovanni - La Scala', 'Wolfgang Amadeus Mozart - Don Giovanni (Joseph Losey)', 'Wolfgang Amadeus Mozart - Marc Minkowski at Mozartwoche', 'Wolfgang Amadeus Mozart - The Magic Flute (Bregenz Festival)', 'Not Mozart: Bring Me the Head of Amadeus', 'Wolfgang Amadeus Mozart - Le nozze di Figaro - Salzburg Festival', 'Wolfgang Amadeus Mozart - Die Zauberflote (Metropolitan Opera New York)', 'Wolfgang Amadeus Mozart - Requiem - Symphonieorchester des BR, Mariss Jansons']\n",
      "C'est bon ça fonctionne pour acteur: F. Murray Abraham\n",
      "{'adult': False, 'gender': 2, 'id': 1164, 'known_for_department': 'Acting', 'name': 'F. Murray Abraham', 'original_name': 'F. Murray Abraham', 'popularity': 5.078, 'profile_path': '/p2RYVGdrcP0m70BkkiKcwyrDeim.jpg', 'cast_id': 4, 'character': 'Antonio Salieri', 'credit_id': '52fe4231c3a36847f800b1cb', 'order': 0}\n",
      "1\n",
      "1164\n",
      "Birthday 1939-10-24 F. Murray Abraham\n",
      "Gender 2\n",
      "13 Starman Jeff Bridges ['Starman', 'David Bowie: Origins of a Starman', 'Starman', 'Starman', 'Starman from Heaven', 'David Bowie: Starman', 'Starman: Yuri Gagarin', 'Starmania', 'Attack from Space', 'Starmania 78 - le best of', 'Starmans: A Film in 13 Scenes', 'Les Enfoirés 1993 - Les Enfoirés chantent Starmania', \"Starmania - L'opéra rock qui défie le temps\"]\n",
      "C'est bon ça fonctionne pour acteur: Jeff Bridges\n",
      "{'adult': False, 'gender': 2, 'id': 1229, 'known_for_department': 'Acting', 'name': 'Jeff Bridges', 'original_name': 'Jeff Bridges', 'popularity': 8.76, 'profile_path': '/xms1RAY6q7Lzp7wNeRCB0kzhucn.jpg', 'cast_id': 1, 'character': 'Starman / Scott Hayden', 'credit_id': '52fe4518c3a36847f80bc1ab', 'order': 0}\n",
      "1\n",
      "1229\n"
     ]
    },
    {
     "name": "stderr",
     "output_type": "stream",
     "text": [
      "\r",
      " 47%|█████████████████████████████████████▊                                           | 77/165 [00:22<00:25,  3.41it/s]"
     ]
    },
    {
     "name": "stdout",
     "output_type": "stream",
     "text": [
      "Birthday 1949-12-04 Jeff Bridges\n",
      "Gender 2\n",
      "4 Under the Volcano Albert Finney ['Under the Volcano', 'Under the Volcano', 'Notes from Under the Volcano', 'Rossellini Under the Volcano']\n"
     ]
    },
    {
     "name": "stderr",
     "output_type": "stream",
     "text": [
      "\r",
      " 47%|██████████████████████████████████████▎                                          | 78/165 [00:23<00:26,  3.32it/s]"
     ]
    },
    {
     "name": "stdout",
     "output_type": "stream",
     "text": [
      "C'est bon ça fonctionne pour acteur: Albert Finney\n",
      "{'adult': False, 'gender': 2, 'id': 3926, 'known_for_department': 'Acting', 'name': 'Albert Finney', 'original_name': 'Albert Finney', 'popularity': 5.333, 'profile_path': '/tAwXUmAbQGka31CTGQ0xS89QNYC.jpg', 'cast_id': 3, 'character': 'Geoffrey Firmin', 'credit_id': '52fe45b4c3a36847f80d5d9b', 'order': 0}\n",
      "1\n",
      "3926\n",
      "Birthday 1936-05-09 Albert Finney\n",
      "Gender 2\n",
      "20 Amadeus Tom Hulce ['Amadeus', \"The Making of 'Amadeus'\", 'National Theatre Live: Amadeus', 'Amadeus - more than a son', 'Amadeus', 'Amadeus', 'Amadeus Nickelnagel', 'Falco meets Amadeus', 'Wolfgang Amadeus Mozart - Requiem - Claudio Abbado', 'Pik & Amadeus – Freunde wider Willen', 'Wolfgang Amadeus Mozart: Lucio Silla', 'Wolfgang Amadeus Mozart - Die Zauberflote, Salzburg', 'Wolfgang Amadeus Mozart - Don Giovanni - La Scala', 'Wolfgang Amadeus Mozart - Don Giovanni (Joseph Losey)', 'Wolfgang Amadeus Mozart - Marc Minkowski at Mozartwoche', 'Wolfgang Amadeus Mozart - The Magic Flute (Bregenz Festival)', 'Not Mozart: Bring Me the Head of Amadeus', 'Wolfgang Amadeus Mozart - Le nozze di Figaro - Salzburg Festival', 'Wolfgang Amadeus Mozart - Die Zauberflote (Metropolitan Opera New York)', 'Wolfgang Amadeus Mozart - Requiem - Symphonieorchester des BR, Mariss Jansons']\n"
     ]
    },
    {
     "name": "stderr",
     "output_type": "stream",
     "text": [
      "\r",
      " 48%|██████████████████████████████████████▊                                          | 79/165 [00:23<00:22,  3.74it/s]"
     ]
    },
    {
     "name": "stdout",
     "output_type": "stream",
     "text": [
      "C'est bon ça fonctionne pour acteur: Tom Hulce\n",
      "{'adult': False, 'gender': 2, 'id': 3999, 'known_for_department': 'Acting', 'name': 'Tom Hulce', 'original_name': 'Tom Hulce', 'popularity': 1.314, 'profile_path': '/ufgpuuU900NOi1vKupCmWpq7UgW.jpg', 'cast_id': 5, 'character': 'Wolfgang Amadeus Mozart', 'credit_id': '52fe4231c3a36847f800b1cf', 'order': 1}\n",
      "1\n",
      "3999\n",
      "Birthday 1953-12-06 Tom Hulce\n",
      "Gender 2\n"
     ]
    },
    {
     "name": "stderr",
     "output_type": "stream",
     "text": [
      "\r",
      " 48%|███████████████████████████████████████▎                                         | 80/165 [00:23<00:24,  3.47it/s]"
     ]
    },
    {
     "name": "stdout",
     "output_type": "stream",
     "text": [
      "6 The Killing Fields Sam Waterston ['The Killing Fields', 'Plaasmoorde: The Killing Fields', 'The Killing Fields of Dr. Haing S. Ngor', 'No Fire Zone: The Killing Fields of Sri Lanka', 'Beyond the Killing Fields: Refugees on the Thai-Cambodian Border', 'Ninja in the Killing Field']\n",
      "C'est bon ça fonctionne pour acteur: Sam Waterston\n",
      "{'adult': False, 'gender': 2, 'id': 8975, 'known_for_department': 'Acting', 'name': 'Sam Waterston', 'original_name': 'Sam Waterston', 'popularity': 3.765, 'profile_path': '/vNe4lHhXqOd5fF8oQ125KNQCfK3.jpg', 'cast_id': 16, 'character': 'Sydney Schanberg', 'credit_id': '52fe4260c3a36847f80197e5', 'order': 0}\n",
      "1\n",
      "8975\n",
      "Birthday 1940-11-15 Sam Waterston\n",
      "Gender 2\n"
     ]
    },
    {
     "name": "stderr",
     "output_type": "stream",
     "text": [
      "\r",
      " 49%|███████████████████████████████████████▊                                         | 81/165 [00:24<00:25,  3.31it/s]"
     ]
    },
    {
     "name": "stdout",
     "output_type": "stream",
     "text": [
      "1 Places in the Heart Sally Field ['Places in the Heart']\n",
      "C'est bon ça fonctionne pour acteur: Sally Field\n",
      "{'adult': False, 'gender': 1, 'id': 35, 'known_for_department': 'Acting', 'name': 'Sally Field', 'original_name': 'Sally Field', 'popularity': 4.665, 'profile_path': '/36qWnokCU1VOdSyrmGbTxzGou44.jpg', 'cast_id': 3, 'character': 'Edna Spalding', 'credit_id': '52fe458b9251416c7505a26b', 'order': 0}\n",
      "1\n",
      "35\n",
      "Birthday 1946-11-06 Sally Field\n",
      "Gender 1\n"
     ]
    },
    {
     "name": "stderr",
     "output_type": "stream",
     "text": [
      "\r",
      " 50%|████████████████████████████████████████▎                                        | 82/165 [00:24<00:26,  3.14it/s]"
     ]
    },
    {
     "name": "stdout",
     "output_type": "stream",
     "text": [
      "2 A Passage to India Judy Davis ['A Passage to India', 'Tilman - Passages of India']\n",
      "C'est bon ça fonctionne pour acteur: Judy Davis\n",
      "{'adult': False, 'gender': 1, 'id': 351, 'known_for_department': 'Acting', 'name': 'Judy Davis', 'original_name': 'Judy Davis', 'popularity': 1.688, 'profile_path': '/hKp3xTmdNzqbzSbAAbqKLmJHJ41.jpg', 'cast_id': 1, 'character': 'Adela Quested', 'credit_id': '52fe468b9251416c7507ba7b', 'order': 0}\n",
      "1\n",
      "351\n",
      "Birthday 1955-04-23 Judy Davis\n",
      "Gender 1\n",
      "20 Country Jessica Lange ['Wine Country', \"God's Own Country\", 'No Country for Old Men', 'Bad Country', 'North Country', 'Urban Country', 'Cottage Country', 'The Country Bears', 'Another Country', 'The Hi-Lo Country', 'Country Strong', 'Sweet Country', 'A Country Wedding', 'Pure Country', 'In Country', 'Dark Country', 'The Big Country', 'Country at Heart', 'The Country Girl', 'Burn Country']\n",
      "jsp\n",
      "jsp\n",
      "jsp\n",
      "jsp\n",
      "jsp\n",
      "jsp\n",
      "jsp\n",
      "jsp\n",
      "Pas acteur dans liste cast Jessica Lange\n",
      "Film (f) or Name (n) or Both (b) or Pass (p)?p\n",
      "jsp\n",
      "jsp\n",
      "jsp\n",
      "jsp\n",
      "jsp\n",
      "jsp\n",
      "jsp\n",
      "jsp\n",
      "jsp\n",
      "jsp\n",
      "jsp\n",
      "0\n",
      "20 Country Jessica Lange ['Flicka: Country Pride', 'The Far Country', 'Town & Country', 'Queen & Country', 'King and Country', 'In My Country', \"Charlie's Country\", 'Pure Country: Pure Heart', 'Outlaw Country', 'Ride the High Country', 'Bandit Goes Country', \"God's Country\", 'Country', 'Cow Country', 'Heart of the Country', 'Star Trek VI: The Undiscovered Country', 'The Wonderful Country', 'The Country Cousin', 'Hard Country', \"Badman's Country\"]\n",
      "jsp\n",
      "jsp\n",
      "jsp\n",
      "jsp\n",
      "jsp\n",
      "jsp\n",
      "jsp\n",
      "jsp\n",
      "jsp\n",
      "jsp\n",
      "jsp\n",
      "jsp\n",
      "C'est bon ça fonctionne pour acteur: Jessica Lange\n",
      "{'adult': False, 'gender': 1, 'id': 4431, 'known_for_department': 'Acting', 'name': 'Jessica Lange', 'original_name': 'Jessica Lange', 'popularity': 2.52, 'profile_path': '/xybRNUGzzJuilStFGmIOSy0WFwQ.jpg', 'cast_id': 3, 'character': 'Jewell Ivy', 'credit_id': '52fe45ecc3a36847f80e24e5', 'order': 0}\n",
      "1\n"
     ]
    },
    {
     "name": "stderr",
     "output_type": "stream",
     "text": [
      "\r",
      " 50%|████████████████████████████████████████▋                                        | 83/165 [01:55<37:30, 27.45s/it]"
     ]
    },
    {
     "name": "stdout",
     "output_type": "stream",
     "text": [
      "Birthday 1949-04-20 Jessica Lange\n",
      "Gender 1\n",
      "1 The Bostonians Vanessa Redgrave ['The Bostonians']\n"
     ]
    },
    {
     "name": "stderr",
     "output_type": "stream",
     "text": [
      "\r",
      " 51%|█████████████████████████████████████████▏                                       | 84/165 [01:55<26:04, 19.32s/it]"
     ]
    },
    {
     "name": "stdout",
     "output_type": "stream",
     "text": [
      "C'est bon ça fonctionne pour acteur: Vanessa Redgrave\n",
      "{'adult': False, 'gender': 1, 'id': 13333, 'known_for_department': 'Acting', 'name': 'Vanessa Redgrave', 'original_name': 'Vanessa Redgrave', 'popularity': 5.791, 'profile_path': '/xUZT9TbddA3NQwAh76K5pBRUSBh.jpg', 'cast_id': 3, 'character': 'Olive Chancellor', 'credit_id': '52fe45a2c3a36847f80d20ad', 'order': 1}\n",
      "1\n",
      "13333\n",
      "Birthday 1937-01-30 Vanessa Redgrave\n",
      "Gender 1\n",
      "20 The River Sissy Spacek ['The River Wild', 'The River', 'The River Murders', 'Bend of the River', 'The River', 'The River Why', 'The Bridge on the River Kwai', 'The River King', 'The River', 'Up the River', 'Babylon 5: The River of Souls', 'House by the River', 'Turn the River', 'Drums Across the River', 'Take Me to the River', 'Davy Crockett and the River Pirates', 'The River Thief', 'Texas Across the River', 'Return from the River Kwai', 'The Battle of the River Plate']\n",
      "jsp\n",
      "C'est bon ça fonctionne pour acteur: Sissy Spacek\n",
      "{'adult': False, 'gender': 1, 'id': 5606, 'known_for_department': 'Acting', 'name': 'Sissy Spacek', 'original_name': 'Sissy Spacek', 'popularity': 2.923, 'profile_path': '/xAxenjxjLNQFq4v1ccS2to3Mnoq.jpg', 'cast_id': 2, 'character': 'Mae Garvey', 'credit_id': '52fe46c69251416c9105f425', 'order': 1}\n",
      "1\n",
      "5606\n"
     ]
    },
    {
     "name": "stderr",
     "output_type": "stream",
     "text": [
      "\r",
      " 52%|█████████████████████████████████████████▋                                       | 85/165 [01:56<18:11, 13.65s/it]"
     ]
    },
    {
     "name": "stdout",
     "output_type": "stream",
     "text": [
      "Birthday 1949-12-25 Sissy Spacek\n",
      "Gender 1\n",
      "20 Amadeus Milos Forman ['Amadeus', \"The Making of 'Amadeus'\", 'National Theatre Live: Amadeus', 'Amadeus - more than a son', 'Amadeus', 'Amadeus', 'Amadeus Nickelnagel', 'Falco meets Amadeus', 'Wolfgang Amadeus Mozart - Requiem - Claudio Abbado', 'Pik & Amadeus – Freunde wider Willen', 'Wolfgang Amadeus Mozart: Lucio Silla', 'Wolfgang Amadeus Mozart - Die Zauberflote, Salzburg', 'Wolfgang Amadeus Mozart - Don Giovanni - La Scala', 'Wolfgang Amadeus Mozart - Don Giovanni (Joseph Losey)', 'Wolfgang Amadeus Mozart - Marc Minkowski at Mozartwoche', 'Wolfgang Amadeus Mozart - The Magic Flute (Bregenz Festival)', 'Not Mozart: Bring Me the Head of Amadeus', 'Wolfgang Amadeus Mozart - Le nozze di Figaro - Salzburg Festival', 'Wolfgang Amadeus Mozart - Die Zauberflote (Metropolitan Opera New York)', 'Wolfgang Amadeus Mozart - Requiem - Symphonieorchester des BR, Mariss Jansons']\n",
      "C'est bon ça fonctionne pour directeur: Miloš Forman\n",
      "{'adult': False, 'gender': 2, 'id': 3974, 'known_for_department': 'Directing', 'name': 'Miloš Forman', 'original_name': 'Miloš Forman', 'popularity': 1.505, 'profile_path': '/O2Crxh0l3u1mxHvjA6003gEpi7.jpg', 'credit_id': '52fe4231c3a36847f800b1bb', 'department': 'Directing', 'job': 'Director'}\n",
      "1\n",
      "3974\n"
     ]
    },
    {
     "name": "stderr",
     "output_type": "stream",
     "text": [
      "\r",
      " 52%|██████████████████████████████████████████▏                                      | 86/165 [01:56<12:39,  9.62s/it]"
     ]
    },
    {
     "name": "stdout",
     "output_type": "stream",
     "text": [
      "Birthday 1932-02-18 Miloš Forman\n",
      "Gender 2\n",
      "1 Broadway Danny Rose Woody Allen ['Broadway Danny Rose']\n"
     ]
    },
    {
     "name": "stderr",
     "output_type": "stream",
     "text": [
      "\r",
      " 53%|██████████████████████████████████████████▋                                      | 87/165 [01:56<08:53,  6.84s/it]"
     ]
    },
    {
     "name": "stdout",
     "output_type": "stream",
     "text": [
      "C'est bon ça fonctionne pour directeur: Woody Allen\n",
      "{'adult': False, 'gender': 2, 'id': 1243, 'known_for_department': 'Directing', 'name': 'Woody Allen', 'original_name': 'Woody Allen', 'popularity': 4.33, 'profile_path': '/wcPQgZLDibuej1RwNTy1R2U2ZJw.jpg', 'credit_id': '52fe451d9251416c7504c415', 'department': 'Writing', 'job': 'Screenplay'}\n",
      "1\n",
      "1243\n",
      "Birthday 1935-12-01 Woody Allen\n",
      "Gender 2\n"
     ]
    },
    {
     "name": "stderr",
     "output_type": "stream",
     "text": [
      "\r",
      " 53%|███████████████████████████████████████████▏                                     | 88/165 [01:56<06:12,  4.84s/it]"
     ]
    },
    {
     "name": "stdout",
     "output_type": "stream",
     "text": [
      "Error Roland Joffé Roland Joffé\n",
      "2 A Passage to India David Lean ['A Passage to India', 'Tilman - Passages of India']\n",
      "C'est bon ça fonctionne pour directeur: David Lean\n",
      "{'adult': False, 'gender': 2, 'id': 12238, 'known_for_department': 'Directing', 'name': 'David Lean', 'original_name': 'David Lean', 'popularity': 2.304, 'profile_path': '/iCsTMX6NYNbJKT5hgTK37I3DzaL.jpg', 'credit_id': '5ada58af0e0a262d30001785', 'department': 'Writing', 'job': 'Screenplay'}\n",
      "1\n"
     ]
    },
    {
     "name": "stderr",
     "output_type": "stream",
     "text": [
      " 53%|███████████████████████████████████████████▏                                     | 88/165 [01:56<01:42,  1.33s/it]\n"
     ]
    },
    {
     "ename": "IndexError",
     "evalue": "list index out of range",
     "output_type": "error",
     "traceback": [
      "\u001b[1;31m---------------------------------------------------------------------------\u001b[0m",
      "\u001b[1;31mIndexError\u001b[0m                                Traceback (most recent call last)",
      "\u001b[1;32m<ipython-input-87-51757a4c97e8>\u001b[0m in \u001b[0;36m<module>\u001b[1;34m\u001b[0m\n\u001b[0;32m      2\u001b[0m \u001b[0mtest\u001b[0m\u001b[1;33m.\u001b[0m\u001b[0mgetHTML\u001b[0m\u001b[1;33m(\u001b[0m\u001b[1;33m)\u001b[0m\u001b[1;33m\u001b[0m\u001b[1;33m\u001b[0m\u001b[0m\n\u001b[0;32m      3\u001b[0m \u001b[0mtest\u001b[0m\u001b[1;33m.\u001b[0m\u001b[0mgetDATA\u001b[0m\u001b[1;33m(\u001b[0m\u001b[1;33m)\u001b[0m\u001b[1;33m\u001b[0m\u001b[1;33m\u001b[0m\u001b[0m\n\u001b[1;32m----> 4\u001b[1;33m \u001b[0mtest\u001b[0m\u001b[1;33m.\u001b[0m\u001b[0mgetAPI_omdb\u001b[0m\u001b[1;33m(\u001b[0m\u001b[1;33m)\u001b[0m\u001b[1;33m\u001b[0m\u001b[1;33m\u001b[0m\u001b[0m\n\u001b[0m",
      "\u001b[1;32m<ipython-input-86-e233fec6d443>\u001b[0m in \u001b[0;36mgetAPI_omdb\u001b[1;34m(self)\u001b[0m\n\u001b[0;32m    412\u001b[0m             \u001b[1;32mif\u001b[0m \u001b[0mresponse_search\u001b[0m\u001b[1;33m[\u001b[0m\u001b[1;34m\"total_results\"\u001b[0m\u001b[1;33m]\u001b[0m \u001b[1;33m!=\u001b[0m \u001b[1;36m0\u001b[0m\u001b[1;33m:\u001b[0m\u001b[1;33m\u001b[0m\u001b[1;33m\u001b[0m\u001b[0m\n\u001b[0;32m    413\u001b[0m                 \u001b[1;32mif\u001b[0m \u001b[0mself\u001b[0m\u001b[1;33m.\u001b[0m\u001b[0mTMDB_get\u001b[0m\u001b[1;33m(\u001b[0m\u001b[0mresponse_search\u001b[0m\u001b[1;33m,\u001b[0m \u001b[0mfilm_number\u001b[0m\u001b[1;33m,\u001b[0m \u001b[1;36m0\u001b[0m\u001b[1;33m)\u001b[0m \u001b[1;33m==\u001b[0m \u001b[1;36m1\u001b[0m\u001b[1;33m:\u001b[0m\u001b[1;33m\u001b[0m\u001b[1;33m\u001b[0m\u001b[0m\n\u001b[1;32m--> 414\u001b[1;33m                     \u001b[0mprint\u001b[0m\u001b[1;33m(\u001b[0m\u001b[0mself\u001b[0m\u001b[1;33m.\u001b[0m\u001b[0mlist_id_indiv\u001b[0m\u001b[1;33m[\u001b[0m\u001b[0mfilm_number\u001b[0m\u001b[1;33m]\u001b[0m\u001b[1;33m)\u001b[0m\u001b[1;33m\u001b[0m\u001b[1;33m\u001b[0m\u001b[0m\n\u001b[0m\u001b[0;32m    415\u001b[0m                     \u001b[0mresponse_person\u001b[0m \u001b[1;33m=\u001b[0m \u001b[0mjson\u001b[0m\u001b[1;33m.\u001b[0m\u001b[0mloads\u001b[0m\u001b[1;33m(\u001b[0m\u001b[0mrequests\u001b[0m\u001b[1;33m.\u001b[0m\u001b[0mget\u001b[0m\u001b[1;33m(\u001b[0m\u001b[0murl_MDB_person\u001b[0m\u001b[1;33m.\u001b[0m\u001b[0mformat\u001b[0m\u001b[1;33m(\u001b[0m\u001b[0mself\u001b[0m\u001b[1;33m.\u001b[0m\u001b[0mlist_id_indiv\u001b[0m\u001b[1;33m[\u001b[0m\u001b[0mfilm_number\u001b[0m\u001b[1;33m]\u001b[0m\u001b[1;33m,\u001b[0m\u001b[0mAPI_KEY_MDB\u001b[0m\u001b[1;33m)\u001b[0m\u001b[1;33m)\u001b[0m\u001b[1;33m.\u001b[0m\u001b[0mtext\u001b[0m\u001b[1;33m)\u001b[0m\u001b[1;33m\u001b[0m\u001b[1;33m\u001b[0m\u001b[0m\n\u001b[0;32m    416\u001b[0m                     \u001b[1;32mif\u001b[0m \u001b[0mresponse_person\u001b[0m\u001b[1;33m.\u001b[0m\u001b[0mget\u001b[0m\u001b[1;33m(\u001b[0m\u001b[1;34m\"success\"\u001b[0m\u001b[1;33m)\u001b[0m \u001b[1;33m!=\u001b[0m \u001b[1;32mFalse\u001b[0m\u001b[1;33m:\u001b[0m \u001b[1;31m# Check if the API find a person\u001b[0m\u001b[1;33m\u001b[0m\u001b[1;33m\u001b[0m\u001b[0m\n",
      "\u001b[1;31mIndexError\u001b[0m: list index out of range"
     ]
    }
   ],
   "source": [
    "test = Oscar_Scraper(1980,1990)\n",
    "test.getHTML()\n",
    "test.getDATA()\n",
    "test.getAPI_omdb()"
   ]
  },
  {
   "cell_type": "code",
   "execution_count": 46,
   "metadata": {},
   "outputs": [
    {
     "name": "stdout",
     "output_type": "stream",
     "text": [
      "[{'adult': False, 'backdrop_path': '/c2fKZrEaMv4aNyEs2W9juh9OGiT.jpg', 'genre_ids': [18, 53, 36], 'id': 9008, 'original_language': 'en', 'original_title': 'The Insider', 'overview': 'Tells the true story of a 60 Minutes television series exposé of the tobacco industry, as seen through the eyes of a real tobacco executive, Jeffrey Wigand.', 'popularity': 10.215, 'poster_path': '/w695X0FvTlBCS7GSLHNILnrfqPm.jpg', 'release_date': '1999-03-10', 'title': 'The Insider', 'video': False, 'vote_average': 7.5, 'vote_count': 1268}, {'adult': False, 'backdrop_path': '/sufFmNogYfm6Kj7sdvlfLSRFEWn.jpg', 'genre_ids': [53, 18, 28], 'id': 48417, 'original_language': 'cn', 'original_title': '綫人', 'overview': \"Living in the guilt of sacrificing his informant in a previous operation, Criminal Intelligence Inspector Don Lee is wary when his superior orders him to send another informant to spy on the criminal operations of Barbarian, a vicious gangster plotting a jewelry heist. He seeks ex-convict Ghost, who agrees to work for Don despite vowing to go straight since he's desperately in need of money to repay a debt and save his sister. Ghost's driving skills help him infiltrate Barbarian's gang and earn his trust, but by feeding information to Don and hooking up with Barbarian's girlfriend Dee, Ghost is pushing himself into a tight and deadly corner...\", 'popularity': 1.456, 'poster_path': '/s6SM5daYJSay63FUQjMwSzGchK3.jpg', 'release_date': '2010-08-26', 'title': 'The Stool Pigeon', 'video': False, 'vote_average': 5.8, 'vote_count': 31}, {'adult': False, 'backdrop_path': '/zRMHhr9OIdKIv1pd5nVhc8stVxt.jpg', 'genre_ids': [18], 'id': 549625, 'original_language': 'tr', 'original_title': 'İçerdekiler', 'overview': '', 'popularity': 0.6, 'poster_path': '/jbZSFgTR18cGBlu9JPrddcEOOEZ.jpg', 'release_date': '2018-09-27', 'title': 'The Insiders', 'video': False, 'vote_average': 5.7, 'vote_count': 3}, {'adult': False, 'backdrop_path': '/bqlmFXk8g5lUFAiUCkbu1R3SVGS.jpg', 'genre_ids': [18, 28, 80], 'id': 90590, 'original_language': 'en', 'original_title': 'Policewomen', 'overview': 'A lady cop infiltrates an all-female criminal gang.', 'popularity': 2.405, 'poster_path': '/bfpakRuW1KZ2s8IJAv2ciZ62KRK.jpg', 'release_date': '1974-02-09', 'title': 'Policewomen', 'video': False, 'vote_average': 6.3, 'vote_count': 3}, {'adult': False, 'backdrop_path': None, 'genre_ids': [99, 28], 'id': 684100, 'original_language': 'en', 'original_title': \"Meet the Insiders of 'White House Down'\", 'overview': \"A look at some of the supporting actors/characters in 'White House Down'.\", 'popularity': 0.672, 'poster_path': '/m6Yf07W5BrdG0fA8FsS4QQO0WGY.jpg', 'release_date': '2013-11-05', 'title': \"Meet the Insiders of 'White House Down'\", 'video': True, 'vote_average': 8, 'vote_count': 1}, {'adult': False, 'backdrop_path': None, 'genre_ids': [], 'id': 656929, 'original_language': 'en', 'original_title': 'The Insider', 'overview': 'A short film with text by Ben Okri (Booker Prize Winner) was commissioned to accompany Albert Camus’s ‘The Outsider’ adapted for the stage by Ben Okri.', 'popularity': 0.6, 'poster_path': '/i6zfR3Da0LNz4Zbd8FwjRdKdZUF.jpg', 'release_date': '2018-03-01', 'title': 'The Insider', 'video': False, 'vote_average': 0, 'vote_count': 0}, {'adult': False, 'backdrop_path': None, 'genre_ids': [], 'id': 271296, 'original_language': 'en', 'original_title': 'JDM Insider: The Kanto Tuners', 'overview': 'Other - An in-depth look at the world of Japanese street racing.', 'popularity': 0.6, 'poster_path': None, 'release_date': '2006-01-01', 'title': 'JDM Insider: The Kanto Tuners', 'video': False, 'vote_average': 0, 'vote_count': 0}] 7\n",
      "934\n",
      "Birthday 1964-04-07 Russell Crowe 934\n"
     ]
    }
   ],
   "source": [
    "# Cherche titre du film avec l'année\n",
    "# Récupère l'id, si individu pas dans les crédits alors on refait un autre film\n",
    "film = quote(\"The Insider\")\n",
    "year = 1999\n",
    "name = \"Russell Crowe\"\n",
    "url_MDB_person = \"https://api.themoviedb.org/3/person/{}?api_key={}\"\n",
    "url_MDB_credit = \"http://api.tmdb.org/3/movie/{}/credits?api_key={}\"\n",
    "url = \"https://api.themoviedb.org/3/search/movie?api_key=a68690ebf69567801e68c26ee82d7787&language=en-US&page=1&query={}&include_adult=false&release_year={}\".format(film,year)\n",
    "response_api = json.loads(requests.get(url).text)\n",
    "# need if not empty\n",
    "list_sorted = sorted(response_api['results'], key=lambda i: i['vote_count'],reverse = True)\n",
    "print(list_sorted, len(list_sorted))\n",
    "for number_results in range(len(response_api[\"results\"])):\n",
    "    if(response_api[\"results\"][number_results].get(\"release_date\")) != None:\n",
    "        id_movie = response_api[\"results\"][number_results][\"id\"]\n",
    "        response_credit = json.loads(requests.get(url_MDB_credit.format(id_movie,\"a68690ebf69567801e68c26ee82d7787\")).text)\n",
    "        if response_credit.get(\"success\") != False: # Check if the API find a person\n",
    "        \n",
    "            for acteurs in range(len(response_credit[\"cast\"])):\n",
    "                                    if jellyfish.damerau_levenshtein_distance(response_credit[\"cast\"][acteurs][\"name\"], name) < 2:\n",
    "                                        print(response_credit[\"cast\"][acteurs][\"id\"])\n",
    "                                        id_person = response_credit[\"cast\"][acteurs][\"id\"]\n",
    "                                        response_person = json.loads(requests.get(url_MDB_person.format(id_person,\"a68690ebf69567801e68c26ee82d7787\")).text)\n",
    "                                        if response_person.get(\"success\") != False: # Check if the API find a person\n",
    "                                            print(\"Birthday\", response_person[\"birthday\"], response_person[\"name\"], id_person)\n",
    "## Penser à faire système imput pour remplir rapidemment une liste wrong liste right pour nettoyer la base"
   ]
  },
  {
   "cell_type": "code",
   "execution_count": 31,
   "metadata": {},
   "outputs": [
    {
     "name": "stdout",
     "output_type": "stream",
     "text": [
      "0\n"
     ]
    }
   ],
   "source": [
    "print(len(test.list_gender))\n",
    "\n",
    "\n"
   ]
  },
  {
   "cell_type": "code",
   "execution_count": 105,
   "metadata": {},
   "outputs": [
    {
     "name": "stdout",
     "output_type": "stream",
     "text": [
      "Film (f) or Name (n) or Both (b) or Pass (p)?f\n",
      "Bon titre film ?blabla\n"
     ]
    }
   ],
   "source": [
    "list_names_righ = []\n",
    "list_films_right = []\n",
    "\n",
    "question = input(\"Film (f) or Name (n) or Both (b) or Pass (p)?\")\n",
    "if question == \"f\":\n",
    "    answer = input(\"Bon titre film ?\")\n",
    "\n",
    "    list_films_right.append(answer)\n",
    "\n",
    "if question == \"n\":\n",
    "    answer = input(\"Bon nom ?\")\n",
    "\n",
    "    list_names_right.append(answer)           \n",
    "\n",
    "if question == \"b\":\n",
    "    answer1 = input(\"Bon titre film ?\")\n",
    "    answer2 = input(\"Bon nom ?\")\n",
    "    self.list_films_wrong.append(self.data[\"film\"][film_number])\n",
    "    self.list_names_wrong.append(self.data[\"name\"][film_number])\n",
    "    self.list_films_right.append(answer1)\n",
    "    self.list_names_right.append(answer2)\n",
    "    self.data[\"film\"][film_number] = answer1\n",
    "    self.data[\"name\"][film_number] = answer2\n",
    "if question == \"p\":\n",
    "    pass"
   ]
  },
  {
   "cell_type": "code",
   "execution_count": 200,
   "metadata": {},
   "outputs": [],
   "source": [
    "df = pd.DataFrame(test.list_names_right)\n",
    "df.to_csv('list_names_right.csv',index=False) "
   ]
  },
  {
   "cell_type": "code",
   "execution_count": 32,
   "metadata": {},
   "outputs": [],
   "source": [
    "df2 = pd.read_csv('list_names_right.csv')\n"
   ]
  },
  {
   "cell_type": "code",
   "execution_count": 52,
   "metadata": {},
   "outputs": [
    {
     "name": "stdout",
     "output_type": "stream",
     "text": [
      "0\n",
      "Alejandro González Iñárritu\n",
      "1\n",
      "Elliot Page\n",
      "2\n",
      "Joel Coen\n",
      "3\n",
      "Robert Z. Leonard\n",
      "4\n"
     ]
    },
    {
     "ename": "IndexError",
     "evalue": "list index out of range",
     "output_type": "error",
     "traceback": [
      "\u001b[1;31m---------------------------------------------------------------------------\u001b[0m",
      "\u001b[1;31mIndexError\u001b[0m                                Traceback (most recent call last)",
      "\u001b[1;32m<ipython-input-52-3e84b594603f>\u001b[0m in \u001b[0;36m<module>\u001b[1;34m\u001b[0m\n\u001b[0;32m      2\u001b[0m     \u001b[1;32mif\u001b[0m \u001b[0mi\u001b[0m \u001b[1;33m<=\u001b[0m \u001b[0mlen\u001b[0m\u001b[1;33m(\u001b[0m\u001b[0mdf2\u001b[0m\u001b[1;33m)\u001b[0m\u001b[1;33m:\u001b[0m\u001b[1;33m\u001b[0m\u001b[1;33m\u001b[0m\u001b[0m\n\u001b[0;32m      3\u001b[0m         \u001b[0mprint\u001b[0m\u001b[1;33m(\u001b[0m\u001b[0mi\u001b[0m\u001b[1;33m)\u001b[0m\u001b[1;33m\u001b[0m\u001b[1;33m\u001b[0m\u001b[0m\n\u001b[1;32m----> 4\u001b[1;33m         \u001b[0mprint\u001b[0m\u001b[1;33m(\u001b[0m\u001b[0mdf2\u001b[0m\u001b[1;33m.\u001b[0m\u001b[0mvalues\u001b[0m\u001b[1;33m.\u001b[0m\u001b[0mtolist\u001b[0m\u001b[1;33m(\u001b[0m\u001b[1;33m)\u001b[0m\u001b[1;33m[\u001b[0m\u001b[0mi\u001b[0m\u001b[1;33m]\u001b[0m\u001b[1;33m[\u001b[0m\u001b[1;36m0\u001b[0m\u001b[1;33m]\u001b[0m\u001b[1;33m)\u001b[0m\u001b[1;33m\u001b[0m\u001b[1;33m\u001b[0m\u001b[0m\n\u001b[0m",
      "\u001b[1;31mIndexError\u001b[0m: list index out of range"
     ]
    }
   ],
   "source": [
    "for i in range(len(df2)+1):\n",
    "    if i <= len(df2):\n",
    "        print(i)\n",
    "        print(df2.values.tolist()[i][0])\n"
   ]
  },
  {
   "cell_type": "code",
   "execution_count": 84,
   "metadata": {},
   "outputs": [
    {
     "data": {
      "text/plain": [
       "[4483,\n",
       " 3151,\n",
       " 1158,\n",
       " 6355,\n",
       " 12446,\n",
       " 35,\n",
       " 20362,\n",
       " 6352,\n",
       " 19131,\n",
       " 73931,\n",
       " 6729,\n",
       " 66777,\n",
       " 1776,\n",
       " 12804,\n",
       " 24380,\n",
       " 380,\n",
       " 3087,\n",
       " 5049,\n",
       " 3151,\n",
       " 11390,\n",
       " 5606,\n",
       " 9560,\n",
       " 18892,\n",
       " 21277,\n",
       " 4800,\n",
       " 4135,\n",
       " 5602,\n",
       " 1032,\n",
       " 21806,\n",
       " 3556,\n",
       " 4958,\n",
       " 6449,\n",
       " 13784,\n",
       " 56819,\n",
       " 3636,\n",
       " 6598,\n",
       " 3092,\n",
       " 19131,\n",
       " 4038,\n",
       " 5064,\n",
       " 6449,\n",
       " 15389,\n",
       " 58220,\n",
       " 21958,\n",
       " 488,\n",
       " 2282,\n",
       " 4483,\n",
       " 3151,\n",
       " 3636,\n",
       " 11390,\n",
       " 5064,\n",
       " 5823,\n",
       " 4431,\n",
       " 5606,\n",
       " 26513,\n",
       " 4786,\n",
       " 5231,\n",
       " 488,\n",
       " 2226,\n",
       " 39996,\n",
       " 3087,\n",
       " 3895,\n",
       " 71010,\n",
       " 14011,\n",
       " 3926,\n",
       " 4090,\n",
       " 13724,\n",
       " 5064,\n",
       " 477,\n",
       " 26513,\n",
       " 3388,\n",
       " 12804,\n",
       " 6648,\n",
       " 5342,\n",
       " 5696,\n",
       " 1164,\n",
       " 1229,\n",
       " 3926,\n",
       " 3999,\n",
       " 8975,\n",
       " 35,\n",
       " 351,\n",
       " 'N/A',\n",
       " 4431,\n",
       " 13333,\n",
       " 5606,\n",
       " 3974,\n",
       " 1243,\n",
       " 12238,\n",
       " 6729,\n",
       " 227,\n",
       " 3,\n",
       " 16896,\n",
       " 514,\n",
       " 10127,\n",
       " 41283,\n",
       " 10774,\n",
       " 2395,\n",
       " 4431,\n",
       " 5064,\n",
       " 2226,\n",
       " 40542,\n",
       " 6593,\n",
       " 5026,\n",
       " 2690,\n",
       " 3636,\n",
       " 77135,\n",
       " 382,\n",
       " 227,\n",
       " 4512,\n",
       " 19797,\n",
       " 6352,\n",
       " 5606,\n",
       " 3391,\n",
       " 10205,\n",
       " 1152,\n",
       " 5602,\n",
       " 1243,\n",
       " 8965,\n",
       " 54441,\n",
       " 3392,\n",
       " 227,\n",
       " 5676,\n",
       " 514,\n",
       " 2157,\n",
       " 38225,\n",
       " 515,\n",
       " 18686,\n",
       " 'N/A',\n",
       " 12134,\n",
       " 5064,\n",
       " 4956,\n",
       " 7270,\n",
       " 19665,\n",
       " 13563,\n",
       " 5306,\n",
       " 4483,\n",
       " 193,\n",
       " 31,\n",
       " 587,\n",
       " 2201,\n",
       " 1038,\n",
       " 515,\n",
       " 29369,\n",
       " 5064,\n",
       " 10205,\n",
       " 8246,\n",
       " 8929,\n",
       " 1032,\n",
       " 9168,\n",
       " 5342,\n",
       " 11856,\n",
       " 11181,\n",
       " 500,\n",
       " 192,\n",
       " 2157,\n",
       " 5698,\n",
       " 6553,\n",
       " 83437,\n",
       " 4431,\n",
       " 1160,\n",
       " 1152,\n",
       " 1243,\n",
       " 2690,\n",
       " 11181,\n",
       " 53334]"
      ]
     },
     "execution_count": 84,
     "metadata": {},
     "output_type": "execute_result"
    }
   ],
   "source": [
    "test.list_id_indiv"
   ]
  }
 ],
 "metadata": {
  "kernelspec": {
   "display_name": "Python 3",
   "language": "python",
   "name": "python3"
  },
  "language_info": {
   "codemirror_mode": {
    "name": "ipython",
    "version": 3
   },
   "file_extension": ".py",
   "mimetype": "text/x-python",
   "name": "python",
   "nbconvert_exporter": "python",
   "pygments_lexer": "ipython3",
   "version": "3.8.3"
  }
 },
 "nbformat": 4,
 "nbformat_minor": 4
}
