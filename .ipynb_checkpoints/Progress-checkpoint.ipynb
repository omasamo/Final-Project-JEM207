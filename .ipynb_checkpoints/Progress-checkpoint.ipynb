{
 "cells": [
  {
   "cell_type": "code",
   "execution_count": 19,
   "metadata": {},
   "outputs": [],
   "source": [
    "###IMPORTANT ####\n",
    " # Actor until 1976\n",
    " # Actor in a Leading Role since 1977\n",
    " # Same for Actress\n",
    "    \n",
    "### Stock the data better than doing a request every try # Done\n",
    "\n",
    "### PROBLEME : COMMENT GERER LES 2 WINNERS, existe plusieurs fois # Done\n",
    "\n",
    "### PROBLEM : for DIRECTION, names and titles are swapped # Done\n",
    "\n",
    "\n",
    "### PROBLEME : Incohérence des noms de catégories sur plusieurs année : best motion picture -> best picture\n",
    "# Special effect -> Visual effects etc\n",
    "\n",
    "### Les informations récoltées ne sont pas les mêmes ex : foreign film c'est le pays qui est récolté, comment faire ?"
   ]
  },
  {
   "cell_type": "code",
   "execution_count": 1,
   "metadata": {},
   "outputs": [],
   "source": [
    "### OOP   ### DONE\n",
    "\n",
    "import time\n",
    "import requests\n",
    "from scrapy import Selector\n",
    "from tqdm import tqdm\n",
    "import pandas as pd\n",
    "\n",
    "class Oscar_Scraper:\n",
    "    \n",
    "    list_names = []\n",
    "    list_year = []\n",
    "    list_category = []\n",
    "    list_films = []\n",
    "    list_results = []\n",
    "    \n",
    "    def __init__(self, from_time, to_time):\n",
    "        self.links = {\n",
    "            'pages':[]\n",
    "        }\n",
    "        \n",
    "        self.categories_interest = ['Directing', 'Actor', 'Actor in a Leading Role', 'Actress', 'Actress in a Leading Role',\n",
    "                  'Outstanding Picture','Outstanding Production','Best Motion Picture', 'Best Picture', 'Foreign Language Film', \n",
    "                  'Special Effects', 'Special Visual Effects','Special Achievement Award (Visual Effects)', 'Visual Effects']\n",
    "        \n",
    "        self.categories_individuals = ['Directing', 'Actor', 'Actor in a Leading Role', 'Actress', 'Actress in a Leading Role']\n",
    "        self.categories_films = ['Outstanding Picture','Outstanding Production','Best Motion Picture', 'Best Picture', 'Foreign Language Film', \n",
    "                  'Special Effects', 'Special Visual Effects','Special Achievement Award (Visual Effects)', 'Visual Effects']\n",
    "        \n",
    "        #lists of different names for same categories\n",
    "        self.categories_dictionary = {\n",
    "                    \"Actor\": ['Actor', 'Actor in a Leading Role'],\n",
    "                    \"Actress\": ['Actress', 'Actress in a Leading Role'],\n",
    "                    \"Picture\": ['Outstanding Picture', 'Outstanding Production','Best Motion Picture', 'Best Picture'],\n",
    "                    \"VE\" : ['Special Effects', 'Special Visual Effects','Special Achievement Award (Visual Effects)','Visual Effects']\n",
    "                    }\n",
    "        \n",
    "        \n",
    "        self.from_time = from_time\n",
    "        self.time_period = range(from_time, to_time + 1)\n",
    "        self.data = {\n",
    "            'category':[],\n",
    "            'film':[],\n",
    "            'name':[],\n",
    "            'gender':[],\n",
    "            'result':[],\n",
    "            'birthdate':[]\n",
    "        }\n",
    "        \n",
    "        \n",
    "\n",
    "    def getHTML(self):\n",
    "        \n",
    "        for i in self.time_period:\n",
    "            #time.sleep(10) # Crawlerdelay\n",
    "            url = \"https://www.oscars.org/oscars/ceremonies/{}\".format(i)\n",
    "            response_oscars = requests.get(url)\n",
    "            sel = Selector(text = response_oscars.text)   # Scrapy chose over BeautifulSoup for selector CSS\n",
    "            self.links['pages'].append(sel)\n",
    "\n",
    "    def getNominees(self, years, i, category, number_nominees):\n",
    "\n",
    "        for number in range(number_nominees):   \n",
    "            # NAME\n",
    "            path_name = \"#quicktabs-tabpage-honorees-0 > div > div.view-content > div:nth-child({}) > div.view-grouping-content > div:nth-child({}) > div.views-field.views-field-field-actor-name > h4::text\".format(i+1, 4 +number)\n",
    "            nominee_name = ''.join(self.links['pages'][years].css(path_name).extract()) # ''.join() transforms the list produced by the selector into a string\n",
    "\n",
    "            if category == \"Directing\": # For Directing, titles and names are swapped on the website\n",
    "                self.list_films.append(nominee_name)\n",
    "            else:\n",
    "                self.list_names.append(nominee_name)\n",
    "\n",
    "            # FILM\n",
    "            path_film = \"#quicktabs-tabpage-honorees-0 > div > div.view-content > div:nth-child({}) > div.view-grouping-content > div:nth-child({}) > div.views-field.views-field-title > span::text\".format(i+1, 4 +number)\n",
    "            nominee_film = ''.join(self.links['pages'][years].css(path_film).extract()) # ''.join() transforms the list produced by the selector into a string\n",
    "            nominee_film = nominee_film.replace(\"\\n\", \"\") # Cleaning up the string\n",
    "\n",
    "            if category == \"Directing\":# For Directing, titles and names are swapped on the website\n",
    "                self.list_names.append(nominee_film)\n",
    "            else:\n",
    "                self.list_films.append(nominee_film)\n",
    "            \n",
    "            self.list_year.append(self.from_time + years)         \n",
    "            self.list_category.append(category)\n",
    "            self.list_results.append(\"Nominee\")\n",
    "\n",
    "    def getWinners(self, years, i, category, number_winners):\n",
    "\n",
    "        if number_winners == 1: # 1 Winner\n",
    "        # NAME\n",
    "            path_name = \"#quicktabs-tabpage-honorees-0 > div > div.view-content > div:nth-child({}) > div.view-grouping-content > div.views-row.views-row-1.views-row-odd.views-row-first.views-row-last > div.views-field.views-field-field-actor-name > h4::text\".format(i+1)\n",
    "            nominee_name = ''.join(self.links['pages'][years].css(path_name).extract()) # ''.join() transforms the list produced by the selector into a string\n",
    "\n",
    "            if category == \"Directing\": # For Directing, titles and names are swapped on the website\n",
    "                self.list_films.append(nominee_name)\n",
    "            else:\n",
    "                self.list_names.append(nominee_name)\n",
    "            \n",
    "        \n",
    "            # FIlM\n",
    "            path_film = '#quicktabs-tabpage-honorees-0 > div > div.view-content > div:nth-child({}) > div.view-grouping-content > div.views-row.views-row-1.views-row-odd.views-row-first.views-row-last > div.views-field.views-field-title > span::text'.format(i+1)\n",
    "            nominee_film = ''.join(self.links['pages'][years].css(path_film).extract()) # ''.join() transforms the list produced by the selector into a string\n",
    "            nominee_film = nominee_film.replace(\"\\n\", \"\") # Cleaning up the string\n",
    "\n",
    "            if category == \"Directing\":# For Directing, titles and names are swapped on the website\n",
    "                self.list_names.append(nominee_film)\n",
    "            else:\n",
    "                self.list_films.append(nominee_film)\n",
    "           \n",
    "            self.list_year.append(self.from_time + years)\n",
    "            self.list_category.append(category)\n",
    "            self.list_results.append(\"Winner\")\n",
    "\n",
    "\n",
    "        if number_winners == 2: # 2 Winners\n",
    "            # NAME 1st Winner \n",
    "            path_name = \"#quicktabs-tabpage-honorees-0 > div > div.view-content > div:nth-child({}) > div.view-grouping-content > div:nth-child(2) > div.views-field.views-field-field-actor-name > h4::text\".format(i+1)\n",
    "            nominee_name = ''.join(self.links['pages'][years].css(path_name).extract()) # ''.join() transforms the list produced by the selector into a string4\n",
    "\n",
    "            if category == \"Directing\": # For Directing, titles and names are swapped on the website\n",
    "                self.list_films.append(nominee_name)\n",
    "            else:\n",
    "                self.list_names.append(nominee_name)\n",
    "\n",
    "            self.list_year.append(self.from_time + years)\n",
    "            self.list_category.append(category)\n",
    "            self.list_results.append(\"Tie-winner\")\n",
    "\n",
    "            # NAME 2st Winner \n",
    "            path_name = \"#quicktabs-tabpage-honorees-0 > div > div.view-content > div:nth-child({}) > div.view-grouping-content > div:nth-child(3) > div.views-field.views-field-field-actor-name > h4::text\".format(i+1)\n",
    "            nominee_name = ''.join(self.links['pages'][years].css(path_name).extract()) # ''.join() transforms the list produced by the selector into a string4\n",
    "\n",
    "            if category == \"Directing\": # For Directing, titles and names are swapped on the website\n",
    "                self.list_films.append(nominee_name)\n",
    "            else:\n",
    "                self.list_names.append(nominee_name)\n",
    "\n",
    "            self.list_year.append(self.from_time + years)\n",
    "            self.list_category.append(category)\n",
    "            self.list_results.append(\"Tie-winner\")\n",
    "\n",
    "            # FILM\n",
    "            path_film1 = '#quicktabs-tabpage-honorees-0 > div > div.view-content > div:nth-child({}) > div.view-grouping-content > div:nth-child(2) > div.views-field.views-field-title > span::text'.format(i+1)\n",
    "            path_film2 = '#quicktabs-tabpage-honorees-0 > div > div.view-content > div:nth-child({}) > div.view-grouping-content > div:nth-child(3) > div.views-field.views-field-title > span::text'.format(i+1)\n",
    "\n",
    "            nominee_film = ''.join(self.links['pages'][years].css(path_film1).extract()) # ''.join() transforms the list produced by the selector into a string\n",
    "            nominee_film = nominee_film.replace(\"\\n\", \"\") # Cleaning up the string\n",
    "\n",
    "            if category == \"Directing\":# For Directing, titles and names are swapped on the website\n",
    "                self.list_names.append(nominee_film)\n",
    "            else:\n",
    "                self.list_films.append(nominee_film)\n",
    "\n",
    "            winner2_film = ''.join(self.links['pages'][years].css(path_film2).extract()) # ''.join() transforms the list produced by the selector into a string\n",
    "            winner2_film = winner2_film.replace(\"\\n\", \"\") # Cleaning up the string\n",
    "\n",
    "            if category == \"Directing\":# For Directing, titles and names are swapped on the website\n",
    "                self.list_names.append(nominee_film)\n",
    "            else:\n",
    "                self.list_films.append(nominee_film)        \n",
    "\n",
    "\n",
    "\n",
    "    def getDATA(self):\n",
    "            \n",
    "        for years in tqdm(range(len(self.links['pages']))):\n",
    "\n",
    "            categories = self.links['pages'][years].css('#quicktabs-tabpage-honorees-0 > div > div.view-content > div.view-grouping > div.view-grouping-header > h2::text').extract()    \n",
    "            \n",
    "            for i in range(len(categories)):\n",
    "                if categories[i] in self.categories_individuals:\n",
    "\n",
    "                    # Need the number of winners (might be ties) and nominated          \n",
    "                    path_nominated = \"#quicktabs-tabpage-honorees-0 > div > div.view-content > div:nth-child({}) > div.view-grouping-content > div:last-child\".format(i+1)\n",
    "                    number_of_film_nominated = int(''.join(self.links['pages'][years].css(path_nominated).extract()).split(\"views-row-\")[1])\n",
    "\n",
    "\n",
    "                    path_winner = \"#quicktabs-tabpage-honorees-0 > div > div.view-content > div:nth-child({}) > div.view-grouping-content > div:nth-child(2)\".format(i+1)\n",
    "                    trial = ''.join(self.links['pages'][years].css(path_winner).extract()).split(\"views-row-first views-row-last\") # If 1 winner then it splits the string into 1 list of 2 elements, if 2 winners, it does nothing\n",
    "                    if len(trial) == 2:\n",
    "                        number_winners = 1\n",
    "                    elif len(trial) == 1:\n",
    "                        number_winners = 2\n",
    "                    else:\n",
    "                        print(\"problem\")\n",
    "\n",
    "                    ## WINNERS                 \n",
    "                    self.getWinners(years, i, categories[i], number_winners)     \n",
    "                    ## NOMINEES\n",
    "                    self.getNominees(years, i, categories[i], number_of_film_nominated )   \n",
    "                    \n",
    "                    \n",
    "        self.data = {\n",
    "            'year': self.list_year,\n",
    "            'category': self.list_category,\n",
    "            'film': self.list_films,\n",
    "            'name': self.list_names,\n",
    "            #'gender':[],\n",
    "            'result':self.list_results\n",
    "            #,\n",
    "            #'birthdate':[]\n",
    "        }            \n",
    "\n",
    "\n",
    "    def getINDIVIDUALS(self):\n",
    "        df = pd.DataFrame(self.data)\n",
    "        df = df.set_index(['year','category'])\n",
    "        individuals = df.loc(axis = 0)[pd.IndexSlice[:, self.categories_individuals]]\n",
    "        return(individuals)\n",
    "    \n",
    "    def getFILMS(self):\n",
    "        df = pd.DataFrame(self.data)\n",
    "        df = df.set_index(['year','category'])\n",
    "        films = df.loc(axis = 0)[pd.IndexSlice[:, self.categories_interest[5:]]]\n",
    "        films.columns = ('film', 'Studio/Creator(s)', 'result')\n",
    "        return(films)\n",
    "    \n",
    "     #creating big dataframe with all data\n",
    "    def getAllCategories(self):\n",
    "        df = pd.DataFrame(self.data)\n",
    "        df = df.set_index(['year','category'])\n",
    "        return(df)\n",
    "    \n",
    "    #in progress\n",
    "    \"\"\" #creating CSV files based on scraped data. Possible naming of the columns for different datasets\n",
    "    def create_named_CSV(self,dataframe,categories,columns_name):\n",
    "        if len(column_name) > 2:\n",
    "          raise Exception('Items exceeds the maximum allowed length of 2')\n",
    "        category = []\n",
    "        if type(categories) == 'str':\n",
    "        category.append(categories)\n",
    "        for x in self.categories_dictionary:\n",
    "            for y in range(len(self.categories_dictionary[x])):\n",
    "                if category == self.categories_dictionary[x][y]:\n",
    "                    if x not in names:\n",
    "                        names.append(x)\n",
    "        for x in names:\n",
    "            create_empty_CSV(x)\n",
    "        df_final.columns = columns_name\n",
    "             films.to_csv(i + '.csv', sep=' ', mode='a')\"\"\"\n",
    "        \n",
    "    #creating empty csv names after argument of the method   \n",
    "    def create_empty_CSV(*stringcsv_names):\n",
    "        for i in stringcsv_names:\n",
    "            with open(i + '.csv', 'w') as f:\n",
    "                pass\n",
    "    "
   ]
  },
  {
   "cell_type": "code",
   "execution_count": 2,
   "metadata": {},
   "outputs": [
    {
     "name": "stderr",
     "output_type": "stream",
     "text": [
      "100%|██████████████████████████████████████████████████████████████████████████████████| 11/11 [00:00<00:00, 14.22it/s]\n"
     ]
    }
   ],
   "source": [
    "test = Oscar_Scraper(1990,2000)\n",
    "test.getHTML()\n",
    "test.getDATA()\n",
    "\n"
   ]
  },
  {
   "cell_type": "code",
   "execution_count": 114,
   "metadata": {},
   "outputs": [],
   "source": [
    "### OOP   ### ROTTENTOMATOES\n",
    "\n",
    "import time\n",
    "import requests\n",
    "from scrapy import Selector\n",
    "from tqdm import tqdm\n",
    "import pandas as pd\n",
    "import re  # text processing\n",
    "import numpy as np\n",
    "import json\n",
    "\n",
    "class Oscar_Scraper:\n",
    "    \n",
    "    list_names = []\n",
    "    list_year = []\n",
    "    list_category = []\n",
    "    list_films = []\n",
    "    list_results = [] \n",
    "    list_ratings_imdb = []\n",
    "    list_ratings_rottentomatoes = []\n",
    "    list_metacritics = []\n",
    "    list_boxoffice = []\n",
    "    \n",
    "    \n",
    "    def __init__(self, from_time, to_time):\n",
    "        self.links = {\n",
    "            'oscars':[],\n",
    "            'rotten':[],\n",
    "        }\n",
    "        \n",
    "        self.categories_interest = ['Directing', 'Actor', 'Actor in a Leading Role', 'Actress', 'Actress in a Leading Role',\n",
    "                  'Outstanding Picture','Outstanding Production','Best Motion Picture', 'Best Picture', 'Foreign Language Film', \n",
    "                  'Special Effects', 'Special Visual Effects','Special Achievement Award (Visual Effects)', 'Visual Effects']\n",
    "        \n",
    "        self.categories_individuals = ['Directing', 'Actor', 'Actor in a Leading Role', 'Actress', 'Actress in a Leading Role']\n",
    "        self.categories_films = ['Outstanding Picture','Outstanding Production','Best Motion Picture', 'Best Picture', 'Foreign Language Film', \n",
    "                  'Special Effects', 'Special Visual Effects','Special Achievement Award (Visual Effects)', 'Visual Effects']\n",
    "        \n",
    "        #lists of different names for same categories\n",
    "        self.categories_dictionary = {\n",
    "                    \"Actor\": ['Actor', 'Actor in a Leading Role'],\n",
    "                    \"Actress\": ['Actress', 'Actress in a Leading Role'],\n",
    "                    \"Picture\": ['Outstanding Picture', 'Outstanding Production','Best Motion Picture', 'Best Picture'],\n",
    "                    \"VE\" : ['Special Effects', 'Special Visual Effects','Special Achievement Award (Visual Effects)','Visual Effects']\n",
    "                    }\n",
    "        \n",
    "        \n",
    "        self.from_time = from_time\n",
    "        self.time_period = range(from_time, to_time + 1)\n",
    "        self.data = {\n",
    "            'category':[],\n",
    "            'film':[],\n",
    "            'year':[],\n",
    "            'name':[],\n",
    "            'gender':[],\n",
    "            'result':[],\n",
    "            'birthdate':[],\n",
    "            'imbd_ratings':[],\n",
    "            'rotten_ratings':[],\n",
    "            'metacritics_ratings':[],\n",
    "            'box office':[]\n",
    "            \n",
    "        }\n",
    "        \n",
    "        \n",
    "\n",
    "    def getHTML(self):\n",
    "        \n",
    "        for i in self.time_period:\n",
    "            #time.sleep(10) # Crawlerdelay\n",
    "            url = \"https://www.oscars.org/oscars/ceremonies/{}\".format(i)\n",
    "            response_oscars = requests.get(url)\n",
    "            sel = Selector(text = response_oscars.text)   # Scrapy chose over BeautifulSoup for selector CSS\n",
    "            self.links['oscars'].append(sel)\n",
    "\n",
    "    def getNominees(self, years, i, category, number_nominees):\n",
    "\n",
    "        for number in range(number_nominees):   \n",
    "            # NAME\n",
    "            path_name = \"#quicktabs-tabpage-honorees-0 > div > div.view-content > div:nth-child({}) > div.view-grouping-content > div:nth-child({}) > div.views-field.views-field-field-actor-name > h4::text\".format(i+1, 4 +number)\n",
    "            nominee_name = ''.join(self.links['oscars'][years].css(path_name).extract()) # ''.join() transforms the list produced by the selector into a string\n",
    "\n",
    "            if category == \"Directing\": # For Directing, titles and names are swapped on the website\n",
    "                self.list_films.append(nominee_name)\n",
    "            else:\n",
    "                self.list_names.append(nominee_name)\n",
    "\n",
    "            # FILM\n",
    "            path_film = \"#quicktabs-tabpage-honorees-0 > div > div.view-content > div:nth-child({}) > div.view-grouping-content > div:nth-child({}) > div.views-field.views-field-title > span::text\".format(i+1, 4 +number)\n",
    "            nominee_film = ''.join(self.links['oscars'][years].css(path_film).extract()) # ''.join() transforms the list produced by the selector into a string\n",
    "            nominee_film = nominee_film.replace(\"\\n\", \"\") # Cleaning up the string\n",
    "\n",
    "            if category == \"Directing\":# For Directing, titles and names are swapped on the website\n",
    "                self.list_names.append(nominee_film)\n",
    "            else:\n",
    "                self.list_films.append(nominee_film)\n",
    "            \n",
    "            self.list_year.append(self.from_time + years)         \n",
    "            self.list_category.append(category)\n",
    "            self.list_results.append(\"Nominee\")\n",
    "\n",
    "    def getWinners(self, years, i, category, number_winners):\n",
    "\n",
    "        if number_winners == 1: # 1 Winner\n",
    "        # NAME\n",
    "            path_name = \"#quicktabs-tabpage-honorees-0 > div > div.view-content > div:nth-child({}) > div.view-grouping-content > div.views-row.views-row-1.views-row-odd.views-row-first.views-row-last > div.views-field.views-field-field-actor-name > h4::text\".format(i+1)\n",
    "            nominee_name = ''.join(self.links['oscars'][years].css(path_name).extract()) # ''.join() transforms the list produced by the selector into a string\n",
    "\n",
    "            if category == \"Directing\": # For Directing, titles and names are swapped on the website\n",
    "                self.list_films.append(nominee_name)\n",
    "            else:\n",
    "                self.list_names.append(nominee_name)\n",
    "            \n",
    "        \n",
    "            # FIlM\n",
    "            path_film = '#quicktabs-tabpage-honorees-0 > div > div.view-content > div:nth-child({}) > div.view-grouping-content > div.views-row.views-row-1.views-row-odd.views-row-first.views-row-last > div.views-field.views-field-title > span::text'.format(i+1)\n",
    "            nominee_film = ''.join(self.links['oscars'][years].css(path_film).extract()) # ''.join() transforms the list produced by the selector into a string\n",
    "            nominee_film = nominee_film.replace(\"\\n\", \"\") # Cleaning up the string\n",
    "\n",
    "            if category == \"Directing\":# For Directing, titles and names are swapped on the website\n",
    "                self.list_names.append(nominee_film)\n",
    "            else:\n",
    "                self.list_films.append(nominee_film)\n",
    "           \n",
    "            self.list_year.append(self.from_time + years)\n",
    "            self.list_category.append(category)\n",
    "            self.list_results.append(\"Winner\")\n",
    "\n",
    "\n",
    "        if number_winners == 2: # 2 Winners\n",
    "            # NAME 1st Winner \n",
    "            path_name = \"#quicktabs-tabpage-honorees-0 > div > div.view-content > div:nth-child({}) > div.view-grouping-content > div:nth-child(2) > div.views-field.views-field-field-actor-name > h4::text\".format(i+1)\n",
    "            nominee_name = ''.join(self.links['oscars'][years].css(path_name).extract()) # ''.join() transforms the list produced by the selector into a string4\n",
    "\n",
    "            if category == \"Directing\": # For Directing, titles and names are swapped on the website\n",
    "                self.list_films.append(nominee_name)\n",
    "            else:\n",
    "                self.list_names.append(nominee_name)\n",
    "\n",
    "            self.list_year.append(self.from_time + years)\n",
    "            self.list_category.append(category)\n",
    "            self.list_results.append(\"Tie-winner\")\n",
    "\n",
    "            # NAME 2st Winner \n",
    "            path_name = \"#quicktabs-tabpage-honorees-0 > div > div.view-content > div:nth-child({}) > div.view-grouping-content > div:nth-child(3) > div.views-field.views-field-field-actor-name > h4::text\".format(i+1)\n",
    "            nominee_name = ''.join(self.links['oscars'][years].css(path_name).extract()) # ''.join() transforms the list produced by the selector into a string4\n",
    "\n",
    "            if category == \"Directing\": # For Directing, titles and names are swapped on the website\n",
    "                self.list_films.append(nominee_name)\n",
    "            else:\n",
    "                self.list_names.append(nominee_name)\n",
    "\n",
    "            self.list_year.append(self.from_time + years)\n",
    "            self.list_category.append(category)\n",
    "            self.list_results.append(\"Tie-winner\")\n",
    "\n",
    "            # FILM\n",
    "            path_film1 = '#quicktabs-tabpage-honorees-0 > div > div.view-content > div:nth-child({}) > div.view-grouping-content > div:nth-child(2) > div.views-field.views-field-title > span::text'.format(i+1)\n",
    "            path_film2 = '#quicktabs-tabpage-honorees-0 > div > div.view-content > div:nth-child({}) > div.view-grouping-content > div:nth-child(3) > div.views-field.views-field-title > span::text'.format(i+1)\n",
    "\n",
    "            nominee_film = ''.join(self.links['oscars'][years].css(path_film1).extract()) # ''.join() transforms the list produced by the selector into a string\n",
    "            nominee_film = nominee_film.replace(\"\\n\", \"\") # Cleaning up the string\n",
    "\n",
    "            if category == \"Directing\":# For Directing, titles and names are swapped on the website\n",
    "                self.list_names.append(nominee_film)\n",
    "            else:\n",
    "                self.list_films.append(nominee_film)\n",
    "\n",
    "            winner2_film = ''.join(self.links['oscars'][years].css(path_film2).extract()) # ''.join() transforms the list produced by the selector into a string\n",
    "            winner2_film = winner2_film.replace(\"\\n\", \"\") # Cleaning up the string\n",
    "\n",
    "            if category == \"Directing\":# For Directing, titles and names are swapped on the website\n",
    "                self.list_names.append(nominee_film)\n",
    "            else:\n",
    "                self.list_films.append(nominee_film)        \n",
    "\n",
    "\n",
    "\n",
    "    def getDATA(self):\n",
    "            \n",
    "        for years in tqdm(range(len(self.links['oscars']))):\n",
    "\n",
    "            categories = self.links['oscars'][years].css('#quicktabs-tabpage-honorees-0 > div > div.view-content > div.view-grouping > div.view-grouping-header > h2::text').extract()    \n",
    "            \n",
    "            for i in range(len(categories)):\n",
    "                if categories[i] in self.categories_individuals:\n",
    "\n",
    "                    # Need the number of winners (might be ties) and nominated          \n",
    "                    path_nominated = \"#quicktabs-tabpage-honorees-0 > div > div.view-content > div:nth-child({}) > div.view-grouping-content > div:last-child\".format(i+1)\n",
    "                    number_of_film_nominated = int(''.join(self.links['oscars'][years].css(path_nominated).extract()).split(\"views-row-\")[1])\n",
    "\n",
    "\n",
    "                    path_winner = \"#quicktabs-tabpage-honorees-0 > div > div.view-content > div:nth-child({}) > div.view-grouping-content > div:nth-child(2)\".format(i+1)\n",
    "                    trial = ''.join(self.links['oscars'][years].css(path_winner).extract()).split(\"views-row-first views-row-last\") # If 1 winner then it splits the string into 1 list of 2 elements, if 2 winners, it does nothing\n",
    "                    if len(trial) == 2:\n",
    "                        number_winners = 1\n",
    "                    elif len(trial) == 1:\n",
    "                        number_winners = 2\n",
    "                    else:\n",
    "                        print(\"problem\")\n",
    "\n",
    "                    ## WINNERS                 \n",
    "                    self.getWinners(years, i, categories[i], number_winners)     \n",
    "                    ## NOMINEES\n",
    "                    self.getNominees(years, i, categories[i], number_of_film_nominated )   \n",
    "                    \n",
    "                    \n",
    "        self.data = {\n",
    "            'year': self.list_year,\n",
    "            'category': self.list_category,\n",
    "            'film': self.list_films,\n",
    "            'name': self.list_names,\n",
    "            #'gender':[],\n",
    "            'result':self.list_results\n",
    "            #,\n",
    "            #'birthdate':[]\n",
    "        }            \n",
    "\n",
    "        ###Individual corrections\n",
    "        for i in range(len(self.data[\"film\"])):\n",
    "            if self.data[\"film\"][i] == \"Good Fellas\":\n",
    "                self.data[\"film\"][i] = \"Goodfellas\"\n",
    "            if self.data[\"film\"][i] == \"Life Is Beautiful\":\n",
    "                self.data[\"film\"][i] = \"La vita è bella\"\n",
    "            if self.data[\"film\"][i] == \"Pelle the Conqueror\":\n",
    "                self.data[\"film\"][i] = \"Pelle Erobreren\"\n",
    "            if self.data[\"film\"][i] == \"Roland Joffé\":\n",
    "                self.data[\"film\"][i] = \"The Killing Fields\"\n",
    "                self.data[\"name\"][i] = \"Roland Joffé\"\n",
    "            if self.data[\"film\"][i] == \"Mulholland Drive\":\n",
    "                self.data[\"film\"][i] = \"Mulholland Dr.\"\n",
    "            if self.data[\"film\"][i] == \"Precious: Based on the Novel 'Push' by Sapphire\":\n",
    "                self.data[\"film\"][i] = \"Precious\"\n",
    "            if self.data[\"film\"][i] == \"Demián Bichir\":\n",
    "                self.data[\"film\"][i] = \"A Better Life\"\n",
    "                self.data[\"name\"][i] = \"Demián Bichir\"\n",
    "            if self.data[\"film\"][i] == \"Two Days, One Night\":\n",
    "                self.data[\"film\"][i] = \"Deux jours, une nuit\"\n",
    "            if self.data[\"film\"][i] == \"Five Fingers\" and self.data[\"year\"][i] == 1953:\n",
    "                self.data[\"film\"][i] = \"5 Fingers\"\n",
    "            if self.data[\"film\"][i] == \"Adventures of Robinson Crusoe\":\n",
    "                self.data[\"film\"][i] = \"Robinson Crusoe\"\n",
    "            if self.data[\"film\"][i] == \"Henry V\":\n",
    "                self.data[\"film\"][i] = \"The Chronicle History of King Henry the Fifth with His Battell Fought at Agincourt in France\"    \n",
    "            if self.data[\"film\"][i] == \"All That Money Can Buy\":\n",
    "                self.data[\"film\"][i] = \"The Devil and Daniel Webster\"\n",
    "            if self.data[\"film\"][i] == \"Two Women\":\n",
    "                self.data[\"film\"][i] = \"La ciociara\"\n",
    "            if self.data[\"film\"][i] == \"Divorce--Italian Style\":\n",
    "                self.data[\"film\"][i] = \"Divorzio all'italiana\"    \n",
    "            if self.data[\"film\"][i] == \"Federico Fellini's 8-1/2\":\n",
    "                self.data[\"film\"][i] = \"8½\"\n",
    "            if self.data[\"film\"][i] == \"Zorba the Greek\":\n",
    "                self.data[\"film\"][i] = \"Aléxis Zorbás\"  \n",
    "            if self.data[\"film\"][i] == \"The Emigrants\":\n",
    "                self.data[\"film\"][i] = \"Utvandrarna\"\n",
    "            if self.data[\"film\"][i] == \"Last Tango in Paris\":\n",
    "                self.data[\"film\"][i] = \"Ultimo tango a Parigi\"\n",
    "            if self.data[\"film\"][i] == \"Cries and Whispers\":\n",
    "                self.data[\"film\"][i] = \"Viskningar och rop\"   \n",
    "            if self.data[\"film\"][i] == \"A Special Day\":\n",
    "                self.data[\"film\"][i] = \"Una giornata particolare\"   \n",
    "            \n",
    "    \n",
    "            \n",
    "                \n",
    "    def getINDIVIDUALS(self):\n",
    "        df = pd.DataFrame(self.data)\n",
    "        df = df.set_index(['year','category'])\n",
    "        individuals = df.loc(axis = 0)[pd.IndexSlice[:, self.categories_individuals]]\n",
    "        return(individuals)\n",
    "    \n",
    "    def getFILMS(self):\n",
    "        df = pd.DataFrame(self.data)\n",
    "        df = df.set_index(['year','category'])\n",
    "        films = df.loc(axis = 0)[pd.IndexSlice[:, self.categories_interest[5:]]]\n",
    "        films.columns = ('film', 'Studio/Creator(s)', 'result')\n",
    "        return(films)\n",
    "    \n",
    "     #creating big dataframe with all data\n",
    "    def getAllCategories(self):\n",
    "        df = pd.DataFrame(self.data)\n",
    "        df = df.set_index(['year','category'])\n",
    "        return(df)\n",
    "    \n",
    "    #in progress\n",
    "    \"\"\" #creating CSV files based on scraped data. Possible naming of the columns for different datasets\n",
    "    def create_named_CSV(self,dataframe,categories,columns_name):\n",
    "        if len(column_name) > 2:\n",
    "          raise Exception('Items exceeds the maximum allowed length of 2')\n",
    "        category = []\n",
    "        if type(categories) == 'str':\n",
    "        category.append(categories)\n",
    "        for x in self.categories_dictionary:\n",
    "            for y in range(len(self.categories_dictionary[x])):\n",
    "                if category == self.categories_dictionary[x][y]:\n",
    "                    if x not in names:\n",
    "                        names.append(x)\n",
    "        for x in names:\n",
    "            create_empty_CSV(x)\n",
    "        df_final.columns = columns_name\n",
    "             films.to_csv(i + '.csv', sep=' ', mode='a')\"\"\"\n",
    "        \n",
    "    #creating empty csv names after argument of the method   \n",
    "    def create_empty_CSV(*stringcsv_names):\n",
    "        for i in stringcsv_names:\n",
    "            with open(i + '.csv', 'w') as f:\n",
    "                pass\n",
    "            \n",
    "######################################################### \n",
    "    \n",
    "    def getAPI_omdb(self):\n",
    "        key = \"59d5666b\"\n",
    "        url_api = \"https://www.omdbapi.com/?t={}&y={}&apikey={}\"\n",
    "        for film_number in tqdm(range(len(self.data['film']))):\n",
    "            film = self.data['film']\n",
    "            title_standard = film[film_number].upper().replace(\" \",\"+\").replace(\".\",\"\").replace(\"&\",\"%26\")\n",
    "            year_standard = self.data['year'][film_number]-1\n",
    "            response_api = json.loads(requests.get(url_api.format(title_standard, year_standard, key)).text)\n",
    "            if response_api[\"Response\"] != \"False\":\n",
    "                for ratings in range(len(response_api[\"Ratings\"])):\n",
    "                    \n",
    "                    if response_api[\"Ratings\"][ratings][\"Source\"] == \"Rotten Tomatoes\":\n",
    "                        self.list_ratings_rottentomatoes.append(response_api[\"Ratings\"][ratings][\"Value\"])\n",
    "                        \n",
    "                    if response_api[\"Ratings\"][ratings][\"Source\"] == \"Metacritic\":\n",
    "                        self.list_metacritics.append(response_api[\"Ratings\"][ratings][\"Value\"]) \n",
    "                    \n",
    "                if not any(\"Rotten Tomatoes\" in response_api[\"Ratings\"][ratings][\"Source\"] for ratings in range(len(response_api[\"Ratings\"]))):\n",
    "                    self.list_ratings_rottentomatoes.append(\"N/A\")\n",
    "                if not any(\"Metacritic\" in response_api[\"Ratings\"][ratings][\"Source\"] for ratings in range(len(response_api[\"Ratings\"]))):\n",
    "                    self.list_metacritics.append(\"N/A\")\n",
    "                        \n",
    "                self.list_ratings_imdb.append(response_api.get(\"imdbRating\", \"N/A\"))            \n",
    "                self.list_boxoffice.append(response_api.get(\"BoxOffice\", \"N/A\"))\n",
    "            \n",
    "                \n",
    "            else:\n",
    "                year_standard = self.data['year'][film_number]-2\n",
    "                response_api = json.loads(requests.get(url_api.format(title_standard, year_standard, key)).text)\n",
    "                if response_api[\"Response\"] != \"False\":\n",
    "                    for ratings in range(len(response_api[\"Ratings\"])):\n",
    "                        if response_api[\"Ratings\"][ratings][\"Source\"] == \"Rotten Tomatoes\":\n",
    "                            self.list_ratings_rottentomatoes.append(response_api[\"Ratings\"][ratings][\"Value\"])\n",
    "                    \n",
    "                        if response_api[\"Ratings\"][ratings][\"Source\"] == \"Metacritic\":\n",
    "                            self.list_metacritics.append(response_api[\"Ratings\"][ratings][\"Value\"])\n",
    "                      \n",
    "                    if not any(\"Rotten Tomatoes\" in response_api[\"Ratings\"][ratings][\"Source\"] for ratings in range(len(response_api[\"Ratings\"]))):\n",
    "                        self.list_ratings_rottentomatoes.append(\"N/A\")\n",
    "                    if not any(\"Metacritic\" in response_api[\"Ratings\"][ratings][\"Source\"] for ratings in range(len(response_api[\"Ratings\"]))):\n",
    "                        self.list_metacritics.append(\"N/A\")                                        \n",
    "                    self.list_ratings_imdb.append(response_api.get(\"imdbRating\", \"N/A\"))          \n",
    "                    self.list_boxoffice.append(response_api.get(\"BoxOffice\", \"N/A\"))\n",
    "                    \n",
    "               \n",
    "                else:\n",
    "                    year_standard = self.data['year'][film_number]-3\n",
    "                    response_api = json.loads(requests.get(url_api.format(title_standard, year_standard, key)).text)\n",
    "                    if response_api[\"Response\"] != \"False\":\n",
    "                        for ratings in range(len(response_api[\"Ratings\"])):\n",
    "                            if response_api[\"Ratings\"][ratings][\"Source\"] == \"Rotten Tomatoes\":\n",
    "                                self.list_ratings_rottentomatoes.append(response_api[\"Ratings\"][ratings][\"Value\"])\n",
    "\n",
    "                            if response_api[\"Ratings\"][ratings][\"Source\"] == \"Metacritic\":\n",
    "                                self.list_metacritics.append(response_api[\"Ratings\"][ratings][\"Value\"])\n",
    "\n",
    "                        if not any(\"Rotten Tomatoes\" in response_api[\"Ratings\"][ratings][\"Source\"] for ratings in range(len(response_api[\"Ratings\"]))):\n",
    "                            self.list_ratings_rottentomatoes.append(\"N/A\")\n",
    "                        if not any(\"Metacritic\" in response_api[\"Ratings\"][ratings][\"Source\"] for ratings in range(len(response_api[\"Ratings\"]))):\n",
    "                            self.list_metacritics.append(\"N/A\")                                        \n",
    "                        self.list_ratings_imdb.append(response_api.get(\"imdbRating\", \"N/A\"))          \n",
    "                        self.list_boxoffice.append(response_api.get(\"BoxOffice\", \"N/A\"))\n",
    "\n",
    "                    else:\n",
    "                        title_standard = title_standard.replace(\"%26\",\"and\")\n",
    "                        year_standard = self.data['year'][film_number]-1\n",
    "                        response_api = json.loads(requests.get(url_api.format(title_standard, year_standard, key)).text)\n",
    "                        if response_api[\"Response\"] != \"False\":\n",
    "                            for ratings in range(len(response_api[\"Ratings\"])):\n",
    "                                if response_api[\"Ratings\"][ratings][\"Source\"] == \"Rotten Tomatoes\":\n",
    "                                    self.list_ratings_rottentomatoes.append(response_api[\"Ratings\"][ratings][\"Value\"])\n",
    "\n",
    "                                if response_api[\"Ratings\"][ratings][\"Source\"] == \"Metacritic\":\n",
    "                                    self.list_metacritics.append(response_api[\"Ratings\"][ratings][\"Value\"])\n",
    "\n",
    "                            if not any(\"Rotten Tomatoes\" in response_api[\"Ratings\"][ratings][\"Source\"] for ratings in range(len(response_api[\"Ratings\"]))):\n",
    "                                self.list_ratings_rottentomatoes.append(\"N/A\")\n",
    "                            if not any(\"Metacritic\" in response_api[\"Ratings\"][ratings][\"Source\"] for ratings in range(len(response_api[\"Ratings\"]))):\n",
    "                                self.list_metacritics.append(\"N/A\")                                        \n",
    "                            self.list_ratings_imdb.append(response_api.get(\"imdbRating\", \"N/A\"))          \n",
    "                            self.list_boxoffice.append(response_api.get(\"BoxOffice\", \"N/A\"))\n",
    "\n",
    "                        else:\n",
    "                            year_standard = self.data['year'][film_number]-2\n",
    "                            response_api = json.loads(requests.get(url_api.format(title_standard, year_standard, key)).text)\n",
    "                            if response_api[\"Response\"] != \"False\":\n",
    "                                for ratings in range(len(response_api[\"Ratings\"])):\n",
    "                                    if response_api[\"Ratings\"][ratings][\"Source\"] == \"Rotten Tomatoes\":\n",
    "                                        self.list_ratings_rottentomatoes.append(response_api[\"Ratings\"][ratings][\"Value\"])\n",
    "\n",
    "                                    if response_api[\"Ratings\"][ratings][\"Source\"] == \"Metacritic\":\n",
    "                                        self.list_metacritics.append(response_api[\"Ratings\"][ratings][\"Value\"])\n",
    "\n",
    "                                if not any(\"Rotten Tomatoes\" in response_api[\"Ratings\"][ratings][\"Source\"] for ratings in range(len(response_api[\"Ratings\"]))):\n",
    "                                    self.list_ratings_rottentomatoes.append(\"N/A\")\n",
    "                                if not any(\"Metacritic\" in response_api[\"Ratings\"][ratings][\"Source\"] for ratings in range(len(response_api[\"Ratings\"]))):\n",
    "                                    self.list_metacritics.append(\"N/A\")                                        \n",
    "                                self.list_ratings_imdb.append(response_api.get(\"imdbRating\", \"N/A\"))          \n",
    "                                self.list_boxoffice.append(response_api.get(\"BoxOffice\", \"N/A\"))\n",
    "                            else: \n",
    "                                year_standard = self.data['year'][film_number]-3\n",
    "                                response_api = json.loads(requests.get(url_api.format(title_standard, year_standard, key)).text)\n",
    "                                if response_api[\"Response\"] != \"False\":\n",
    "                                    for ratings in range(len(response_api[\"Ratings\"])):\n",
    "                                        if response_api[\"Ratings\"][ratings][\"Source\"] == \"Rotten Tomatoes\":\n",
    "                                            self.list_ratings_rottentomatoes.append(response_api[\"Ratings\"][ratings][\"Value\"])\n",
    "\n",
    "                                        if response_api[\"Ratings\"][ratings][\"Source\"] == \"Metacritic\":\n",
    "                                            self.list_metacritics.append(response_api[\"Ratings\"][ratings][\"Value\"])\n",
    "\n",
    "                                    if not any(\"Rotten Tomatoes\" in response_api[\"Ratings\"][ratings][\"Source\"] for ratings in range(len(response_api[\"Ratings\"]))):\n",
    "                                        self.list_ratings_rottentomatoes.append(\"N/A\")\n",
    "                                    if not any(\"Metacritic\" in response_api[\"Ratings\"][ratings][\"Source\"] for ratings in range(len(response_api[\"Ratings\"]))):\n",
    "                                        self.list_metacritics.append(\"N/A\")                                        \n",
    "                                    self.list_ratings_imdb.append(response_api.get(\"imdbRating\", \"N/A\"))          \n",
    "                                    self.list_boxoffice.append(response_api.get(\"BoxOffice\", \"N/A\"))\n",
    "\n",
    "                                else:\n",
    "                                    print(\"Error\",film[film_number],title_standard,year_standard)\n",
    "            \n",
    "        # Standardization\n",
    "        \n",
    "        for i in tqdm(range(len(self.data['film']))): \n",
    "            if self.list_boxoffice[i] == \"N/A\":\n",
    "                self.list_boxoffice[i] = np.nan\n",
    "            else:\n",
    "                float(self.list_boxoffice[i].replace(\"$\",\"\").replace(\",\",\"\"))\n",
    "\n",
    "            if self.list_ratings_imdb[i] == \"N/A\":\n",
    "                self.list_ratings_imdb[i] = np.nan\n",
    "            else:\n",
    "                float(self.list_ratings_imdb[i])\n",
    "\n",
    "            if self.list_ratings_rottentomatoes[i] == \"N/A\":\n",
    "                self.list_ratings_rottentomatoes[i] = np.nan\n",
    "            else:\n",
    "                float(self.list_ratings_rottentomatoes[i].replace(\"%\",\"\"))\n",
    "\n",
    "            if self.list_metacritics[i] == \"N/A\":\n",
    "                self.list_metacritics[i] = np.nan\n",
    "            else:\n",
    "                float(self.list_metacritics[i].replace(\"/100\",\"\"))\n",
    "    \n",
    "        self.data['imbd_ratings'] = self.list_ratings_imdb,\n",
    "        self.data['rotten_ratings'] = self.list_ratings_rottentomatoes,\n",
    "        self.data['metacritics_ratings'] = self.list_metacritics,\n",
    "        self.data['box office'] = self.list_boxoffice\n",
    "                                         "
   ]
  },
  {
   "cell_type": "code",
   "execution_count": 111,
   "metadata": {},
   "outputs": [
    {
     "name": "stderr",
     "output_type": "stream",
     "text": [
      "100%|██████████████████████████████████████████████████████████████████████████████████| 87/87 [00:04<00:00, 20.30it/s]\n"
     ]
    }
   ],
   "source": [
    "test = Oscar_Scraper(1934,2020)\n",
    "test.getHTML()\n",
    "test.getDATA()\n"
   ]
  },
  {
   "cell_type": "code",
   "execution_count": 103,
   "metadata": {
    "scrolled": true
   },
   "outputs": [
    {
     "name": "stderr",
     "output_type": "stream",
     "text": [
      "  9%|██████▉                                                                        | 113/1294 [00:13<08:53,  2.21it/s]"
     ]
    },
    {
     "name": "stdout",
     "output_type": "stream",
     "text": [
      "Error The Devil and Daniel Webster THE+DEVIL+AND+DANIEL+WEBSTER 1939\n"
     ]
    },
    {
     "name": "stderr",
     "output_type": "stream",
     "text": [
      " 14%|███████████▍                                                                   | 187/1294 [00:22<03:59,  4.61it/s]"
     ]
    },
    {
     "name": "stdout",
     "output_type": "stream",
     "text": [
      "Error Henry V HENRY+V 1944\n"
     ]
    },
    {
     "name": "stderr",
     "output_type": "stream",
     "text": [
      " 22%|█████████████████▌                                                             | 287/1294 [00:36<09:41,  1.73it/s]"
     ]
    },
    {
     "name": "stdout",
     "output_type": "stream",
     "text": [
      "Error 5 Fingers 5+FINGERS 1950\n"
     ]
    },
    {
     "name": "stderr",
     "output_type": "stream",
     "text": [
      " 24%|██████████████████▉                                                            | 310/1294 [00:41<09:16,  1.77it/s]"
     ]
    },
    {
     "name": "stdout",
     "output_type": "stream",
     "text": [
      "Error Robinson Crusoe ROBINSON+CRUSOE 1952\n"
     ]
    },
    {
     "name": "stderr",
     "output_type": "stream",
     "text": [
      " 32%|█████████████████████████▍                                                     | 416/1294 [00:54<04:53,  2.99it/s]"
     ]
    },
    {
     "name": "stdout",
     "output_type": "stream",
     "text": [
      "Error La ciociara LA+CIOCIARA 1959\n"
     ]
    },
    {
     "name": "stderr",
     "output_type": "stream",
     "text": [
      " 33%|██████████████████████████▎                                                    | 430/1294 [00:58<08:02,  1.79it/s]"
     ]
    },
    {
     "name": "stdout",
     "output_type": "stream",
     "text": [
      "Error Divorzio all'italiana DIVORZIO+ALL'ITALIANA 1960\n"
     ]
    },
    {
     "name": "stderr",
     "output_type": "stream",
     "text": [
      " 34%|██████████████████████████▊                                                    | 439/1294 [00:59<03:40,  3.88it/s]"
     ]
    },
    {
     "name": "stdout",
     "output_type": "stream",
     "text": [
      "Error Divorzio all'italiana DIVORZIO+ALL'ITALIANA 1960\n"
     ]
    },
    {
     "name": "stderr",
     "output_type": "stream",
     "text": [
      " 35%|███████████████████████████▊                                                   | 455/1294 [01:03<07:48,  1.79it/s]"
     ]
    },
    {
     "name": "stdout",
     "output_type": "stream",
     "text": [
      "Error 8½ 8½ 1961\n"
     ]
    },
    {
     "name": "stderr",
     "output_type": "stream",
     "text": [
      " 35%|████████████████████████████                                                   | 459/1294 [01:06<09:26,  1.47it/s]"
     ]
    },
    {
     "name": "stdout",
     "output_type": "stream",
     "text": [
      "Error Aléxis Zorbás ALÉXIS+ZORBÁS 1962\n"
     ]
    },
    {
     "name": "stderr",
     "output_type": "stream",
     "text": [
      " 36%|████████████████████████████▋                                                  | 470/1294 [01:07<02:41,  5.09it/s]"
     ]
    },
    {
     "name": "stdout",
     "output_type": "stream",
     "text": [
      "Error Aléxis Zorbás ALÉXIS+ZORBÁS 1962\n"
     ]
    },
    {
     "name": "stderr",
     "output_type": "stream",
     "text": [
      " 40%|███████████████████████████████▉                                               | 523/1294 [01:14<02:59,  4.30it/s]"
     ]
    },
    {
     "name": "stdout",
     "output_type": "stream",
     "text": [
      "Error   1966\n"
     ]
    },
    {
     "name": "stderr",
     "output_type": "stream",
     "text": [
      " 45%|███████████████████████████████████▊                                           | 586/1294 [01:26<06:43,  1.75it/s]"
     ]
    },
    {
     "name": "stdout",
     "output_type": "stream",
     "text": [
      "Error Utvandrarna UTVANDRARNA 1970\n"
     ]
    },
    {
     "name": "stderr",
     "output_type": "stream",
     "text": [
      " 45%|███████████████████████████████████▉                                           | 588/1294 [01:27<05:11,  2.27it/s]"
     ]
    },
    {
     "name": "stdout",
     "output_type": "stream",
     "text": [
      "Error Utvandrarna UTVANDRARNA 1970\n"
     ]
    },
    {
     "name": "stderr",
     "output_type": "stream",
     "text": [
      " 46%|████████████████████████████████████▏                                          | 592/1294 [01:30<06:26,  1.82it/s]"
     ]
    },
    {
     "name": "stdout",
     "output_type": "stream",
     "text": [
      "Error Ultimo tango a Parigi ULTIMO+TANGO+A+PARIGI 1971\n"
     ]
    },
    {
     "name": "stderr",
     "output_type": "stream",
     "text": [
      " 47%|████████████████████████████████████▊                                          | 602/1294 [01:35<09:33,  1.21it/s]"
     ]
    },
    {
     "name": "stdout",
     "output_type": "stream",
     "text": [
      "Error Viskningar och rop VISKNINGAR+OCH+ROP 1971\n"
     ]
    },
    {
     "name": "stderr",
     "output_type": "stream",
     "text": [
      " 47%|████████████████████████████████████▉                                          | 605/1294 [01:39<10:18,  1.11it/s]"
     ]
    },
    {
     "name": "stdout",
     "output_type": "stream",
     "text": [
      "Error Ultimo tango a Parigi ULTIMO+TANGO+A+PARIGI 1972\n"
     ]
    },
    {
     "name": "stderr",
     "output_type": "stream",
     "text": [
      " 51%|███████████████████████████████████████▉                                       | 654/1294 [01:50<05:38,  1.89it/s]"
     ]
    },
    {
     "name": "stdout",
     "output_type": "stream",
     "text": [
      "Error Una giornata particolare UNA+GIORNATA+PARTICOLARE 1975\n"
     ]
    },
    {
     "name": "stderr",
     "output_type": "stream",
     "text": [
      " 63%|█████████████████████████████████████████████████▊                             | 816/1294 [02:17<01:29,  5.34it/s]"
     ]
    },
    {
     "name": "stdout",
     "output_type": "stream",
     "text": [
      "Error My Life as a Dog MY+LIFE+AS+A+DOG 1986\n"
     ]
    },
    {
     "name": "stderr",
     "output_type": "stream",
     "text": [
      " 99%|█████████████████████████████████████████████████████████████████████████████▎| 1282/1294 [03:38<00:07,  1.67it/s]"
     ]
    },
    {
     "name": "stdout",
     "output_type": "stream",
     "text": [
      "Error Once upon a Time...in Hollywood ONCE+UPON+A+TIMEIN+HOLLYWOOD 2017\n"
     ]
    },
    {
     "name": "stderr",
     "output_type": "stream",
     "text": [
      "\r",
      " 99%|█████████████████████████████████████████████████████████████████████████████▎| 1283/1294 [03:41<00:12,  1.11s/it]"
     ]
    },
    {
     "name": "stdout",
     "output_type": "stream",
     "text": [
      "Error Marriage Story MARRIAGE+STORY 2017\n"
     ]
    },
    {
     "name": "stderr",
     "output_type": "stream",
     "text": [
      "\r",
      " 99%|█████████████████████████████████████████████████████████████████████████████▍| 1284/1294 [03:43<00:14,  1.46s/it]"
     ]
    },
    {
     "name": "stdout",
     "output_type": "stream",
     "text": [
      "Error The Two Popes THE+TWO+POPES 2017\n"
     ]
    },
    {
     "name": "stderr",
     "output_type": "stream",
     "text": [
      "\r",
      " 99%|█████████████████████████████████████████████████████████████████████████████▍| 1285/1294 [03:45<00:15,  1.71s/it]"
     ]
    },
    {
     "name": "stdout",
     "output_type": "stream",
     "text": [
      "Error Judy JUDY 2017\n"
     ]
    },
    {
     "name": "stderr",
     "output_type": "stream",
     "text": [
      "\r",
      " 99%|█████████████████████████████████████████████████████████████████████████████▌| 1286/1294 [03:47<00:14,  1.76s/it]"
     ]
    },
    {
     "name": "stdout",
     "output_type": "stream",
     "text": [
      "Error Harriet HARRIET 2017\n"
     ]
    },
    {
     "name": "stderr",
     "output_type": "stream",
     "text": [
      "\r",
      " 99%|█████████████████████████████████████████████████████████████████████████████▌| 1287/1294 [03:49<00:12,  1.73s/it]"
     ]
    },
    {
     "name": "stdout",
     "output_type": "stream",
     "text": [
      "Error Marriage Story MARRIAGE+STORY 2017\n"
     ]
    },
    {
     "name": "stderr",
     "output_type": "stream",
     "text": [
      "\r",
      "100%|█████████████████████████████████████████████████████████████████████████████▋| 1288/1294 [03:51<00:11,  1.90s/it]"
     ]
    },
    {
     "name": "stdout",
     "output_type": "stream",
     "text": [
      "Error Little Women LITTLE+WOMEN 2017\n"
     ]
    },
    {
     "name": "stderr",
     "output_type": "stream",
     "text": [
      "\r",
      "100%|█████████████████████████████████████████████████████████████████████████████▋| 1289/1294 [03:53<00:10,  2.02s/it]"
     ]
    },
    {
     "name": "stdout",
     "output_type": "stream",
     "text": [
      "Error Bombshell BOMBSHELL 2017\n"
     ]
    },
    {
     "name": "stderr",
     "output_type": "stream",
     "text": [
      "\r",
      "100%|█████████████████████████████████████████████████████████████████████████████▊| 1290/1294 [03:56<00:08,  2.11s/it]"
     ]
    },
    {
     "name": "stdout",
     "output_type": "stream",
     "text": [
      "Error Parasite PARASITE 2017\n"
     ]
    },
    {
     "name": "stderr",
     "output_type": "stream",
     "text": [
      "100%|█████████████████████████████████████████████████████████████████████████████▉| 1292/1294 [03:58<00:03,  1.55s/it]"
     ]
    },
    {
     "name": "stdout",
     "output_type": "stream",
     "text": [
      "Error The Irishman THE+IRISHMAN 2017\n"
     ]
    },
    {
     "name": "stderr",
     "output_type": "stream",
     "text": [
      "100%|█████████████████████████████████████████████████████████████████████████████▉| 1293/1294 [04:00<00:00,  5.37it/s]"
     ]
    },
    {
     "name": "stdout",
     "output_type": "stream",
     "text": [
      "Error 1917 1917 2017\n"
     ]
    },
    {
     "name": "stderr",
     "output_type": "stream",
     "text": [
      "\n"
     ]
    },
    {
     "ename": "IndexError",
     "evalue": "list index out of range",
     "output_type": "error",
     "traceback": [
      "\u001b[1;31m---------------------------------------------------------------------------\u001b[0m",
      "\u001b[1;31mIndexError\u001b[0m                                Traceback (most recent call last)",
      "\u001b[1;32m<ipython-input-103-5377c10ec2a5>\u001b[0m in \u001b[0;36m<module>\u001b[1;34m\u001b[0m\n\u001b[1;32m----> 1\u001b[1;33m \u001b[0mtest\u001b[0m\u001b[1;33m.\u001b[0m\u001b[0mgetAPI_omdb\u001b[0m\u001b[1;33m(\u001b[0m\u001b[1;33m)\u001b[0m\u001b[1;33m\u001b[0m\u001b[1;33m\u001b[0m\u001b[0m\n\u001b[0m\u001b[0;32m      2\u001b[0m \u001b[1;31m##PROBLEME : PAS DE BOX OFFICE et METACRITICS\u001b[0m\u001b[1;33m\u001b[0m\u001b[1;33m\u001b[0m\u001b[1;33m\u001b[0m\u001b[0m\n\u001b[0;32m      3\u001b[0m \u001b[1;33m\u001b[0m\u001b[0m\n\u001b[0;32m      4\u001b[0m \u001b[1;31m# Problème avec Once Upon a Time in Hollywood (reportage, pas le film), ce n'est pas le seul, mais oublié lequel c'était l'autre\u001b[0m\u001b[1;33m\u001b[0m\u001b[1;33m\u001b[0m\u001b[1;33m\u001b[0m\u001b[0m\n",
      "\u001b[1;32m<ipython-input-101-a5bbc93e49c7>\u001b[0m in \u001b[0;36mgetAPI_omdb\u001b[1;34m(self)\u001b[0m\n\u001b[0;32m    312\u001b[0m             \u001b[0mfilm\u001b[0m \u001b[1;33m=\u001b[0m \u001b[0mself\u001b[0m\u001b[1;33m.\u001b[0m\u001b[0mdata\u001b[0m\u001b[1;33m[\u001b[0m\u001b[1;34m'film'\u001b[0m\u001b[1;33m]\u001b[0m\u001b[1;33m\u001b[0m\u001b[1;33m\u001b[0m\u001b[0m\n\u001b[0;32m    313\u001b[0m             \u001b[0mtitle_standard\u001b[0m \u001b[1;33m=\u001b[0m \u001b[0mfilm\u001b[0m\u001b[1;33m[\u001b[0m\u001b[0mfilm_number\u001b[0m\u001b[1;33m]\u001b[0m\u001b[1;33m.\u001b[0m\u001b[0mupper\u001b[0m\u001b[1;33m(\u001b[0m\u001b[1;33m)\u001b[0m\u001b[1;33m.\u001b[0m\u001b[0mreplace\u001b[0m\u001b[1;33m(\u001b[0m\u001b[1;34m\" \"\u001b[0m\u001b[1;33m,\u001b[0m\u001b[1;34m\"+\"\u001b[0m\u001b[1;33m)\u001b[0m\u001b[1;33m.\u001b[0m\u001b[0mreplace\u001b[0m\u001b[1;33m(\u001b[0m\u001b[1;34m\".\"\u001b[0m\u001b[1;33m,\u001b[0m\u001b[1;34m\"\"\u001b[0m\u001b[1;33m)\u001b[0m\u001b[1;33m.\u001b[0m\u001b[0mreplace\u001b[0m\u001b[1;33m(\u001b[0m\u001b[1;34m\"&\"\u001b[0m\u001b[1;33m,\u001b[0m\u001b[1;34m\"%26\"\u001b[0m\u001b[1;33m)\u001b[0m\u001b[1;33m\u001b[0m\u001b[1;33m\u001b[0m\u001b[0m\n\u001b[1;32m--> 314\u001b[1;33m             \u001b[0myear_standard\u001b[0m \u001b[1;33m=\u001b[0m \u001b[0mself\u001b[0m\u001b[1;33m.\u001b[0m\u001b[0mdata\u001b[0m\u001b[1;33m[\u001b[0m\u001b[1;34m'year'\u001b[0m\u001b[1;33m]\u001b[0m\u001b[1;33m[\u001b[0m\u001b[0mfilm_number\u001b[0m\u001b[1;33m]\u001b[0m\u001b[1;33m-\u001b[0m\u001b[1;36m1\u001b[0m\u001b[1;33m\u001b[0m\u001b[1;33m\u001b[0m\u001b[0m\n\u001b[0m\u001b[0;32m    315\u001b[0m             \u001b[0mresponse_api\u001b[0m \u001b[1;33m=\u001b[0m \u001b[0mjson\u001b[0m\u001b[1;33m.\u001b[0m\u001b[0mloads\u001b[0m\u001b[1;33m(\u001b[0m\u001b[0mrequests\u001b[0m\u001b[1;33m.\u001b[0m\u001b[0mget\u001b[0m\u001b[1;33m(\u001b[0m\u001b[0murl_api\u001b[0m\u001b[1;33m.\u001b[0m\u001b[0mformat\u001b[0m\u001b[1;33m(\u001b[0m\u001b[0mtitle_standard\u001b[0m\u001b[1;33m,\u001b[0m \u001b[0myear_standard\u001b[0m\u001b[1;33m,\u001b[0m \u001b[0mkey\u001b[0m\u001b[1;33m)\u001b[0m\u001b[1;33m)\u001b[0m\u001b[1;33m.\u001b[0m\u001b[0mtext\u001b[0m\u001b[1;33m)\u001b[0m\u001b[1;33m\u001b[0m\u001b[1;33m\u001b[0m\u001b[0m\n\u001b[0;32m    316\u001b[0m             \u001b[1;32mif\u001b[0m \u001b[0mresponse_api\u001b[0m\u001b[1;33m[\u001b[0m\u001b[1;34m\"Response\"\u001b[0m\u001b[1;33m]\u001b[0m \u001b[1;33m!=\u001b[0m \u001b[1;34m\"False\"\u001b[0m\u001b[1;33m:\u001b[0m\u001b[1;33m\u001b[0m\u001b[1;33m\u001b[0m\u001b[0m\n",
      "\u001b[1;31mIndexError\u001b[0m: list index out of range"
     ]
    }
   ],
   "source": [
    "test.getAPI_omdb()\n",
    "##PROBLEME : PAS DE BOX OFFICE et METACRITICS\n",
    "\n",
    "# Problème avec Once Upon a Time in Hollywood (reportage, pas le film), ce n'est pas le seul, mais oublié lequel c'était l'autre"
   ]
  },
  {
   "cell_type": "code",
   "execution_count": 68,
   "metadata": {},
   "outputs": [
    {
     "name": "stdout",
     "output_type": "stream",
     "text": [
      "311 311 311 311\n"
     ]
    }
   ],
   "source": [
    "\n",
    "        \n",
    "\n",
    "print(len(test.list_boxoffice),\n",
    "len(test.list_ratings_imdb),\n",
    "len(test.list_ratings_rottentomatoes),\n",
    "len(test.list_metacritics))\n"
   ]
  },
  {
   "cell_type": "code",
   "execution_count": 113,
   "metadata": {},
   "outputs": [
    {
     "data": {
      "text/plain": [
       "['The Lion in Winter',\n",
       " '',\n",
       " 'The Subject Was Roses',\n",
       " 'Isadora',\n",
       " 'Oliver!',\n",
       " 'The Battle of Algiers',\n",
       " 'The Lion in Winter',\n",
       " 'Romeo and Juliet',\n",
       " '2001: A Space Odyssey',\n",
       " 'True Grit',\n",
       " 'Anne of the Thousand Days',\n",
       " 'Midnight Cowboy',\n",
       " 'Goodbye, Mr. Chips',\n",
       " 'Midnight Cowboy',\n",
       " 'The Prime of Miss Jean Brodie']"
      ]
     },
     "execution_count": 113,
     "metadata": {},
     "output_type": "execute_result"
    }
   ],
   "source": [
    "test.data[\"film\"][520:535]"
   ]
  },
  {
   "cell_type": "code",
   "execution_count": 45,
   "metadata": {},
   "outputs": [
    {
     "name": "stdout",
     "output_type": "stream",
     "text": [
      "https://www.rottentomatoes.com/m/lglfo\n",
      "ça fonfonctionne\n",
      "404\n"
     ]
    }
   ],
   "source": [
    "\n",
    "url_rotten = \"https://www.rottentomatoes.com/m/lglfo\"\n",
    "print(url_rotten)\n",
    "response_rotten = requests.get(url_rotten)\n",
    "if response_rotten.status_code == requests.codes.ok:\n",
    "    print(\"tkt bg\")\n",
    "else:\n",
    "    print(\"ça fonfonctionne\")\n",
    "    print(response_rotten.status_code)\n",
    "    \n",
    "        for i in tqdm(self.data['film']):\n",
    "            #time.sleep(10) # Crawlerdelay\n",
    "            standardization = i.lower().replace(\"&\", \"and\").replace(\"the\",\"\").replace(\".\",\"\").replace(\"'\", \"\").replace(\",\", \" \").replace(\" \", \"_\")\n",
    "            url_rotten = \"https://www.rottentomatoes.com/m/{}\".format(standardization)\n",
    "            response_rotten = requests.get(url_rotten)\n",
    "            if response_rotten.status_code == requests.codes.ok:\n",
    "                sel = Selector(text = response_rotten.text)   # Scrapy chose over BeautifulSoup for selector CSS\n",
    "                self.links['rotten'].append(sel)\n",
    "            else:\n",
    "                print(url_rotten)"
   ]
  },
  {
   "cell_type": "code",
   "execution_count": 115,
   "metadata": {},
   "outputs": [],
   "source": [
    "key = \"59d5666b\"\n",
    "url_api = \"https://www.omdbapi.com/?t=VISKNINGAR+OCH+ROP&y=1974&apikey=59d5666b\"\n",
    "\n",
    "test = requests.get(url_api)\n"
   ]
  },
  {
   "cell_type": "code",
   "execution_count": 116,
   "metadata": {},
   "outputs": [
    {
     "data": {
      "text/plain": [
       "{'Response': 'False', 'Error': 'Request limit reached!'}"
      ]
     },
     "execution_count": 116,
     "metadata": {},
     "output_type": "execute_result"
    }
   ],
   "source": [
    "import json\n",
    "json.loads(test.text)\n"
   ]
  }
 ],
 "metadata": {
  "kernelspec": {
   "display_name": "Python 3",
   "language": "python",
   "name": "python3"
  },
  "language_info": {
   "codemirror_mode": {
    "name": "ipython",
    "version": 3
   },
   "file_extension": ".py",
   "mimetype": "text/x-python",
   "name": "python",
   "nbconvert_exporter": "python",
   "pygments_lexer": "ipython3",
   "version": "3.8.3"
  }
 },
 "nbformat": 4,
 "nbformat_minor": 4
}
