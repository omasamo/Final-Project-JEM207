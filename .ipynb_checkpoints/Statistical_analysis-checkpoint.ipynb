{
 "cells": [
  {
   "cell_type": "markdown",
   "metadata": {},
   "source": [
    "# Statistical Analysis of the scraped data"
   ]
  },
  {
   "cell_type": "markdown",
   "metadata": {},
   "source": [
    "In this jupyter notebook we will show the samples of our datasets as well as basic data manipulation with pandas framework. The data are stored in .csv files"
   ]
  },
  {
   "cell_type": "code",
   "execution_count": 1,
   "metadata": {},
   "outputs": [],
   "source": [
    "import pandas as pd\n",
    "import os\n",
    "import numpy as np\n",
    "import matplotlib.pyplot as plt\n",
    "from matplotlib.ticker import StrMethodFormatter"
   ]
  },
  {
   "cell_type": "markdown",
   "metadata": {},
   "source": [
    "### Analysis of individual film categories\n",
    "Firstly we will read the Individuals.csv dataset for all the individual categories harvested\n"
   ]
  },
  {
   "cell_type": "code",
   "execution_count": 2,
   "metadata": {},
   "outputs": [
    {
     "data": {
      "text/html": [
       "<div>\n",
       "<style scoped>\n",
       "    .dataframe tbody tr th:only-of-type {\n",
       "        vertical-align: middle;\n",
       "    }\n",
       "\n",
       "    .dataframe tbody tr th {\n",
       "        vertical-align: top;\n",
       "    }\n",
       "\n",
       "    .dataframe thead th {\n",
       "        text-align: right;\n",
       "    }\n",
       "</style>\n",
       "<table border=\"1\" class=\"dataframe\">\n",
       "  <thead>\n",
       "    <tr style=\"text-align: right;\">\n",
       "      <th></th>\n",
       "      <th>year</th>\n",
       "      <th>category</th>\n",
       "      <th>film</th>\n",
       "      <th>name</th>\n",
       "      <th>result</th>\n",
       "      <th>gender</th>\n",
       "      <th>birthday</th>\n",
       "    </tr>\n",
       "  </thead>\n",
       "  <tbody>\n",
       "    <tr>\n",
       "      <th>0</th>\n",
       "      <td>1930</td>\n",
       "      <td>Actor</td>\n",
       "      <td>In Old Arizona</td>\n",
       "      <td>Warner Baxter</td>\n",
       "      <td>Winner</td>\n",
       "      <td>Male</td>\n",
       "      <td>1889</td>\n",
       "    </tr>\n",
       "    <tr>\n",
       "      <th>1</th>\n",
       "      <td>1930</td>\n",
       "      <td>Actor</td>\n",
       "      <td>Thunderbolt</td>\n",
       "      <td>George Bancroft</td>\n",
       "      <td>Nominee</td>\n",
       "      <td>Male</td>\n",
       "      <td>1882</td>\n",
       "    </tr>\n",
       "    <tr>\n",
       "      <th>2</th>\n",
       "      <td>1930</td>\n",
       "      <td>Actor</td>\n",
       "      <td>Alibi</td>\n",
       "      <td>Chester Morris</td>\n",
       "      <td>Nominee</td>\n",
       "      <td>Male</td>\n",
       "      <td>1901</td>\n",
       "    </tr>\n",
       "    <tr>\n",
       "      <th>3</th>\n",
       "      <td>1930</td>\n",
       "      <td>Actor</td>\n",
       "      <td>The Valiant</td>\n",
       "      <td>Paul Muni</td>\n",
       "      <td>Nominee</td>\n",
       "      <td>Male</td>\n",
       "      <td>1895</td>\n",
       "    </tr>\n",
       "    <tr>\n",
       "      <th>4</th>\n",
       "      <td>1930</td>\n",
       "      <td>Actor</td>\n",
       "      <td>The Patriot</td>\n",
       "      <td>Lewis Stone</td>\n",
       "      <td>Nominee</td>\n",
       "      <td>Male</td>\n",
       "      <td>1879</td>\n",
       "    </tr>\n",
       "  </tbody>\n",
       "</table>\n",
       "</div>"
      ],
      "text/plain": [
       "   year category            film             name   result gender  birthday\n",
       "0  1930    Actor  In Old Arizona    Warner Baxter   Winner   Male      1889\n",
       "1  1930    Actor     Thunderbolt  George Bancroft  Nominee   Male      1882\n",
       "2  1930    Actor           Alibi   Chester Morris  Nominee   Male      1901\n",
       "3  1930    Actor     The Valiant        Paul Muni  Nominee   Male      1895\n",
       "4  1930    Actor     The Patriot      Lewis Stone  Nominee   Male      1879"
      ]
     },
     "execution_count": 2,
     "metadata": {},
     "output_type": "execute_result"
    }
   ],
   "source": [
    "data = pd.read_csv(\"Complete Data\\Individuals.csv\")\n",
    "data.head()"
   ]
  },
  {
   "cell_type": "markdown",
   "metadata": {},
   "source": [
    "Afterwards, we will count the number of nominations for each nominated/winning individual"
   ]
  },
  {
   "cell_type": "code",
   "execution_count": 3,
   "metadata": {},
   "outputs": [],
   "source": [
    "hashmap = {}\n",
    "for names in data[\"name\"]:\n",
    "    if hashmap.get(names) == None:\n",
    "        hashmap[names] = 1\n",
    "    else:\n",
    "        hashmap[names] = hashmap[names] + 1\n",
    "\n",
    "number_of_nomination = []\n",
    "\n",
    "for names in data[\"name\"]:\n",
    "   number_of_nomination.append(hashmap.get(names))\n",
    "\n",
    "data[\"Number of nominations\"] = number_of_nomination"
   ]
  },
  {
   "cell_type": "markdown",
   "metadata": {},
   "source": [
    "Secondly, we will find the age of the individual when she/he was nominated"
   ]
  },
  {
   "cell_type": "code",
   "execution_count": 4,
   "metadata": {},
   "outputs": [],
   "source": [
    "data[\"Age when nominated\"] = data[\"year\"] - data[\"birthday\"]\n",
    "for index_names in range(len(data[\"name\"])):\n",
    "    \n",
    "    if data.loc[:,\"result\"][index_names] == \"Nominee\":\n",
    "        data.loc[index_names:index_names, \"Age when winner\"] = np.nan\n",
    "    if data.loc[:,\"result\"][index_names] == \"Winner\":\n",
    "        data.loc[index_names:index_names, \"Age when winner\"] = data[\"year\"][index_names] - data[\"birthday\"][index_names]\n",
    "data[\"Age when winner\"] = data[\"Age when winner\"].astype(\"Int64\")"
   ]
  },
  {
   "cell_type": "code",
   "execution_count": 5,
   "metadata": {},
   "outputs": [
    {
     "data": {
      "text/html": [
       "<div>\n",
       "<style scoped>\n",
       "    .dataframe tbody tr th:only-of-type {\n",
       "        vertical-align: middle;\n",
       "    }\n",
       "\n",
       "    .dataframe tbody tr th {\n",
       "        vertical-align: top;\n",
       "    }\n",
       "\n",
       "    .dataframe thead th {\n",
       "        text-align: right;\n",
       "    }\n",
       "</style>\n",
       "<table border=\"1\" class=\"dataframe\">\n",
       "  <thead>\n",
       "    <tr style=\"text-align: right;\">\n",
       "      <th></th>\n",
       "      <th>year</th>\n",
       "      <th>category</th>\n",
       "      <th>film</th>\n",
       "      <th>name</th>\n",
       "      <th>result</th>\n",
       "      <th>gender</th>\n",
       "      <th>birthday</th>\n",
       "      <th>Number of nominations</th>\n",
       "      <th>Age when nominated</th>\n",
       "      <th>Age when winner</th>\n",
       "    </tr>\n",
       "  </thead>\n",
       "  <tbody>\n",
       "    <tr>\n",
       "      <th>0</th>\n",
       "      <td>1930</td>\n",
       "      <td>Actor</td>\n",
       "      <td>In Old Arizona</td>\n",
       "      <td>Warner Baxter</td>\n",
       "      <td>Winner</td>\n",
       "      <td>Male</td>\n",
       "      <td>1889</td>\n",
       "      <td>1</td>\n",
       "      <td>41</td>\n",
       "      <td>41</td>\n",
       "    </tr>\n",
       "    <tr>\n",
       "      <th>1</th>\n",
       "      <td>1930</td>\n",
       "      <td>Actor</td>\n",
       "      <td>Thunderbolt</td>\n",
       "      <td>George Bancroft</td>\n",
       "      <td>Nominee</td>\n",
       "      <td>Male</td>\n",
       "      <td>1882</td>\n",
       "      <td>1</td>\n",
       "      <td>48</td>\n",
       "      <td>&lt;NA&gt;</td>\n",
       "    </tr>\n",
       "    <tr>\n",
       "      <th>2</th>\n",
       "      <td>1930</td>\n",
       "      <td>Actor</td>\n",
       "      <td>Alibi</td>\n",
       "      <td>Chester Morris</td>\n",
       "      <td>Nominee</td>\n",
       "      <td>Male</td>\n",
       "      <td>1901</td>\n",
       "      <td>1</td>\n",
       "      <td>29</td>\n",
       "      <td>&lt;NA&gt;</td>\n",
       "    </tr>\n",
       "    <tr>\n",
       "      <th>3</th>\n",
       "      <td>1930</td>\n",
       "      <td>Actor</td>\n",
       "      <td>The Valiant</td>\n",
       "      <td>Paul Muni</td>\n",
       "      <td>Nominee</td>\n",
       "      <td>Male</td>\n",
       "      <td>1895</td>\n",
       "      <td>6</td>\n",
       "      <td>35</td>\n",
       "      <td>&lt;NA&gt;</td>\n",
       "    </tr>\n",
       "    <tr>\n",
       "      <th>4</th>\n",
       "      <td>1930</td>\n",
       "      <td>Actor</td>\n",
       "      <td>The Patriot</td>\n",
       "      <td>Lewis Stone</td>\n",
       "      <td>Nominee</td>\n",
       "      <td>Male</td>\n",
       "      <td>1879</td>\n",
       "      <td>1</td>\n",
       "      <td>51</td>\n",
       "      <td>&lt;NA&gt;</td>\n",
       "    </tr>\n",
       "  </tbody>\n",
       "</table>\n",
       "</div>"
      ],
      "text/plain": [
       "   year category            film             name   result gender  birthday  \\\n",
       "0  1930    Actor  In Old Arizona    Warner Baxter   Winner   Male      1889   \n",
       "1  1930    Actor     Thunderbolt  George Bancroft  Nominee   Male      1882   \n",
       "2  1930    Actor           Alibi   Chester Morris  Nominee   Male      1901   \n",
       "3  1930    Actor     The Valiant        Paul Muni  Nominee   Male      1895   \n",
       "4  1930    Actor     The Patriot      Lewis Stone  Nominee   Male      1879   \n",
       "\n",
       "   Number of nominations  Age when nominated  Age when winner  \n",
       "0                      1                  41               41  \n",
       "1                      1                  48             <NA>  \n",
       "2                      1                  29             <NA>  \n",
       "3                      6                  35             <NA>  \n",
       "4                      1                  51             <NA>  "
      ]
     },
     "execution_count": 5,
     "metadata": {},
     "output_type": "execute_result"
    }
   ],
   "source": [
    "data.head()"
   ]
  },
  {
   "cell_type": "code",
   "execution_count": 6,
   "metadata": {},
   "outputs": [
    {
     "data": {
      "image/png": "[encoded data removed]",
      "text/plain": [
       "<Figure size 576x720 with 3 Axes>"
      ]
     },
     "metadata": {
      "needs_background": "light"
     },
     "output_type": "display_data"
    }
   ],
   "source": [
    "ax = data.hist(column='Age when winner', by='gender', bins=25, grid=False, figsize=(8,10), layout=(3,1), sharex=True, color='#86bf91', zorder=2, rwidth=0.9)\n",
    "\n",
    "for i,x in enumerate(ax):\n",
    "\n",
    "    # Despine\n",
    "    x.spines['right'].set_visible(False)\n",
    "    x.spines['top'].set_visible(False)\n",
    "    x.spines['left'].set_visible(False)\n",
    "\n",
    "    # Switch off ticks\n",
    "    x.tick_params(axis=\"both\", which=\"both\", bottom=\"off\", top=\"off\", labelbottom=\"on\", left=\"off\", right=\"off\", labelleft=\"on\")\n",
    "\n",
    "    # Draw horizontal axis lines\n",
    "    vals = x.get_yticks()\n",
    "    for tick in vals:\n",
    "        x.axhline(y=tick, linestyle='dashed', alpha=0.4, color='#eeeeee', zorder=1)\n",
    "\n",
    "    # Set x-axis label\n",
    "    x.set_xlabel(\"Age when winner (year)\", labelpad=20, weight='bold', size=12)\n",
    "    plt.xlim(0, 90)\n",
    "\n",
    "\n",
    "    # Set y-axis label\n",
    "    if i == 1:\n",
    "        x.set_ylabel(\"N\", labelpad=50, weight='bold', size=12)\n",
    "\n",
    "    # Format y-axis label\n",
    "    x.yaxis.set_major_formatter(StrMethodFormatter('{x:,g}'))\n",
    "\n",
    "    x.tick_params(axis='x', rotation=0)"
   ]
  },
  {
   "cell_type": "code",
   "execution_count": 8,
   "metadata": {},
   "outputs": [
    {
     "data": {
      "image/png": "[encoded data removed]",
      "text/plain": [
       "<Figure size 432x288 with 1 Axes>"
      ]
     },
     "metadata": {
      "needs_background": "light"
     },
     "output_type": "display_data"
    }
   ],
   "source": [
    "actor = data[data[\"gender\"] == \"Male\"]\n",
    "actor = actor[(actor[\"category\"] == \"Actor\") | (actor[\"category\"] == \"Actor in a Leading Role\")]\n",
    "actor = actor[[\"Age when nominated\"]]\n",
    "actress = data[data[\"gender\"] == \"Female\"]\n",
    "actress = actress[(actress[\"category\"] == \"Actress\") | (actress[\"category\"] == \"Actress in a Leading Role\")]\n",
    "actress = actress[[\"Age when nominated\"]]\n",
    "\n",
    "actor = actor.stack()\n",
    "actress = actress.stack()\n",
    "\n",
    "\n",
    "bins = np.linspace(10, 90, 80)\n",
    "\n",
    "plt.hist(actor, bins=bins, color = \"lightblue\",alpha = 0.8, label= \"Male\", edgecolor = \"black\")\n",
    "\n",
    "plt.hist(actress,  bins=bins, color=\"lightcoral\", alpha=0.55, label = \"Femelle\", edgecolor = \"black\")\n",
    "plt.legend(loc='upper right')\n",
    "\n",
    "plt.title('Age when nominated to best actor/actress by gender')\n",
    "plt.savefig(\"two_histograms_01.png\", bbox_inches='tight',dpi=400)\n",
    "\n",
    "plt.show()\n",
    "\n"
   ]
  },
  {
   "cell_type": "code",
   "execution_count": null,
   "metadata": {},
   "outputs": [],
   "source": [
    "maledirecting = data[data[\"gender\"] == \"Male\"]\n",
    "maledirecting = maledirecting[maledirecting[\"category\"] == \"Directing\"]\n",
    "maledirecting = maledirecting[[\"Age when nominated\"]]\n",
    "femaledirecting = data[data[\"gender\"] == \"Female\"]\n",
    "femaledirecting = femaledirecting[femaledirecting[\"category\"] == \"Directing\"]\n",
    "femaledirecting = femaledirecting[[\"Age when nominated\"]]\n",
    "\n",
    "maledirecting = maledirecting.stack()\n",
    "femaledirecting = femaledirecting.stack()\n",
    "\n",
    "bins = np.linspace(10, 90, 80)\n",
    "\n",
    "plt.hist(maledirecting, bins=bins, color = \"lightblue\",alpha = 0.8, label= \"Male\", edgecolor = \"black\")\n",
    "\n",
    "plt.hist(femaledirecting,  bins=bins, color=\"lightcoral\", alpha=0.55, label = \"Femelle\", edgecolor = \"black\")\n",
    "pyplot.legend(loc='upper right')\n",
    "\n",
    "plt.title('Age when nominated to best directing by gender')\n",
    "plt.savefig(\"two_histograms_03.png\", bbox_inches='tight',dpi=400)\n",
    "\n",
    "plt.show()"
   ]
  },
  {
   "cell_type": "code",
   "execution_count": null,
   "metadata": {},
   "outputs": [],
   "source": [
    "list_category = []\n",
    "blabla = \"\"\n",
    "while blabla != \"Stop\":\n",
    "    blabla = input(\"Write one category you want to search then press enter. When you're done, write 'Stop'\")\n",
    "    if blabla != \"Stop\":\n",
    "        list_category.append(blabla)\n",
    "        "
   ]
  },
  {
   "cell_type": "code",
   "execution_count": null,
   "metadata": {},
   "outputs": [],
   "source": [
    "\"belle gosse\" in list_category"
   ]
  },
  {
   "cell_type": "markdown",
   "metadata": {},
   "source": [
    "### Best picture \n",
    "\n",
    "Firstly we import the data from Films.csv file, than we clean the genreids column with literal_eval function for the further use. Finally we will check the head of the data"
   ]
  },
  {
   "cell_type": "code",
   "execution_count": null,
   "metadata": {},
   "outputs": [],
   "source": [
    "from ast import literal_eval\n",
    "import pandas as pd\n",
    "dataf = pd.read_csv(\"Complete Data\\Films.csv\",converters={\"genreids\": literal_eval})\n",
    "dataf.head()"
   ]
  },
  {
   "cell_type": "markdown",
   "metadata": {},
   "source": [
    "Secondly, we need to proces the lists inside the genredids collumns, extracting the IDs for categories. "
   ]
  },
  {
   "cell_type": "code",
   "execution_count": null,
   "metadata": {},
   "outputs": [],
   "source": [
    "#changing list of ids to 1d list\n",
    "def to_1D(series):\n",
    " return pd.Series([x for _list in series for x in _list])\n",
    "\n",
    "countedValues = to_1D(dataf['genreids']).value_counts()\n",
    "\n",
    "#decoding categories by their ID\n",
    "def decodeCategories(series):\n",
    "    dictionary = {28:\"Action\", \n",
    "               12:\"Adventure\", \n",
    "               16:\"Animation\",\n",
    "               27:\"Horror\",\n",
    "               35:\"Comedy\", \n",
    "               80:\"Crime\", \n",
    "               99:\"Documentary\", \n",
    "               18:\"Drama\", \n",
    "               10751:\"Family\", \n",
    "               14:\"Fantasy\", \n",
    "               36:\"History\", \n",
    "               7:\"Horror\", \n",
    "               10402:\"Music\", \n",
    "               9648:\"Mystery\", \n",
    "               10749:\"Romance\", \n",
    "               878:\"Science Fiction\", \n",
    "               10770:\"TV Movie\", \n",
    "               53:\"Thriller\", \n",
    "               10752:\"War\", \n",
    "               37:\"Western\"}\n",
    "    \n",
    "    return(series.rename(index=dictionary))\n",
    "        \n",
    "\n",
    "decodedCategories=decodeCategories(countedValues)\n",
    "    "
   ]
  },
  {
   "cell_type": "markdown",
   "metadata": {},
   "source": [
    "Finally we translate the IDs to word categories and we will create corresponding graph"
   ]
  },
  {
   "cell_type": "code",
   "execution_count": null,
   "metadata": {},
   "outputs": [],
   "source": [
    "#creating Figure\n",
    "fig, ax = plt.subplots(figsize = (19,4))\n",
    "ax.bar(decodedCategories.index,\n",
    "        decodedCategories.values)\n",
    "ax.set_ylabel(\"Number of nominations\", size = 14)\n",
    "ax.set_title(\"Most nominated genres\", size = 14)"
   ]
  },
  {
   "cell_type": "markdown",
   "metadata": {},
   "source": [
    "In the code below we will create dataset for winners only and we will see the head of the dataset"
   ]
  },
  {
   "cell_type": "code",
   "execution_count": null,
   "metadata": {},
   "outputs": [],
   "source": [
    "#winners only dataframe\n",
    "winnersonly = dataf.loc[dataf['result']=='Winner']\n",
    "winnersonly.head()"
   ]
  },
  {
   "cell_type": "markdown",
   "metadata": {},
   "source": [
    "Below we can see the graph consisting of winners only"
   ]
  },
  {
   "cell_type": "code",
   "execution_count": null,
   "metadata": {},
   "outputs": [],
   "source": [
    "countedWinners = to_1D(winnersonly['genreids']).value_counts()\n",
    "decodedWinners = decodeCategories(countedWinners)\n",
    "fig, ax = plt.subplots(figsize = (19,4))\n",
    "ax.bar(decodedWinners.index,\n",
    "        decodedWinners.values)\n",
    "ax.set_ylabel(\"Number of wins\", size = 14)\n",
    "ax.set_title(\"Most winning genres as Best Picture\", size = 14)"
   ]
  },
  {
   "cell_type": "markdown",
   "metadata": {},
   "source": [
    "The next category of our interest will be the language of the nominated/winning film. We follow the same process as above as we create method to translate the codes to the actual comprehensible words and the we will plot the graph"
   ]
  },
  {
   "cell_type": "code",
   "execution_count": null,
   "metadata": {},
   "outputs": [],
   "source": [
    "\n",
    "def decodeLanguage(series):\n",
    "    #language Decoder\n",
    "    dictionary = {'en':'English',\n",
    "                 'fr': 'French',\n",
    "                 'it': 'Italian',\n",
    "                 'sv': 'Swedish',\n",
    "                 'es': 'Spanish',\n",
    "                 'el': 'Greek',\n",
    "                 'ko': 'Korean',\n",
    "                 'zh': 'Chines',}\n",
    "    \n",
    "    \n",
    "    return(series.rename(index=dictionary))\n",
    "    \n",
    "\n",
    "fig, ax = plt.subplots(figsize = (19,4))\n",
    "decodedLanguage = decodeLanguage(dataf['original_language'].value_counts())\n",
    "ax.bar(decodedLanguage.index,\n",
    "        decodedLanguage.values)\n",
    "ax.set_ylabel(\"Number of nominations\", size = 14)\n",
    "ax.set_title(\"Most nominated films by language for Best Picture\", size = 14)"
   ]
  },
  {
   "cell_type": "code",
   "execution_count": null,
   "metadata": {},
   "outputs": [],
   "source": []
  },
  {
   "cell_type": "code",
   "execution_count": null,
   "metadata": {},
   "outputs": [],
   "source": [
    "decodedWinnersLanguage = decodeLanguage(winnersonly['original_language'].value_counts())\n",
    "\n",
    "fig, ax = plt.subplots(figsize = (19,4))\n",
    "ax.bar(decodedWinnersLanguage.index,\n",
    "        decodedWinnersLanguage.values)\n",
    "ax.set_ylabel(\"Number of wins\", size = 14)\n",
    "ax.set_title(\"Most winning languages for Best Picture\", size = 14)"
   ]
  },
  {
   "cell_type": "code",
   "execution_count": null,
   "metadata": {},
   "outputs": [],
   "source": [
    "koreanWinner = winnersonly.loc[winnersonly['original_language']== 'ko']\n",
    "koreanWinner"
   ]
  },
  {
   "cell_type": "code",
   "execution_count": null,
   "metadata": {},
   "outputs": [],
   "source": [
    "nomineeswithoutEnglish = dataf.loc[dataf['original_language']!= 'en']\n",
    "nomineeswithoutEnglish"
   ]
  },
  {
   "cell_type": "code",
   "execution_count": null,
   "metadata": {},
   "outputs": [],
   "source": [
    "decodednomineesFLanguage = decodeLanguage(nomineeswithoutEnglish['original_language'].value_counts())\n",
    "\n",
    "fig, ax = plt.subplots(figsize = (19,4))\n",
    "ax.bar(decodednomineesFLanguage.index,\n",
    "        decodednomineesFLanguage.values)\n",
    "ax.set_ylabel(\"Number of nominations\", size = 14)\n",
    "ax.set_title(\"Most nominations for Best Picture for non-english films\", size = 14)"
   ]
  },
  {
   "cell_type": "code",
   "execution_count": null,
   "metadata": {},
   "outputs": [],
   "source": []
  }
 ],
 "metadata": {
  "interpreter": {
   "hash": "6179790f94d516a8fedd26ec050ceb7f2fefbbdfdd62a453be159a6ca753b1b7"
  },
  "kernelspec": {
   "display_name": "Python 3",
   "language": "python",
   "name": "python3"
  },
  "language_info": {
   "codemirror_mode": {
    "name": "ipython",
    "version": 3
   },
   "file_extension": ".py",
   "mimetype": "text/x-python",
   "name": "python",
   "nbconvert_exporter": "python",
   "pygments_lexer": "ipython3",
   "version": "3.8.5"
  }
 },
 "nbformat": 4,
 "nbformat_minor": 2
}
