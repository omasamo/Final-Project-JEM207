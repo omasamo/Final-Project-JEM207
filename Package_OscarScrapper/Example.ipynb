{
 "cells": [
  {
   "cell_type": "markdown",
   "source": [
    "# How to use the Oscarscrapper ?\r\n",
    "\r\n",
    "First you need to install the package\r\n",
    "\r\n",
    "```sh\r\n",
    "# Pypi\r\n",
    "pip install OscarScrapper\r\n",
    "```\r\n",
    "\r\n",
    "Then you import it"
   ],
   "metadata": {}
  },
  {
   "cell_type": "code",
   "execution_count": 7,
   "source": [
    "from Oscarscrapper_package import Oscarscrapper"
   ],
   "outputs": [],
   "metadata": {}
  },
  {
   "cell_type": "markdown",
   "source": [
    "Then, the scraper being a class, you have to create an instance of it, such as:\r\n",
    "\r\n",
    "```sh\r\n",
    "Scraper = Oscarscrapper.Oscar_Scraper()\r\n",
    "```\r\n",
    "\r\n",
    "This will create an interface where you will be able to choose the time period as well as the categories that you wish to scrape.\r\n",
    "We suggest you use the \"automatic mode\" as it will proceed without any more input from your part. However if you desire to proceed manually, here's the list of commands in order."
   ],
   "metadata": {}
  },
  {
   "cell_type": "code",
   "execution_count": 8,
   "source": [
    "Scraper = Oscarscrapper.Oscar_Scraper()\r\n"
   ],
   "outputs": [
    {
     "output_type": "stream",
     "name": "stdout",
     "text": [
      "Getting the content of oscars.org webpages ...\n"
     ]
    },
    {
     "output_type": "stream",
     "name": "stderr",
     "text": [
      "100%|██████████| 6/6 [00:00<00:00, 10.85it/s]\n"
     ]
    },
    {
     "output_type": "stream",
     "name": "stdout",
     "text": [
      "Extracting the data of the website ...\n"
     ]
    },
    {
     "output_type": "stream",
     "name": "stderr",
     "text": [
      "100%|██████████| 6/6 [00:00<00:00, 64.24it/s]\n"
     ]
    },
    {
     "output_type": "stream",
     "name": "stdout",
     "text": [
      "Requesting TheMovieDataBase API for the gender, birthdays, original language and genres...\n"
     ]
    },
    {
     "output_type": "stream",
     "name": "stderr",
     "text": [
      "100%|██████████| 27/27 [00:12<00:00,  2.20it/s]\n",
      "100%|██████████| 27/27 [00:00<00:00, 26797.49it/s]\n"
     ]
    },
    {
     "output_type": "stream",
     "name": "stdout",
     "text": [
      "                                            film               name  \\\n",
      "year category                                                         \n",
      "1930 Actor                        In Old Arizona      Warner Baxter   \n",
      "     Actor                           Thunderbolt    George Bancroft   \n",
      "     Actor                                 Alibi     Chester Morris   \n",
      "     Actor                           The Valiant          Paul Muni   \n",
      "     Actor                           The Patriot        Lewis Stone   \n",
      "1931 Actor                              Disraeli      George Arliss   \n",
      "     Actor                     The Green Goddess      George Arliss   \n",
      "     Actor                         The Big House      Wallace Beery   \n",
      "     Actor                          The Big Pond  Maurice Chevalier   \n",
      "     Actor                       The Love Parade  Maurice Chevalier   \n",
      "     Actor                      Bulldog Drummond      Ronald Colman   \n",
      "     Actor                             Condemned      Ronald Colman   \n",
      "     Actor                        The Rogue Song   Lawrence Tibbett   \n",
      "1932 Actor                           A Free Soul   Lionel Barrymore   \n",
      "     Actor                                Skippy      Jackie Cooper   \n",
      "     Actor                              Cimarron        Richard Dix   \n",
      "     Actor          The Royal Family of Broadway      Fredric March   \n",
      "     Actor                        The Front Page     Adolphe Menjou   \n",
      "1933 Actor                             The Champ      Wallace Beery   \n",
      "     Actor               Dr. Jekyll and Mr. Hyde      Fredric March   \n",
      "     Actor                         The Guardsman        Alfred Lunt   \n",
      "1934 Actor        The Private Life of Henry VIII   Charles Laughton   \n",
      "     Actor                       Berkeley Square      Leslie Howard   \n",
      "     Actor     I Am a Fugitive from a Chain Gang          Paul Muni   \n",
      "1935 Actor                 It Happened One Night        Clark Gable   \n",
      "     Actor                The Affairs of Cellini       Frank Morgan   \n",
      "     Actor                          The Thin Man     William Powell   \n",
      "\n",
      "                   result gender birthday  genreids  original_language  \n",
      "year category                                                           \n",
      "1930 Actor         Winner   Male     1889       NaN                NaN  \n",
      "     Actor        Nominee   Male     1882       NaN                NaN  \n",
      "     Actor        Nominee   Male     1901       NaN                NaN  \n",
      "     Actor        Nominee   Male     1895       NaN                NaN  \n",
      "     Actor        Nominee   Male     1879       NaN                NaN  \n",
      "1931 Actor         Winner   Male     1868       NaN                NaN  \n",
      "     Actor        Nominee   Male     1868       NaN                NaN  \n",
      "     Actor        Nominee   Male     1885       NaN                NaN  \n",
      "     Actor        Nominee   Male     1888       NaN                NaN  \n",
      "     Actor        Nominee   Male     1888       NaN                NaN  \n",
      "     Actor        Nominee   Male     1891       NaN                NaN  \n",
      "     Actor        Nominee   Male     1891       NaN                NaN  \n",
      "     Actor        Nominee   Male     1896       NaN                NaN  \n",
      "1932 Actor         Winner   Male     1878       NaN                NaN  \n",
      "     Actor        Nominee   Male     1922       NaN                NaN  \n",
      "     Actor        Nominee   Male     1893       NaN                NaN  \n",
      "     Actor        Nominee   Male     1897       NaN                NaN  \n",
      "     Actor        Nominee   Male     1890       NaN                NaN  \n",
      "1933 Actor     Tie-winner   Male     1885       NaN                NaN  \n",
      "     Actor     Tie-winner   Male     1897       NaN                NaN  \n",
      "     Actor        Nominee   Male     1892       NaN                NaN  \n",
      "1934 Actor         Winner   Male     1899       NaN                NaN  \n",
      "     Actor        Nominee   Male     1893       NaN                NaN  \n",
      "     Actor        Nominee   Male     1895       NaN                NaN  \n",
      "1935 Actor         Winner   Male     1901       NaN                NaN  \n",
      "     Actor        Nominee   Male     1890       NaN                NaN  \n",
      "     Actor        Nominee   Male     1892       NaN                NaN  \n",
      "The dataframe was saved as Individuals8.csv in your downloads directory.\n"
     ]
    }
   ],
   "metadata": {}
  },
  {
   "cell_type": "code",
   "execution_count": null,
   "source": [
    "# Necessary : will constituate the basic dataframe with these variables: year, category, name, winner/nominee\r\n",
    "\r\n",
    "Scraper.getHTML()\r\n",
    "Scraper.getDATA()\r\n",
    "\r\n",
    "# Optional : will add to the basic dataframe variables related to individuals or films : gender, birthday or movie genre and original language.\r\n",
    "Scraper.getAPI_TMDB()\r\n",
    "\r\n",
    "# Will return or save the dataframe for individual categories \r\n",
    "Scraper.printINDIVIDUALS()\r\n",
    "Scraper.saveINDIVIDUALS()\r\n",
    "\r\n",
    "# Will return or save the dataframe for movie categories\r\n",
    "Scraper.printFILMS()\r\n",
    "Scraper.saveFILMS()"
   ],
   "outputs": [],
   "metadata": {}
  },
  {
   "cell_type": "markdown",
   "source": [
    "Therefore, it can be used as :"
   ],
   "metadata": {}
  },
  {
   "cell_type": "code",
   "execution_count": 11,
   "source": [
    "Dataframe = Scraper.printINDIVIDUALS()\r\n",
    "print(Dataframe)"
   ],
   "outputs": [
    {
     "output_type": "stream",
     "name": "stdout",
     "text": [
      "                                            film               name  \\\n",
      "year category                                                         \n",
      "1930 Actor                        In Old Arizona      Warner Baxter   \n",
      "     Actor                           Thunderbolt    George Bancroft   \n",
      "     Actor                                 Alibi     Chester Morris   \n",
      "     Actor                           The Valiant          Paul Muni   \n",
      "     Actor                           The Patriot        Lewis Stone   \n",
      "1931 Actor                              Disraeli      George Arliss   \n",
      "     Actor                     The Green Goddess      George Arliss   \n",
      "     Actor                         The Big House      Wallace Beery   \n",
      "     Actor                          The Big Pond  Maurice Chevalier   \n",
      "     Actor                       The Love Parade  Maurice Chevalier   \n",
      "     Actor                      Bulldog Drummond      Ronald Colman   \n",
      "     Actor                             Condemned      Ronald Colman   \n",
      "     Actor                        The Rogue Song   Lawrence Tibbett   \n",
      "1932 Actor                           A Free Soul   Lionel Barrymore   \n",
      "     Actor                                Skippy      Jackie Cooper   \n",
      "     Actor                              Cimarron        Richard Dix   \n",
      "     Actor          The Royal Family of Broadway      Fredric March   \n",
      "     Actor                        The Front Page     Adolphe Menjou   \n",
      "1933 Actor                             The Champ      Wallace Beery   \n",
      "     Actor               Dr. Jekyll and Mr. Hyde      Fredric March   \n",
      "     Actor                         The Guardsman        Alfred Lunt   \n",
      "1934 Actor        The Private Life of Henry VIII   Charles Laughton   \n",
      "     Actor                       Berkeley Square      Leslie Howard   \n",
      "     Actor     I Am a Fugitive from a Chain Gang          Paul Muni   \n",
      "1935 Actor                 It Happened One Night        Clark Gable   \n",
      "     Actor                The Affairs of Cellini       Frank Morgan   \n",
      "     Actor                          The Thin Man     William Powell   \n",
      "\n",
      "                   result gender birthday  genreids  original_language  \n",
      "year category                                                           \n",
      "1930 Actor         Winner   Male     1889       NaN                NaN  \n",
      "     Actor        Nominee   Male     1882       NaN                NaN  \n",
      "     Actor        Nominee   Male     1901       NaN                NaN  \n",
      "     Actor        Nominee   Male     1895       NaN                NaN  \n",
      "     Actor        Nominee   Male     1879       NaN                NaN  \n",
      "1931 Actor         Winner   Male     1868       NaN                NaN  \n",
      "     Actor        Nominee   Male     1868       NaN                NaN  \n",
      "     Actor        Nominee   Male     1885       NaN                NaN  \n",
      "     Actor        Nominee   Male     1888       NaN                NaN  \n",
      "     Actor        Nominee   Male     1888       NaN                NaN  \n",
      "     Actor        Nominee   Male     1891       NaN                NaN  \n",
      "     Actor        Nominee   Male     1891       NaN                NaN  \n",
      "     Actor        Nominee   Male     1896       NaN                NaN  \n",
      "1932 Actor         Winner   Male     1878       NaN                NaN  \n",
      "     Actor        Nominee   Male     1922       NaN                NaN  \n",
      "     Actor        Nominee   Male     1893       NaN                NaN  \n",
      "     Actor        Nominee   Male     1897       NaN                NaN  \n",
      "     Actor        Nominee   Male     1890       NaN                NaN  \n",
      "1933 Actor     Tie-winner   Male     1885       NaN                NaN  \n",
      "     Actor     Tie-winner   Male     1897       NaN                NaN  \n",
      "     Actor        Nominee   Male     1892       NaN                NaN  \n",
      "1934 Actor         Winner   Male     1899       NaN                NaN  \n",
      "     Actor        Nominee   Male     1893       NaN                NaN  \n",
      "     Actor        Nominee   Male     1895       NaN                NaN  \n",
      "1935 Actor         Winner   Male     1901       NaN                NaN  \n",
      "     Actor        Nominee   Male     1890       NaN                NaN  \n",
      "     Actor        Nominee   Male     1892       NaN                NaN  \n",
      "None\n"
     ]
    }
   ],
   "metadata": {}
  }
 ],
 "metadata": {
  "orig_nbformat": 4,
  "language_info": {
   "name": "python",
   "version": "3.9.6",
   "mimetype": "text/x-python",
   "codemirror_mode": {
    "name": "ipython",
    "version": 3
   },
   "pygments_lexer": "ipython3",
   "nbconvert_exporter": "python",
   "file_extension": ".py"
  },
  "kernelspec": {
   "name": "python3",
   "display_name": "Python 3.9.6 64-bit"
  },
  "interpreter": {
   "hash": "dfa17705022f4996520e7822357f95e1ba248b4f5eb36c5a7ef1b57abe98afdc"
  }
 },
 "nbformat": 4,
 "nbformat_minor": 2
}