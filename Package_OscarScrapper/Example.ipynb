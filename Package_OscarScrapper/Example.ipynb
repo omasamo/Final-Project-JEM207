{
 "cells": [
  {
   "cell_type": "code",
   "execution_count": 7,
   "source": [
    "from Oscarscrapper_package import Oscarscrapper"
   ],
   "outputs": [],
   "metadata": {}
  },
  {
   "cell_type": "code",
   "execution_count": 8,
   "source": [
    "Scraper = Oscarscrapper.Oscar_Scraper()"
   ],
   "outputs": [],
   "metadata": {}
  },
  {
   "cell_type": "code",
   "execution_count": null,
   "source": [],
   "outputs": [],
   "metadata": {}
  }
 ],
 "metadata": {
  "orig_nbformat": 4,
  "language_info": {
   "name": "python",
   "version": "3.9.6",
   "mimetype": "text/x-python",
   "codemirror_mode": {
    "name": "ipython",
    "version": 3
   },
   "pygments_lexer": "ipython3",
   "nbconvert_exporter": "python",
   "file_extension": ".py"
  },
  "kernelspec": {
   "name": "python3",
   "display_name": "Python 3.9.6 64-bit"
  },
  "interpreter": {
   "hash": "dfa17705022f4996520e7822357f95e1ba248b4f5eb36c5a7ef1b57abe98afdc"
  }
 },
 "nbformat": 4,
 "nbformat_minor": 2
}