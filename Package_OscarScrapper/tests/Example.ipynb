{
 "cells": [
  {
   "cell_type": "code",
   "execution_count": 1,
   "source": [
    "from Oscarscrapper_package import Oscarscrapper"
   ],
   "outputs": [],
   "metadata": {}
  },
  {
   "cell_type": "code",
   "execution_count": 2,
   "source": [
    "Scraper = Oscarscrapper.Oscar_Scraper()"
   ],
   "outputs": [
    {
     "output_type": "stream",
     "name": "stdout",
     "text": [
      "Getting the content of oscars.org webpages ...\n"
     ]
    },
    {
     "output_type": "stream",
     "name": "stderr",
     "text": [
      "100%|██████████| 11/11 [00:00<00:00, 16.59it/s]\n"
     ]
    },
    {
     "output_type": "stream",
     "name": "stdout",
     "text": [
      "Extracting the data of the website ...\n"
     ]
    },
    {
     "output_type": "stream",
     "name": "stderr",
     "text": [
      "100%|██████████| 11/11 [00:00<00:00, 59.23it/s]\n"
     ]
    },
    {
     "output_type": "stream",
     "name": "stdout",
     "text": [
      "Requesting TheMovieDataBase API for the gender, birthdays, original language and genres...\n"
     ]
    },
    {
     "output_type": "stream",
     "name": "stderr",
     "text": [
      "100%|██████████| 54/54 [00:12<00:00,  4.43it/s]\n",
      "100%|██████████| 54/54 [00:00<00:00, 54210.73it/s]\n"
     ]
    },
    {
     "output_type": "stream",
     "name": "stdout",
     "text": [
      "                                         film               name   result  \\\n",
      "year category                                                               \n",
      "1930 Actress                         Coquette      Mary Pickford   Winner   \n",
      "     Actress                         Madame X    Ruth Chatterton  Nominee   \n",
      "     Actress                       The Barker      Betty Compson  Nominee   \n",
      "     Actress                       The Letter      Jeanne Eagels  Nominee   \n",
      "     Actress                  The Divine Lady   Corinne Griffith  Nominee   \n",
      "     Actress              The Broadway Melody        Bessie Love  Nominee   \n",
      "1931 Actress                     The Divorcee      Norma Shearer   Winner   \n",
      "     Actress              The Devil's Holiday      Nancy Carroll  Nominee   \n",
      "     Actress                    Sarah and Son    Ruth Chatterton  Nominee   \n",
      "     Actress                    Anna Christie        Greta Garbo  Nominee   \n",
      "     Actress                          Romance        Greta Garbo  Nominee   \n",
      "     Actress                 Their Own Desire      Norma Shearer  Nominee   \n",
      "     Actress                   The Trespasser     Gloria Swanson  Nominee   \n",
      "1932 Actress                     Min and Bill     Marie Dressler   Winner   \n",
      "     Actress                          Morocco   Marlene Dietrich  Nominee   \n",
      "     Actress                         Cimarron        Irene Dunne  Nominee   \n",
      "     Actress                          Holiday        Ann Harding  Nominee   \n",
      "     Actress                      A Free Soul      Norma Shearer  Nominee   \n",
      "1933 Actress       The Sin of Madelon Claudet        Helen Hayes   Winner   \n",
      "     Actress                             Emma     Marie Dressler  Nominee   \n",
      "     Actress                    The Guardsman      Lynn Fontanne  Nominee   \n",
      "1934 Actress                    Morning Glory  Katharine Hepburn   Winner   \n",
      "     Actress                   Lady for a Day         May Robson  Nominee   \n",
      "     Actress                        Cavalcade      Diana Wynyard  Nominee   \n",
      "1935 Actress            It Happened One Night  Claudette Colbert   Winner   \n",
      "     Actress                 Of Human Bondage        Bette Davis  Nominee   \n",
      "     Actress                One Night of Love        Grace Moore  Nominee   \n",
      "     Actress   The Barretts of Wimpole Street      Norma Shearer  Nominee   \n",
      "1936 Actress                        Dangerous        Bette Davis   Winner   \n",
      "     Actress                  Escape Me Never  Elisabeth Bergner  Nominee   \n",
      "     Actress                   Private Worlds  Claudette Colbert  Nominee   \n",
      "     Actress                      Alice Adams  Katharine Hepburn  Nominee   \n",
      "     Actress                      Becky Sharp     Miriam Hopkins  Nominee   \n",
      "     Actress                   The Dark Angel       Merle Oberon  Nominee   \n",
      "1937 Actress               The Great Ziegfeld       Luise Rainer   Winner   \n",
      "     Actress               Theodora Goes Wild        Irene Dunne  Nominee   \n",
      "     Actress   Valiant Is the Word for Carrie      Gladys George  Nominee   \n",
      "     Actress                   My Man Godfrey     Carole Lombard  Nominee   \n",
      "     Actress                 Romeo and Juliet      Norma Shearer  Nominee   \n",
      "1938 Actress                   The Good Earth       Luise Rainer   Winner   \n",
      "     Actress                  The Awful Truth        Irene Dunne  Nominee   \n",
      "     Actress                          Camille        Greta Garbo  Nominee   \n",
      "     Actress                   A Star Is Born       Janet Gaynor  Nominee   \n",
      "     Actress                    Stella Dallas   Barbara Stanwyck  Nominee   \n",
      "1939 Actress                          Jezebel        Bette Davis   Winner   \n",
      "     Actress                    White Banners        Fay Bainter  Nominee   \n",
      "     Actress                        Pygmalion       Wendy Hiller  Nominee   \n",
      "     Actress                 Marie Antoinette      Norma Shearer  Nominee   \n",
      "     Actress                   Three Comrades  Margaret Sullavan  Nominee   \n",
      "1940 Actress               Gone with the Wind       Vivien Leigh   Winner   \n",
      "     Actress                     Dark Victory        Bette Davis  Nominee   \n",
      "     Actress                      Love Affair        Irene Dunne  Nominee   \n",
      "     Actress                        Ninotchka        Greta Garbo  Nominee   \n",
      "     Actress               Goodbye, Mr. Chips       Greer Garson  Nominee   \n",
      "\n",
      "               gender birthday  genreids  original_language  \n",
      "year category                                                \n",
      "1930 Actress   Female     1892       NaN                NaN  \n",
      "     Actress   Female     1892       NaN                NaN  \n",
      "     Actress   Female     1897       NaN                NaN  \n",
      "     Actress   Female     1890       NaN                NaN  \n",
      "     Actress   Female     1894       NaN                NaN  \n",
      "     Actress   Female     1898       NaN                NaN  \n",
      "1931 Actress   Female     1902       NaN                NaN  \n",
      "     Actress   Female     1903       NaN                NaN  \n",
      "     Actress   Female     1892       NaN                NaN  \n",
      "     Actress   Female     1905       NaN                NaN  \n",
      "     Actress   Female     1905       NaN                NaN  \n",
      "     Actress   Female     1902       NaN                NaN  \n",
      "     Actress   Female     1899       NaN                NaN  \n",
      "1932 Actress   Female     1868       NaN                NaN  \n",
      "     Actress   Female     1901       NaN                NaN  \n",
      "     Actress   Female     1898       NaN                NaN  \n",
      "     Actress   Female     1901       NaN                NaN  \n",
      "     Actress   Female     1902       NaN                NaN  \n",
      "1933 Actress   Female     1900       NaN                NaN  \n",
      "     Actress   Female     1868       NaN                NaN  \n",
      "     Actress   Female     1887       NaN                NaN  \n",
      "1934 Actress   Female     1907       NaN                NaN  \n",
      "     Actress   Female     1858       NaN                NaN  \n",
      "     Actress   Female     1906       NaN                NaN  \n",
      "1935 Actress   Female     1903       NaN                NaN  \n",
      "     Actress   Female     1908       NaN                NaN  \n",
      "     Actress   Female     1898       NaN                NaN  \n",
      "     Actress   Female     1902       NaN                NaN  \n",
      "1936 Actress   Female     1908       NaN                NaN  \n",
      "     Actress   Female     1897       NaN                NaN  \n",
      "     Actress   Female     1903       NaN                NaN  \n",
      "     Actress   Female     1907       NaN                NaN  \n",
      "     Actress   Female     1902       NaN                NaN  \n",
      "     Actress   Female     1911       NaN                NaN  \n",
      "1937 Actress   Female     1910       NaN                NaN  \n",
      "     Actress   Female     1898       NaN                NaN  \n",
      "     Actress   Female     1900       NaN                NaN  \n",
      "     Actress   Female     1908       NaN                NaN  \n",
      "     Actress   Female     1902       NaN                NaN  \n",
      "1938 Actress   Female     1910       NaN                NaN  \n",
      "     Actress   Female     1898       NaN                NaN  \n",
      "     Actress   Female     1905       NaN                NaN  \n",
      "     Actress   Female     1906       NaN                NaN  \n",
      "     Actress   Female     1907       NaN                NaN  \n",
      "1939 Actress   Female     1908       NaN                NaN  \n",
      "     Actress   Female     1891       NaN                NaN  \n",
      "     Actress   Female     1912       NaN                NaN  \n",
      "     Actress   Female     1902       NaN                NaN  \n",
      "     Actress   Female     1909       NaN                NaN  \n",
      "1940 Actress   Female     1913       NaN                NaN  \n",
      "     Actress   Female     1908       NaN                NaN  \n",
      "     Actress   Female     1898       NaN                NaN  \n",
      "     Actress   Female     1905       NaN                NaN  \n",
      "     Actress   Female     1904       NaN                NaN  \n",
      "The dataframe was saved as Individuals2.csv in your downloads directory.\n"
     ]
    }
   ],
   "metadata": {}
  },
  {
   "cell_type": "code",
   "execution_count": null,
   "source": [],
   "outputs": [],
   "metadata": {}
  }
 ],
 "metadata": {
  "orig_nbformat": 4,
  "language_info": {
   "name": "python",
   "version": "3.9.6",
   "mimetype": "text/x-python",
   "codemirror_mode": {
    "name": "ipython",
    "version": 3
   },
   "pygments_lexer": "ipython3",
   "nbconvert_exporter": "python",
   "file_extension": ".py"
  },
  "kernelspec": {
   "name": "python3",
   "display_name": "Python 3.9.6 64-bit"
  },
  "interpreter": {
   "hash": "dfa17705022f4996520e7822357f95e1ba248b4f5eb36c5a7ef1b57abe98afdc"
  }
 },
 "nbformat": 4,
 "nbformat_minor": 2
}