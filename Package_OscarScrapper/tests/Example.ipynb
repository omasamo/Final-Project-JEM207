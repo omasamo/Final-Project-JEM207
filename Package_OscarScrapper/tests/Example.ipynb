{
 "cells": [
  {
   "cell_type": "code",
   "execution_count": 1,
   "source": [
    "from Oscarscrapper_package import Oscarscrapper"
   ],
   "outputs": [],
   "metadata": {}
  },
  {
   "cell_type": "code",
   "execution_count": 2,
   "source": [
    "Scrapper = Oscarscrapper.Oscar_Scraper()"
   ],
   "outputs": [
    {
     "output_type": "stream",
     "name": "stdout",
     "text": [
      "Getting the content of oscars.org webpages ...\n"
     ]
    },
    {
     "output_type": "stream",
     "name": "stderr",
     "text": [
      "100%|██████████| 2/2 [00:00<00:00,  8.89it/s]\n"
     ]
    },
    {
     "output_type": "stream",
     "name": "stdout",
     "text": [
      "Extracting the data of the website ...\n"
     ]
    },
    {
     "output_type": "stream",
     "name": "stderr",
     "text": [
      "100%|██████████| 2/2 [00:00<00:00, 51.70it/s]\n"
     ]
    },
    {
     "output_type": "stream",
     "name": "stdout",
     "text": [
      "Requesting TheMovieDataBase API for the gender, birthdays, original language and genres...\n"
     ]
    },
    {
     "output_type": "stream",
     "name": "stderr",
     "text": [
      "100%|██████████| 13/13 [00:06<00:00,  1.93it/s]\n",
      "100%|██████████| 13/13 [00:00<00:00, 13025.79it/s]\n"
     ]
    },
    {
     "output_type": "stream",
     "name": "stdout",
     "text": [
      "                              film              name   result  gender  \\\n",
      "year category                                                           \n",
      "1930 Actress              Coquette     Mary Pickford   Winner  Female   \n",
      "     Actress              Madame X   Ruth Chatterton  Nominee  Female   \n",
      "     Actress            The Barker     Betty Compson  Nominee  Female   \n",
      "     Actress            The Letter     Jeanne Eagels  Nominee  Female   \n",
      "     Actress       The Divine Lady  Corinne Griffith  Nominee  Female   \n",
      "     Actress   The Broadway Melody       Bessie Love  Nominee  Female   \n",
      "1931 Actress          The Divorcee     Norma Shearer   Winner  Female   \n",
      "     Actress   The Devil's Holiday     Nancy Carroll  Nominee  Female   \n",
      "     Actress         Sarah and Son   Ruth Chatterton  Nominee  Female   \n",
      "     Actress         Anna Christie       Greta Garbo  Nominee  Female   \n",
      "     Actress               Romance       Greta Garbo  Nominee  Female   \n",
      "     Actress      Their Own Desire     Norma Shearer  Nominee  Female   \n",
      "     Actress        The Trespasser    Gloria Swanson  Nominee  Female   \n",
      "\n",
      "              birthday  genreids  original_language  \n",
      "year category                                        \n",
      "1930 Actress      1892       NaN                NaN  \n",
      "     Actress      1892       NaN                NaN  \n",
      "     Actress      1897       NaN                NaN  \n",
      "     Actress      1890       NaN                NaN  \n",
      "     Actress      1894       NaN                NaN  \n",
      "     Actress      1898       NaN                NaN  \n",
      "1931 Actress      1902       NaN                NaN  \n",
      "     Actress      1903       NaN                NaN  \n",
      "     Actress      1892       NaN                NaN  \n",
      "     Actress      1905       NaN                NaN  \n",
      "     Actress      1905       NaN                NaN  \n",
      "     Actress      1902       NaN                NaN  \n",
      "     Actress      1899       NaN                NaN  \n",
      "The dataframe was saved as Individuals0.csv in your working directory.\n"
     ]
    }
   ],
   "metadata": {}
  },
  {
   "cell_type": "code",
   "execution_count": null,
   "source": [],
   "outputs": [],
   "metadata": {}
  }
 ],
 "metadata": {
  "orig_nbformat": 4,
  "language_info": {
   "name": "python",
   "version": "3.9.6",
   "mimetype": "text/x-python",
   "codemirror_mode": {
    "name": "ipython",
    "version": 3
   },
   "pygments_lexer": "ipython3",
   "nbconvert_exporter": "python",
   "file_extension": ".py"
  },
  "kernelspec": {
   "name": "python3",
   "display_name": "Python 3.9.6 64-bit"
  },
  "interpreter": {
   "hash": "dfa17705022f4996520e7822357f95e1ba248b4f5eb36c5a7ef1b57abe98afdc"
  }
 },
 "nbformat": 4,
 "nbformat_minor": 2
}