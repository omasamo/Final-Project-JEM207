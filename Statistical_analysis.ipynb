{
 "cells": [
  {
   "cell_type": "code",
   "execution_count": 2,
   "source": [
    "import pandas as pd\r\n",
    "import os"
   ],
   "outputs": [],
   "metadata": {}
  },
  {
   "cell_type": "code",
   "execution_count": 36,
   "source": [
    "data = pd.read_csv(\"individuals.csv\")"
   ],
   "outputs": [],
   "metadata": {}
  },
  {
   "cell_type": "code",
   "execution_count": 4,
   "source": [
    "print(data)\r\n",
    "hashmap = {}\r\n",
    "for name in data[\"name\"]:\r\n",
    "    "
   ],
   "outputs": [
    {
     "output_type": "stream",
     "name": "stdout",
     "text": [
      "                       film               name   result  gender  birthday\n",
      "0            In Old Arizona      Warner Baxter   Winner    Male      1889\n",
      "1               Thunderbolt    George Bancroft  Nominee    Male      1882\n",
      "2                     Alibi     Chester Morris  Nominee    Male      1901\n",
      "3               The Valiant          Paul Muni  Nominee    Male      1895\n",
      "4               The Patriot        Lewis Stone  Nominee    Male      1879\n",
      "...                     ...                ...      ...     ...       ...\n",
      "1367              Nomadland         Chloé Zhao   Winner  Female      1982\n",
      "1368          Another Round  Thomas Vinterberg  Nominee    Male      1969\n",
      "1369                   Mank      David Fincher  Nominee    Male      1962\n",
      "1370                 Minari    Lee Isaac Chung  Nominee    Male      1978\n",
      "1371  Promising Young Woman    Emerald Fennell  Nominee  Female      1985\n",
      "\n",
      "[1372 rows x 5 columns]\n"
     ]
    }
   ],
   "metadata": {}
  },
  {
   "cell_type": "code",
   "execution_count": 37,
   "source": [
    "hashmap = {}\r\n",
    "for names in data[\"name\"]:\r\n",
    "    if hashmap.get(names) == None:\r\n",
    "        hashmap[names] = 1\r\n",
    "    else:\r\n",
    "        hashmap[names] = hashmap[names] + 1\r\n",
    "\r\n",
    "number_of_nomination = []\r\n",
    "\r\n",
    "for names in data[\"name\"]:\r\n",
    "   number_of_nomination.append(hashmap.get(names))\r\n",
    "\r\n",
    "data[\"Number of nominations\"] = number_of_nomination"
   ],
   "outputs": [],
   "metadata": {}
  },
  {
   "cell_type": "code",
   "execution_count": 38,
   "source": [
    "data"
   ],
   "outputs": [
    {
     "output_type": "execute_result",
     "data": {
      "text/plain": [
       "                       film               name   result  gender  birthday  \\\n",
       "0            In Old Arizona      Warner Baxter   Winner    Male      1889   \n",
       "1               Thunderbolt    George Bancroft  Nominee    Male      1882   \n",
       "2                     Alibi     Chester Morris  Nominee    Male      1901   \n",
       "3               The Valiant          Paul Muni  Nominee    Male      1895   \n",
       "4               The Patriot        Lewis Stone  Nominee    Male      1879   \n",
       "...                     ...                ...      ...     ...       ...   \n",
       "1367              Nomadland         Chloé Zhao   Winner  Female      1982   \n",
       "1368          Another Round  Thomas Vinterberg  Nominee    Male      1969   \n",
       "1369                   Mank      David Fincher  Nominee    Male      1962   \n",
       "1370                 Minari    Lee Isaac Chung  Nominee    Male      1978   \n",
       "1371  Promising Young Woman    Emerald Fennell  Nominee  Female      1985   \n",
       "\n",
       "      Number of nominations  \n",
       "0                         1  \n",
       "1                         1  \n",
       "2                         1  \n",
       "3                         6  \n",
       "4                         1  \n",
       "...                     ...  \n",
       "1367                      1  \n",
       "1368                      1  \n",
       "1369                      3  \n",
       "1370                      1  \n",
       "1371                      1  \n",
       "\n",
       "[1372 rows x 6 columns]"
      ],
      "text/html": [
       "<div>\n",
       "<style scoped>\n",
       "    .dataframe tbody tr th:only-of-type {\n",
       "        vertical-align: middle;\n",
       "    }\n",
       "\n",
       "    .dataframe tbody tr th {\n",
       "        vertical-align: top;\n",
       "    }\n",
       "\n",
       "    .dataframe thead th {\n",
       "        text-align: right;\n",
       "    }\n",
       "</style>\n",
       "<table border=\"1\" class=\"dataframe\">\n",
       "  <thead>\n",
       "    <tr style=\"text-align: right;\">\n",
       "      <th></th>\n",
       "      <th>film</th>\n",
       "      <th>name</th>\n",
       "      <th>result</th>\n",
       "      <th>gender</th>\n",
       "      <th>birthday</th>\n",
       "      <th>Number of nominations</th>\n",
       "    </tr>\n",
       "  </thead>\n",
       "  <tbody>\n",
       "    <tr>\n",
       "      <th>0</th>\n",
       "      <td>In Old Arizona</td>\n",
       "      <td>Warner Baxter</td>\n",
       "      <td>Winner</td>\n",
       "      <td>Male</td>\n",
       "      <td>1889</td>\n",
       "      <td>1</td>\n",
       "    </tr>\n",
       "    <tr>\n",
       "      <th>1</th>\n",
       "      <td>Thunderbolt</td>\n",
       "      <td>George Bancroft</td>\n",
       "      <td>Nominee</td>\n",
       "      <td>Male</td>\n",
       "      <td>1882</td>\n",
       "      <td>1</td>\n",
       "    </tr>\n",
       "    <tr>\n",
       "      <th>2</th>\n",
       "      <td>Alibi</td>\n",
       "      <td>Chester Morris</td>\n",
       "      <td>Nominee</td>\n",
       "      <td>Male</td>\n",
       "      <td>1901</td>\n",
       "      <td>1</td>\n",
       "    </tr>\n",
       "    <tr>\n",
       "      <th>3</th>\n",
       "      <td>The Valiant</td>\n",
       "      <td>Paul Muni</td>\n",
       "      <td>Nominee</td>\n",
       "      <td>Male</td>\n",
       "      <td>1895</td>\n",
       "      <td>6</td>\n",
       "    </tr>\n",
       "    <tr>\n",
       "      <th>4</th>\n",
       "      <td>The Patriot</td>\n",
       "      <td>Lewis Stone</td>\n",
       "      <td>Nominee</td>\n",
       "      <td>Male</td>\n",
       "      <td>1879</td>\n",
       "      <td>1</td>\n",
       "    </tr>\n",
       "    <tr>\n",
       "      <th>...</th>\n",
       "      <td>...</td>\n",
       "      <td>...</td>\n",
       "      <td>...</td>\n",
       "      <td>...</td>\n",
       "      <td>...</td>\n",
       "      <td>...</td>\n",
       "    </tr>\n",
       "    <tr>\n",
       "      <th>1367</th>\n",
       "      <td>Nomadland</td>\n",
       "      <td>Chloé Zhao</td>\n",
       "      <td>Winner</td>\n",
       "      <td>Female</td>\n",
       "      <td>1982</td>\n",
       "      <td>1</td>\n",
       "    </tr>\n",
       "    <tr>\n",
       "      <th>1368</th>\n",
       "      <td>Another Round</td>\n",
       "      <td>Thomas Vinterberg</td>\n",
       "      <td>Nominee</td>\n",
       "      <td>Male</td>\n",
       "      <td>1969</td>\n",
       "      <td>1</td>\n",
       "    </tr>\n",
       "    <tr>\n",
       "      <th>1369</th>\n",
       "      <td>Mank</td>\n",
       "      <td>David Fincher</td>\n",
       "      <td>Nominee</td>\n",
       "      <td>Male</td>\n",
       "      <td>1962</td>\n",
       "      <td>3</td>\n",
       "    </tr>\n",
       "    <tr>\n",
       "      <th>1370</th>\n",
       "      <td>Minari</td>\n",
       "      <td>Lee Isaac Chung</td>\n",
       "      <td>Nominee</td>\n",
       "      <td>Male</td>\n",
       "      <td>1978</td>\n",
       "      <td>1</td>\n",
       "    </tr>\n",
       "    <tr>\n",
       "      <th>1371</th>\n",
       "      <td>Promising Young Woman</td>\n",
       "      <td>Emerald Fennell</td>\n",
       "      <td>Nominee</td>\n",
       "      <td>Female</td>\n",
       "      <td>1985</td>\n",
       "      <td>1</td>\n",
       "    </tr>\n",
       "  </tbody>\n",
       "</table>\n",
       "<p>1372 rows × 6 columns</p>\n",
       "</div>"
      ]
     },
     "metadata": {},
     "execution_count": 38
    }
   ],
   "metadata": {}
  },
  {
   "cell_type": "code",
   "execution_count": 29,
   "source": [
    "\r\n",
    "print(max(data[\"Number of nomination\"]))"
   ],
   "outputs": [
    {
     "output_type": "stream",
     "name": "stdout",
     "text": [
      "17.0\n"
     ]
    }
   ],
   "metadata": {}
  }
 ],
 "metadata": {
  "orig_nbformat": 4,
  "language_info": {
   "name": "python",
   "version": "3.8.3",
   "mimetype": "text/x-python",
   "codemirror_mode": {
    "name": "ipython",
    "version": 3
   },
   "pygments_lexer": "ipython3",
   "nbconvert_exporter": "python",
   "file_extension": ".py"
  },
  "kernelspec": {
   "name": "python3",
   "display_name": "Python 3.8.3 64-bit ('base': conda)"
  },
  "interpreter": {
   "hash": "6179790f94d516a8fedd26ec050ceb7f2fefbbdfdd62a453be159a6ca753b1b7"
  }
 },
 "nbformat": 4,
 "nbformat_minor": 2
}