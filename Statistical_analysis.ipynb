{
 "cells": [
  {
   "cell_type": "code",
   "execution_count": 1,
   "metadata": {},
   "outputs": [],
   "source": [
    "import pandas as pd\n",
    "import os\n",
    "import numpy as np\n",
    "import matplotlib.pyplot as plt\n",
    "from matplotlib.ticker import StrMethodFormatter"
   ]
  },
  {
   "cell_type": "code",
   "execution_count": 191,
   "metadata": {},
   "outputs": [
    {
     "data": {
      "text/html": [
       "<div>\n",
       "<style scoped>\n",
       "    .dataframe tbody tr th:only-of-type {\n",
       "        vertical-align: middle;\n",
       "    }\n",
       "\n",
       "    .dataframe tbody tr th {\n",
       "        vertical-align: top;\n",
       "    }\n",
       "\n",
       "    .dataframe thead th {\n",
       "        text-align: right;\n",
       "    }\n",
       "</style>\n",
       "<table border=\"1\" class=\"dataframe\">\n",
       "  <thead>\n",
       "    <tr style=\"text-align: right;\">\n",
       "      <th></th>\n",
       "      <th>year</th>\n",
       "      <th>category</th>\n",
       "      <th>film</th>\n",
       "      <th>name</th>\n",
       "      <th>result</th>\n",
       "      <th>gender</th>\n",
       "      <th>birthday</th>\n",
       "    </tr>\n",
       "  </thead>\n",
       "  <tbody>\n",
       "    <tr>\n",
       "      <th>0</th>\n",
       "      <td>1930</td>\n",
       "      <td>Actor</td>\n",
       "      <td>In Old Arizona</td>\n",
       "      <td>Warner Baxter</td>\n",
       "      <td>Winner</td>\n",
       "      <td>Male</td>\n",
       "      <td>1889</td>\n",
       "    </tr>\n",
       "    <tr>\n",
       "      <th>1</th>\n",
       "      <td>1930</td>\n",
       "      <td>Actor</td>\n",
       "      <td>Thunderbolt</td>\n",
       "      <td>George Bancroft</td>\n",
       "      <td>Nominee</td>\n",
       "      <td>Male</td>\n",
       "      <td>1882</td>\n",
       "    </tr>\n",
       "    <tr>\n",
       "      <th>2</th>\n",
       "      <td>1930</td>\n",
       "      <td>Actor</td>\n",
       "      <td>Alibi</td>\n",
       "      <td>Chester Morris</td>\n",
       "      <td>Nominee</td>\n",
       "      <td>Male</td>\n",
       "      <td>1901</td>\n",
       "    </tr>\n",
       "    <tr>\n",
       "      <th>3</th>\n",
       "      <td>1930</td>\n",
       "      <td>Actor</td>\n",
       "      <td>The Valiant</td>\n",
       "      <td>Paul Muni</td>\n",
       "      <td>Nominee</td>\n",
       "      <td>Male</td>\n",
       "      <td>1895</td>\n",
       "    </tr>\n",
       "    <tr>\n",
       "      <th>4</th>\n",
       "      <td>1930</td>\n",
       "      <td>Actor</td>\n",
       "      <td>The Patriot</td>\n",
       "      <td>Lewis Stone</td>\n",
       "      <td>Nominee</td>\n",
       "      <td>Male</td>\n",
       "      <td>1879</td>\n",
       "    </tr>\n",
       "  </tbody>\n",
       "</table>\n",
       "</div>"
      ],
      "text/plain": [
       "   year category            film             name   result gender  birthday\n",
       "0  1930    Actor  In Old Arizona    Warner Baxter   Winner   Male      1889\n",
       "1  1930    Actor     Thunderbolt  George Bancroft  Nominee   Male      1882\n",
       "2  1930    Actor           Alibi   Chester Morris  Nominee   Male      1901\n",
       "3  1930    Actor     The Valiant        Paul Muni  Nominee   Male      1895\n",
       "4  1930    Actor     The Patriot      Lewis Stone  Nominee   Male      1879"
      ]
     },
     "execution_count": 191,
     "metadata": {},
     "output_type": "execute_result"
    }
   ],
   "source": [
    "data = pd.read_csv(\"Individuals.csv\")\n",
    "data.head()"
   ]
  },
  {
   "cell_type": "code",
   "execution_count": 192,
   "metadata": {},
   "outputs": [],
   "source": [
    "hashmap = {}\n",
    "for names in data[\"name\"]:\n",
    "    if hashmap.get(names) == None:\n",
    "        hashmap[names] = 1\n",
    "    else:\n",
    "        hashmap[names] = hashmap[names] + 1\n",
    "\n",
    "number_of_nomination = []\n",
    "\n",
    "for names in data[\"name\"]:\n",
    "   number_of_nomination.append(hashmap.get(names))\n",
    "\n",
    "data[\"Number of nominations\"] = number_of_nomination"
   ]
  },
  {
   "cell_type": "code",
   "execution_count": 193,
   "metadata": {},
   "outputs": [],
   "source": [
    "data[\"Age when nominated\"] = data[\"year\"] - data[\"birthday\"]\n",
    "for index_names in range(len(data[\"name\"])):\n",
    "    \n",
    "    if data.loc[:,\"result\"][index_names] == \"Nominee\":\n",
    "        data.loc[index_names:index_names, \"Age when winner\"] = np.nan\n",
    "    if data.loc[:,\"result\"][index_names] == \"Winner\":\n",
    "        data.loc[index_names:index_names, \"Age when winner\"] = data[\"year\"][index_names] - data[\"birthday\"][index_names]\n",
    "data[\"Age when winner\"] = data[\"Age when winner\"].astype(\"Int64\")"
   ]
  },
  {
   "cell_type": "code",
   "execution_count": 194,
   "metadata": {},
   "outputs": [
    {
     "data": {
      "text/html": [
       "<div>\n",
       "<style scoped>\n",
       "    .dataframe tbody tr th:only-of-type {\n",
       "        vertical-align: middle;\n",
       "    }\n",
       "\n",
       "    .dataframe tbody tr th {\n",
       "        vertical-align: top;\n",
       "    }\n",
       "\n",
       "    .dataframe thead th {\n",
       "        text-align: right;\n",
       "    }\n",
       "</style>\n",
       "<table border=\"1\" class=\"dataframe\">\n",
       "  <thead>\n",
       "    <tr style=\"text-align: right;\">\n",
       "      <th></th>\n",
       "      <th>year</th>\n",
       "      <th>category</th>\n",
       "      <th>film</th>\n",
       "      <th>name</th>\n",
       "      <th>result</th>\n",
       "      <th>gender</th>\n",
       "      <th>birthday</th>\n",
       "      <th>Number of nominations</th>\n",
       "      <th>Age when nominated</th>\n",
       "      <th>Age when winner</th>\n",
       "    </tr>\n",
       "  </thead>\n",
       "  <tbody>\n",
       "    <tr>\n",
       "      <th>0</th>\n",
       "      <td>1930</td>\n",
       "      <td>Actor</td>\n",
       "      <td>In Old Arizona</td>\n",
       "      <td>Warner Baxter</td>\n",
       "      <td>Winner</td>\n",
       "      <td>Male</td>\n",
       "      <td>1889</td>\n",
       "      <td>1</td>\n",
       "      <td>41</td>\n",
       "      <td>41</td>\n",
       "    </tr>\n",
       "    <tr>\n",
       "      <th>1</th>\n",
       "      <td>1930</td>\n",
       "      <td>Actor</td>\n",
       "      <td>Thunderbolt</td>\n",
       "      <td>George Bancroft</td>\n",
       "      <td>Nominee</td>\n",
       "      <td>Male</td>\n",
       "      <td>1882</td>\n",
       "      <td>1</td>\n",
       "      <td>48</td>\n",
       "      <td>&lt;NA&gt;</td>\n",
       "    </tr>\n",
       "    <tr>\n",
       "      <th>2</th>\n",
       "      <td>1930</td>\n",
       "      <td>Actor</td>\n",
       "      <td>Alibi</td>\n",
       "      <td>Chester Morris</td>\n",
       "      <td>Nominee</td>\n",
       "      <td>Male</td>\n",
       "      <td>1901</td>\n",
       "      <td>1</td>\n",
       "      <td>29</td>\n",
       "      <td>&lt;NA&gt;</td>\n",
       "    </tr>\n",
       "    <tr>\n",
       "      <th>3</th>\n",
       "      <td>1930</td>\n",
       "      <td>Actor</td>\n",
       "      <td>The Valiant</td>\n",
       "      <td>Paul Muni</td>\n",
       "      <td>Nominee</td>\n",
       "      <td>Male</td>\n",
       "      <td>1895</td>\n",
       "      <td>6</td>\n",
       "      <td>35</td>\n",
       "      <td>&lt;NA&gt;</td>\n",
       "    </tr>\n",
       "    <tr>\n",
       "      <th>4</th>\n",
       "      <td>1930</td>\n",
       "      <td>Actor</td>\n",
       "      <td>The Patriot</td>\n",
       "      <td>Lewis Stone</td>\n",
       "      <td>Nominee</td>\n",
       "      <td>Male</td>\n",
       "      <td>1879</td>\n",
       "      <td>1</td>\n",
       "      <td>51</td>\n",
       "      <td>&lt;NA&gt;</td>\n",
       "    </tr>\n",
       "  </tbody>\n",
       "</table>\n",
       "</div>"
      ],
      "text/plain": [
       "   year category            film             name   result gender  birthday  \\\n",
       "0  1930    Actor  In Old Arizona    Warner Baxter   Winner   Male      1889   \n",
       "1  1930    Actor     Thunderbolt  George Bancroft  Nominee   Male      1882   \n",
       "2  1930    Actor           Alibi   Chester Morris  Nominee   Male      1901   \n",
       "3  1930    Actor     The Valiant        Paul Muni  Nominee   Male      1895   \n",
       "4  1930    Actor     The Patriot      Lewis Stone  Nominee   Male      1879   \n",
       "\n",
       "   Number of nominations  Age when nominated  Age when winner  \n",
       "0                      1                  41               41  \n",
       "1                      1                  48             <NA>  \n",
       "2                      1                  29             <NA>  \n",
       "3                      6                  35             <NA>  \n",
       "4                      1                  51             <NA>  "
      ]
     },
     "execution_count": 194,
     "metadata": {},
     "output_type": "execute_result"
    }
   ],
   "source": [
    "data.head()"
   ]
  },
  {
   "cell_type": "code",
   "execution_count": null,
   "metadata": {},
   "outputs": [],
   "source": [
    "ax = data.hist(column='Age when winner', by='gender', bins=25, grid=False, figsize=(8,10), layout=(3,1), sharex=True, color='#86bf91', zorder=2, rwidth=0.9)\n",
    "\n",
    "for i,x in enumerate(ax):\n",
    "\n",
    "    # Despine\n",
    "    x.spines['right'].set_visible(False)\n",
    "    x.spines['top'].set_visible(False)\n",
    "    x.spines['left'].set_visible(False)\n",
    "\n",
    "    # Switch off ticks\n",
    "    x.tick_params(axis=\"both\", which=\"both\", bottom=\"off\", top=\"off\", labelbottom=\"on\", left=\"off\", right=\"off\", labelleft=\"on\")\n",
    "\n",
    "    # Draw horizontal axis lines\n",
    "    vals = x.get_yticks()\n",
    "    for tick in vals:\n",
    "        x.axhline(y=tick, linestyle='dashed', alpha=0.4, color='#eeeeee', zorder=1)\n",
    "\n",
    "    # Set x-axis label\n",
    "    x.set_xlabel(\"Age when winner (year)\", labelpad=20, weight='bold', size=12)\n",
    "    plt.xlim(0, 90)\n",
    "\n",
    "\n",
    "    # Set y-axis label\n",
    "    if i == 1:\n",
    "        x.set_ylabel(\"N\", labelpad=50, weight='bold', size=12)\n",
    "\n",
    "    # Format y-axis label\n",
    "    x.yaxis.set_major_formatter(StrMethodFormatter('{x:,g}'))\n",
    "\n",
    "    x.tick_params(axis='x', rotation=0)"
   ]
  },
  {
   "cell_type": "code",
   "execution_count": 197,
   "metadata": {},
   "outputs": [
    {
     "data": {
      "image/png": "[encoded data removed]",
      "text/plain": [
       "<Figure size 432x288 with 1 Axes>"
      ]
     },
     "metadata": {
      "needs_background": "light"
     },
     "output_type": "display_data"
    }
   ],
   "source": [
    "actor = data[data[\"gender\"] == \"Male\"]\n",
    "actor = actor[(actor[\"category\"] == \"Actor\") | (actor[\"category\"] == \"Actor in a Leading Role\")]\n",
    "actor = actor[[\"Age when nominated\"]]\n",
    "actress = data[data[\"gender\"] == \"Female\"]\n",
    "actress = actress[(actress[\"category\"] == \"Actress\") | (actress[\"category\"] == \"Actress in a Leading Role\")]\n",
    "actress = actress[[\"Age when nominated\"]]\n",
    "\n",
    "actor = actor.stack()\n",
    "actress = actress.stack()\n",
    "\n",
    "\n",
    "bins = np.linspace(10, 90, 80)\n",
    "\n",
    "plt.hist(actor, bins=bins, color = \"lightblue\",alpha = 0.8, label= \"Male\", edgecolor = \"black\")\n",
    "\n",
    "plt.hist(actress,  bins=bins, color=\"lightcoral\", alpha=0.55, label = \"Femelle\", edgecolor = \"black\")\n",
    "pyplot.legend(loc='upper right')\n",
    "\n",
    "plt.title('Age when nominated to best actor/actress by gender')\n",
    "plt.savefig(\"two_histograms_01.png\", bbox_inches='tight',dpi=400)\n",
    "\n",
    "plt.show()\n",
    "\n"
   ]
  },
  {
   "cell_type": "code",
   "execution_count": 198,
   "metadata": {},
   "outputs": [
    {
     "data": {
      "image/png": "[encoded data removed]",
      "text/plain": [
       "<Figure size 432x288 with 1 Axes>"
      ]
     },
     "metadata": {
      "needs_background": "light"
     },
     "output_type": "display_data"
    }
   ],
   "source": [
    "maledirecting = data[data[\"gender\"] == \"Male\"]\n",
    "maledirecting = maledirecting[maledirecting[\"category\"] == \"Directing\"]\n",
    "maledirecting = maledirecting[[\"Age when nominated\"]]\n",
    "femaledirecting = data[data[\"gender\"] == \"Female\"]\n",
    "femaledirecting = femaledirecting[femaledirecting[\"category\"] == \"Directing\"]\n",
    "femaledirecting = femaledirecting[[\"Age when nominated\"]]\n",
    "\n",
    "maledirecting = maledirecting.stack()\n",
    "femaledirecting = femaledirecting.stack()\n",
    "\n",
    "bins = np.linspace(10, 90, 80)\n",
    "\n",
    "plt.hist(maledirecting, bins=bins, color = \"lightblue\",alpha = 0.8, label= \"Male\", edgecolor = \"black\")\n",
    "\n",
    "plt.hist(femaledirecting,  bins=bins, color=\"lightcoral\", alpha=0.55, label = \"Femelle\", edgecolor = \"black\")\n",
    "pyplot.legend(loc='upper right')\n",
    "\n",
    "plt.title('Age when nominated to best directing by gender')\n",
    "plt.savefig(\"two_histograms_03.png\", bbox_inches='tight',dpi=400)\n",
    "\n",
    "plt.show()"
   ]
  },
  {
   "cell_type": "code",
   "execution_count": 221,
   "metadata": {},
   "outputs": [],
   "source": [
    "list_category = []\n",
    "blabla = \"\"\n",
    "while blabla != \"Stop\":\n",
    "    blabla = input(\"Write one category you want to search then press enter. When you're done, write 'Stop'\")\n",
    "    if blabla != \"Stop\":\n",
    "        list_category.append(blabla)\n",
    "        "
   ]
  },
  {
   "cell_type": "code",
   "execution_count": 224,
   "metadata": {},
   "outputs": [
    {
     "data": {
      "text/plain": [
       "True"
      ]
     },
     "execution_count": 224,
     "metadata": {},
     "output_type": "execute_result"
    }
   ],
   "source": [
    "\"belle gosse\" in list_category"
   ]
  },
  {
   "cell_type": "code",
   "execution_count": 6,
   "metadata": {},
   "outputs": [
    {
     "data": {
      "text/html": [
       "<div>\n",
       "<style scoped>\n",
       "    .dataframe tbody tr th:only-of-type {\n",
       "        vertical-align: middle;\n",
       "    }\n",
       "\n",
       "    .dataframe tbody tr th {\n",
       "        vertical-align: top;\n",
       "    }\n",
       "\n",
       "    .dataframe thead th {\n",
       "        text-align: right;\n",
       "    }\n",
       "</style>\n",
       "<table border=\"1\" class=\"dataframe\">\n",
       "  <thead>\n",
       "    <tr style=\"text-align: right;\">\n",
       "      <th></th>\n",
       "      <th>year</th>\n",
       "      <th>category</th>\n",
       "      <th>film</th>\n",
       "      <th>name</th>\n",
       "      <th>result</th>\n",
       "      <th>gender</th>\n",
       "      <th>birthday</th>\n",
       "      <th>genreids</th>\n",
       "      <th>original_language</th>\n",
       "    </tr>\n",
       "  </thead>\n",
       "  <tbody>\n",
       "    <tr>\n",
       "      <th>0</th>\n",
       "      <td>1930</td>\n",
       "      <td>Outstanding Picture</td>\n",
       "      <td>The Broadway Melody</td>\n",
       "      <td>Metro-Goldwyn-Mayer</td>\n",
       "      <td>Winner</td>\n",
       "      <td>NaN</td>\n",
       "      <td>NaN</td>\n",
       "      <td>[18, 10402, 10749]</td>\n",
       "      <td>en</td>\n",
       "    </tr>\n",
       "    <tr>\n",
       "      <th>1</th>\n",
       "      <td>1930</td>\n",
       "      <td>Outstanding Picture</td>\n",
       "      <td>Alibi</td>\n",
       "      <td>Feature Productions</td>\n",
       "      <td>Nominee</td>\n",
       "      <td>NaN</td>\n",
       "      <td>NaN</td>\n",
       "      <td>[28, 80, 53]</td>\n",
       "      <td>en</td>\n",
       "    </tr>\n",
       "    <tr>\n",
       "      <th>2</th>\n",
       "      <td>1930</td>\n",
       "      <td>Outstanding Picture</td>\n",
       "      <td>In Old Arizona</td>\n",
       "      <td>Fox</td>\n",
       "      <td>Nominee</td>\n",
       "      <td>NaN</td>\n",
       "      <td>NaN</td>\n",
       "      <td>[28, 37]</td>\n",
       "      <td>en</td>\n",
       "    </tr>\n",
       "    <tr>\n",
       "      <th>3</th>\n",
       "      <td>1930</td>\n",
       "      <td>Outstanding Picture</td>\n",
       "      <td>The Hollywood Revue of 1929</td>\n",
       "      <td>Metro-Goldwyn-Mayer</td>\n",
       "      <td>Nominee</td>\n",
       "      <td>NaN</td>\n",
       "      <td>NaN</td>\n",
       "      <td>[35, 10402]</td>\n",
       "      <td>en</td>\n",
       "    </tr>\n",
       "    <tr>\n",
       "      <th>4</th>\n",
       "      <td>1930</td>\n",
       "      <td>Outstanding Picture</td>\n",
       "      <td>The Patriot</td>\n",
       "      <td>Paramount Famous Lasky</td>\n",
       "      <td>Nominee</td>\n",
       "      <td>NaN</td>\n",
       "      <td>NaN</td>\n",
       "      <td>[18]</td>\n",
       "      <td>en</td>\n",
       "    </tr>\n",
       "  </tbody>\n",
       "</table>\n",
       "</div>"
      ],
      "text/plain": [
       "   year             category                         film  \\\n",
       "0  1930  Outstanding Picture          The Broadway Melody   \n",
       "1  1930  Outstanding Picture                        Alibi   \n",
       "2  1930  Outstanding Picture               In Old Arizona   \n",
       "3  1930  Outstanding Picture  The Hollywood Revue of 1929   \n",
       "4  1930  Outstanding Picture                  The Patriot   \n",
       "\n",
       "                     name   result  gender  birthday            genreids  \\\n",
       "0     Metro-Goldwyn-Mayer   Winner     NaN       NaN  [18, 10402, 10749]   \n",
       "1     Feature Productions  Nominee     NaN       NaN        [28, 80, 53]   \n",
       "2                     Fox  Nominee     NaN       NaN            [28, 37]   \n",
       "3     Metro-Goldwyn-Mayer  Nominee     NaN       NaN         [35, 10402]   \n",
       "4  Paramount Famous Lasky  Nominee     NaN       NaN                [18]   \n",
       "\n",
       "  original_language  \n",
       "0                en  \n",
       "1                en  \n",
       "2                en  \n",
       "3                en  \n",
       "4                en  "
      ]
     },
     "execution_count": 6,
     "metadata": {},
     "output_type": "execute_result"
    }
   ],
   "source": [
    "from ast import literal_eval\n",
    "import pandas as pd\n",
    "dataf = pd.read_csv(\"Complete Data\\Films.csv\",converters={\"genreids\": literal_eval})\n",
    "dataf.head()"
   ]
  },
  {
   "cell_type": "code",
   "execution_count": 23,
   "metadata": {},
   "outputs": [],
   "source": [
    "#changing list of ids to 1d list\n",
    "def to_1D(series):\n",
    " return pd.Series([x for _list in series for x in _list])\n",
    "\n",
    "countedValues = to_1D(dataf['genreids']).value_counts()\n",
    "\n",
    "#decoding categories by their ID\n",
    "def decodeCategories(series):\n",
    "    dictionary = {28:\"Action\", \n",
    "               12:\"Adventure\", \n",
    "               16:\"Animation\",\n",
    "               27:\"Horror\",\n",
    "               35:\"Comedy\", \n",
    "               80:\"Crime\", \n",
    "               99:\"Documentary\", \n",
    "               18:\"Drama\", \n",
    "               10751:\"Family\", \n",
    "               14:\"Fantasy\", \n",
    "               36:\"History\", \n",
    "               7:\"Horror\", \n",
    "               10402:\"Music\", \n",
    "               9648:\"Mystery\", \n",
    "               10749:\"Romance\", \n",
    "               878:\"Science Fiction\", \n",
    "               10770:\"TV Movie\", \n",
    "               53:\"Thriller\", \n",
    "               10752:\"War\", \n",
    "               37:\"Western\"}\n",
    "    \n",
    "    return(series.rename(index=dictionary))\n",
    "        \n",
    "\n",
    "decodedCategories=decodeCategories(countedValues)\n",
    "    "
   ]
  },
  {
   "cell_type": "code",
   "execution_count": 24,
   "metadata": {},
   "outputs": [
    {
     "data": {
      "text/plain": [
       "Text(0.5, 1.0, 'Most nominated genres')"
      ]
     },
     "execution_count": 24,
     "metadata": {},
     "output_type": "execute_result"
    },
    {
     "data": {
      "image/png": "[encoded data removed]",
      "text/plain": [
       "<Figure size 1368x288 with 1 Axes>"
      ]
     },
     "metadata": {
      "needs_background": "light"
     },
     "output_type": "display_data"
    }
   ],
   "source": [
    "#creating Figure\n",
    "fig, ax = plt.subplots(figsize = (19,4))\n",
    "ax.bar(decodedCategories.index,\n",
    "        decodedCategories.values)\n",
    "ax.set_ylabel(\"Number of nominations\", size = 14)\n",
    "ax.set_title(\"Most nominated genres\", size = 14)"
   ]
  },
  {
   "cell_type": "code",
   "execution_count": 27,
   "metadata": {},
   "outputs": [
    {
     "data": {
      "text/html": [
       "<div>\n",
       "<style scoped>\n",
       "    .dataframe tbody tr th:only-of-type {\n",
       "        vertical-align: middle;\n",
       "    }\n",
       "\n",
       "    .dataframe tbody tr th {\n",
       "        vertical-align: top;\n",
       "    }\n",
       "\n",
       "    .dataframe thead th {\n",
       "        text-align: right;\n",
       "    }\n",
       "</style>\n",
       "<table border=\"1\" class=\"dataframe\">\n",
       "  <thead>\n",
       "    <tr style=\"text-align: right;\">\n",
       "      <th></th>\n",
       "      <th>year</th>\n",
       "      <th>category</th>\n",
       "      <th>film</th>\n",
       "      <th>name</th>\n",
       "      <th>result</th>\n",
       "      <th>gender</th>\n",
       "      <th>birthday</th>\n",
       "      <th>genreids</th>\n",
       "      <th>original_language</th>\n",
       "    </tr>\n",
       "  </thead>\n",
       "  <tbody>\n",
       "    <tr>\n",
       "      <th>0</th>\n",
       "      <td>1930</td>\n",
       "      <td>Outstanding Picture</td>\n",
       "      <td>The Broadway Melody</td>\n",
       "      <td>Metro-Goldwyn-Mayer</td>\n",
       "      <td>Winner</td>\n",
       "      <td>NaN</td>\n",
       "      <td>NaN</td>\n",
       "      <td>[18, 10402, 10749]</td>\n",
       "      <td>en</td>\n",
       "    </tr>\n",
       "    <tr>\n",
       "      <th>5</th>\n",
       "      <td>1931</td>\n",
       "      <td>Outstanding Production</td>\n",
       "      <td>All Quiet on the Western Front</td>\n",
       "      <td>Universal</td>\n",
       "      <td>Winner</td>\n",
       "      <td>NaN</td>\n",
       "      <td>NaN</td>\n",
       "      <td>[18, 10752]</td>\n",
       "      <td>en</td>\n",
       "    </tr>\n",
       "    <tr>\n",
       "      <th>10</th>\n",
       "      <td>1932</td>\n",
       "      <td>Outstanding Production</td>\n",
       "      <td>Cimarron</td>\n",
       "      <td>RKO Radio</td>\n",
       "      <td>Winner</td>\n",
       "      <td>NaN</td>\n",
       "      <td>NaN</td>\n",
       "      <td>[18, 37, 36]</td>\n",
       "      <td>en</td>\n",
       "    </tr>\n",
       "    <tr>\n",
       "      <th>15</th>\n",
       "      <td>1933</td>\n",
       "      <td>Outstanding Production</td>\n",
       "      <td>Grand Hotel</td>\n",
       "      <td>Metro-Goldwyn-Mayer</td>\n",
       "      <td>Winner</td>\n",
       "      <td>NaN</td>\n",
       "      <td>NaN</td>\n",
       "      <td>[18, 10749]</td>\n",
       "      <td>en</td>\n",
       "    </tr>\n",
       "    <tr>\n",
       "      <th>23</th>\n",
       "      <td>1934</td>\n",
       "      <td>Outstanding Production</td>\n",
       "      <td>Cavalcade</td>\n",
       "      <td>Fox</td>\n",
       "      <td>Winner</td>\n",
       "      <td>NaN</td>\n",
       "      <td>NaN</td>\n",
       "      <td>[18, 10752]</td>\n",
       "      <td>en</td>\n",
       "    </tr>\n",
       "  </tbody>\n",
       "</table>\n",
       "</div>"
      ],
      "text/plain": [
       "    year                category                            film  \\\n",
       "0   1930     Outstanding Picture             The Broadway Melody   \n",
       "5   1931  Outstanding Production  All Quiet on the Western Front   \n",
       "10  1932  Outstanding Production                        Cimarron   \n",
       "15  1933  Outstanding Production                     Grand Hotel   \n",
       "23  1934  Outstanding Production                       Cavalcade   \n",
       "\n",
       "                   name  result  gender  birthday            genreids  \\\n",
       "0   Metro-Goldwyn-Mayer  Winner     NaN       NaN  [18, 10402, 10749]   \n",
       "5             Universal  Winner     NaN       NaN         [18, 10752]   \n",
       "10            RKO Radio  Winner     NaN       NaN        [18, 37, 36]   \n",
       "15  Metro-Goldwyn-Mayer  Winner     NaN       NaN         [18, 10749]   \n",
       "23                  Fox  Winner     NaN       NaN         [18, 10752]   \n",
       "\n",
       "   original_language  \n",
       "0                 en  \n",
       "5                 en  \n",
       "10                en  \n",
       "15                en  \n",
       "23                en  "
      ]
     },
     "execution_count": 27,
     "metadata": {},
     "output_type": "execute_result"
    }
   ],
   "source": [
    "#winners only dataframe\n",
    "winnersonly = dataf.loc[dataf['result']=='Winner']\n",
    "winnersonly.head()"
   ]
  },
  {
   "cell_type": "code",
   "execution_count": 46,
   "metadata": {},
   "outputs": [
    {
     "data": {
      "text/plain": [
       "Text(0.5, 1.0, 'Most winning genres as Best Picture')"
      ]
     },
     "execution_count": 46,
     "metadata": {},
     "output_type": "execute_result"
    },
    {
     "data": {
      "image/png": "[encoded data removed]",
      "text/plain": [
       "<Figure size 1368x288 with 1 Axes>"
      ]
     },
     "metadata": {
      "needs_background": "light"
     },
     "output_type": "display_data"
    }
   ],
   "source": [
    "countedWinners = to_1D(winnersonly['genreids']).value_counts()\n",
    "decodedWinners = decodeCategories(countedWinners)\n",
    "fig, ax = plt.subplots(figsize = (19,4))\n",
    "ax.bar(decodedWinners.index,\n",
    "        decodedWinners.values)\n",
    "ax.set_ylabel(\"Number of wins\", size = 14)\n",
    "ax.set_title(\"Most winning genres as Best Picture\", size = 14)"
   ]
  },
  {
   "cell_type": "code",
   "execution_count": 34,
   "metadata": {},
   "outputs": [
    {
     "data": {
      "text/plain": [
       "Text(0.5, 1.0, 'Most nominated films by language for Best Picture')"
      ]
     },
     "execution_count": 34,
     "metadata": {},
     "output_type": "execute_result"
    },
    {
     "data": {
      "image/png": "[encoded data removed]",
      "text/plain": [
       "<Figure size 1368x288 with 1 Axes>"
      ]
     },
     "metadata": {
      "needs_background": "light"
     },
     "output_type": "display_data"
    }
   ],
   "source": [
    "\n",
    "def decodeLanguage(series):\n",
    "    #language Decoder\n",
    "    dictionary = {'en':'English',\n",
    "                 'fr': 'French',\n",
    "                 'it': 'Italian',\n",
    "                 'sv': 'Swedish',\n",
    "                 'es': 'Spanish',\n",
    "                 'el': 'Greek',\n",
    "                 'ko': 'Korean',\n",
    "                 'zh': 'Chines',}\n",
    "    \n",
    "    \n",
    "    return(series.rename(index=dictionary))\n",
    "    \n",
    "\n",
    "fig, ax = plt.subplots(figsize = (19,4))\n",
    "decodedLanguage = decodeLanguage(dataf['original_language'].value_counts())\n",
    "ax.bar(decodedLanguage.index,\n",
    "        decodedLanguage.values)\n",
    "ax.set_ylabel(\"Number of nominations\", size = 14)\n",
    "ax.set_title(\"Most nominated films by language for Best Picture\", size = 14)"
   ]
  },
  {
   "cell_type": "code",
   "execution_count": 45,
   "metadata": {},
   "outputs": [
    {
     "data": {
      "text/plain": [
       "Text(0.5, 1.0, 'Most winning languages for Best Picture')"
      ]
     },
     "execution_count": 45,
     "metadata": {},
     "output_type": "execute_result"
    },
    {
     "data": {
      "image/png": "[encoded data removed]",
      "text/plain": [
       "<Figure size 1368x288 with 1 Axes>"
      ]
     },
     "metadata": {
      "needs_background": "light"
     },
     "output_type": "display_data"
    }
   ],
   "source": [
    "decodedWinnersLanguage = decodeLanguage(winnersonly['original_language'].value_counts())\n",
    "\n",
    "fig, ax = plt.subplots(figsize = (19,4))\n",
    "ax.bar(decodedWinnersLanguage.index,\n",
    "        decodedWinnersLanguage.values)\n",
    "ax.set_ylabel(\"Number of wins\", size = 14)\n",
    "ax.set_title(\"Most winning languages for Best Picture\", size = 14)"
   ]
  },
  {
   "cell_type": "code",
   "execution_count": 44,
   "metadata": {},
   "outputs": [
    {
     "data": {
      "text/html": [
       "<div>\n",
       "<style scoped>\n",
       "    .dataframe tbody tr th:only-of-type {\n",
       "        vertical-align: middle;\n",
       "    }\n",
       "\n",
       "    .dataframe tbody tr th {\n",
       "        vertical-align: top;\n",
       "    }\n",
       "\n",
       "    .dataframe thead th {\n",
       "        text-align: right;\n",
       "    }\n",
       "</style>\n",
       "<table border=\"1\" class=\"dataframe\">\n",
       "  <thead>\n",
       "    <tr style=\"text-align: right;\">\n",
       "      <th></th>\n",
       "      <th>year</th>\n",
       "      <th>category</th>\n",
       "      <th>film</th>\n",
       "      <th>name</th>\n",
       "      <th>result</th>\n",
       "      <th>gender</th>\n",
       "      <th>birthday</th>\n",
       "      <th>genreids</th>\n",
       "      <th>original_language</th>\n",
       "    </tr>\n",
       "  </thead>\n",
       "  <tbody>\n",
       "    <tr>\n",
       "      <th>521</th>\n",
       "      <td>2020</td>\n",
       "      <td>Best Picture</td>\n",
       "      <td>Parasite</td>\n",
       "      <td>Kwak Sin Ae and Bong Joon Ho, Producers</td>\n",
       "      <td>Winner</td>\n",
       "      <td>NaN</td>\n",
       "      <td>NaN</td>\n",
       "      <td>[35, 53, 18]</td>\n",
       "      <td>ko</td>\n",
       "    </tr>\n",
       "  </tbody>\n",
       "</table>\n",
       "</div>"
      ],
      "text/plain": [
       "     year      category      film                                     name  \\\n",
       "521  2020  Best Picture  Parasite  Kwak Sin Ae and Bong Joon Ho, Producers   \n",
       "\n",
       "     result  gender  birthday      genreids original_language  \n",
       "521  Winner     NaN       NaN  [35, 53, 18]                ko  "
      ]
     },
     "execution_count": 44,
     "metadata": {},
     "output_type": "execute_result"
    }
   ],
   "source": [
    "koreanWinner = winnersonly.loc[winnersonly['original_language']== 'ko']\n",
    "koreanWinner"
   ]
  },
  {
   "cell_type": "code",
   "execution_count": 50,
   "metadata": {},
   "outputs": [
    {
     "data": {
      "text/html": [
       "<div>\n",
       "<style scoped>\n",
       "    .dataframe tbody tr th:only-of-type {\n",
       "        vertical-align: middle;\n",
       "    }\n",
       "\n",
       "    .dataframe tbody tr th {\n",
       "        vertical-align: top;\n",
       "    }\n",
       "\n",
       "    .dataframe thead th {\n",
       "        text-align: right;\n",
       "    }\n",
       "</style>\n",
       "<table border=\"1\" class=\"dataframe\">\n",
       "  <thead>\n",
       "    <tr style=\"text-align: right;\">\n",
       "      <th></th>\n",
       "      <th>year</th>\n",
       "      <th>category</th>\n",
       "      <th>film</th>\n",
       "      <th>name</th>\n",
       "      <th>result</th>\n",
       "      <th>gender</th>\n",
       "      <th>birthday</th>\n",
       "      <th>genreids</th>\n",
       "      <th>original_language</th>\n",
       "    </tr>\n",
       "  </thead>\n",
       "  <tbody>\n",
       "    <tr>\n",
       "      <th>83</th>\n",
       "      <td>1939</td>\n",
       "      <td>Outstanding Production</td>\n",
       "      <td>Grand Illusion</td>\n",
       "      <td>Realization D'Art Cinematographique</td>\n",
       "      <td>Nominee</td>\n",
       "      <td>NaN</td>\n",
       "      <td>NaN</td>\n",
       "      <td>[18, 36, 10752]</td>\n",
       "      <td>fr</td>\n",
       "    </tr>\n",
       "    <tr>\n",
       "      <th>211</th>\n",
       "      <td>1965</td>\n",
       "      <td>Best Picture</td>\n",
       "      <td>Zorba the Greek</td>\n",
       "      <td>Michael Cacoyannis, Producer</td>\n",
       "      <td>Nominee</td>\n",
       "      <td>NaN</td>\n",
       "      <td>NaN</td>\n",
       "      <td>[18]</td>\n",
       "      <td>el</td>\n",
       "    </tr>\n",
       "    <tr>\n",
       "      <th>236</th>\n",
       "      <td>1970</td>\n",
       "      <td>Best Picture</td>\n",
       "      <td>Z</td>\n",
       "      <td>Jacques Perrin and Hamed Rachedi, Producers</td>\n",
       "      <td>Nominee</td>\n",
       "      <td>NaN</td>\n",
       "      <td>NaN</td>\n",
       "      <td>[18, 36, 53]</td>\n",
       "      <td>fr</td>\n",
       "    </tr>\n",
       "    <tr>\n",
       "      <th>250</th>\n",
       "      <td>1973</td>\n",
       "      <td>Best Picture</td>\n",
       "      <td>The Emigrants</td>\n",
       "      <td>Bengt Forslund, Producer</td>\n",
       "      <td>Nominee</td>\n",
       "      <td>NaN</td>\n",
       "      <td>NaN</td>\n",
       "      <td>[18, 36]</td>\n",
       "      <td>sv</td>\n",
       "    </tr>\n",
       "    <tr>\n",
       "      <th>254</th>\n",
       "      <td>1974</td>\n",
       "      <td>Best Picture</td>\n",
       "      <td>Cries and Whispers</td>\n",
       "      <td>Ingmar Bergman, Producer</td>\n",
       "      <td>Nominee</td>\n",
       "      <td>NaN</td>\n",
       "      <td>NaN</td>\n",
       "      <td>[18]</td>\n",
       "      <td>sv</td>\n",
       "    </tr>\n",
       "    <tr>\n",
       "      <th>365</th>\n",
       "      <td>1996</td>\n",
       "      <td>Best Picture</td>\n",
       "      <td>The Postman</td>\n",
       "      <td>Mario Cecchi Gori, Vittorio Cecchi Gori and Ga...</td>\n",
       "      <td>Nominee</td>\n",
       "      <td>NaN</td>\n",
       "      <td>NaN</td>\n",
       "      <td>[35, 18, 10749]</td>\n",
       "      <td>it</td>\n",
       "    </tr>\n",
       "    <tr>\n",
       "      <th>379</th>\n",
       "      <td>1999</td>\n",
       "      <td>Best Picture</td>\n",
       "      <td>Life Is Beautiful</td>\n",
       "      <td>Elda Ferri and Gianluigi Braschi, Producers</td>\n",
       "      <td>Nominee</td>\n",
       "      <td>NaN</td>\n",
       "      <td>NaN</td>\n",
       "      <td>[35, 18]</td>\n",
       "      <td>it</td>\n",
       "    </tr>\n",
       "    <tr>\n",
       "      <th>389</th>\n",
       "      <td>2001</td>\n",
       "      <td>Best Picture</td>\n",
       "      <td>Crouching Tiger, Hidden Dragon</td>\n",
       "      <td>Bill Kong, Hsu Li Kong and Ang Lee, Producers</td>\n",
       "      <td>Nominee</td>\n",
       "      <td>NaN</td>\n",
       "      <td>NaN</td>\n",
       "      <td>[12, 18, 28, 10749]</td>\n",
       "      <td>zh</td>\n",
       "    </tr>\n",
       "    <tr>\n",
       "      <th>462</th>\n",
       "      <td>2013</td>\n",
       "      <td>Best Picture</td>\n",
       "      <td>Amour</td>\n",
       "      <td>Margaret Menegoz, Stefan Arndt, Veit Heiduschk...</td>\n",
       "      <td>Nominee</td>\n",
       "      <td>NaN</td>\n",
       "      <td>NaN</td>\n",
       "      <td>[18, 10749]</td>\n",
       "      <td>fr</td>\n",
       "    </tr>\n",
       "    <tr>\n",
       "      <th>518</th>\n",
       "      <td>2019</td>\n",
       "      <td>Best Picture</td>\n",
       "      <td>Roma</td>\n",
       "      <td>Gabriela Rodríguez and Alfonso Cuarón, Producers</td>\n",
       "      <td>Nominee</td>\n",
       "      <td>NaN</td>\n",
       "      <td>NaN</td>\n",
       "      <td>[18]</td>\n",
       "      <td>es</td>\n",
       "    </tr>\n",
       "    <tr>\n",
       "      <th>521</th>\n",
       "      <td>2020</td>\n",
       "      <td>Best Picture</td>\n",
       "      <td>Parasite</td>\n",
       "      <td>Kwak Sin Ae and Bong Joon Ho, Producers</td>\n",
       "      <td>Winner</td>\n",
       "      <td>NaN</td>\n",
       "      <td>NaN</td>\n",
       "      <td>[35, 53, 18]</td>\n",
       "      <td>ko</td>\n",
       "    </tr>\n",
       "  </tbody>\n",
       "</table>\n",
       "</div>"
      ],
      "text/plain": [
       "     year                category                            film  \\\n",
       "83   1939  Outstanding Production                  Grand Illusion   \n",
       "211  1965            Best Picture                 Zorba the Greek   \n",
       "236  1970            Best Picture                               Z   \n",
       "250  1973            Best Picture                   The Emigrants   \n",
       "254  1974            Best Picture              Cries and Whispers   \n",
       "365  1996            Best Picture                    The Postman    \n",
       "379  1999            Best Picture               Life Is Beautiful   \n",
       "389  2001            Best Picture  Crouching Tiger, Hidden Dragon   \n",
       "462  2013            Best Picture                           Amour   \n",
       "518  2019            Best Picture                            Roma   \n",
       "521  2020            Best Picture                        Parasite   \n",
       "\n",
       "                                                  name   result  gender  \\\n",
       "83                 Realization D'Art Cinematographique  Nominee     NaN   \n",
       "211                       Michael Cacoyannis, Producer  Nominee     NaN   \n",
       "236        Jacques Perrin and Hamed Rachedi, Producers  Nominee     NaN   \n",
       "250                           Bengt Forslund, Producer  Nominee     NaN   \n",
       "254                           Ingmar Bergman, Producer  Nominee     NaN   \n",
       "365  Mario Cecchi Gori, Vittorio Cecchi Gori and Ga...  Nominee     NaN   \n",
       "379        Elda Ferri and Gianluigi Braschi, Producers  Nominee     NaN   \n",
       "389      Bill Kong, Hsu Li Kong and Ang Lee, Producers  Nominee     NaN   \n",
       "462  Margaret Menegoz, Stefan Arndt, Veit Heiduschk...  Nominee     NaN   \n",
       "518   Gabriela Rodríguez and Alfonso Cuarón, Producers  Nominee     NaN   \n",
       "521            Kwak Sin Ae and Bong Joon Ho, Producers   Winner     NaN   \n",
       "\n",
       "     birthday             genreids original_language  \n",
       "83        NaN      [18, 36, 10752]                fr  \n",
       "211       NaN                 [18]                el  \n",
       "236       NaN         [18, 36, 53]                fr  \n",
       "250       NaN             [18, 36]                sv  \n",
       "254       NaN                 [18]                sv  \n",
       "365       NaN      [35, 18, 10749]                it  \n",
       "379       NaN             [35, 18]                it  \n",
       "389       NaN  [12, 18, 28, 10749]                zh  \n",
       "462       NaN          [18, 10749]                fr  \n",
       "518       NaN                 [18]                es  \n",
       "521       NaN         [35, 53, 18]                ko  "
      ]
     },
     "execution_count": 50,
     "metadata": {},
     "output_type": "execute_result"
    }
   ],
   "source": [
    "nomineeswithoutEnglish = dataf.loc[dataf['original_language']!= 'en']\n",
    "nomineeswithoutEnglish"
   ]
  },
  {
   "cell_type": "code",
   "execution_count": 52,
   "metadata": {},
   "outputs": [
    {
     "data": {
      "text/plain": [
       "Text(0.5, 1.0, 'Most nominations for Best Picture for non-english films')"
      ]
     },
     "execution_count": 52,
     "metadata": {},
     "output_type": "execute_result"
    },
    {
     "data": {
      "image/png": "[encoded data removed]",
      "text/plain": [
       "<Figure size 1368x288 with 1 Axes>"
      ]
     },
     "metadata": {
      "needs_background": "light"
     },
     "output_type": "display_data"
    }
   ],
   "source": [
    "decodednomineesFLanguage = decodeLanguage(nomineeswithoutEnglish['original_language'].value_counts())\n",
    "\n",
    "fig, ax = plt.subplots(figsize = (19,4))\n",
    "ax.bar(decodednomineesFLanguage.index,\n",
    "        decodednomineesFLanguage.values)\n",
    "ax.set_ylabel(\"Number of nominations\", size = 14)\n",
    "ax.set_title(\"Most nominations for Best Picture for non-english films\", size = 14)"
   ]
  },
  {
   "cell_type": "code",
   "execution_count": null,
   "metadata": {},
   "outputs": [],
   "source": []
  }
 ],
 "metadata": {
  "interpreter": {
   "hash": "6179790f94d516a8fedd26ec050ceb7f2fefbbdfdd62a453be159a6ca753b1b7"
  },
  "kernelspec": {
   "display_name": "Python 3",
   "language": "python",
   "name": "python3"
  },
  "language_info": {
   "codemirror_mode": {
    "name": "ipython",
    "version": 3
   },
   "file_extension": ".py",
   "mimetype": "text/x-python",
   "name": "python",
   "nbconvert_exporter": "python",
   "pygments_lexer": "ipython3",
   "version": "3.8.5"
  }
 },
 "nbformat": 4,
 "nbformat_minor": 2
}
