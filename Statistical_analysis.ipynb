{
 "cells": [
  {
   "cell_type": "code",
   "execution_count": 190,
   "source": [
    "import pandas as pd\r\n",
    "import os\r\n",
    "import numpy as np\r\n",
    "import matplotlib.pyplot as plt\r\n",
    "from matplotlib.ticker import StrMethodFormatter"
   ],
   "outputs": [],
   "metadata": {}
  },
  {
   "cell_type": "code",
   "execution_count": 191,
   "source": [
    "data = pd.read_csv(\"Individuals.csv\")\r\n",
    "data.head()"
   ],
   "outputs": [
    {
     "output_type": "execute_result",
     "data": {
      "text/plain": [
       "   year category            film             name   result gender  birthday\n",
       "0  1930    Actor  In Old Arizona    Warner Baxter   Winner   Male      1889\n",
       "1  1930    Actor     Thunderbolt  George Bancroft  Nominee   Male      1882\n",
       "2  1930    Actor           Alibi   Chester Morris  Nominee   Male      1901\n",
       "3  1930    Actor     The Valiant        Paul Muni  Nominee   Male      1895\n",
       "4  1930    Actor     The Patriot      Lewis Stone  Nominee   Male      1879"
      ],
      "text/html": [
       "<div>\n",
       "<style scoped>\n",
       "    .dataframe tbody tr th:only-of-type {\n",
       "        vertical-align: middle;\n",
       "    }\n",
       "\n",
       "    .dataframe tbody tr th {\n",
       "        vertical-align: top;\n",
       "    }\n",
       "\n",
       "    .dataframe thead th {\n",
       "        text-align: right;\n",
       "    }\n",
       "</style>\n",
       "<table border=\"1\" class=\"dataframe\">\n",
       "  <thead>\n",
       "    <tr style=\"text-align: right;\">\n",
       "      <th></th>\n",
       "      <th>year</th>\n",
       "      <th>category</th>\n",
       "      <th>film</th>\n",
       "      <th>name</th>\n",
       "      <th>result</th>\n",
       "      <th>gender</th>\n",
       "      <th>birthday</th>\n",
       "    </tr>\n",
       "  </thead>\n",
       "  <tbody>\n",
       "    <tr>\n",
       "      <th>0</th>\n",
       "      <td>1930</td>\n",
       "      <td>Actor</td>\n",
       "      <td>In Old Arizona</td>\n",
       "      <td>Warner Baxter</td>\n",
       "      <td>Winner</td>\n",
       "      <td>Male</td>\n",
       "      <td>1889</td>\n",
       "    </tr>\n",
       "    <tr>\n",
       "      <th>1</th>\n",
       "      <td>1930</td>\n",
       "      <td>Actor</td>\n",
       "      <td>Thunderbolt</td>\n",
       "      <td>George Bancroft</td>\n",
       "      <td>Nominee</td>\n",
       "      <td>Male</td>\n",
       "      <td>1882</td>\n",
       "    </tr>\n",
       "    <tr>\n",
       "      <th>2</th>\n",
       "      <td>1930</td>\n",
       "      <td>Actor</td>\n",
       "      <td>Alibi</td>\n",
       "      <td>Chester Morris</td>\n",
       "      <td>Nominee</td>\n",
       "      <td>Male</td>\n",
       "      <td>1901</td>\n",
       "    </tr>\n",
       "    <tr>\n",
       "      <th>3</th>\n",
       "      <td>1930</td>\n",
       "      <td>Actor</td>\n",
       "      <td>The Valiant</td>\n",
       "      <td>Paul Muni</td>\n",
       "      <td>Nominee</td>\n",
       "      <td>Male</td>\n",
       "      <td>1895</td>\n",
       "    </tr>\n",
       "    <tr>\n",
       "      <th>4</th>\n",
       "      <td>1930</td>\n",
       "      <td>Actor</td>\n",
       "      <td>The Patriot</td>\n",
       "      <td>Lewis Stone</td>\n",
       "      <td>Nominee</td>\n",
       "      <td>Male</td>\n",
       "      <td>1879</td>\n",
       "    </tr>\n",
       "  </tbody>\n",
       "</table>\n",
       "</div>"
      ]
     },
     "metadata": {},
     "execution_count": 191
    }
   ],
   "metadata": {}
  },
  {
   "cell_type": "code",
   "execution_count": 192,
   "source": [
    "hashmap = {}\r\n",
    "for names in data[\"name\"]:\r\n",
    "    if hashmap.get(names) == None:\r\n",
    "        hashmap[names] = 1\r\n",
    "    else:\r\n",
    "        hashmap[names] = hashmap[names] + 1\r\n",
    "\r\n",
    "number_of_nomination = []\r\n",
    "\r\n",
    "for names in data[\"name\"]:\r\n",
    "   number_of_nomination.append(hashmap.get(names))\r\n",
    "\r\n",
    "data[\"Number of nominations\"] = number_of_nomination"
   ],
   "outputs": [],
   "metadata": {}
  },
  {
   "cell_type": "code",
   "execution_count": 193,
   "source": [
    "data[\"Age when nominated\"] = data[\"year\"] - data[\"birthday\"]\r\n",
    "for index_names in range(len(data[\"name\"])):\r\n",
    "    \r\n",
    "    if data.loc[:,\"result\"][index_names] == \"Nominee\":\r\n",
    "        data.loc[index_names:index_names, \"Age when winner\"] = np.nan\r\n",
    "    if data.loc[:,\"result\"][index_names] == \"Winner\":\r\n",
    "        data.loc[index_names:index_names, \"Age when winner\"] = data[\"year\"][index_names] - data[\"birthday\"][index_names]\r\n",
    "data[\"Age when winner\"] = data[\"Age when winner\"].astype(\"Int64\")"
   ],
   "outputs": [],
   "metadata": {}
  },
  {
   "cell_type": "code",
   "execution_count": 194,
   "source": [
    "data.head()"
   ],
   "outputs": [
    {
     "output_type": "execute_result",
     "data": {
      "text/plain": [
       "   year category            film             name   result gender  birthday  \\\n",
       "0  1930    Actor  In Old Arizona    Warner Baxter   Winner   Male      1889   \n",
       "1  1930    Actor     Thunderbolt  George Bancroft  Nominee   Male      1882   \n",
       "2  1930    Actor           Alibi   Chester Morris  Nominee   Male      1901   \n",
       "3  1930    Actor     The Valiant        Paul Muni  Nominee   Male      1895   \n",
       "4  1930    Actor     The Patriot      Lewis Stone  Nominee   Male      1879   \n",
       "\n",
       "   Number of nominations  Age when nominated  Age when winner  \n",
       "0                      1                  41               41  \n",
       "1                      1                  48             <NA>  \n",
       "2                      1                  29             <NA>  \n",
       "3                      6                  35             <NA>  \n",
       "4                      1                  51             <NA>  "
      ],
      "text/html": [
       "<div>\n",
       "<style scoped>\n",
       "    .dataframe tbody tr th:only-of-type {\n",
       "        vertical-align: middle;\n",
       "    }\n",
       "\n",
       "    .dataframe tbody tr th {\n",
       "        vertical-align: top;\n",
       "    }\n",
       "\n",
       "    .dataframe thead th {\n",
       "        text-align: right;\n",
       "    }\n",
       "</style>\n",
       "<table border=\"1\" class=\"dataframe\">\n",
       "  <thead>\n",
       "    <tr style=\"text-align: right;\">\n",
       "      <th></th>\n",
       "      <th>year</th>\n",
       "      <th>category</th>\n",
       "      <th>film</th>\n",
       "      <th>name</th>\n",
       "      <th>result</th>\n",
       "      <th>gender</th>\n",
       "      <th>birthday</th>\n",
       "      <th>Number of nominations</th>\n",
       "      <th>Age when nominated</th>\n",
       "      <th>Age when winner</th>\n",
       "    </tr>\n",
       "  </thead>\n",
       "  <tbody>\n",
       "    <tr>\n",
       "      <th>0</th>\n",
       "      <td>1930</td>\n",
       "      <td>Actor</td>\n",
       "      <td>In Old Arizona</td>\n",
       "      <td>Warner Baxter</td>\n",
       "      <td>Winner</td>\n",
       "      <td>Male</td>\n",
       "      <td>1889</td>\n",
       "      <td>1</td>\n",
       "      <td>41</td>\n",
       "      <td>41</td>\n",
       "    </tr>\n",
       "    <tr>\n",
       "      <th>1</th>\n",
       "      <td>1930</td>\n",
       "      <td>Actor</td>\n",
       "      <td>Thunderbolt</td>\n",
       "      <td>George Bancroft</td>\n",
       "      <td>Nominee</td>\n",
       "      <td>Male</td>\n",
       "      <td>1882</td>\n",
       "      <td>1</td>\n",
       "      <td>48</td>\n",
       "      <td>&lt;NA&gt;</td>\n",
       "    </tr>\n",
       "    <tr>\n",
       "      <th>2</th>\n",
       "      <td>1930</td>\n",
       "      <td>Actor</td>\n",
       "      <td>Alibi</td>\n",
       "      <td>Chester Morris</td>\n",
       "      <td>Nominee</td>\n",
       "      <td>Male</td>\n",
       "      <td>1901</td>\n",
       "      <td>1</td>\n",
       "      <td>29</td>\n",
       "      <td>&lt;NA&gt;</td>\n",
       "    </tr>\n",
       "    <tr>\n",
       "      <th>3</th>\n",
       "      <td>1930</td>\n",
       "      <td>Actor</td>\n",
       "      <td>The Valiant</td>\n",
       "      <td>Paul Muni</td>\n",
       "      <td>Nominee</td>\n",
       "      <td>Male</td>\n",
       "      <td>1895</td>\n",
       "      <td>6</td>\n",
       "      <td>35</td>\n",
       "      <td>&lt;NA&gt;</td>\n",
       "    </tr>\n",
       "    <tr>\n",
       "      <th>4</th>\n",
       "      <td>1930</td>\n",
       "      <td>Actor</td>\n",
       "      <td>The Patriot</td>\n",
       "      <td>Lewis Stone</td>\n",
       "      <td>Nominee</td>\n",
       "      <td>Male</td>\n",
       "      <td>1879</td>\n",
       "      <td>1</td>\n",
       "      <td>51</td>\n",
       "      <td>&lt;NA&gt;</td>\n",
       "    </tr>\n",
       "  </tbody>\n",
       "</table>\n",
       "</div>"
      ]
     },
     "metadata": {},
     "execution_count": 194
    }
   ],
   "metadata": {}
  },
  {
   "cell_type": "code",
   "execution_count": null,
   "source": [
    "ax = data.hist(column='Age when winner', by='gender', bins=25, grid=False, figsize=(8,10), layout=(3,1), sharex=True, color='#86bf91', zorder=2, rwidth=0.9)\r\n",
    "\r\n",
    "for i,x in enumerate(ax):\r\n",
    "\r\n",
    "    # Despine\r\n",
    "    x.spines['right'].set_visible(False)\r\n",
    "    x.spines['top'].set_visible(False)\r\n",
    "    x.spines['left'].set_visible(False)\r\n",
    "\r\n",
    "    # Switch off ticks\r\n",
    "    x.tick_params(axis=\"both\", which=\"both\", bottom=\"off\", top=\"off\", labelbottom=\"on\", left=\"off\", right=\"off\", labelleft=\"on\")\r\n",
    "\r\n",
    "    # Draw horizontal axis lines\r\n",
    "    vals = x.get_yticks()\r\n",
    "    for tick in vals:\r\n",
    "        x.axhline(y=tick, linestyle='dashed', alpha=0.4, color='#eeeeee', zorder=1)\r\n",
    "\r\n",
    "    # Set x-axis label\r\n",
    "    x.set_xlabel(\"Age when winner (year)\", labelpad=20, weight='bold', size=12)\r\n",
    "    plt.xlim(0, 90)\r\n",
    "\r\n",
    "\r\n",
    "    # Set y-axis label\r\n",
    "    if i == 1:\r\n",
    "        x.set_ylabel(\"N\", labelpad=50, weight='bold', size=12)\r\n",
    "\r\n",
    "    # Format y-axis label\r\n",
    "    x.yaxis.set_major_formatter(StrMethodFormatter('{x:,g}'))\r\n",
    "\r\n",
    "    x.tick_params(axis='x', rotation=0)"
   ],
   "outputs": [],
   "metadata": {}
  },
  {
   "cell_type": "code",
   "execution_count": 197,
   "source": [
    "actor = data[data[\"gender\"] == \"Male\"]\r\n",
    "actor = actor[(actor[\"category\"] == \"Actor\") | (actor[\"category\"] == \"Actor in a Leading Role\")]\r\n",
    "actor = actor[[\"Age when nominated\"]]\r\n",
    "actress = data[data[\"gender\"] == \"Female\"]\r\n",
    "actress = actress[(actress[\"category\"] == \"Actress\") | (actress[\"category\"] == \"Actress in a Leading Role\")]\r\n",
    "actress = actress[[\"Age when nominated\"]]\r\n",
    "\r\n",
    "actor = actor.stack()\r\n",
    "actress = actress.stack()\r\n",
    "\r\n",
    "\r\n",
    "bins = np.linspace(10, 90, 80)\r\n",
    "\r\n",
    "plt.hist(actor, bins=bins, color = \"lightblue\",alpha = 0.8, label= \"Male\", edgecolor = \"black\")\r\n",
    "\r\n",
    "plt.hist(actress,  bins=bins, color=\"lightcoral\", alpha=0.55, label = \"Femelle\", edgecolor = \"black\")\r\n",
    "pyplot.legend(loc='upper right')\r\n",
    "\r\n",
    "plt.title('Age when nominated to best actor/actress by gender')\r\n",
    "plt.savefig(\"two_histograms_01.png\", bbox_inches='tight',dpi=400)\r\n",
    "\r\n",
    "plt.show()\r\n",
    "\r\n"
   ],
   "outputs": [
    {
     "output_type": "display_data",
     "data": {
      "text/plain": [
       "<Figure size 432x288 with 1 Axes>"
      ],
      "image/png": "[encoded data removed]"
     },
     "metadata": {
      "needs_background": "light"
     }
    }
   ],
   "metadata": {}
  },
  {
   "cell_type": "code",
   "execution_count": 198,
   "source": [
    "maledirecting = data[data[\"gender\"] == \"Male\"]\r\n",
    "maledirecting = maledirecting[maledirecting[\"category\"] == \"Directing\"]\r\n",
    "maledirecting = maledirecting[[\"Age when nominated\"]]\r\n",
    "femaledirecting = data[data[\"gender\"] == \"Female\"]\r\n",
    "femaledirecting = femaledirecting[femaledirecting[\"category\"] == \"Directing\"]\r\n",
    "femaledirecting = femaledirecting[[\"Age when nominated\"]]\r\n",
    "\r\n",
    "maledirecting = maledirecting.stack()\r\n",
    "femaledirecting = femaledirecting.stack()\r\n",
    "\r\n",
    "bins = np.linspace(10, 90, 80)\r\n",
    "\r\n",
    "plt.hist(maledirecting, bins=bins, color = \"lightblue\",alpha = 0.8, label= \"Male\", edgecolor = \"black\")\r\n",
    "\r\n",
    "plt.hist(femaledirecting,  bins=bins, color=\"lightcoral\", alpha=0.55, label = \"Femelle\", edgecolor = \"black\")\r\n",
    "pyplot.legend(loc='upper right')\r\n",
    "\r\n",
    "plt.title('Age when nominated to best directing by gender')\r\n",
    "plt.savefig(\"two_histograms_03.png\", bbox_inches='tight',dpi=400)\r\n",
    "\r\n",
    "plt.show()"
   ],
   "outputs": [
    {
     "output_type": "display_data",
     "data": {
      "text/plain": [
       "<Figure size 432x288 with 1 Axes>"
      ],
      "image/png": "[encoded data removed]"
     },
     "metadata": {
      "needs_background": "light"
     }
    }
   ],
   "metadata": {}
  },
  {
   "cell_type": "code",
   "execution_count": 221,
   "source": [
    "list_category = []\r\n",
    "blabla = \"\"\r\n",
    "while blabla != \"Stop\":\r\n",
    "    blabla = input(\"Write one category you want to search then press enter. When you're done, write 'Stop'\")\r\n",
    "    if blabla != \"Stop\":\r\n",
    "        list_category.append(blabla)\r\n",
    "        "
   ],
   "outputs": [],
   "metadata": {}
  },
  {
   "cell_type": "code",
   "execution_count": 224,
   "source": [
    "\"belle gosse\" in list_category"
   ],
   "outputs": [
    {
     "output_type": "execute_result",
     "data": {
      "text/plain": [
       "True"
      ]
     },
     "metadata": {},
     "execution_count": 224
    }
   ],
   "metadata": {}
  }
 ],
 "metadata": {
  "orig_nbformat": 4,
  "language_info": {
   "name": "python",
   "version": "3.8.3",
   "mimetype": "text/x-python",
   "codemirror_mode": {
    "name": "ipython",
    "version": 3
   },
   "pygments_lexer": "ipython3",
   "nbconvert_exporter": "python",
   "file_extension": ".py"
  },
  "kernelspec": {
   "name": "python3",
   "display_name": "Python 3.8.3 64-bit ('base': conda)"
  },
  "interpreter": {
   "hash": "6179790f94d516a8fedd26ec050ceb7f2fefbbdfdd62a453be159a6ca753b1b7"
  }
 },
 "nbformat": 4,
 "nbformat_minor": 2
}