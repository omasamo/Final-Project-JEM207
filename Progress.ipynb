{
 "cells": [
  {
   "cell_type": "code",
   "execution_count": 19,
   "metadata": {},
   "outputs": [],
   "source": [
    "###IMPORTANT ####\n",
    " # Actor until 1976\n",
    " # Actor in a Leading Role since 1977\n",
    " # Same for Actress\n",
    "    \n",
    "### Stock the data better than doing a request every try # Done\n",
    "\n",
    "### PROBLEME : COMMENT GERER LES 2 WINNERS, existe plusieurs fois # Done\n",
    "\n",
    "### PROBLEM : for DIRECTION, names and titles are swapped # Done\n",
    "\n",
    "\n",
    "### PROBLEME : Incohérence des noms de catégories sur plusieurs année : best motion picture -> best picture\n",
    "# Special effect -> Visual effects etc\n",
    "\n",
    "### Les informations récoltées ne sont pas les mêmes ex : foreign film c'est le pays qui est récolté, comment faire ?\n",
    "\n",
    "\n",
    "\n",
    "import sys\n",
    "!{sys.executable} -m pip install jellyfish"
   ]
  },
  {
   "cell_type": "code",
   "execution_count": 35,
   "metadata": {},
   "outputs": [],
   "source": [
    "### OOP   ### ROTTENTOMATOES\n",
    "\n",
    "import time\n",
    "import requests\n",
    "from scrapy import Selector\n",
    "from tqdm import tqdm\n",
    "import pandas as pd\n",
    "import re  # text processing\n",
    "import numpy as np\n",
    "import json\n",
    "import jellyfish\n",
    "\n",
    "class Oscar_Scraper:\n",
    "    \n",
    "    list_names = []\n",
    "    list_year = []\n",
    "    list_category = []\n",
    "    list_films = []\n",
    "    list_results = [] \n",
    "    list_ratings_imdb = []\n",
    "    list_ratings_rottentomatoes = []\n",
    "    list_metacritics = []\n",
    "    list_boxoffice = []\n",
    "    list_id_movie = []\n",
    "    list_birthday = []\n",
    "    list_gender = []\n",
    "    \n",
    "    \n",
    "    def __init__(self, from_time, to_time):\n",
    "        self.links = {\n",
    "            'oscars':[],\n",
    "            'rotten':[],\n",
    "        }\n",
    "        \n",
    "        self.categories_interest = ['Directing', 'Actor', 'Actor in a Leading Role', 'Actress', 'Actress in a Leading Role',\n",
    "                  'Outstanding Picture','Outstanding Production','Best Motion Picture', 'Best Picture', 'Foreign Language Film', \n",
    "                  'Special Effects', 'Special Visual Effects','Special Achievement Award (Visual Effects)', 'Visual Effects']\n",
    "        \n",
    "        self.categories_individuals = ['Directing', 'Actor', 'Actor in a Leading Role', 'Actress', 'Actress in a Leading Role']\n",
    "        self.categories_films = ['Outstanding Picture','Outstanding Production','Best Motion Picture', 'Best Picture', 'Foreign Language Film', \n",
    "                  'Special Effects', 'Special Visual Effects','Special Achievement Award (Visual Effects)', 'Visual Effects']\n",
    "        \n",
    "        #lists of different names for same categories\n",
    "        self.categories_dictionary = {\n",
    "                    \"Actor\": ['Actor', 'Actor in a Leading Role'],\n",
    "                    \"Actress\": ['Actress', 'Actress in a Leading Role'],\n",
    "                    \"Picture\": ['Outstanding Picture', 'Outstanding Production','Best Motion Picture', 'Best Picture'],\n",
    "                    \"VE\" : ['Special Effects', 'Special Visual Effects','Special Achievement Award (Visual Effects)','Visual Effects']\n",
    "                    }\n",
    "        \n",
    "        \n",
    "        self.from_time = from_time\n",
    "        self.time_period = range(from_time, to_time + 1)\n",
    "        self.data = {\n",
    "            'category':[],\n",
    "            'film':[],\n",
    "            'year':[],\n",
    "            'name':[],\n",
    "            'gender':[],\n",
    "            'result':[],\n",
    "            'birthdate':[],\n",
    "            'imbd_ratings':[],\n",
    "            'rotten_ratings':[],\n",
    "            'metacritics_ratings':[],\n",
    "            'box office':[],\n",
    "            'id_movie':[]\n",
    "            \n",
    "        }\n",
    "        \n",
    "        \n",
    "\n",
    "    def getHTML(self):\n",
    "        \n",
    "        for i in self.time_period:\n",
    "            #time.sleep(10) # Crawlerdelay\n",
    "            url = \"https://www.oscars.org/oscars/ceremonies/{}\".format(i)\n",
    "            response_oscars = requests.get(url)\n",
    "            sel = Selector(text = response_oscars.text)   # Scrapy chose over BeautifulSoup for selector CSS\n",
    "            self.links['oscars'].append(sel)\n",
    "\n",
    "    def getNominees(self, years, i, category, number_nominees, number_winners):\n",
    "\n",
    "        for number in range(number_nominees):   \n",
    "            if number_winners == 1:\n",
    "                # NAME\n",
    "                path_name = \"#quicktabs-tabpage-honorees-0 > div > div.view-content > div:nth-child({}) > div.view-grouping-content > div:nth-child({}) > div.views-field.views-field-field-actor-name > h4::text\".format(i+1, 4 +number)\n",
    "                nominee_name = ''.join(self.links['oscars'][years].css(path_name).extract()) # ''.join() transforms the list produced by the selector into a string\n",
    "            if number_winners == 2:\n",
    "                 # NAME\n",
    "                path_name = \"#quicktabs-tabpage-honorees-0 > div > div.view-content > div:nth-child({}) > div.view-grouping-content > div:nth-child({}) > div.views-field.views-field-field-actor-name > h4::text\".format(i+1, 5 +number)\n",
    "                nominee_name = ''.join(self.links['oscars'][years].css(path_name).extract()) # ''.join() transforms the list produced by the selector into a string\n",
    "            \n",
    "            if category == \"Directing\": # For Directing, titles and names are swapped on the website\n",
    "                self.list_films.append(nominee_name)\n",
    "            else:\n",
    "                self.list_names.append(nominee_name)\n",
    "\n",
    "            # FILM\n",
    "            if number_winners == 1:\n",
    "                path_film = \"#quicktabs-tabpage-honorees-0 > div > div.view-content > div:nth-child({}) > div.view-grouping-content > div:nth-child({}) > div.views-field.views-field-title > span::text\".format(i+1, 4 +number)\n",
    "                nominee_film = ''.join(self.links['oscars'][years].css(path_film).extract()) # ''.join() transforms the list produced by the selector into a string\n",
    "                nominee_film = nominee_film.replace(\"\\n\", \"\") # Cleaning up the string\n",
    "            if number_winners == 2:\n",
    "                path_film = \"#quicktabs-tabpage-honorees-0 > div > div.view-content > div:nth-child({}) > div.view-grouping-content > div:nth-child({}) > div.views-field.views-field-title > span::text\".format(i+1, 5 +number)\n",
    "                nominee_film = ''.join(self.links['oscars'][years].css(path_film).extract()) # ''.join() transforms the list produced by the selector into a string\n",
    "                nominee_film = nominee_film.replace(\"\\n\", \"\") # Cleaning up the string\n",
    "            if category == \"Directing\":# For Directing, titles and names are swapped on the website\n",
    "                self.list_names.append(nominee_film)\n",
    "            else:\n",
    "                self.list_films.append(nominee_film)\n",
    "            \n",
    "            self.list_year.append(self.from_time + years)         \n",
    "            self.list_category.append(category)\n",
    "            self.list_results.append(\"Nominee\")\n",
    "\n",
    "    def getWinners(self, years, i, category, number_winners):\n",
    "\n",
    "        if number_winners == 1: # 1 Winner\n",
    "        # NAME\n",
    "            path_name = \"#quicktabs-tabpage-honorees-0 > div > div.view-content > div:nth-child({}) > div.view-grouping-content > div.views-row.views-row-1.views-row-odd.views-row-first.views-row-last > div.views-field.views-field-field-actor-name > h4::text\".format(i+1)\n",
    "            nominee_name = ''.join(self.links['oscars'][years].css(path_name).extract()) # ''.join() transforms the list produced by the selector into a string\n",
    "\n",
    "            if category == \"Directing\": # For Directing, titles and names are swapped on the website\n",
    "                self.list_films.append(nominee_name)\n",
    "            else:\n",
    "                self.list_names.append(nominee_name)\n",
    "            \n",
    "        \n",
    "            # FIlM\n",
    "            path_film = '#quicktabs-tabpage-honorees-0 > div > div.view-content > div:nth-child({}) > div.view-grouping-content > div.views-row.views-row-1.views-row-odd.views-row-first.views-row-last > div.views-field.views-field-title > span::text'.format(i+1)\n",
    "            nominee_film = ''.join(self.links['oscars'][years].css(path_film).extract()) # ''.join() transforms the list produced by the selector into a string\n",
    "            nominee_film = nominee_film.replace(\"\\n\", \"\") # Cleaning up the string\n",
    "\n",
    "            if category == \"Directing\":# For Directing, titles and names are swapped on the website\n",
    "                self.list_names.append(nominee_film)\n",
    "            else:\n",
    "                self.list_films.append(nominee_film)\n",
    "           \n",
    "            self.list_year.append(self.from_time + years)\n",
    "            self.list_category.append(category)\n",
    "            self.list_results.append(\"Winner\")\n",
    "\n",
    "\n",
    "        if number_winners == 2: # 2 Winners\n",
    "            # NAME 1st Winner \n",
    "            path_name = \"#quicktabs-tabpage-honorees-0 > div > div.view-content > div:nth-child({}) > div.view-grouping-content > div:nth-child(2) > div.views-field.views-field-field-actor-name > h4::text\".format(i+1)\n",
    "            nominee_name = ''.join(self.links['oscars'][years].css(path_name).extract()) # ''.join() transforms the list produced by the selector into a string4\n",
    "\n",
    "            if category == \"Directing\": # For Directing, titles and names are swapped on the website\n",
    "                self.list_films.append(nominee_name)\n",
    "            else:\n",
    "                self.list_names.append(nominee_name)\n",
    "\n",
    "            self.list_year.append(self.from_time + years)\n",
    "            self.list_category.append(category)\n",
    "            self.list_results.append(\"Tie-winner\")\n",
    "\n",
    "            # NAME 2st Winner \n",
    "            path_name = \"#quicktabs-tabpage-honorees-0 > div > div.view-content > div:nth-child({}) > div.view-grouping-content > div:nth-child(3) > div.views-field.views-field-field-actor-name > h4::text\".format(i+1)\n",
    "            nominee_name = ''.join(self.links['oscars'][years].css(path_name).extract()) # ''.join() transforms the list produced by the selector into a string4\n",
    "\n",
    "            if category == \"Directing\": # For Directing, titles and names are swapped on the website\n",
    "                self.list_films.append(nominee_name)\n",
    "            else:\n",
    "                self.list_names.append(nominee_name)\n",
    "\n",
    "            self.list_year.append(self.from_time + years)\n",
    "            self.list_category.append(category)\n",
    "            self.list_results.append(\"Tie-winner\")\n",
    "\n",
    "            # FILM\n",
    "            path_film1 = '#quicktabs-tabpage-honorees-0 > div > div.view-content > div:nth-child({}) > div.view-grouping-content > div:nth-child(2) > div.views-field.views-field-title > span::text'.format(i+1)\n",
    "            path_film2 = '#quicktabs-tabpage-honorees-0 > div > div.view-content > div:nth-child({}) > div.view-grouping-content > div:nth-child(3) > div.views-field.views-field-title > span::text'.format(i+1)\n",
    "\n",
    "            nominee_film = ''.join(self.links['oscars'][years].css(path_film1).extract()) # ''.join() transforms the list produced by the selector into a string\n",
    "            nominee_film = nominee_film.replace(\"\\n\", \"\") # Cleaning up the string\n",
    "\n",
    "            if category == \"Directing\":# For Directing, titles and names are swapped on the website\n",
    "                self.list_names.append(nominee_film)\n",
    "            else:\n",
    "                self.list_films.append(nominee_film)\n",
    "\n",
    "            winner2_film = ''.join(self.links['oscars'][years].css(path_film2).extract()) # ''.join() transforms the list produced by the selector into a string\n",
    "            winner2_film = winner2_film.replace(\"\\n\", \"\") # Cleaning up the string\n",
    "\n",
    "            if category == \"Directing\":# For Directing, titles and names are swapped on the website\n",
    "                self.list_names.append(winner2_film)\n",
    "            else:\n",
    "                self.list_films.append(winner2_film)        \n",
    "\n",
    "\n",
    "\n",
    "    def getDATA(self):\n",
    "            \n",
    "        for years in tqdm(range(len(self.links['oscars']))):\n",
    "\n",
    "            categories = self.links['oscars'][years].css('#quicktabs-tabpage-honorees-0 > div > div.view-content > div.view-grouping > div.view-grouping-header > h2::text').extract()    \n",
    "            \n",
    "            for i in range(len(categories)):\n",
    "                if categories[i] in self.categories_individuals:\n",
    "\n",
    "                    # Need the number of winners (might be ties) and nominated          \n",
    "                    path_nominated = \"#quicktabs-tabpage-honorees-0 > div > div.view-content > div:nth-child({}) > div.view-grouping-content > div:last-child\".format(i+1)\n",
    "                    number_of_film_nominated = int(''.join(self.links['oscars'][years].css(path_nominated).extract()).split(\"views-row-\")[1])\n",
    "\n",
    "                    path_winner = \"#quicktabs-tabpage-honorees-0 > div > div.view-content > div:nth-child({}) > div.view-grouping-content > div:nth-child(2)\".format(i+1)\n",
    "                    trial = ''.join(self.links['oscars'][years].css(path_winner).extract()).split(\"views-row-first views-row-last\") # If 1 winner then it splits the string into 1 list of 2 elements, if 2 winners, it does nothing\n",
    "                    if len(trial) == 2:\n",
    "                        number_winners = 1\n",
    "                    elif len(trial) == 1:\n",
    "                        number_winners = 2\n",
    "                    else:\n",
    "                        print(\"problem\")\n",
    "\n",
    "\n",
    "                    ## WINNERS                 \n",
    "                    self.getWinners(years, i, categories[i], number_winners)     \n",
    "                    ## NOMINEES\n",
    "                    self.getNominees(years, i, categories[i], number_of_film_nominated, number_winners)   \n",
    "                    \n",
    "                    \n",
    "        self.data = {\n",
    "            'year': self.list_year,\n",
    "            'category': self.list_category,\n",
    "            'film': self.list_films,\n",
    "            'name': self.list_names,\n",
    "            #'gender':[],\n",
    "            'result':self.list_results\n",
    "            #,\n",
    "            #'birthdate':[]\n",
    "        }            \n",
    "\n",
    "        ###Individual corrections\n",
    "        for i in range(len(self.data[\"film\"])):\n",
    "            if self.data[\"film\"][i] == \"Good Fellas\":\n",
    "                self.data[\"film\"][i] = \"Goodfellas\"\n",
    "            if self.data[\"film\"][i] == \"Life Is Beautiful\":\n",
    "                self.data[\"film\"][i] = \"La vita è bella\"\n",
    "            if self.data[\"film\"][i] == \"Pelle the Conqueror\":\n",
    "                self.data[\"film\"][i] = \"Pelle Erobreren\"\n",
    "            if self.data[\"film\"][i] == \"Roland Joffé\":\n",
    "                self.data[\"film\"][i] = \"The Killing Fields\"\n",
    "                self.data[\"name\"][i] = \"Roland Joffé\"\n",
    "            if self.data[\"film\"][i] == \"Mulholland Drive\":\n",
    "                self.data[\"film\"][i] = \"Mulholland Dr.\"\n",
    "            if self.data[\"film\"][i] == \"Precious: Based on the Novel 'Push' by Sapphire\":\n",
    "                self.data[\"film\"][i] = \"Precious\"\n",
    "            if self.data[\"film\"][i] == \"Demián Bichir\":\n",
    "                self.data[\"film\"][i] = \"A Better Life\"\n",
    "                self.data[\"name\"][i] = \"Demián Bichir\"\n",
    "            if self.data[\"film\"][i] == \"Two Days, One Night\":\n",
    "                self.data[\"film\"][i] = \"Deux jours, une nuit\"\n",
    "            if self.data[\"film\"][i] == \"Five Fingers\" and self.data[\"year\"][i] == 1953:\n",
    "                self.data[\"film\"][i] = \"5 Fingers\"\n",
    "            if self.data[\"film\"][i] == \"Adventures of Robinson Crusoe\":\n",
    "                self.data[\"film\"][i] = \"Robinson Crusoe\"\n",
    "            if self.data[\"film\"][i] == \"Henry V\" and self.data[\"year\"][i] == 1947:\n",
    "                self.data[\"film\"][i] = \"The Chronicle History of King Henry the Fifth with His Battell Fought at Agincourt in France\"    \n",
    "            if self.data[\"film\"][i] == \"All That Money Can Buy\":\n",
    "                self.data[\"film\"][i] = \"The Devil and Daniel Webster\"\n",
    "            if self.data[\"film\"][i] == \"Two Women\":\n",
    "                self.data[\"film\"][i] = \"La ciociara\"\n",
    "            if self.data[\"film\"][i] == \"Divorce--Italian Style\":\n",
    "                self.data[\"film\"][i] = \"Divorzio all'italiana\"    \n",
    "            if self.data[\"film\"][i] == \"Federico Fellini's 8-1/2\":\n",
    "                self.data[\"film\"][i] = \"8½\"\n",
    "            if self.data[\"film\"][i] == \"Zorba the Greek\":\n",
    "                self.data[\"film\"][i] = \"Aléxis Zorbás\"  \n",
    "            if self.data[\"film\"][i] == \"The Emigrants\":\n",
    "                self.data[\"film\"][i] = \"Utvandrarna\"\n",
    "            if self.data[\"film\"][i] == \"Last Tango in Paris\":\n",
    "                self.data[\"film\"][i] = \"Ultimo tango a Parigi\"\n",
    "            if self.data[\"film\"][i] == \"Cries and Whispers\":\n",
    "                self.data[\"film\"][i] = \"Viskningar och rop\"   \n",
    "            if self.data[\"film\"][i] == \"A Special Day\":\n",
    "                self.data[\"film\"][i] = \"Una giornata particolare\"\n",
    "            if self.data[\"film\"][i] == \"Central Station\":\n",
    "                self.data[\"film\"][i] = \"Central do Brasil\"  \n",
    "                \n",
    "\n",
    "            \n",
    "    \n",
    "            \n",
    "                \n",
    "    def getINDIVIDUALS(self):\n",
    "        df = pd.DataFrame(self.data)\n",
    "        df = df.set_index(['year','category'])\n",
    "        individuals = df.loc(axis = 0)[pd.IndexSlice[:, self.categories_individuals]]\n",
    "        return(individuals)\n",
    "    \n",
    "    def getFILMS(self):\n",
    "        df = pd.DataFrame(self.data)\n",
    "        df = df.set_index(['year','category'])\n",
    "        films = df.loc(axis = 0)[pd.IndexSlice[:, self.categories_interest[5:]]]\n",
    "        films.columns = ('film', 'Studio/Creator(s)', 'result')\n",
    "        return(films)\n",
    "    \n",
    "     #creating big dataframe with all data\n",
    "    def getAllCategories(self):\n",
    "        df = pd.DataFrame(self.data)\n",
    "        df = df.set_index(['year','category'])\n",
    "        return(df)\n",
    "    \n",
    "    #in progress\n",
    "    \"\"\" #creating CSV files based on scraped data. Possible naming of the columns for different datasets\n",
    "    def create_named_CSV(self,dataframe,categories,columns_name):\n",
    "        if len(column_name) > 2:\n",
    "          raise Exception('Items exceeds the maximum allowed length of 2')\n",
    "        category = []\n",
    "        if type(categories) == 'str':\n",
    "        category.append(categories)\n",
    "        for x in self.categories_dictionary:\n",
    "            for y in range(len(self.categories_dictionary[x])):\n",
    "                if category == self.categories_dictionary[x][y]:\n",
    "                    if x not in names:\n",
    "                        names.append(x)\n",
    "        for x in names:\n",
    "            create_empty_CSV(x)\n",
    "        df_final.columns = columns_name\n",
    "             films.to_csv(i + '.csv', sep=' ', mode='a')\"\"\"\n",
    "        \n",
    "    #creating empty csv names after argument of the method   \n",
    "    def create_empty_CSV(*stringcsv_names):\n",
    "        for i in stringcsv_names:\n",
    "            with open(i + '.csv', 'w') as f:\n",
    "                pass\n",
    "            \n",
    "######################################################### \n",
    "    \n",
    "    def getAPI_omdb(self):\n",
    "        key = \"59d5666b\"\n",
    "        url_api = \"https://www.omdbapi.com/?t={}&y={}&apikey={}\"\n",
    "        for film_number in tqdm(range(len(self.data['film']))):\n",
    "            film = self.data['film']\n",
    "            title_standard = film[film_number].upper().replace(\" \",\"+\").replace(\".\",\"\").replace(\"&\",\"%26\").replace(\"ONCE+UPON+A+TIMEIN+HOLLYWOOD\", \"ONCE+UPON+A+TIME...+IN+HOLLYWOOD\")\n",
    "            year_standard = self.data['year'][film_number]-1\n",
    "            response_api = json.loads(requests.get(url_api.format(title_standard, year_standard, key)).text)\n",
    "            if response_api[\"Response\"] != \"False\":        \n",
    "                self.Ombd_get(response_api)\n",
    "            else:\n",
    "                year_standard = self.data['year'][film_number]-2\n",
    "                response_api = json.loads(requests.get(url_api.format(title_standard, year_standard, key)).text)\n",
    "                if response_api[\"Response\"] != \"False\":               \n",
    "                    self.Ombd_get(response_api)\n",
    "                else:\n",
    "                    year_standard = self.data['year'][film_number]-3\n",
    "                    response_api = json.loads(requests.get(url_api.format(title_standard, year_standard, key)).text)\n",
    "                    if response_api[\"Response\"] != \"False\":\n",
    "                        self.Ombd_get(response_api)\n",
    "                    else:\n",
    "                        year_standard = self.data['year'][film_number]\n",
    "                        response_api = json.loads(requests.get(url_api.format(title_standard, year_standard, key)).text)\n",
    "                        if response_api[\"Response\"] != \"False\":\n",
    "                            self.Ombd_get(response_api)\n",
    "                        else:\n",
    "                            title_standard = title_standard.replace(\"%26\",\"and\")\n",
    "                            year_standard = self.data['year'][film_number]-1\n",
    "                            response_api = json.loads(requests.get(url_api.format(title_standard, year_standard, key)).text)\n",
    "                            if response_api[\"Response\"] != \"False\":\n",
    "                                self.Ombd_get(response_api)\n",
    "                            else:\n",
    "                                year_standard = self.data['year'][film_number]-2\n",
    "                                response_api = json.loads(requests.get(url_api.format(title_standard, year_standard, key)).text)\n",
    "                                if response_api[\"Response\"] != \"False\":\n",
    "                                    self.Ombd_get(response_api)\n",
    "                                else: \n",
    "                                    year_standard = self.data['year'][film_number]-3\n",
    "                                    response_api = json.loads(requests.get(url_api.format(title_standard, year_standard, key)).text)\n",
    "                                    if response_api[\"Response\"] != \"False\":\n",
    "                                        self.Ombd_get(response_api)\n",
    "                                    else:\n",
    "                                        print(\"Error\",film[film_number],title_standard,year_standard)\n",
    "            \n",
    "        # Standardization\n",
    "        \n",
    "        for i in tqdm(range(len(self.data['film']))): \n",
    "            if self.list_boxoffice[i] == \"N/A\":\n",
    "                self.list_boxoffice[i] = np.nan\n",
    "            else:\n",
    "                self.list_boxoffice[i] = float(self.list_boxoffice[i].replace(\"$\",\"\").replace(\",\",\"\"))\n",
    "\n",
    "            if self.list_ratings_imdb[i] == \"N/A\":\n",
    "                self.list_ratings_imdb[i] = np.nan\n",
    "            else:\n",
    "                self.list_ratings_imdb[i] = float(self.list_ratings_imdb[i])\n",
    "\n",
    "            if self.list_ratings_rottentomatoes[i] == \"N/A\":\n",
    "                self.list_ratings_rottentomatoes[i] = np.nan\n",
    "            else:\n",
    "                self.list_ratings_rottentomatoes[i] = float(self.list_ratings_rottentomatoes[i].replace(\"%\",\"\"))\n",
    "\n",
    "            if self.list_metacritics[i] == \"N/A\":\n",
    "                self.list_metacritics[i] = np.nan\n",
    "            else:\n",
    "                self.list_metacritics[i] = float(self.list_metacritics[i].replace(\"/100\",\"\"))\n",
    "    \n",
    "        self.data['imbd_ratings'] = self.list_ratings_imdb,\n",
    "        self.data['rotten_ratings'] = self.list_ratings_rottentomatoes,\n",
    "        self.data['metacritics_ratings'] = self.list_metacritics,\n",
    "        self.data['box office'] = self.list_boxoffice\n",
    "        self.data['id_movie'] = self.list_id_movie\n",
    "        \n",
    "    def Ombd_get(self, response_api):\n",
    "        for ratings in range(len(response_api[\"Ratings\"])):\n",
    "\n",
    "            if response_api[\"Ratings\"][ratings][\"Source\"] == \"Rotten Tomatoes\":\n",
    "                self.list_ratings_rottentomatoes.append(response_api[\"Ratings\"][ratings][\"Value\"])\n",
    "\n",
    "            if response_api[\"Ratings\"][ratings][\"Source\"] == \"Metacritic\":\n",
    "                self.list_metacritics.append(response_api[\"Ratings\"][ratings][\"Value\"]) \n",
    "                    \n",
    "        if not any(\"Rotten Tomatoes\" in response_api[\"Ratings\"][ratings][\"Source\"] for ratings in range(len(response_api[\"Ratings\"]))):\n",
    "            self.list_ratings_rottentomatoes.append(\"N/A\")\n",
    "        if not any(\"Metacritic\" in response_api[\"Ratings\"][ratings][\"Source\"] for ratings in range(len(response_api[\"Ratings\"]))):\n",
    "            self.list_metacritics.append(\"N/A\")\n",
    "\n",
    "        self.list_ratings_imdb.append(response_api.get(\"imdbRating\", \"N/A\"))            \n",
    "        self.list_boxoffice.append(response_api.get(\"BoxOffice\", \"N/A\"))\n",
    "        self.list_id_movie.append(response_api.get(\"imdbID\", \"N/A\"))            \n",
    "\n",
    "        \n",
    "        \n",
    "    def getAPI_MDB(self):\n",
    "        # \n",
    "        API_KEY_MDB = \"a68690ebf69567801e68c26ee82d7787\"\n",
    "        url_MDB_find = \"http://api.tmdb.org/3/find/{}?api_key={}&external_source=imdb_id\"\n",
    "        url_MDB_credit = \"http://api.tmdb.org/3/movie/{}/credits?api_key={}&language=en-US\"\n",
    "        url_MDB_person = \"https://api.themoviedb.org/3/person/{}?api_key={}\"\n",
    "        \n",
    "        for movie_count in tqdm(range(len(self.data['id_movie']))):\n",
    "            id_imbd = self.data['id_movie'][movie_count] #identifiant IMBD (external to the API) used to get the ID (internal to the API) of the movie\n",
    "            response_find = json.loads(requests.get(url_MDB_find.format(id_imbd,API_KEY_MDB)).text)\n",
    "            if response_find.get(\"success\") != False: # Check if the API find a movie\n",
    "                if len(response_find[\"movie_results\"]) == 1: # Check for no two movies\n",
    "                    id_MDB = response_find[\"movie_results\"][0][\"id\"]\n",
    "                else:\n",
    "                    print(\"longueur movie\",len(response_find[\"movie_results\"]),response_find[\"movie_results\"])\n",
    "                \n",
    "                response_credit = json.loads(requests.get(url_MDB_credit.format(id_MDB,API_KEY_MDB)).text)\n",
    "                if response_credit.get(\"success\") != False: # Check if the API find a person\n",
    "                    if self.data[\"category\"][movie_count] == \"Directing\":\n",
    "                        for acteurs in range(len(response_credit[\"crew\"])):\n",
    "                            if jellyfish.damerau_levenshtein_distance(response_credit[\"crew\"][acteurs][\"name\"], self.data[\"name\"][movie_count]) < 2:\n",
    "                                id_indiv = response_credit[\"cast\"][acteurs][\"id\"]\n",
    "                        if not any(jellyfish.damerau_levenshtein_distance(response_credit[\"crew\"][acteurs][\"name\"], self.data[\"name\"][movie_count]) < 2 for acteurs in range(len(response_credit[\"cast\"]))):\n",
    "                            print(\"Pas acteur dans liste crew\", self.data[\"name\"][movie_count],response_credit[\"crew\"])\n",
    "                    else:\n",
    "                        for acteurs in range(len(response_credit[\"cast\"])):\n",
    "                            if jellyfish.damerau_levenshtein_distance(response_credit[\"cast\"][acteurs][\"name\"], self.data[\"name\"][movie_count]) < 2:\n",
    "                                id_indiv = response_credit[\"cast\"][acteurs][\"id\"]\n",
    "                        if not any(jellyfish.damerau_levenshtein_distance(response_credit[\"cast\"][acteurs][\"name\"], self.data[\"name\"][movie_count]) < 2 for acteurs in range(len(response_credit[\"cast\"]))):\n",
    "                            print(\"Pas acteur dans liste crew\", self.data[\"name\"][movie_count],response_credit[\"cast\"])\n",
    "                \n",
    "                    response_person = json.loads(requests.get(url_MDB_person.format(id_indiv,API_KEY_MDB)).text)\n",
    "                    if response_person.get(\"success\") != False: # Check if the API find a person\n",
    "                        print(\"Birthday\", response_person[\"birthday\"])\n",
    "                        if response_person[\"birthday\"] == None:\n",
    "                            print(response_person, response_credit, response_find)\n",
    "                        print(\"Gender\", response_person[\"gender\"])\n",
    "                        self.list_birthday.append(response_person[\"birthday\"])\n",
    "                        self.list_gender.append(response_person[\"gender\"])\n",
    "                    else:\n",
    "                        print(response_person, id_imbd, self.data[\"film\"][movie_count])\n",
    "                else:\n",
    "                    print(response_credit, id_imbd, self.data[\"film\"][movie_count])\n",
    "            else:\n",
    "                print(response_find, id_imbd, self.data[\"film\"][movie_count])\n",
    "        \n",
    "        # Standardization\n",
    "        len(self.list_gender, self.list_birthday)\n",
    "        \n",
    "        for i in tqdm(range(len(self.data['film']))): \n",
    "            if self.list_gender[i] == \"1\":\n",
    "                self.list_gender[i] = \"Female\"\n",
    "            elif self.list_gender[i] == \"2\":\n",
    "                self.list_gender[i] = \"Male\"\n",
    "            else:\n",
    "                print(\"problème genre\")\n",
    "\n",
    "            self.list_birthday[i] = float(self.list_birthday[i][0:4]) # We keep only the year and transform from string to float\n",
    "            \n",
    "        self.data['gender'] = self.list_gender,\n",
    "        self.data['birthday'] = self.list_birthday\n",
    "\n",
    "        \n",
    "\n",
    "\n",
    "\n",
    "                "
   ]
  },
  {
   "cell_type": "code",
   "execution_count": 36,
   "metadata": {},
   "outputs": [
    {
     "name": "stderr",
     "output_type": "stream",
     "text": [
      "100%|██████████████████████████████████████████████████████████████████████████████████| 11/11 [00:00<00:00, 18.84it/s]\n"
     ]
    }
   ],
   "source": [
    "test = Oscar_Scraper(1990,2000)\n",
    "test.getHTML()\n",
    "test.getDATA()\n"
   ]
  },
  {
   "cell_type": "code",
   "execution_count": 37,
   "metadata": {
    "scrolled": true
   },
   "outputs": [
    {
     "name": "stderr",
     "output_type": "stream",
     "text": [
      "100%|████████████████████████████████████████████████████████████████████████████████| 165/165 [00:27<00:00,  5.93it/s]\n",
      "100%|████████████████████████████████████████████████████████████████████████████| 165/165 [00:00<00:00, 166001.48it/s]\n"
     ]
    }
   ],
   "source": [
    "test.getAPI_omdb()\n",
    "##PROBLEME : PAS DE BOX OFFICE et METACRITICS\n",
    "\n",
    "# Problème avec Once Upon a Time in Hollywood (reportage, pas le film), ce n'est pas le seul, mais oublié lequel c'était l'autre"
   ]
  },
  {
   "cell_type": "code",
   "execution_count": 38,
   "metadata": {},
   "outputs": [
    {
     "name": "stderr",
     "output_type": "stream",
     "text": [
      "  1%|▍                                                                                 | 1/165 [00:00<00:55,  2.96it/s]"
     ]
    },
    {
     "name": "stdout",
     "output_type": "stream",
     "text": [
      "Birthday 1957-04-29\n",
      "Gender 2\n"
     ]
    },
    {
     "name": "stderr",
     "output_type": "stream",
     "text": [
      "\r",
      "  1%|▉                                                                                 | 2/165 [00:00<00:53,  3.03it/s]"
     ]
    },
    {
     "name": "stdout",
     "output_type": "stream",
     "text": [
      "Birthday 1960-12-10\n",
      "Gender 2\n"
     ]
    },
    {
     "name": "stderr",
     "output_type": "stream",
     "text": [
      "\r",
      "  2%|█▍                                                                                | 3/165 [00:00<00:51,  3.17it/s]"
     ]
    },
    {
     "name": "stdout",
     "output_type": "stream",
     "text": [
      "Birthday 1962-07-03\n",
      "Gender 2\n"
     ]
    },
    {
     "name": "stderr",
     "output_type": "stream",
     "text": [
      "\r",
      "  2%|█▉                                                                                | 4/165 [00:01<00:50,  3.22it/s]"
     ]
    },
    {
     "name": "stdout",
     "output_type": "stream",
     "text": [
      "Birthday 1937-06-01\n",
      "Gender 2\n"
     ]
    },
    {
     "name": "stderr",
     "output_type": "stream",
     "text": [
      "\r",
      "  3%|██▍                                                                               | 5/165 [00:01<00:47,  3.38it/s]"
     ]
    },
    {
     "name": "stdout",
     "output_type": "stream",
     "text": [
      "Birthday 1951-07-21\n",
      "Gender 2\n"
     ]
    },
    {
     "name": "stderr",
     "output_type": "stream",
     "text": [
      "\r",
      "  4%|██▉                                                                               | 6/165 [00:01<00:46,  3.42it/s]"
     ]
    },
    {
     "name": "stdout",
     "output_type": "stream",
     "text": [
      "Birthday 1909-06-07\n",
      "Gender 1\n"
     ]
    },
    {
     "name": "stderr",
     "output_type": "stream",
     "text": [
      "\r",
      "  4%|███▍                                                                              | 7/165 [00:02<00:44,  3.54it/s]"
     ]
    },
    {
     "name": "stdout",
     "output_type": "stream",
     "text": [
      "Birthday 1955-06-27\n",
      "Gender 1\n"
     ]
    },
    {
     "name": "stderr",
     "output_type": "stream",
     "text": [
      "\r",
      "  5%|███▉                                                                              | 8/165 [00:02<00:42,  3.65it/s]"
     ]
    },
    {
     "name": "stdout",
     "output_type": "stream",
     "text": [
      "Birthday 1940-09-03\n",
      "Gender 1\n"
     ]
    },
    {
     "name": "stderr",
     "output_type": "stream",
     "text": [
      "\r",
      "  5%|████▍                                                                             | 9/165 [00:02<00:40,  3.81it/s]"
     ]
    },
    {
     "name": "stdout",
     "output_type": "stream",
     "text": [
      "Birthday 1949-04-20\n",
      "Gender 1\n"
     ]
    },
    {
     "name": "stderr",
     "output_type": "stream",
     "text": [
      "\r",
      "  6%|████▉                                                                            | 10/165 [00:02<00:40,  3.84it/s]"
     ]
    },
    {
     "name": "stdout",
     "output_type": "stream",
     "text": [
      "Birthday 1958-04-29\n",
      "Gender 1\n"
     ]
    },
    {
     "name": "stderr",
     "output_type": "stream",
     "text": [
      "\r",
      "  7%|█████▍                                                                           | 11/165 [00:03<00:40,  3.78it/s]"
     ]
    },
    {
     "name": "stdout",
     "output_type": "stream",
     "text": [
      "Birthday 1949-05-31\n",
      "Gender 2\n"
     ]
    },
    {
     "name": "stderr",
     "output_type": "stream",
     "text": [
      "\r",
      "  7%|█████▉                                                                           | 12/165 [00:03<00:43,  3.54it/s]"
     ]
    },
    {
     "name": "stdout",
     "output_type": "stream",
     "text": [
      "Birthday 1951-07-08\n",
      "Gender 1\n"
     ]
    },
    {
     "name": "stderr",
     "output_type": "stream",
     "text": [
      "\r",
      "  8%|██████▍                                                                          | 13/165 [00:03<00:47,  3.19it/s]"
     ]
    },
    {
     "name": "stdout",
     "output_type": "stream",
     "text": [
      "Birthday 1970-11-06\n",
      "Gender 2\n"
     ]
    },
    {
     "name": "stderr",
     "output_type": "stream",
     "text": [
      "\r",
      "  8%|██████▊                                                                          | 14/165 [00:04<00:46,  3.24it/s]"
     ]
    },
    {
     "name": "stdout",
     "output_type": "stream",
     "text": [
      "Birthday 1934-12-09\n",
      "Gender 1\n"
     ]
    },
    {
     "name": "stderr",
     "output_type": "stream",
     "text": [
      "\r",
      "  9%|███████▎                                                                         | 15/165 [00:04<00:44,  3.36it/s]"
     ]
    },
    {
     "name": "stdout",
     "output_type": "stream",
     "text": [
      "Birthday 1975-04-19\n",
      "Gender 2\n"
     ]
    },
    {
     "name": "stderr",
     "output_type": "stream",
     "text": [
      "\r",
      " 10%|███████▊                                                                         | 16/165 [00:04<00:42,  3.50it/s]"
     ]
    },
    {
     "name": "stdout",
     "output_type": "stream",
     "text": [
      "Birthday 1948-09-19\n",
      "Gender 2\n"
     ]
    },
    {
     "name": "stderr",
     "output_type": "stream",
     "text": [
      "\r",
      " 10%|████████▎                                                                        | 17/165 [00:04<00:42,  3.52it/s]"
     ]
    },
    {
     "name": "stdout",
     "output_type": "stream",
     "text": [
      "Birthday 1955-01-18\n",
      "Gender 2\n"
     ]
    },
    {
     "name": "stderr",
     "output_type": "stream",
     "text": [
      "\r",
      " 11%|████████▊                                                                        | 18/165 [00:05<00:41,  3.56it/s]"
     ]
    },
    {
     "name": "stdout",
     "output_type": "stream",
     "text": [
      "Birthday 1943-08-17\n",
      "Gender 2\n"
     ]
    },
    {
     "name": "stderr",
     "output_type": "stream",
     "text": [
      "\r",
      " 12%|█████████▎                                                                       | 19/165 [00:05<00:40,  3.64it/s]"
     ]
    },
    {
     "name": "stdout",
     "output_type": "stream",
     "text": [
      "Birthday 1948-12-27\n",
      "Gender 2\n"
     ]
    },
    {
     "name": "stderr",
     "output_type": "stream",
     "text": [
      "\r",
      " 12%|█████████▊                                                                       | 20/165 [00:05<00:39,  3.66it/s]"
     ]
    },
    {
     "name": "stdout",
     "output_type": "stream",
     "text": [
      "Birthday 1930-10-01\n",
      "Gender 2\n"
     ]
    },
    {
     "name": "stderr",
     "output_type": "stream",
     "text": [
      "\r",
      " 13%|██████████▎                                                                      | 21/165 [00:05<00:39,  3.68it/s]"
     ]
    },
    {
     "name": "stdout",
     "output_type": "stream",
     "text": [
      "Birthday 1948-06-28\n",
      "Gender 1\n"
     ]
    },
    {
     "name": "stderr",
     "output_type": "stream",
     "text": [
      "\r",
      " 13%|██████████▊                                                                      | 22/165 [00:06<00:38,  3.72it/s]"
     ]
    },
    {
     "name": "stdout",
     "output_type": "stream",
     "text": [
      "Birthday 1951-07-08\n",
      "Gender 1\n"
     ]
    },
    {
     "name": "stderr",
     "output_type": "stream",
     "text": [
      "\r",
      " 14%|███████████▎                                                                     | 23/165 [00:06<00:36,  3.85it/s]"
     ]
    },
    {
     "name": "stdout",
     "output_type": "stream",
     "text": [
      "Birthday 1967-10-28\n",
      "Gender 1\n"
     ]
    },
    {
     "name": "stderr",
     "output_type": "stream",
     "text": [
      "\r",
      " 15%|███████████▊                                                                     | 24/165 [00:06<00:37,  3.80it/s]"
     ]
    },
    {
     "name": "stdout",
     "output_type": "stream",
     "text": [
      "Birthday 1949-06-22\n",
      "Gender 1\n"
     ]
    },
    {
     "name": "stderr",
     "output_type": "stream",
     "text": [
      "\r",
      " 15%|████████████▎                                                                    | 25/165 [00:06<00:36,  3.79it/s]"
     ]
    },
    {
     "name": "stdout",
     "output_type": "stream",
     "text": [
      "Birthday 1930-02-27\n",
      "Gender 1\n"
     ]
    },
    {
     "name": "stderr",
     "output_type": "stream",
     "text": [
      "\r",
      " 16%|████████████▊                                                                    | 26/165 [00:07<00:36,  3.84it/s]"
     ]
    },
    {
     "name": "stdout",
     "output_type": "stream",
     "text": [
      "Birthday 1952-04-28\n",
      "Gender 1\n"
     ]
    },
    {
     "name": "stderr",
     "output_type": "stream",
     "text": [
      "\r",
      " 16%|█████████████▎                                                                   | 27/165 [00:07<00:38,  3.63it/s]"
     ]
    },
    {
     "name": "stdout",
     "output_type": "stream",
     "text": [
      "Birthday 1947-11-13\n",
      "Gender 2\n"
     ]
    },
    {
     "name": "stderr",
     "output_type": "stream",
     "text": [
      "\r",
      " 17%|█████████████▋                                                                   | 28/165 [00:07<00:38,  3.61it/s]"
     ]
    },
    {
     "name": "stdout",
     "output_type": "stream",
     "text": [
      "Birthday 1943-08-17\n",
      "Gender 2\n"
     ]
    },
    {
     "name": "stderr",
     "output_type": "stream",
     "text": [
      "\r",
      " 18%|██████████████▏                                                                  | 29/165 [00:08<00:37,  3.62it/s]"
     ]
    },
    {
     "name": "stdout",
     "output_type": "stream",
     "text": [
      "Birthday None\n",
      "{'adult': False, 'also_known_as': [], 'biography': '', 'birthday': None, 'deathday': None, 'gender': 0, 'homepage': None, 'id': 109764, 'imdb_id': 'nm0634725', 'known_for_department': 'Acting', 'name': 'Jimmy Noonan', 'place_of_birth': None, 'popularity': 0.702, 'profile_path': '/sAWvHYHm43lrdf4TzI2YmSgV4vK.jpg'} {'id': 18129, 'cast': [{'adult': False, 'gender': 1, 'id': 5657, 'known_for_department': 'Acting', 'name': 'Anjelica Huston', 'original_name': 'Anjelica Huston', 'popularity': 2.0, 'profile_path': '/6hnYeHa7Rc1w1MmQ3JsLSIb7yCX.jpg', 'cast_id': 2, 'character': 'Lilly Dillon', 'credit_id': '52fe47619251416c750975cf', 'order': 0}, {'adult': False, 'gender': 2, 'id': 3036, 'known_for_department': 'Acting', 'name': 'John Cusack', 'original_name': 'John Cusack', 'popularity': 5.523, 'profile_path': '/osGPqvRffvYTBpcBfQIblaTozmk.jpg', 'cast_id': 3, 'character': 'Roy Dillon', 'credit_id': '52fe47619251416c750975d3', 'order': 1}, {'adult': False, 'gender': 1, 'id': 516, 'known_for_department': 'Acting', 'name': 'Annette Bening', 'original_name': 'Annette Bening', 'popularity': 6.217, 'profile_path': '/bs4hB5t2mHMn6C2ZGOlP5LfSEPe.jpg', 'cast_id': 4, 'character': 'Myra Langtry', 'credit_id': '52fe47619251416c750975d7', 'order': 2}, {'adult': False, 'gender': 0, 'id': 109762, 'known_for_department': 'Acting', 'name': 'Jan Munroe', 'original_name': 'Jan Munroe', 'popularity': 1.142, 'profile_path': '/xqMzbX29GHewe48va3eQdyGlJL7.jpg', 'cast_id': 10, 'character': 'Guy in bar', 'credit_id': '52fe47619251416c750975f3', 'order': 3}, {'adult': False, 'gender': 0, 'id': 109763, 'known_for_department': 'Acting', 'name': 'Robert Weems', 'original_name': 'Robert Weems', 'popularity': 0.6, 'profile_path': None, 'cast_id': 11, 'character': 'Racetrack Announcer', 'credit_id': '52fe47619251416c750975f7', 'order': 4}, {'adult': False, 'gender': 2, 'id': 537, 'known_for_department': 'Acting', 'name': 'Stephen Tobolowsky', 'original_name': 'Stephen Tobolowsky', 'popularity': 2.384, 'profile_path': '/4GNQJVEcU4V8AGVMXKM5FVOuW8h.jpg', 'cast_id': 12, 'character': 'Jeweler', 'credit_id': '52fe47619251416c750975fb', 'order': 5}, {'adult': False, 'gender': 0, 'id': 109764, 'known_for_department': 'Acting', 'name': 'Jimmy Noonan', 'original_name': 'Jimmy Noonan', 'popularity': 0.702, 'profile_path': '/sAWvHYHm43lrdf4TzI2YmSgV4vK.jpg', 'cast_id': 13, 'character': 'Bartender', 'credit_id': '52fe47619251416c750975ff', 'order': 6}, {'adult': False, 'gender': 2, 'id': 109765, 'known_for_department': 'Acting', 'name': 'Richard Holden', 'original_name': 'Richard Holden', 'popularity': 0.6, 'profile_path': '/bdtFF6BD37ij1eso6XkpKm4phf7.jpg', 'cast_id': 14, 'character': 'Cop', 'credit_id': '52fe47619251416c75097603', 'order': 7}, {'adult': False, 'gender': 2, 'id': 5732, 'known_for_department': 'Acting', 'name': 'Henry Jones', 'original_name': 'Henry Jones', 'popularity': 1.337, 'profile_path': '/8rBuIpP5Wlzoh8ow7cp5bOekedU.jpg', 'cast_id': 15, 'character': 'Sims', 'credit_id': '52fe47619251416c75097607', 'order': 8}, {'adult': False, 'gender': 2, 'id': 19454, 'known_for_department': 'Acting', 'name': 'Michael Laskin', 'original_name': 'Michael Laskin', 'popularity': 0.6, 'profile_path': None, 'cast_id': 16, 'character': 'Irv', 'credit_id': '52fe47619251416c7509760b', 'order': 9}, {'adult': False, 'gender': 2, 'id': 8692, 'known_for_department': 'Acting', 'name': 'Eddie Jones', 'original_name': 'Eddie Jones', 'popularity': 1.183, 'profile_path': '/nMGaE2RFCZpVv5gVlDqeLLxNql6.jpg', 'cast_id': 17, 'character': 'Mintz', 'credit_id': '52fe47619251416c7509760f', 'order': 10}, {'adult': False, 'gender': 2, 'id': 68898, 'known_for_department': 'Acting', 'name': 'Sandy Baron', 'original_name': 'Sandy Baron', 'popularity': 0.828, 'profile_path': '/jBO1Pbeg2xDDNGPpJPsdtcjogbO.jpg', 'cast_id': 18, 'character': 'Doctor', 'credit_id': '52fe47619251416c75097613', 'order': 11}, {'adult': False, 'gender': 1, 'id': 11756, 'known_for_department': 'Acting', 'name': 'Lou Hancock', 'original_name': 'Lou Hancock', 'popularity': 0.652, 'profile_path': '/1NGv178QgomuVC9kTc9gAThATMv.jpg', 'cast_id': 19, 'character': 'Nurse', 'credit_id': '52fe47619251416c75097617', 'order': 12}, {'adult': False, 'gender': 2, 'id': 2886, 'known_for_department': 'Acting', 'name': 'Gailard Sartain', 'original_name': 'Gailard Sartain', 'popularity': 0.6, 'profile_path': '/oYCs7TlrvnwcNujQ2yzG4x7fz7f.jpg', 'cast_id': 20, 'character': 'Joe', 'credit_id': '52fe47619251416c7509761b', 'order': 13}, {'adult': False, 'gender': 1, 'id': 109766, 'known_for_department': 'Acting', 'name': 'Noelle Harling', 'original_name': 'Noelle Harling', 'popularity': 0.6, 'profile_path': None, 'cast_id': 21, 'character': 'Nurse Carol Flynn', 'credit_id': '52fe47619251416c7509761f', 'order': 14}, {'adult': False, 'gender': 1, 'id': 109767, 'known_for_department': 'Acting', 'name': 'Ivette Soler', 'original_name': 'Ivette Soler', 'popularity': 0.6, 'profile_path': '/iFTqXyqrOFKgve1gycYT4tgk8eB.jpg', 'cast_id': 22, 'character': 'Maid', 'credit_id': '52fe47619251416c75097623', 'order': 15}, {'adult': False, 'gender': 2, 'id': 3798, 'known_for_department': 'Acting', 'name': 'Pat Hingle', 'original_name': 'Pat Hingle', 'popularity': 2.793, 'profile_path': '/QBAxFVZQ0Hu6rxlFavhwUq0zug.jpg', 'cast_id': 23, 'character': 'Bobo Justus', 'credit_id': '52fe47619251416c75097627', 'order': 16}, {'adult': False, 'gender': 2, 'id': 17342, 'known_for_department': 'Acting', 'name': 'Paul Adelstein', 'original_name': 'Paul Adelstein', 'popularity': 5.394, 'profile_path': '/9qkGnEWPzGayZg9gaB4xbP8UL4g.jpg', 'cast_id': 24, 'character': 'Sailor - Young Paul', 'credit_id': '52fe47619251416c7509762b', 'order': 17}, {'adult': False, 'gender': 2, 'id': 12799, 'known_for_department': 'Acting', 'name': 'Jeremy Piven', 'original_name': 'Jeremy Piven', 'popularity': 1.969, 'profile_path': '/dPCFGmNhrF3niEJMPIbC1fiIqyI.jpg', 'cast_id': 25, 'character': 'Sailor - Freshman', 'credit_id': '52fe47619251416c7509762f', 'order': 18}, {'adult': False, 'gender': 2, 'id': 10000, 'known_for_department': 'Acting', 'name': 'Gregory Sporleder', 'original_name': 'Gregory Sporleder', 'popularity': 3.471, 'profile_path': '/qcCA7hMP8rEEGQDfNCKKl3XZrHn.jpg', 'cast_id': 26, 'character': 'Sailor - Spooney', 'credit_id': '52fe47619251416c75097633', 'order': 19}, {'adult': False, 'gender': 0, 'id': 109768, 'known_for_department': 'Acting', 'name': 'David Sinaiko', 'original_name': 'David Sinaiko', 'popularity': 0.6, 'profile_path': None, 'cast_id': 27, 'character': 'Sailor - Stinky', 'credit_id': '52fe47629251416c75097637', 'order': 20}, {'adult': False, 'gender': 2, 'id': 9210, 'known_for_department': 'Acting', 'name': 'Jeff Perry', 'original_name': 'Jeff Perry', 'popularity': 2.895, 'profile_path': '/cC2tK2X3hY8RBM2ebp1BvpWTUqG.jpg', 'cast_id': 28, 'character': 'Drunk', 'credit_id': '52fe47629251416c7509763b', 'order': 21}, {'adult': False, 'gender': 2, 'id': 9629, 'known_for_department': 'Acting', 'name': 'Jon Gries', 'original_name': 'Jon Gries', 'popularity': 2.519, 'profile_path': '/nX69eyOvpmJ0YEpm2Qz2ZISngqw.jpg', 'cast_id': 29, 'character': \"Drunk's Friend\", 'credit_id': '52fe47629251416c7509763f', 'order': 22}, {'adult': False, 'gender': 1, 'id': 21202, 'known_for_department': 'Acting', 'name': 'Micole Mercurio', 'original_name': 'Micole Mercurio', 'popularity': 1.989, 'profile_path': '/7G82RardxpLmZU6TZqJkAfTXxZE.jpg', 'cast_id': 38, 'character': 'Waitress', 'credit_id': '52fe47629251416c7509765f', 'order': 23}, {'adult': False, 'gender': 2, 'id': 16119, 'known_for_department': 'Acting', 'name': 'Charles Napier', 'original_name': 'Charles Napier', 'popularity': 3.332, 'profile_path': '/w16LEJlHDtqGWeFCk5a7a2GDeBK.jpg', 'cast_id': 31, 'character': 'Gloucester Hebbing', 'credit_id': '52fe47629251416c75097643', 'order': 24}, {'adult': False, 'gender': 2, 'id': 22131, 'known_for_department': 'Acting', 'name': 'J.T. Walsh', 'original_name': 'J.T. Walsh', 'popularity': 1.715, 'profile_path': '/mBa1UnbbKryNtQKT3VOnzER1HiQ.jpg', 'cast_id': 32, 'character': 'Cole', 'credit_id': '52fe47629251416c75097647', 'order': 25}, {'adult': False, 'gender': 0, 'id': 109770, 'known_for_department': 'Acting', 'name': 'Teresa Gilmore', 'original_name': 'Teresa Gilmore', 'popularity': 0.98, 'profile_path': None, 'cast_id': 33, 'character': 'Receptionist 1', 'credit_id': '52fe47629251416c7509764b', 'order': 26}, {'adult': False, 'gender': 0, 'id': 109771, 'known_for_department': 'Acting', 'name': 'Elizabeth Ann Feeley', 'original_name': 'Elizabeth Ann Feeley', 'popularity': 0.6, 'profile_path': None, 'cast_id': 34, 'character': 'Receptionist 2', 'credit_id': '52fe47629251416c7509764f', 'order': 27}, {'adult': False, 'gender': 0, 'id': 95682, 'known_for_department': 'Acting', 'name': 'Billy Ray Sharkey', 'original_name': 'Billy Ray Sharkey', 'popularity': 0.84, 'profile_path': None, 'cast_id': 35, 'character': 'FBI man', 'credit_id': '52fe47629251416c75097653', 'order': 28}, {'adult': False, 'gender': 1, 'id': 11794, 'known_for_department': 'Acting', 'name': 'Frances Bay', 'original_name': 'Frances Bay', 'popularity': 2.632, 'profile_path': '/1mtcINBBbvb7E4ySgOr86u34XLJ.jpg', 'cast_id': 36, 'character': 'Arizona Motel Clerk', 'credit_id': '52fe47629251416c75097657', 'order': 29}, {'adult': False, 'gender': 2, 'id': 3982, 'known_for_department': 'Acting', 'name': 'Xander Berkeley', 'original_name': 'Xander Berkeley', 'popularity': 4.591, 'profile_path': '/oBoKGfngGGZmSVGFslphYjc23WO.jpg', 'cast_id': 37, 'character': 'Lt. Pierson', 'credit_id': '52fe47629251416c7509765b', 'order': 30}, {'adult': False, 'gender': 2, 'id': 884, 'known_for_department': 'Acting', 'name': 'Steve Buscemi', 'original_name': 'Steve Buscemi', 'popularity': 8.366, 'profile_path': '/lQKdHMxfYcCBOvwRKBAxPZVNtkg.jpg', 'cast_id': 46, 'character': 'Kaggs (uncredited)', 'credit_id': '5e49c36381da3900193effc8', 'order': 31}, {'adult': False, 'gender': 0, 'id': 2847470, 'known_for_department': 'Acting', 'name': 'John Gillespie', 'original_name': 'John Gillespie', 'popularity': 0.6, 'profile_path': None, 'cast_id': 51, 'character': 'Bartender (uncredited)', 'credit_id': '5fa75dffc68b69003da2fcb6', 'order': 32}, {'adult': False, 'gender': 1, 'id': 7137, 'known_for_department': 'Acting', 'name': 'Juliet Landau', 'original_name': 'Juliet Landau', 'popularity': 1.109, 'profile_path': '/yZWvGRtB2tKTy4aYbqG1rno6iJU.jpg', 'cast_id': 49, 'character': 'Young Lilly (uncredited)', 'credit_id': '5f1c9cf70e597b0033386c40', 'order': 33}, {'adult': False, 'gender': 2, 'id': 58623, 'known_for_department': 'Acting', 'name': 'Sy Richardson', 'original_name': 'Sy Richardson', 'popularity': 0.98, 'profile_path': '/kPlnnAmAbqQB33OcEVXiScK1Brr.jpg', 'cast_id': 50, 'character': 'Cab Driver (uncredited)', 'credit_id': '5f1c9d0d0e597b0034375fa9', 'order': 34}, {'adult': False, 'gender': 2, 'id': 1032, 'known_for_department': 'Directing', 'name': 'Martin Scorsese', 'original_name': 'Martin Scorsese', 'popularity': 10.398, 'profile_path': '/9U9Y5GQuWX3EZy39B8nkk4NY01S.jpg', 'cast_id': 40, 'character': 'Opening voice-over (uncredited)', 'credit_id': '5b8d58070e0a261d6804d1ca', 'order': 35}], 'crew': [{'adult': False, 'gender': 2, 'id': 294, 'known_for_department': 'Editing', 'name': 'Mick Audsley', 'original_name': 'Mick Audsley', 'popularity': 0.6, 'profile_path': None, 'credit_id': '52fe47619251416c750975ef', 'department': 'Editing', 'job': 'Editor'}, {'adult': False, 'gender': 1, 'id': 547, 'known_for_department': 'Production', 'name': 'Victoria Thomas', 'original_name': 'Victoria Thomas', 'popularity': 0.755, 'profile_path': '/l0WTF9M0Dg6lNCGcKsXc5H6xVqZ.jpg', 'credit_id': '60e27df0caa5080048e79466', 'department': 'Production', 'job': 'Casting'}, {'adult': False, 'gender': 1, 'id': 555, 'known_for_department': 'Art', 'name': 'Nancy Haigh', 'original_name': 'Nancy Haigh', 'popularity': 1.614, 'profile_path': None, 'credit_id': '60e2805fe21023005f2e62c6', 'department': 'Art', 'job': 'Set Decoration'}, {'adult': False, 'gender': 2, 'id': 1032, 'known_for_department': 'Directing', 'name': 'Martin Scorsese', 'original_name': 'Martin Scorsese', 'popularity': 10.398, 'profile_path': '/9U9Y5GQuWX3EZy39B8nkk4NY01S.jpg', 'credit_id': '5b8d5857925141517f04bb73', 'department': 'Production', 'job': 'Producer'}, {'adult': False, 'gender': 1, 'id': 1046, 'known_for_department': 'Production', 'name': 'Juliet Taylor', 'original_name': 'Juliet Taylor', 'popularity': 0.684, 'profile_path': None, 'credit_id': '60e27de5a4af8f005eaa1ca1', 'department': 'Production', 'job': 'Casting'}, {'adult': False, 'gender': 2, 'id': 4248, 'known_for_department': 'Art', 'name': 'Dennis Gassner', 'original_name': 'Dennis Gassner', 'popularity': 1.966, 'profile_path': '/bC6zQ02HEPNzzTFvf0eIqSt8fdO.jpg', 'credit_id': '5e9a7a93e22d28001d5eea9f', 'department': 'Art', 'job': 'Production Design'}, {'adult': False, 'gender': 2, 'id': 3224, 'known_for_department': 'Directing', 'name': 'Stephen Frears', 'original_name': 'Stephen Frears', 'popularity': 2.381, 'profile_path': '/2QPhgz395c8MjRpBMidUdSWXOBN.jpg', 'credit_id': '52fe47619251416c750975cb', 'department': 'Directing', 'job': 'Director'}, {'adult': False, 'gender': 2, 'id': 3335, 'known_for_department': 'Writing', 'name': 'Jim Thompson', 'original_name': 'Jim Thompson', 'popularity': 1.165, 'profile_path': '/kV2hnF9hLUpjmDsG4q1lfHaIuGg.jpg', 'credit_id': '52fe47619251416c750975dd', 'department': 'Writing', 'job': 'Novel'}, {'adult': False, 'gender': 1, 'id': 7170, 'known_for_department': 'Production', 'name': 'Barbara De Fina', 'original_name': 'Barbara De Fina', 'popularity': 0.6, 'profile_path': '/gBKdvzHKLjqatJ4Im6WrpdaptrP.jpg', 'credit_id': '5b8d583b0e0a261d7004d831', 'department': 'Production', 'job': 'Executive Producer'}, {'adult': False, 'gender': 2, 'id': 7182, 'known_for_department': 'Sound', 'name': 'Elmer Bernstein', 'original_name': 'Elmer Bernstein', 'popularity': 0.6, 'profile_path': '/fvFh7cgoR1ArwWo3t3DIRgbMjxT.jpg', 'credit_id': '52fe47619251416c750975e9', 'department': 'Sound', 'job': 'Original Music Composer'}, {'adult': False, 'gender': 2, 'id': 8274, 'known_for_department': 'Art', 'name': 'Robert Greenfield', 'original_name': 'Robert Greenfield', 'popularity': 0.6, 'profile_path': None, 'credit_id': '60e288a41e922500462a782e', 'department': 'Art', 'job': 'Leadman'}, {'adult': False, 'gender': 2, 'id': 14368, 'known_for_department': 'Acting', 'name': 'Robert A. Harris', 'original_name': 'Robert A. Harris', 'popularity': 0.6, 'profile_path': None, 'credit_id': '5b8d58820e0a261d7004d8af', 'department': 'Production', 'job': 'Producer'}, {'adult': False, 'gender': 2, 'id': 16425, 'known_for_department': 'Camera', 'name': 'Oliver Stapleton', 'original_name': 'Oliver Stapleton', 'popularity': 0.665, 'profile_path': '/wfzgRB2LbfKvKJ50NZYebi9nv1c.jpg', 'credit_id': '52fe47629251416c75097665', 'department': 'Camera', 'job': 'Director of Photography'}, {'adult': False, 'gender': 2, 'id': 16675, 'known_for_department': 'Editing', 'name': 'Kant Pan', 'original_name': 'Kant Pan', 'popularity': 0.6, 'profile_path': None, 'credit_id': '60e28617b76cbb0073df3681', 'department': 'Sound', 'job': 'Supervising Sound Editor'}, {'adult': False, 'gender': 2, 'id': 21672, 'known_for_department': 'Writing', 'name': 'Donald E. Westlake', 'original_name': 'Donald E. Westlake', 'popularity': 0.6, 'profile_path': None, 'credit_id': '52fe47619251416c750975e3', 'department': 'Writing', 'job': 'Screenplay'}, {'adult': False, 'gender': 1, 'id': 23972, 'known_for_department': 'Art', 'name': 'Leslie McDonald', 'original_name': 'Leslie McDonald', 'popularity': 0.6, 'profile_path': None, 'credit_id': '60e2802d880551002d07fa61', 'department': 'Art', 'job': 'Art Direction'}, {'adult': False, 'gender': 0, 'id': 31293, 'known_for_department': 'Editing', 'name': 'Derek Holding', 'original_name': 'Derek Holding', 'popularity': 0.98, 'profile_path': None, 'credit_id': '60e286f3b3f6f50072f361a2', 'department': 'Sound', 'job': 'Dialogue Editor'}, {'adult': False, 'gender': 2, 'id': 40471, 'known_for_department': 'Costume & Make-Up', 'name': 'Mark Bridges', 'original_name': 'Mark Bridges', 'popularity': 0.84, 'profile_path': '/mw2M3u5WtvBcbL3QdudnaWlWjiV.jpg', 'credit_id': '60e288c2105611005f9edeb3', 'department': 'Costume & Make-Up', 'job': 'Assistant Costume Designer'}, {'adult': False, 'gender': 1, 'id': 56947, 'known_for_department': 'Production', 'name': 'Peggy Rajski', 'original_name': 'Peggy Rajski', 'popularity': 0.84, 'profile_path': None, 'credit_id': '5b8d589ec3a36852020533f3', 'department': 'Production', 'job': 'Co-Producer'}, {'adult': False, 'gender': 1, 'id': 92301, 'known_for_department': 'Production', 'name': 'Kathleen M. Courtney', 'original_name': 'Kathleen M. Courtney', 'popularity': 0.6, 'profile_path': None, 'credit_id': '60e2836ebf7744007509b544', 'department': 'Production', 'job': 'Production Coordinator'}, {'adult': False, 'gender': 2, 'id': 80298, 'known_for_department': 'Crew', 'name': 'Gary Jensen', 'original_name': 'Gary Jensen', 'popularity': 0.6, 'profile_path': None, 'credit_id': '60e28a3da1d332004799ca63', 'department': 'Crew', 'job': 'Stunt Coordinator'}, {'adult': False, 'gender': 1, 'id': 587803, 'known_for_department': 'Costume & Make-Up', 'name': 'Kimberly Adams', 'original_name': 'Kimberly Adams', 'popularity': 0.6, 'profile_path': '/hf94FYY3ggQiCi1gDuxOlx3zlA4.jpg', 'credit_id': '60e288d1a3b5e600291394c1', 'department': 'Costume & Make-Up', 'job': 'Assistant Costume Designer'}, {'adult': False, 'gender': 2, 'id': 956271, 'known_for_department': 'Production', 'name': 'Jory Weitz', 'original_name': 'Jory Weitz', 'popularity': 0.6, 'profile_path': None, 'credit_id': '60e28b8ee21023007fb53f18', 'department': 'Production', 'job': 'Casting Associate'}, {'adult': False, 'gender': 2, 'id': 960282, 'known_for_department': 'Art', 'name': 'Scott Plauche', 'original_name': 'Scott Plauche', 'popularity': 0.6, 'profile_path': None, 'credit_id': '60e2881fb76cbb005dfb1d52', 'department': 'Art', 'job': 'Art Department Coordinator'}, {'adult': False, 'gender': 2, 'id': 960585, 'known_for_department': 'Costume & Make-Up', 'name': 'Richard Hornung', 'original_name': 'Richard Hornung', 'popularity': 0.6, 'profile_path': None, 'credit_id': '5e9a7aa9e22d28001d5eeab5', 'department': 'Costume & Make-Up', 'job': 'Costume Design'}, {'adult': False, 'gender': 1, 'id': 992965, 'known_for_department': 'Directing', 'name': 'Mary Cybulski', 'original_name': 'Mary Cybulski', 'popularity': 1.05, 'profile_path': None, 'credit_id': '60e280b6071650007e474d06', 'department': 'Directing', 'job': 'Script Supervisor'}, {'adult': False, 'gender': 2, 'id': 1219531, 'known_for_department': 'Production', 'name': 'Llewellyn Wells', 'original_name': 'Llewellyn Wells', 'popularity': 0.6, 'profile_path': None, 'credit_id': '60e27eb3b76cbb004613f3ef', 'department': 'Production', 'job': 'Production Manager'}, {'adult': False, 'gender': 0, 'id': 1281624, 'known_for_department': 'Lighting', 'name': 'Jack English', 'original_name': 'Jack English', 'popularity': 0.6, 'profile_path': None, 'credit_id': '60e289adb76cbb0073df3ed0', 'department': 'Lighting', 'job': 'Gaffer'}, {'adult': False, 'gender': 0, 'id': 1291650, 'known_for_department': 'Crew', 'name': 'Bill M. Puluti', 'original_name': 'Bill M. Puluti', 'popularity': 0.6, 'profile_path': None, 'credit_id': '60e28b6c83ee670074bdf8e6', 'department': 'Crew', 'job': 'Transportation Captain'}, {'adult': False, 'gender': 1, 'id': 1319166, 'known_for_department': 'Costume & Make-Up', 'name': 'Julie Hewett', 'original_name': 'Julie Hewett', 'popularity': 0.694, 'profile_path': '/dE0SklyvPg34S3X2wqfh4wstHGf.jpg', 'credit_id': '60e28182b3f6f5002c446469', 'department': 'Costume & Make-Up', 'job': 'Makeup Artist'}, {'adult': False, 'gender': 2, 'id': 1339445, 'known_for_department': 'Art', 'name': 'Chris Snyder', 'original_name': 'Chris Snyder', 'popularity': 0.98, 'profile_path': None, 'credit_id': '60e28ad8db154f001e64100f', 'department': 'Art', 'job': 'Construction Foreman'}, {'adult': False, 'gender': 2, 'id': 1403085, 'known_for_department': 'Art', 'name': 'Douglas Fox', 'original_name': 'Douglas Fox', 'popularity': 0.6, 'profile_path': None, 'credit_id': '60e2875d258823005d7d8ae1', 'department': 'Art', 'job': 'Property Master'}, {'adult': False, 'gender': 0, 'id': 1413149, 'known_for_department': 'Art', 'name': 'Beth Bernstein', 'original_name': 'Beth Bernstein', 'popularity': 2.304, 'profile_path': None, 'credit_id': '60e283c8b3f6f50045bf01c3', 'department': 'Production', 'job': 'Assistant Production Coordinator'}, {'adult': False, 'gender': 2, 'id': 1416951, 'known_for_department': 'Sound', 'name': 'Peter Maxwell', 'original_name': 'Peter Maxwell', 'popularity': 0.6, 'profile_path': None, 'credit_id': '60e28638caa5080048e7ab56', 'department': 'Sound', 'job': 'Sound Re-Recording Mixer'}, {'adult': False, 'gender': 0, 'id': 1421255, 'known_for_department': 'Crew', 'name': 'A. Welch Lambeth', 'original_name': 'A. Welch Lambeth', 'popularity': 1.4, 'profile_path': None, 'credit_id': '60e28afe83ee670074bdf83f', 'department': 'Crew', 'job': 'Transportation Coordinator'}, {'adult': False, 'gender': 0, 'id': 1428128, 'known_for_department': 'Art', 'name': 'Joseph Timothy Conway', 'original_name': 'Joseph Timothy Conway', 'popularity': 0.6, 'profile_path': None, 'credit_id': '60e287b5b76cbb005dfb1ccd', 'department': 'Art', 'job': 'Assistant Property Master'}, {'adult': False, 'gender': 0, 'id': 1440288, 'known_for_department': 'Production', 'name': 'Jody Hummer', 'original_name': 'Jody Hummer', 'popularity': 0.6, 'profile_path': None, 'credit_id': '60e287fd1e9225002cc6f471', 'department': 'Production', 'job': 'Assistant Location Manager'}, {'adult': False, 'gender': 1, 'id': 1444908, 'known_for_department': 'Costume & Make-Up', 'name': 'Cydney Cornell', 'original_name': 'Cydney Cornell', 'popularity': 0.749, 'profile_path': None, 'credit_id': '60e281934ca67600750360b5', 'department': 'Costume & Make-Up', 'job': 'Hairstylist'}, {'adult': False, 'gender': 0, 'id': 1446993, 'known_for_department': 'Art', 'name': 'Paige Augustine', 'original_name': 'Paige Augustine', 'popularity': 0.6, 'profile_path': None, 'credit_id': '60e2883527ff99005df9050e', 'department': 'Art', 'job': 'Assistant Set Decoration'}, {'adult': False, 'gender': 0, 'id': 1446994, 'known_for_department': 'Art', 'name': 'Claire Gaul', 'original_name': 'Claire Gaul', 'popularity': 0.6, 'profile_path': None, 'credit_id': '60e28890071650005da0831e', 'department': 'Art', 'job': 'Assistant Set Decoration'}, {'adult': False, 'gender': 2, 'id': 1451490, 'known_for_department': 'Camera', 'name': 'Marco Mazzei', 'original_name': 'Marco Mazzei', 'popularity': 0.6, 'profile_path': None, 'credit_id': '60e285041e9225007ed557bf', 'department': 'Camera', 'job': 'First Assistant Camera'}, {'adult': False, 'gender': 0, 'id': 1461177, 'known_for_department': 'Camera', 'name': 'Suzanne Hanover', 'original_name': 'Suzanne Hanover', 'popularity': 0.6, 'profile_path': None, 'credit_id': '60e285ceb3f6f5005c541e2f', 'department': 'Camera', 'job': 'Still Photographer'}, {'adult': False, 'gender': 0, 'id': 1533099, 'known_for_department': 'Costume & Make-Up', 'name': 'Elizabeth Feldbauer', 'original_name': 'Elizabeth Feldbauer', 'popularity': 0.6, 'profile_path': None, 'credit_id': '60e28929db154f005e49f1ea', 'department': 'Costume & Make-Up', 'job': 'Wardrobe Supervisor'}, {'adult': False, 'gender': 0, 'id': 1534937, 'known_for_department': 'Art', 'name': 'Frank Viviano', 'original_name': 'Frank Viviano', 'popularity': 0.6, 'profile_path': None, 'credit_id': '60e28a74a4af8f007472b44b', 'department': 'Art', 'job': 'Construction Coordinator'}, {'adult': False, 'gender': 0, 'id': 1553634, 'known_for_department': 'Lighting', 'name': 'James Babineaux', 'original_name': 'James Babineaux', 'popularity': 0.6, 'profile_path': None, 'credit_id': '60e289c8b76cbb0073df3f1b', 'department': 'Lighting', 'job': 'Best Boy Electric'}, {'adult': False, 'gender': 0, 'id': 1637089, 'known_for_department': 'Directing', 'name': 'J. Stephen Buck', 'original_name': 'J. Stephen Buck', 'popularity': 0.6, 'profile_path': None, 'credit_id': '60e27ef127ff99005df8f31e', 'department': 'Directing', 'job': 'First Assistant Director'}, {'adult': False, 'gender': 0, 'id': 1688608, 'known_for_department': 'Sound', 'name': 'Ian Wright', 'original_name': 'Ian Wright', 'popularity': 0.6, 'profile_path': None, 'credit_id': '60e280f18805510045ce2cac', 'department': 'Sound', 'job': 'Boom Operator'}, {'adult': False, 'gender': 0, 'id': 1754426, 'known_for_department': 'Directing', 'name': 'Joe Camp III', 'original_name': 'Joe Camp III', 'popularity': 0.6, 'profile_path': None, 'credit_id': '60e27f61a3b5e60029138277', 'department': 'Directing', 'job': 'Second Assistant Director'}, {'adult': False, 'gender': 2, 'id': 1759860, 'known_for_department': 'Production', 'name': 'Richard Davis, Jr.', 'original_name': 'Richard Davis, Jr.', 'popularity': 0.6, 'profile_path': None, 'credit_id': '60e28093880551002d07fb01', 'department': 'Production', 'job': 'Location Manager'}, {'adult': False, 'gender': 0, 'id': 1896825, 'known_for_department': 'Production', 'name': 'Cynthia Quan', 'original_name': 'Cynthia Quan', 'popularity': 0.6, 'profile_path': None, 'credit_id': '60e283fa4ca67600750364d0', 'department': 'Production', 'job': 'Production Accountant'}, {'adult': False, 'gender': 0, 'id': 1924395, 'known_for_department': 'Visual Effects', 'name': 'Matthew Morrissey', 'original_name': 'Matthew Morrissey', 'popularity': 0.6, 'profile_path': None, 'credit_id': '60e285b9db154f0047ff1f4a', 'department': 'Camera', 'job': 'Third Assistant Camera'}, {'adult': False, 'gender': 0, 'id': 1936372, 'known_for_department': 'Sound', 'name': 'John Sutton', 'original_name': 'John Sutton', 'popularity': 0.6, 'profile_path': None, 'credit_id': '60e280e5b76cbb005dfb0ca8', 'department': 'Sound', 'job': 'Sound Mixer'}, {'adult': False, 'gender': 1, 'id': 2112355, 'known_for_department': 'Camera', 'name': 'Katherine M. Butler', 'original_name': 'Katherine M. Butler', 'popularity': 0.6, 'profile_path': None, 'credit_id': '60e28555a4af8f00466dc9fa', 'department': 'Camera', 'job': 'Second Assistant Camera'}, {'adult': False, 'gender': 0, 'id': 2120939, 'known_for_department': 'Production', 'name': 'Jim Painter', 'original_name': 'Jim Painter', 'popularity': 0.6, 'profile_path': None, 'credit_id': '5b8d586dc3a3685206051efc', 'department': 'Production', 'job': 'Producer'}, {'adult': False, 'gender': 0, 'id': 2516248, 'known_for_department': 'Sound', 'name': 'Richard Dunford', 'original_name': 'Richard Dunford', 'popularity': 0.6, 'profile_path': None, 'credit_id': '60e28712258823002d87861d', 'department': 'Sound', 'job': 'Foley Editor'}, {'adult': False, 'gender': 0, 'id': 2693525, 'known_for_department': 'Art', 'name': 'Bill Cancienne', 'original_name': 'Bill Cancienne', 'popularity': 0.6, 'profile_path': None, 'credit_id': '60e287742f266b0046a5d975', 'department': 'Art', 'job': 'Assistant Property Master'}]} {'movie_results': [{'adult': False, 'backdrop_path': '/fRMggmOJ9LadLlWXK5aZrIhpUGw.jpg', 'genre_ids': [80, 18], 'id': 18129, 'original_language': 'en', 'original_title': 'The Grifters', 'overview': 'A young short-con grifter suffers both injury and the displeasure of reuniting with his criminal mother, all the while dating an unpredictable young lady.', 'poster_path': '/zMpGfkiDIdg5bB7WGcAT3Fdrfpt.jpg', 'release_date': '1990-08-08', 'title': 'The Grifters', 'video': False, 'vote_average': 6.7, 'vote_count': 248, 'popularity': 10.441}], 'person_results': [], 'tv_results': [], 'tv_episode_results': [], 'tv_season_results': []}\n",
      "Gender 0\n"
     ]
    },
    {
     "name": "stderr",
     "output_type": "stream",
     "text": [
      "\r",
      " 18%|██████████████▋                                                                  | 30/165 [00:08<00:36,  3.71it/s]"
     ]
    },
    {
     "name": "stdout",
     "output_type": "stream",
     "text": [
      "Birthday 1962-12-09\n",
      "Gender 1\n"
     ]
    },
    {
     "name": "stderr",
     "output_type": "stream",
     "text": [
      "\r",
      " 19%|███████████████▏                                                                 | 31/165 [00:08<00:35,  3.78it/s]"
     ]
    },
    {
     "name": "stdout",
     "output_type": "stream",
     "text": [
      "Birthday 1937-12-31\n",
      "Gender 2\n"
     ]
    },
    {
     "name": "stderr",
     "output_type": "stream",
     "text": [
      "\r",
      " 19%|███████████████▋                                                                 | 32/165 [00:08<00:35,  3.73it/s]"
     ]
    },
    {
     "name": "stdout",
     "output_type": "stream",
     "text": [
      "Birthday 1937-03-30\n",
      "Gender 2\n"
     ]
    },
    {
     "name": "stderr",
     "output_type": "stream",
     "text": [
      "\r",
      " 20%|████████████████▏                                                                | 33/165 [00:09<00:34,  3.85it/s]"
     ]
    },
    {
     "name": "stdout",
     "output_type": "stream",
     "text": [
      "Birthday 1943-08-17\n",
      "Gender 2\n"
     ]
    },
    {
     "name": "stderr",
     "output_type": "stream",
     "text": [
      "\r",
      " 21%|████████████████▋                                                                | 34/165 [00:09<00:34,  3.85it/s]"
     ]
    },
    {
     "name": "stdout",
     "output_type": "stream",
     "text": [
      "Birthday 1941-02-08\n",
      "Gender 2\n"
     ]
    },
    {
     "name": "stderr",
     "output_type": "stream",
     "text": [
      "\r",
      " 21%|█████████████████▏                                                               | 35/165 [00:09<00:34,  3.75it/s]"
     ]
    },
    {
     "name": "stdout",
     "output_type": "stream",
     "text": [
      "Birthday 1951-07-21\n",
      "Gender 2\n"
     ]
    },
    {
     "name": "stderr",
     "output_type": "stream",
     "text": [
      "\r",
      " 22%|█████████████████▋                                                               | 36/165 [00:09<00:35,  3.60it/s]"
     ]
    },
    {
     "name": "stdout",
     "output_type": "stream",
     "text": [
      "Birthday 1962-11-19\n",
      "Gender 1\n"
     ]
    },
    {
     "name": "stderr",
     "output_type": "stream",
     "text": [
      "\r",
      " 22%|██████████████████▏                                                              | 37/165 [00:10<00:36,  3.55it/s]"
     ]
    },
    {
     "name": "stdout",
     "output_type": "stream",
     "text": [
      "Birthday 1956-01-21\n",
      "Gender 1\n"
     ]
    },
    {
     "name": "stderr",
     "output_type": "stream",
     "text": [
      "\r",
      " 23%|██████████████████▋                                                              | 38/165 [00:10<00:34,  3.71it/s]"
     ]
    },
    {
     "name": "stdout",
     "output_type": "stream",
     "text": [
      "Birthday 1967-02-10\n",
      "Gender 1\n"
     ]
    },
    {
     "name": "stderr",
     "output_type": "stream",
     "text": [
      "\r",
      " 24%|███████████████████▏                                                             | 39/165 [00:10<00:34,  3.67it/s]"
     ]
    },
    {
     "name": "stdout",
     "output_type": "stream",
     "text": [
      "Birthday 1945-12-01\n",
      "Gender 1\n"
     ]
    },
    {
     "name": "stderr",
     "output_type": "stream",
     "text": [
      "\r",
      " 24%|███████████████████▋                                                             | 40/165 [00:11<00:34,  3.65it/s]"
     ]
    },
    {
     "name": "stdout",
     "output_type": "stream",
     "text": [
      "Birthday 1946-10-04\n",
      "Gender 1\n"
     ]
    },
    {
     "name": "stderr",
     "output_type": "stream",
     "text": [
      "\r",
      " 25%|████████████████████▏                                                            | 41/165 [00:11<00:33,  3.73it/s]"
     ]
    },
    {
     "name": "stdout",
     "output_type": "stream",
     "text": [
      "Birthday 1944-08-25\n",
      "Gender 2\n"
     ]
    },
    {
     "name": "stderr",
     "output_type": "stream",
     "text": [
      "\r",
      " 25%|████████████████████▌                                                            | 42/165 [00:11<00:33,  3.63it/s]"
     ]
    },
    {
     "name": "stdout",
     "output_type": "stream",
     "text": [
      "Birthday 1969-06-15\n",
      "Gender 2\n"
     ]
    },
    {
     "name": "stderr",
     "output_type": "stream",
     "text": [
      "\r",
      " 26%|█████████████████████                                                            | 43/165 [00:11<00:32,  3.71it/s]"
     ]
    },
    {
     "name": "stdout",
     "output_type": "stream",
     "text": [
      "Birthday 1952-01-02\n",
      "Gender 1\n"
     ]
    },
    {
     "name": "stderr",
     "output_type": "stream",
     "text": [
      "\r",
      " 27%|█████████████████████▌                                                           | 44/165 [00:12<00:32,  3.76it/s]"
     ]
    },
    {
     "name": "stdout",
     "output_type": "stream",
     "text": [
      "Birthday 1950-10-30\n",
      "Gender 2\n"
     ]
    },
    {
     "name": "stderr",
     "output_type": "stream",
     "text": [
      "\r",
      " 27%|██████████████████████                                                           | 45/165 [00:12<00:31,  3.77it/s]"
     ]
    },
    {
     "name": "stdout",
     "output_type": "stream",
     "text": [
      "Birthday 1939-05-13\n",
      "Gender 2\n"
     ]
    },
    {
     "name": "stderr",
     "output_type": "stream",
     "text": [
      "\r",
      " 28%|██████████████████████▌                                                          | 46/165 [00:12<00:31,  3.78it/s]"
     ]
    },
    {
     "name": "stdout",
     "output_type": "stream",
     "text": [
      "Birthday 1940-04-25\n",
      "Gender 2\n"
     ]
    },
    {
     "name": "stderr",
     "output_type": "stream",
     "text": [
      "\r",
      " 28%|███████████████████████                                                          | 47/165 [00:12<00:31,  3.74it/s]"
     ]
    },
    {
     "name": "stdout",
     "output_type": "stream",
     "text": [
      "Birthday 1965-04-04\n",
      "Gender 2\n"
     ]
    },
    {
     "name": "stderr",
     "output_type": "stream",
     "text": [
      "\r",
      " 29%|███████████████████████▌                                                         | 48/165 [00:13<00:31,  3.67it/s]"
     ]
    },
    {
     "name": "stdout",
     "output_type": "stream",
     "text": [
      "Birthday 1930-05-31\n",
      "Gender 2\n"
     ]
    },
    {
     "name": "stderr",
     "output_type": "stream",
     "text": [
      "\r",
      " 30%|████████████████████████                                                         | 49/165 [00:13<00:31,  3.68it/s]"
     ]
    },
    {
     "name": "stdout",
     "output_type": "stream",
     "text": [
      "Birthday 1946-10-31\n",
      "Gender 2\n"
     ]
    },
    {
     "name": "stderr",
     "output_type": "stream",
     "text": [
      "\r",
      " 30%|████████████████████████▌                                                        | 50/165 [00:13<00:31,  3.63it/s]"
     ]
    },
    {
     "name": "stdout",
     "output_type": "stream",
     "text": [
      "Birthday 1954-12-28\n",
      "Gender 2\n"
     ]
    },
    {
     "name": "stderr",
     "output_type": "stream",
     "text": [
      "\r",
      " 31%|█████████████████████████                                                        | 51/165 [00:14<00:30,  3.70it/s]"
     ]
    },
    {
     "name": "stdout",
     "output_type": "stream",
     "text": [
      "Birthday 1959-04-15\n",
      "Gender 1\n"
     ]
    },
    {
     "name": "stderr",
     "output_type": "stream",
     "text": [
      "\r",
      " 32%|█████████████████████████▌                                                       | 52/165 [00:14<00:30,  3.71it/s]"
     ]
    },
    {
     "name": "stdout",
     "output_type": "stream",
     "text": [
      "Birthday 1943-10-22\n",
      "Gender 1\n"
     ]
    },
    {
     "name": "stderr",
     "output_type": "stream",
     "text": [
      "\r",
      " 32%|██████████████████████████                                                       | 53/165 [00:14<00:30,  3.67it/s]"
     ]
    },
    {
     "name": "stdout",
     "output_type": "stream",
     "text": [
      "Birthday 1952-04-28\n",
      "Gender 1\n"
     ]
    },
    {
     "name": "stderr",
     "output_type": "stream",
     "text": [
      "\r",
      " 33%|██████████████████████████▌                                                      | 54/165 [00:14<00:31,  3.53it/s]"
     ]
    },
    {
     "name": "stdout",
     "output_type": "stream",
     "text": [
      "Birthday 1958-04-29\n",
      "Gender 1\n"
     ]
    },
    {
     "name": "stderr",
     "output_type": "stream",
     "text": [
      "\r",
      " 33%|███████████████████████████                                                      | 55/165 [00:15<00:31,  3.53it/s]"
     ]
    },
    {
     "name": "stdout",
     "output_type": "stream",
     "text": [
      "Birthday 1946-10-04\n",
      "Gender 1\n"
     ]
    },
    {
     "name": "stderr",
     "output_type": "stream",
     "text": [
      "\r",
      " 34%|███████████████████████████▍                                                     | 56/165 [00:15<00:31,  3.45it/s]"
     ]
    },
    {
     "name": "stdout",
     "output_type": "stream",
     "text": [
      "Birthday 1930-01-30\n",
      "Gender 2\n"
     ]
    },
    {
     "name": "stderr",
     "output_type": "stream",
     "text": [
      "\r",
      " 35%|███████████████████████████▉                                                     | 57/165 [00:15<00:30,  3.57it/s]"
     ]
    },
    {
     "name": "stdout",
     "output_type": "stream",
     "text": [
      "Birthday 1931-06-14\n",
      "Gender 2\n"
     ]
    },
    {
     "name": "stderr",
     "output_type": "stream",
     "text": [
      "\r",
      " 35%|████████████████████████████▍                                                    | 58/165 [00:15<00:28,  3.74it/s]"
     ]
    },
    {
     "name": "stdout",
     "output_type": "stream",
     "text": [
      "Birthday 1937-12-31\n",
      "Gender 2\n"
     ]
    },
    {
     "name": "stderr",
     "output_type": "stream",
     "text": [
      "\r",
      " 36%|████████████████████████████▉                                                    | 59/165 [00:16<00:28,  3.73it/s]"
     ]
    },
    {
     "name": "stdout",
     "output_type": "stream",
     "text": [
      "Birthday 1945-02-20\n",
      "Gender 2\n"
     ]
    },
    {
     "name": "stderr",
     "output_type": "stream",
     "text": [
      "\r",
      " 36%|█████████████████████████████▍                                                   | 60/165 [00:16<00:27,  3.79it/s]"
     ]
    },
    {
     "name": "stdout",
     "output_type": "stream",
     "text": [
      "Birthday 1970-02-04\n",
      "Gender 1\n"
     ]
    },
    {
     "name": "stderr",
     "output_type": "stream",
     "text": [
      "\r",
      " 37%|█████████████████████████████▉                                                   | 61/165 [00:16<00:27,  3.83it/s]"
     ]
    },
    {
     "name": "stdout",
     "output_type": "stream",
     "text": [
      "Birthday 1956-07-09\n",
      "Gender 2\n"
     ]
    },
    {
     "name": "stderr",
     "output_type": "stream",
     "text": [
      "\r",
      " 38%|██████████████████████████████▍                                                  | 62/165 [00:17<00:27,  3.80it/s]"
     ]
    },
    {
     "name": "stdout",
     "output_type": "stream",
     "text": [
      "Birthday 1957-04-29\n",
      "Gender 2\n"
     ]
    },
    {
     "name": "stderr",
     "output_type": "stream",
     "text": [
      "\r",
      " 38%|██████████████████████████████▉                                                  | 63/165 [00:17<00:27,  3.72it/s]"
     ]
    },
    {
     "name": "stdout",
     "output_type": "stream",
     "text": [
      "Birthday 1961-07-30\n",
      "Gender 2\n"
     ]
    },
    {
     "name": "stderr",
     "output_type": "stream",
     "text": [
      "\r",
      " 39%|███████████████████████████████▍                                                 | 64/165 [00:17<00:27,  3.71it/s]"
     ]
    },
    {
     "name": "stdout",
     "output_type": "stream",
     "text": [
      "Birthday 1937-12-31\n",
      "Gender 2\n"
     ]
    },
    {
     "name": "stderr",
     "output_type": "stream",
     "text": [
      "\r",
      " 39%|███████████████████████████████▉                                                 | 65/165 [00:17<00:26,  3.71it/s]"
     ]
    },
    {
     "name": "stdout",
     "output_type": "stream",
     "text": [
      "Birthday 1952-06-07\n",
      "Gender 2\n"
     ]
    },
    {
     "name": "stderr",
     "output_type": "stream",
     "text": [
      "\r",
      " 40%|████████████████████████████████▍                                                | 66/165 [00:18<00:25,  3.84it/s]"
     ]
    },
    {
     "name": "stdout",
     "output_type": "stream",
     "text": [
      "Birthday 1958-03-20\n",
      "Gender 1\n"
     ]
    },
    {
     "name": "stderr",
     "output_type": "stream",
     "text": [
      "\r",
      " 41%|████████████████████████████████▉                                                | 67/165 [00:18<00:25,  3.87it/s]"
     ]
    },
    {
     "name": "stdout",
     "output_type": "stream",
     "text": [
      "Birthday 1958-08-16\n",
      "Gender 1\n"
     ]
    },
    {
     "name": "stderr",
     "output_type": "stream",
     "text": [
      "\r",
      " 41%|█████████████████████████████████▍                                               | 68/165 [00:18<00:24,  3.94it/s]"
     ]
    },
    {
     "name": "stdout",
     "output_type": "stream",
     "text": [
      "Birthday 1944-02-13\n",
      "Gender 1\n"
     ]
    },
    {
     "name": "stderr",
     "output_type": "stream",
     "text": [
      "\r",
      " 42%|█████████████████████████████████▊                                               | 69/165 [00:18<00:25,  3.79it/s]"
     ]
    },
    {
     "name": "stdout",
     "output_type": "stream",
     "text": [
      "Birthday 1959-04-15\n",
      "Gender 1\n"
     ]
    },
    {
     "name": "stderr",
     "output_type": "stream",
     "text": [
      "\r",
      " 42%|██████████████████████████████████▎                                              | 70/165 [00:19<00:25,  3.73it/s]"
     ]
    },
    {
     "name": "stdout",
     "output_type": "stream",
     "text": [
      "Birthday 1955-05-16\n",
      "Gender 1\n"
     ]
    },
    {
     "name": "stderr",
     "output_type": "stream",
     "text": [
      "\r",
      " 43%|██████████████████████████████████▊                                              | 71/165 [00:19<00:24,  3.77it/s]"
     ]
    },
    {
     "name": "stdout",
     "output_type": "stream",
     "text": [
      "Birthday 1962-12-22\n",
      "Gender 2\n"
     ]
    },
    {
     "name": "stderr",
     "output_type": "stream",
     "text": [
      "\r",
      " 44%|███████████████████████████████████▎                                             | 72/165 [00:19<00:24,  3.80it/s]"
     ]
    },
    {
     "name": "stdout",
     "output_type": "stream",
     "text": [
      "Birthday None\n",
      "{'adult': False, 'also_known_as': [], 'biography': '', 'birthday': None, 'deathday': None, 'gender': 0, 'homepage': None, 'id': 1392742, 'imdb_id': 'nm0137630', 'known_for_department': 'Acting', 'name': 'Karen Carlisle', 'place_of_birth': None, 'popularity': 0.6, 'profile_path': None} {'id': 7984, 'cast': [{'adult': False, 'gender': 2, 'id': 11856, 'known_for_department': 'Acting', 'name': 'Daniel Day-Lewis', 'original_name': 'Daniel Day-Lewis', 'popularity': 8.243, 'profile_path': '/9HI2GTfIKuT628XPK5d1AEteR05.jpg', 'cast_id': 4, 'character': 'Gerry Conlon', 'credit_id': '52fe448bc3a36847f809c0b5', 'order': 0}, {'adult': False, 'gender': 2, 'id': 4935, 'known_for_department': 'Acting', 'name': 'Pete Postlethwaite', 'original_name': 'Pete Postlethwaite', 'popularity': 3.468, 'profile_path': '/2gpa75Ci4y2OKmOc8WXnaeGgyKF.jpg', 'cast_id': 6, 'character': 'Giuseppe Conlon', 'credit_id': '52fe448bc3a36847f809c0bd', 'order': 1}, {'adult': False, 'gender': 1, 'id': 7056, 'known_for_department': 'Acting', 'name': 'Emma Thompson', 'original_name': 'Emma Thompson', 'popularity': 8.804, 'profile_path': '/xr8Ki3CIqweWWqS5q0kUYdiK6oQ.jpg', 'cast_id': 5, 'character': 'Gareth Peirce', 'credit_id': '52fe448bc3a36847f809c0b9', 'order': 2}, {'adult': False, 'gender': 2, 'id': 28743, 'known_for_department': 'Acting', 'name': 'John Lynch', 'original_name': 'John Lynch', 'popularity': 2.755, 'profile_path': '/4TG8HYZ5SEFh1Yk5CCG4fXD55j9.jpg', 'cast_id': 7, 'character': 'Paul Hill', 'credit_id': '52fe448bc3a36847f809c0c1', 'order': 3}, {'adult': False, 'gender': 2, 'id': 13328, 'known_for_department': 'Acting', 'name': 'Corin Redgrave', 'original_name': 'Corin Redgrave', 'popularity': 1.717, 'profile_path': '/qUWLc5RRhKyoVXEZin2NI7zCxH8.jpg', 'cast_id': 43, 'character': 'Robert Dixon', 'credit_id': '560815ac92514154690000af', 'order': 4}, {'adult': False, 'gender': 1, 'id': 53515, 'known_for_department': 'Acting', 'name': 'Beatie Edney', 'original_name': 'Beatie Edney', 'popularity': 4.238, 'profile_path': '/bCQbdUpLrbOcvkRdSOCybHvuP91.jpg', 'cast_id': 8, 'character': 'Carole Richardson', 'credit_id': '52fe448bc3a36847f809c0c5', 'order': 5}, {'adult': False, 'gender': 2, 'id': 42642, 'known_for_department': 'Acting', 'name': 'John Benfield', 'original_name': 'John Benfield', 'popularity': 0.924, 'profile_path': '/rNyJjeAP0PnQnKukqNbRMZHpxX6.jpg', 'cast_id': 62, 'character': 'Chief PO Barker', 'credit_id': '560819999251413064005001', 'order': 6}, {'adult': False, 'gender': 2, 'id': 19868, 'known_for_department': 'Acting', 'name': 'Paterson Joseph', 'original_name': 'Paterson Joseph', 'popularity': 2.766, 'profile_path': '/n8kf0aowLTcPSt72k0eC4ZShe3s.jpg', 'cast_id': 70, 'character': 'Benbay', 'credit_id': '56081cc6c3a3681211005c62', 'order': 7}, {'adult': False, 'gender': 1, 'id': 76109, 'known_for_department': 'Acting', 'name': 'Marie Jones', 'original_name': 'Marie Jones', 'popularity': 0.6, 'profile_path': '/rPFpjEtgFRQZbMpjwuNKJnE6awg.jpg', 'cast_id': 37, 'character': 'Sarah Conlon', 'credit_id': '5608144d925141305e004ec8', 'order': 8}, {'adult': False, 'gender': 2, 'id': 43131, 'known_for_department': 'Acting', 'name': 'Gerard McSorley', 'original_name': 'Gerard McSorley', 'popularity': 1.616, 'profile_path': '/1TcMqQbW5Uu8ChxS1lg3BlVHhBn.jpg', 'cast_id': 44, 'character': 'Belfast Detective Pavis', 'credit_id': '560815c1c3a36812070052b0', 'order': 9}, {'adult': False, 'gender': 2, 'id': 990, 'known_for_department': 'Acting', 'name': 'Frank Harper', 'original_name': 'Frank Harper', 'popularity': 1.094, 'profile_path': None, 'cast_id': 66, 'character': 'Ronnie Smalls', 'credit_id': '56081ac6925141305e004fc7', 'order': 10}, {'adult': False, 'gender': 2, 'id': 53516, 'known_for_department': 'Acting', 'name': 'Mark Sheppard', 'original_name': 'Mark Sheppard', 'popularity': 2.856, 'profile_path': '/aTlqvlKgfyUAZT48AvEytqkMBC6.jpg', 'cast_id': 9, 'character': 'Paddy Armstrong', 'credit_id': '52fe448bc3a36847f809c0c9', 'order': 11}, {'adult': False, 'gender': 0, 'id': 160964, 'known_for_department': 'Acting', 'name': 'Don Baker', 'original_name': 'Don Baker', 'popularity': 0.6, 'profile_path': None, 'cast_id': 41, 'character': 'Joe McAndrew', 'credit_id': '5608151fc3a3681207005292', 'order': 12}, {'adult': False, 'gender': 0, 'id': 1392738, 'known_for_department': 'Production', 'name': 'Alison Crosbie', 'original_name': 'Alison Crosbie', 'popularity': 0.6, 'profile_path': None, 'cast_id': 17, 'character': 'Girl in Pub', 'credit_id': '547d9ab592514123ef003595', 'order': 13}, {'adult': False, 'gender': 0, 'id': 1392739, 'known_for_department': 'Directing', 'name': 'Philip King', 'original_name': 'Philip King', 'popularity': 0.6, 'profile_path': None, 'cast_id': 18, 'character': 'Guildford Soldier', 'credit_id': '547d9ac8c3a36841e1001e75', 'order': 14}, {'adult': False, 'gender': 0, 'id': 96490, 'known_for_department': 'Writing', 'name': 'Nye Heron', 'original_name': 'Nye Heron', 'popularity': 1.094, 'profile_path': None, 'cast_id': 19, 'character': 'IRA Man 1', 'credit_id': '547d9adc92514123ef0035a4', 'order': 15}, {'adult': False, 'gender': 2, 'id': 120006, 'known_for_department': 'Acting', 'name': 'Anthony Brophy', 'original_name': 'Anthony Brophy', 'popularity': 0.672, 'profile_path': '/26WhNwllXnQR0Ym0pxoSr7NdGOm.jpg', 'cast_id': 20, 'character': 'Danny', 'credit_id': '547d9aec9251411f4e003f34', 'order': 16}, {'adult': False, 'gender': 2, 'id': 1234615, 'known_for_department': 'Acting', 'name': 'Frankie McCafferty', 'original_name': 'Frankie McCafferty', 'popularity': 0.985, 'profile_path': '/qO12dRPtuXXX40Eab3QrliAsnz8.jpg', 'cast_id': 21, 'character': 'Tommo', 'credit_id': '547d9afcc3a3685af000590f', 'order': 17}, {'adult': False, 'gender': 0, 'id': 1253518, 'known_for_department': 'Acting', 'name': 'Paul Warriner', 'original_name': 'Paul Warriner', 'popularity': 0.608, 'profile_path': None, 'cast_id': 22, 'character': 'Soldier', 'credit_id': '547d9b0a9251412d6d005141', 'order': 18}, {'adult': False, 'gender': 0, 'id': 1392740, 'known_for_department': 'Acting', 'name': 'Julian Walsh', 'original_name': 'Julian Walsh', 'popularity': 0.6, 'profile_path': None, 'cast_id': 23, 'character': 'Soldier', 'credit_id': '547d9b159251411f4e003f39', 'order': 19}, {'adult': False, 'gender': 2, 'id': 122995, 'known_for_department': 'Acting', 'name': 'Stuart Wolfenden', 'original_name': 'Stuart Wolfenden', 'popularity': 0.6, 'profile_path': None, 'cast_id': 24, 'character': 'Soldier', 'credit_id': '547d9b249251412d6d005147', 'order': 20}, {'adult': False, 'gender': 0, 'id': 1392741, 'known_for_department': 'Acting', 'name': 'Jo Connor', 'original_name': 'Jo Connor', 'popularity': 0.6, 'profile_path': None, 'cast_id': 25, 'character': 'Bin Lady', 'credit_id': '547d9b38c3a3685af90049d1', 'order': 21}, {'adult': False, 'gender': 0, 'id': 1392742, 'known_for_department': 'Acting', 'name': 'Karen Carlisle', 'original_name': 'Karen Carlisle', 'popularity': 0.6, 'profile_path': None, 'cast_id': 26, 'character': 'Female Rioter', 'credit_id': '547d9b45c3a3685b05005623', 'order': 22}, {'adult': False, 'gender': 0, 'id': 2548182, 'known_for_department': 'Directing', 'name': 'Seamus Moran', 'original_name': 'Seamus Moran', 'popularity': 0.6, 'profile_path': None, 'cast_id': 118, 'character': 'IRA Man 2', 'credit_id': '5f2089b35c5cc80036cab9b3', 'order': 23}, {'adult': False, 'gender': 0, 'id': 2725352, 'known_for_department': 'Acting', 'name': 'Billy Byrne', 'original_name': 'Billy Byrne', 'popularity': 0.6, 'profile_path': None, 'cast_id': 119, 'character': 'IRA Man 3', 'credit_id': '5f2089f9d9f4a6003629b41b', 'order': 24}, {'adult': False, 'gender': 0, 'id': 2725354, 'known_for_department': 'Acting', 'name': 'Maureen McBride', 'original_name': 'Maureen McBride', 'popularity': 0.6, 'profile_path': None, 'cast_id': 120, 'character': 'Mother', 'credit_id': '5f208a0dfe077a003942fa40', 'order': 25}, {'adult': False, 'gender': 0, 'id': 2725356, 'known_for_department': 'Acting', 'name': 'Jane Nolan', 'original_name': 'Jane Nolan', 'popularity': 0.6, 'profile_path': None, 'cast_id': 121, 'character': 'Girl with baby', 'credit_id': '5f208a33af58cb00354c0fe9', 'order': 26}, {'adult': False, 'gender': 0, 'id': 2725358, 'known_for_department': 'Acting', 'name': 'Laurence Griffin', 'original_name': 'Laurence Griffin', 'popularity': 0.6, 'profile_path': None, 'cast_id': 122, 'character': 'Boy in riot', 'credit_id': '5f208a63b4a543003737acbc', 'order': 27}, {'adult': False, 'gender': 0, 'id': 2725360, 'known_for_department': 'Acting', 'name': 'Jason Murtagh', 'original_name': 'Jason Murtagh', 'popularity': 0.6, 'profile_path': None, 'cast_id': 123, 'character': 'Boy in riot', 'credit_id': '5f208a72c50ad20035b63547', 'order': 28}, {'adult': False, 'gender': 0, 'id': 2725361, 'known_for_department': 'Acting', 'name': 'Kelly McKeavney', 'original_name': 'Kelly McKeavney', 'popularity': 0.6, 'profile_path': None, 'cast_id': 124, 'character': 'Young Girl', 'credit_id': '5f208a888a0e9b0035fb2adb', 'order': 29}, {'adult': False, 'gender': 0, 'id': 2725362, 'known_for_department': 'Acting', 'name': 'Joanna Irvine', 'original_name': 'Joanna Irvine', 'popularity': 0.6, 'profile_path': None, 'cast_id': 125, 'character': 'Ann Conlon', 'credit_id': '5f208a9e5c5cc80036cabb2d', 'order': 30}, {'adult': False, 'gender': 0, 'id': 1395756, 'known_for_department': 'Art', 'name': 'Fiona Daly', 'original_name': 'Fiona Daly', 'popularity': 0.6, 'profile_path': None, 'cast_id': 36, 'character': 'IRA Woman', 'credit_id': '5608138192514130550050a6', 'order': 31}, {'adult': False, 'gender': 0, 'id': 1948917, 'known_for_department': 'Production', 'name': 'Catherine Dunne', 'original_name': 'Catherine Dunne', 'popularity': 0.6, 'profile_path': None, 'cast_id': 126, 'character': 'Woman on Balcony', 'credit_id': '5f208bddd9f4a6003629ca46', 'order': 32}, {'adult': False, 'gender': 0, 'id': 2300270, 'known_for_department': 'Acting', 'name': 'Anna Megan', 'original_name': 'Anna Megan', 'popularity': 0.6, 'profile_path': None, 'cast_id': 127, 'character': 'Granny Conlon', 'credit_id': '5f208c0d13a3880037f1ea68', 'order': 33}, {'adult': False, 'gender': 0, 'id': 2725364, 'known_for_department': 'Acting', 'name': 'Leah McCullagh', 'original_name': 'Leah McCullagh', 'popularity': 0.6, 'profile_path': None, 'cast_id': 128, 'character': 'Bridie Conlon', 'credit_id': '5f208c9151c01f0035e66dae', 'order': 34}, {'adult': False, 'gender': 1, 'id': 9825, 'known_for_department': 'Acting', 'name': 'Saffron Burrows', 'original_name': 'Saffron Burrows', 'popularity': 4.731, 'profile_path': '/ve5xVMhgwl8pNYi5cINEiqNzlXQ.jpg', 'cast_id': 38, 'character': 'Girl in Commune', 'credit_id': '56081481925141612a0037a5', 'order': 35}, {'adult': False, 'gender': 2, 'id': 111195, 'known_for_department': 'Acting', 'name': 'Jamie Harris', 'original_name': 'Jamie Harris', 'popularity': 1.786, 'profile_path': '/w4RhAUrejInGkOYc0T4B6Wxpncd.jpg', 'cast_id': 39, 'character': 'Deptford Jim', 'credit_id': '560814a5c3a3685ca3000566', 'order': 36}, {'adult': False, 'gender': 0, 'id': 1053297, 'known_for_department': 'Acting', 'name': 'Britta Smith', 'original_name': 'Britta Smith', 'popularity': 0.615, 'profile_path': None, 'cast_id': 40, 'character': 'Annie Maguire', 'credit_id': '560814d3925141305e004ee8', 'order': 37}, {'adult': False, 'gender': 1, 'id': 2293912, 'known_for_department': 'Directing', 'name': 'Barbara Mulcahy', 'original_name': 'Barbara Mulcahy', 'popularity': 0.6, 'profile_path': None, 'cast_id': 129, 'character': 'Marian', 'credit_id': '5f208d35e194b00038e4f30a', 'order': 38}, {'adult': False, 'gender': 0, 'id': 2268832, 'known_for_department': 'Acting', 'name': 'Mick Tohill', 'original_name': 'Mick Tohill', 'popularity': 0.6, 'profile_path': None, 'cast_id': 130, 'character': 'Man in Bookies', 'credit_id': '5f208d46b84cdd00377171c7', 'order': 39}, {'adult': False, 'gender': 0, 'id': 2725365, 'known_for_department': 'Acting', 'name': 'Peter Sheridan Snr.', 'original_name': 'Peter Sheridan Snr.', 'popularity': 0.6, 'profile_path': None, 'cast_id': 131, 'character': 'Manager of Bookies', 'credit_id': '5f208d862afb250034605d97', 'order': 40}, {'adult': False, 'gender': 0, 'id': 1720553, 'known_for_department': 'Acting', 'name': 'Joe McPartland', 'original_name': 'Joe McPartland', 'popularity': 0.6, 'profile_path': None, 'cast_id': 132, 'character': 'Charlie Burke', 'credit_id': '5f208e13f0647c003496fdeb', 'order': 41}, {'adult': False, 'gender': 2, 'id': 25074, 'known_for_department': 'Acting', 'name': 'Stanley Townsend', 'original_name': 'Stanley Townsend', 'popularity': 2.165, 'profile_path': '/ry1kek817WYHOh1npa3ojxmGJcI.jpg', 'cast_id': 42, 'character': \"Hooker's Driver\", 'credit_id': '56081585c3a368120d0052c1', 'order': 42}, {'adult': False, 'gender': 0, 'id': 61587, 'known_for_department': 'Acting', 'name': 'Tim Perrin', 'original_name': 'Tim Perrin', 'popularity': 0.6, 'profile_path': None, 'cast_id': 45, 'character': 'Detective', 'credit_id': '560815dc925141290e001223', 'order': 43}, {'adult': False, 'gender': 2, 'id': 489585, 'known_for_department': 'Acting', 'name': 'Tony Denham', 'original_name': 'Tony Denham', 'popularity': 1.166, 'profile_path': None, 'cast_id': 46, 'character': 'Detective', 'credit_id': '560815ff925141290e00122a', 'order': 44}, {'adult': False, 'gender': 2, 'id': 1219988, 'known_for_department': 'Acting', 'name': 'Rob Spendlove', 'original_name': 'Rob Spendlove', 'popularity': 1.22, 'profile_path': None, 'cast_id': 47, 'character': 'Detective', 'credit_id': '5608161d92514154690000c4', 'order': 45}, {'adult': False, 'gender': 2, 'id': 26854, 'known_for_department': 'Acting', 'name': 'Phil Davis', 'original_name': 'Phil Davis', 'popularity': 1.714, 'profile_path': '/sNJ9nFWxpGVmQYvq7rU9xqryu0F.jpg', 'cast_id': 48, 'character': 'Detective', 'credit_id': '5608163ec3a36812070052c3', 'order': 46}, {'adult': False, 'gender': 2, 'id': 1333582, 'known_for_department': 'Acting', 'name': 'Martin Murphy', 'original_name': 'Martin Murphy', 'popularity': 0.6, 'profile_path': '/e471NdDFTykIYdbbXkMHgDHX3Dz.jpg', 'cast_id': 16, 'character': 'Detective', 'credit_id': '53a7e9070e0a261439005721', 'order': 47}, {'adult': False, 'gender': 2, 'id': 26863, 'known_for_department': 'Acting', 'name': 'Richard Graham', 'original_name': 'Richard Graham', 'popularity': 1.22, 'profile_path': '/ukEz43251dO4Gn9O3o0XzLmKqOf.jpg', 'cast_id': 49, 'character': 'Detective', 'credit_id': '560816c59251417a450024f4', 'order': 48}, {'adult': False, 'gender': 2, 'id': 1221792, 'known_for_department': 'Acting', 'name': 'Oliver Maguire', 'original_name': 'Oliver Maguire', 'popularity': 0.6, 'profile_path': None, 'cast_id': 50, 'character': 'Detective', 'credit_id': '560816f5925141775500073d', 'order': 49}, {'adult': False, 'gender': 0, 'id': 2725370, 'known_for_department': 'Acting', 'name': 'Maurice Kehoe', 'original_name': 'Maurice Kehoe', 'popularity': 0.6, 'profile_path': None, 'cast_id': 133, 'character': 'Detective', 'credit_id': '5f208eb868929c0034ca14a3', 'order': 50}, {'adult': False, 'gender': 1, 'id': 939841, 'known_for_department': 'Acting', 'name': 'Rachael Dowling', 'original_name': 'Rachael Dowling', 'popularity': 0.6, 'profile_path': None, 'cast_id': 51, 'character': 'Policewoman', 'credit_id': '5608172bc3a3681211005bbc', 'order': 51}, {'adult': False, 'gender': 1, 'id': 74018, 'known_for_department': 'Acting', 'name': 'Tina Kellegher', 'original_name': 'Tina Kellegher', 'popularity': 0.6, 'profile_path': '/jnGgWXon1cAITuuoK9JJLlMARdV.jpg', 'cast_id': 52, 'character': 'Policewoman', 'credit_id': '56081740925141290e001253', 'order': 52}, {'adult': False, 'gender': 0, 'id': 140232, 'known_for_department': 'Acting', 'name': 'Ronan Wilmot', 'original_name': 'Ronan Wilmot', 'popularity': 0.608, 'profile_path': None, 'cast_id': 53, 'character': 'Paddy Maguire', 'credit_id': '560817929251417755000751', 'order': 53}, {'adult': False, 'gender': 0, 'id': 1913590, 'known_for_department': 'Acting', 'name': 'Maclean Burke', 'original_name': 'Maclean Burke', 'popularity': 0.6, 'profile_path': '/lYHbLV6spID2N2szMHEzNTDmNmW.jpg', 'cast_id': 114, 'character': 'Young Vincent Maguire', 'credit_id': '59f51a4b9251414d05020321', 'order': 54}, {'adult': False, 'gender': 0, 'id': 2725377, 'known_for_department': 'Acting', 'name': 'Joe Jeffers', 'original_name': 'Joe Jeffers', 'popularity': 0.6, 'profile_path': None, 'cast_id': 134, 'character': 'Young Patrick Maguire', 'credit_id': '5f208f5d00508a00349c5fdf', 'order': 55}, {'adult': False, 'gender': 0, 'id': 1470179, 'known_for_department': 'Acting', 'name': 'Alistair Findlay', 'original_name': 'Alistair Findlay', 'popularity': 0.6, 'profile_path': None, 'cast_id': 54, 'character': 'Forensic Scientist', 'credit_id': '560817cb9251417a4500251e', 'order': 56}, {'adult': False, 'gender': 2, 'id': 1230252, 'known_for_department': 'Acting', 'name': 'Peter Howitt', 'original_name': 'Peter Howitt', 'popularity': 0.6, 'profile_path': '/rULzO7TsxYzdfgevc2kILxsoYWN.jpg', 'cast_id': 55, 'character': 'Remand Prison Officer', 'credit_id': '56081867925141305500513e', 'order': 57}, {'adult': False, 'gender': 2, 'id': 2472, 'known_for_department': 'Acting', 'name': 'Sean Lawlor', 'original_name': 'Sean Lawlor', 'popularity': 1.4, 'profile_path': None, 'cast_id': 56, 'character': 'Remand Prison Officer', 'credit_id': '5608187dc3a368121b004cfc', 'order': 58}, {'adult': False, 'gender': 2, 'id': 134690, 'known_for_department': 'Acting', 'name': 'Brian de Salvo', 'original_name': 'Brian de Salvo', 'popularity': 0.6, 'profile_path': '/emSpPSfV9Peggp3SsX2Bzc3cdc2.jpg', 'cast_id': 57, 'character': 'Remand Prison Officer', 'credit_id': '56081896c3a3685ca3000602', 'order': 59}, {'adult': False, 'gender': 0, 'id': 210065, 'known_for_department': 'Acting', 'name': 'Luke Hayden', 'original_name': 'Luke Hayden', 'popularity': 0.98, 'profile_path': None, 'cast_id': 58, 'character': 'Remand Prison Officer', 'credit_id': '560818abc3a3681211005be4', 'order': 60}, {'adult': False, 'gender': 0, 'id': 1496762, 'known_for_department': 'Acting', 'name': 'Aiden Grennell', 'original_name': 'Aiden Grennell', 'popularity': 0.6, 'profile_path': None, 'cast_id': 59, 'character': 'Trial Judge', 'credit_id': '560818d6925141775500078b', 'order': 61}, {'adult': False, 'gender': 2, 'id': 83908, 'known_for_department': 'Acting', 'name': 'Daniel Massey', 'original_name': 'Daniel Massey', 'popularity': 1.96, 'profile_path': '/90WXpS4JNSRhStrZN5vdBHCIvlW.jpg', 'cast_id': 60, 'character': 'Prosecutor', 'credit_id': '5608190d9251413055005158', 'order': 62}, {'adult': False, 'gender': 2, 'id': 33401, 'known_for_department': 'Acting', 'name': 'Bosco Hogan', 'original_name': 'Bosco Hogan', 'popularity': 1.107, 'profile_path': '/sMa4b3F9KoHqReJ84pVybL0atQ2.jpg', 'cast_id': 61, 'character': 'Defense Counsel', 'credit_id': '560819539251417a45002546', 'order': 63}, {'adult': False, 'gender': 0, 'id': 2725379, 'known_for_department': 'Acting', 'name': 'Kenneth Edge', 'original_name': 'Kenneth Edge', 'popularity': 0.6, 'profile_path': None, 'cast_id': 135, 'character': 'Jury Foreman', 'credit_id': '5f208feab84cdd003771a80c', 'order': 64}, {'adult': False, 'gender': 0, 'id': 1856261, 'known_for_department': 'Acting', 'name': \"Aine O'Connor\", 'original_name': \"Aine O'Connor\", 'popularity': 0.6, 'profile_path': None, 'cast_id': 136, 'character': \"Dixon's Wife\", 'credit_id': '5f209001d100b6003742eda4', 'order': 65}, {'adult': False, 'gender': 0, 'id': 2347302, 'known_for_department': 'Acting', 'name': 'Guy Carleton', 'original_name': 'Guy Carleton', 'popularity': 0.6, 'profile_path': None, 'cast_id': 137, 'character': 'Prison Admissions Officer', 'credit_id': '5f209020bd990c0035cafe23', 'order': 66}, {'adult': False, 'gender': 2, 'id': 199942, 'known_for_department': 'Acting', 'name': 'Dave Duffy', 'original_name': 'Dave Duffy', 'popularity': 0.6, 'profile_path': None, 'cast_id': 63, 'character': 'Prison Officer', 'credit_id': '560819ca9251413064005005', 'order': 67}, {'adult': False, 'gender': 0, 'id': 1748933, 'known_for_department': 'Acting', 'name': 'Martin Dunne', 'original_name': 'Martin Dunne', 'popularity': 0.98, 'profile_path': None, 'cast_id': 138, 'character': 'Prison Officer', 'credit_id': '5f2090aaa1d3320037b068f3', 'order': 68}, {'adult': False, 'gender': 0, 'id': 2400556, 'known_for_department': 'Acting', 'name': 'Larry Murphy', 'original_name': 'Larry Murphy', 'popularity': 0.6, 'profile_path': None, 'cast_id': 139, 'character': 'Old Prison Officer', 'credit_id': '5f20910200508a00369c5c31', 'order': 69}, {'adult': False, 'gender': 0, 'id': 1597382, 'known_for_department': 'Acting', 'name': 'Richard Michaelis', 'original_name': 'Richard Michaelis', 'popularity': 0.6, 'profile_path': None, 'cast_id': 140, 'character': 'Cockney Prisoner', 'credit_id': '5f209127ce4ddc0037a5788b', 'order': 70}, {'adult': False, 'gender': 0, 'id': 188433, 'known_for_department': 'Acting', 'name': 'Mal Whyte', 'original_name': 'Mal Whyte', 'popularity': 0.6, 'profile_path': None, 'cast_id': 64, 'character': 'Cockney Prisoner', 'credit_id': '56081a3292514177550007ca', 'order': 71}, {'adult': False, 'gender': 2, 'id': 1884028, 'known_for_department': 'Acting', 'name': 'John Gallagher', 'original_name': 'John Gallagher', 'popularity': 0.6, 'profile_path': None, 'cast_id': 141, 'character': 'Cockney Prisoner', 'credit_id': '5f2091c8713ed40037d50a25', 'order': 72}, {'adult': False, 'gender': 0, 'id': 934058, 'known_for_department': 'Acting', 'name': 'Marcus Lynch', 'original_name': 'Marcus Lynch', 'popularity': 0.6, 'profile_path': None, 'cast_id': 65, 'character': 'Cockney Prisoner', 'credit_id': '56081a819251417a45002568', 'order': 73}, {'adult': False, 'gender': 2, 'id': 549342, 'known_for_department': 'Acting', 'name': \"Jer O'Leary\", 'original_name': \"Jer O'Leary\", 'popularity': 1.381, 'profile_path': '/szJmw9HhxM4kbkjS69yakLTdq2k.jpg', 'cast_id': 67, 'character': \"Prisoner John O'Brien\", 'credit_id': '56081ae6925141290e0012d0', 'order': 74}, {'adult': False, 'gender': 0, 'id': 2725387, 'known_for_department': 'Acting', 'name': 'Joey Cashman', 'original_name': 'Joey Cashman', 'popularity': 0.6, 'profile_path': None, 'cast_id': 142, 'character': 'Prisoner', 'credit_id': '5f20928551c01f0038e6b142', 'order': 75}, {'adult': False, 'gender': 0, 'id': 2725388, 'known_for_department': 'Acting', 'name': 'Alan Amsby', 'original_name': 'Alan Amsby', 'popularity': 0.6, 'profile_path': None, 'cast_id': 143, 'character': 'Prisoner', 'credit_id': '5f20928e2afb2500336094d4', 'order': 76}, {'adult': False, 'gender': 2, 'id': 175578, 'known_for_department': 'Acting', 'name': \"Paul O'Grady\", 'original_name': \"Paul O'Grady\", 'popularity': 0.747, 'profile_path': '/iSHGbr01Fd8OT7NfDnHvBqsu4xN.jpg', 'cast_id': 68, 'character': 'Prisoner', 'credit_id': '56081b93c3a368120d0053ac', 'order': 77}, {'adult': False, 'gender': 0, 'id': 2725389, 'known_for_department': 'Acting', 'name': 'Owen Conroy', 'original_name': 'Owen Conroy', 'popularity': 0.6, 'profile_path': None, 'cast_id': 144, 'character': 'Prisoner', 'credit_id': '5f20929b51c01f0035e6a7a2', 'order': 78}, {'adult': False, 'gender': 0, 'id': 2725390, 'known_for_department': 'Acting', 'name': 'Dee Man Kole', 'original_name': 'Dee Man Kole', 'popularity': 0.6, 'profile_path': None, 'cast_id': 145, 'character': 'Prisoner', 'credit_id': '5f2092b5ce4ddc0039a5a914', 'order': 79}, {'adult': False, 'gender': 0, 'id': 2725391, 'known_for_department': 'Acting', 'name': 'Bernard Pellegrinetti', 'original_name': 'Bernard Pellegrinetti', 'popularity': 0.6, 'profile_path': None, 'cast_id': 146, 'character': 'Prisoner', 'credit_id': '5f2092c7006eee0034831951', 'order': 80}, {'adult': False, 'gender': 0, 'id': 2725392, 'known_for_department': 'Acting', 'name': 'Emeka Okeki', 'original_name': 'Emeka Okeki', 'popularity': 0.6, 'profile_path': None, 'cast_id': 147, 'character': 'Prisoner', 'credit_id': '5f2092d868929c0034ca4a57', 'order': 81}, {'adult': False, 'gender': 0, 'id': 2712537, 'known_for_department': 'Directing', 'name': \"Alan O'Connor\", 'original_name': \"Alan O'Connor\", 'popularity': 0.6, 'profile_path': None, 'cast_id': 148, 'character': 'Prisoner', 'credit_id': '5f20930c2716710034530ff4', 'order': 82}, {'adult': False, 'gender': 0, 'id': 2725393, 'known_for_department': 'Acting', 'name': 'Mario McGovern', 'original_name': 'Mario McGovern', 'popularity': 0.6, 'profile_path': None, 'cast_id': 149, 'character': 'Prisoner', 'credit_id': '5f20931cb0040a003999330a', 'order': 83}, {'adult': False, 'gender': 0, 'id': 2725394, 'known_for_department': 'Acting', 'name': 'John Joe Fontana', 'original_name': 'John Joe Fontana', 'popularity': 0.6, 'profile_path': None, 'cast_id': 150, 'character': 'Prisoner', 'credit_id': '5f2093292716710033530f5d', 'order': 84}, {'adult': False, 'gender': 2, 'id': 82410, 'known_for_department': 'Acting', 'name': \"Terry O'Neill\", 'original_name': \"Terry O'Neill\", 'popularity': 0.98, 'profile_path': '/fTXu5CxUCS3M9aPbRldEaGer9AF.jpg', 'cast_id': 69, 'character': 'Prisoner', 'credit_id': '56081c26c3a368586f000737', 'order': 85}, {'adult': False, 'gender': 0, 'id': 2725395, 'known_for_department': 'Acting', 'name': 'Joey Legaspi', 'original_name': 'Joey Legaspi', 'popularity': 0.6, 'profile_path': None, 'cast_id': 151, 'character': 'Prisoner', 'credit_id': '5f209338798e060036c1bdd9', 'order': 86}, {'adult': False, 'gender': 0, 'id': 2725396, 'known_for_department': 'Acting', 'name': 'Jimmie Bergin', 'original_name': 'Jimmie Bergin', 'popularity': 0.6, 'profile_path': None, 'cast_id': 152, 'character': 'Prisoner', 'credit_id': '5f20934490dde00035d05359', 'order': 87}, {'adult': False, 'gender': 0, 'id': 1818880, 'known_for_department': 'Acting', 'name': 'John Higgins', 'original_name': 'John Higgins', 'popularity': 0.6, 'profile_path': None, 'cast_id': 153, 'character': 'Prisoner', 'credit_id': '5f2093c12716710036530f5a', 'order': 88}, {'adult': False, 'gender': 2, 'id': 166258, 'known_for_department': 'Acting', 'name': 'Malcolm Tierney', 'original_name': 'Malcolm Tierney', 'popularity': 1.401, 'profile_path': '/nDjDgg9dTISkUGOWnMQ1Ng2E4FO.jpg', 'cast_id': 71, 'character': 'Home Office Official', 'credit_id': '56081ce7925141305e005029', 'order': 89}, {'adult': False, 'gender': 0, 'id': 2725397, 'known_for_department': 'Acting', 'name': 'Iain Montague', 'original_name': 'Iain Montague', 'popularity': 0.6, 'profile_path': None, 'cast_id': 154, 'character': 'Leader of Delegation', 'credit_id': '5f2094727f6c8d003543b288', 'order': 90}, {'adult': False, 'gender': 2, 'id': 2725398, 'known_for_department': 'Acting', 'name': 'Paul Raynor', 'original_name': 'Paul Raynor', 'popularity': 0.6, 'profile_path': None, 'cast_id': 155, 'character': 'New Chief Prison Officer', 'credit_id': '5f209492bbe1dd00360320e1', 'order': 91}, {'adult': False, 'gender': 0, 'id': 1731425, 'known_for_department': 'Art', 'name': 'Clodagh Conroy', 'original_name': 'Clodagh Conroy', 'popularity': 0.6, 'profile_path': None, 'cast_id': 156, 'character': \"Dixon's Secretary\", 'credit_id': '5f2094dc3dc3130035581a3b', 'order': 92}, {'adult': False, 'gender': 2, 'id': 96488, 'known_for_department': 'Writing', 'name': 'Peter Sheridan', 'original_name': 'Peter Sheridan', 'popularity': 0.6, 'profile_path': None, 'cast_id': 72, 'character': 'Priest', 'credit_id': '56081d4c92514154690001f7', 'order': 93}, {'adult': False, 'gender': 0, 'id': 2269041, 'known_for_department': 'Acting', 'name': 'Darren McHugh', 'original_name': 'Darren McHugh', 'popularity': 0.6, 'profile_path': None, 'cast_id': 157, 'character': \"Dixon's Son\", 'credit_id': '5f20954aac6c790036e4f851', 'order': 94}, {'adult': False, 'gender': 0, 'id': 2725399, 'known_for_department': 'Acting', 'name': 'Peter Campbell', 'original_name': 'Peter Campbell', 'popularity': 0.6, 'profile_path': None, 'cast_id': 158, 'character': 'Government Official', 'credit_id': '5f20957ba2e6020035f66b2a', 'order': 95}, {'adult': False, 'gender': 0, 'id': 134687, 'known_for_department': 'Acting', 'name': 'Alan Barry', 'original_name': 'Alan Barry', 'popularity': 0.6, 'profile_path': None, 'cast_id': 73, 'character': 'Archivist Jenkins', 'credit_id': '56081d899251413055005207', 'order': 96}, {'adult': False, 'gender': 0, 'id': 1233093, 'known_for_department': 'Acting', 'name': 'Jonathan Ryan', 'original_name': 'Jonathan Ryan', 'popularity': 1.106, 'profile_path': '/he1TpeBPtYUAgUwh37ST8tVkBBG.jpg', 'cast_id': 74, 'character': 'Scottish Governor', 'credit_id': '56081dca925141546900020e', 'order': 97}, {'adult': False, 'gender': 0, 'id': 1818440, 'known_for_department': 'Acting', 'name': 'John Pickles', 'original_name': 'John Pickles', 'popularity': 0.6, 'profile_path': None, 'cast_id': 159, 'character': 'Procedural Court Judge', 'credit_id': '5f2095ddbbe1dd003603223b', 'order': 98}, {'adult': False, 'gender': 2, 'id': 1752856, 'known_for_department': 'Acting', 'name': \"Liam O'Callaghan\", 'original_name': \"Liam O'Callaghan\", 'popularity': 1.38, 'profile_path': None, 'cast_id': 160, 'character': 'Archivist 2', 'credit_id': '5f2096188f26bc0033accf93', 'order': 99}, {'adult': False, 'gender': 2, 'id': 32989, 'known_for_department': 'Acting', 'name': 'Denys Hawthorne', 'original_name': 'Denys Hawthorne', 'popularity': 1.473, 'profile_path': None, 'cast_id': 75, 'character': 'Appeal Judge', 'credit_id': '56081e55925141305e005076', 'order': 100}, {'adult': False, 'gender': 2, 'id': 207, 'known_for_department': 'Acting', 'name': 'Tom Wilkinson', 'original_name': 'Tom Wilkinson', 'popularity': 7.331, 'profile_path': '/tiKygcGRycQ9sTdDeYuXYyVKfzc.jpg', 'cast_id': 76, 'character': 'Appeal Prosecutor', 'credit_id': '56081e699251416bf000006d', 'order': 101}], 'crew': [{'adult': False, 'gender': 2, 'id': 1776, 'known_for_department': 'Directing', 'name': 'Francis Ford Coppola', 'original_name': 'Francis Ford Coppola', 'popularity': 3.019, 'profile_path': '/mGKkVp3l9cipPt10AqoQnwaPrfI.jpg', 'credit_id': '5762dc37c3a36818e000002a', 'department': 'Crew', 'job': 'Thanks'}, {'adult': False, 'gender': 2, 'id': 3084, 'known_for_department': 'Acting', 'name': 'Marlon Brando', 'original_name': 'Marlon Brando', 'popularity': 9.208, 'profile_path': '/ywzqJ0tDRmsAT6NB9xPyZu8C2hJ.jpg', 'credit_id': '5762dc22c3a36818c9000047', 'department': 'Crew', 'job': 'Thanks'}, {'adult': False, 'gender': 2, 'id': 1158, 'known_for_department': 'Acting', 'name': 'Al Pacino', 'original_name': 'Al Pacino', 'popularity': 12.653, 'profile_path': '/fMDFeVf0pjopTJbyRSLFwNDm8Wr.jpg', 'credit_id': '5762dc62c3a36818cf000038', 'department': 'Crew', 'job': 'Thanks'}, {'adult': False, 'gender': 1, 'id': 2485, 'known_for_department': 'Production', 'name': 'Patsy Pollock', 'original_name': 'Patsy Pollock', 'popularity': 0.6, 'profile_path': None, 'credit_id': '5606dfcfc3a36812050024c5', 'department': 'Production', 'job': 'Casting'}, {'adult': False, 'gender': 2, 'id': 2589, 'known_for_department': 'Directing', 'name': 'Terry George', 'original_name': 'Terry George', 'popularity': 1.4, 'profile_path': '/7bQWwSTLYcHACu3UDAhlBZWTg82.jpg', 'credit_id': '539d9163c3a3683b23003bd7', 'department': 'Writing', 'job': 'Screenplay'}, {'adult': False, 'gender': 2, 'id': 2589, 'known_for_department': 'Directing', 'name': 'Terry George', 'original_name': 'Terry George', 'popularity': 1.4, 'profile_path': '/7bQWwSTLYcHACu3UDAhlBZWTg82.jpg', 'credit_id': '5762d6f4c3a36859aa000650', 'department': 'Production', 'job': 'Co-Executive Producer'}, {'adult': False, 'gender': 2, 'id': 33684, 'known_for_department': 'Acting', 'name': 'Bono', 'original_name': 'Bono', 'popularity': 1.431, 'profile_path': '/r1jCFctRrEAHBHOyJun8rWCH0AD.jpg', 'credit_id': '5f2062f831644b00355777da', 'department': 'Sound', 'job': 'Songs'}, {'adult': False, 'gender': 2, 'id': 5168, 'known_for_department': 'Acting', 'name': 'Gabriel Byrne', 'original_name': 'Gabriel Byrne', 'popularity': 4.15, 'profile_path': '/9r9oDGENg92VYYFMkV4C09IUlrb.jpg', 'credit_id': '5606df7bc3a368120b0028e3', 'department': 'Production', 'job': 'Executive Producer'}, {'adult': False, 'gender': 2, 'id': 7020, 'known_for_department': 'Sound', 'name': 'Trevor Jones', 'original_name': 'Trevor Jones', 'popularity': 1.22, 'profile_path': None, 'credit_id': '52fe448bc3a36847f809c0cf', 'department': 'Sound', 'job': 'Original Music Composer'}, {'adult': False, 'gender': 2, 'id': 10717, 'known_for_department': 'Camera', 'name': 'Peter Biziou', 'original_name': 'Peter Biziou', 'popularity': 0.6, 'profile_path': None, 'credit_id': '52fe448bc3a36847f809c0d5', 'department': 'Camera', 'job': 'Director of Photography'}, {'adult': False, 'gender': 2, 'id': 10717, 'known_for_department': 'Camera', 'name': 'Peter Biziou', 'original_name': 'Peter Biziou', 'popularity': 0.6, 'profile_path': None, 'credit_id': '539d9149c3a3683b50003a15', 'department': 'Crew', 'job': 'Cinematography'}, {'adult': False, 'gender': 0, 'id': 10721, 'known_for_department': 'Visual Effects', 'name': 'Kent Houston', 'original_name': 'Kent Houston', 'popularity': 0.6, 'profile_path': None, 'credit_id': '5606e082c3a36812150020dd', 'department': 'Visual Effects', 'job': 'Visual Effects'}, {'adult': False, 'gender': 2, 'id': 9163, 'known_for_department': 'Editing', 'name': 'Gerry Hambling', 'original_name': 'Gerry Hambling', 'popularity': 0.828, 'profile_path': None, 'credit_id': '52fe448bc3a36847f809c0db', 'department': 'Editing', 'job': 'Editor'}, {'adult': False, 'gender': 0, 'id': 40749, 'known_for_department': 'Directing', 'name': 'Jean Bourne', 'original_name': 'Jean Bourne', 'popularity': 0.6, 'profile_path': None, 'credit_id': '5762dd46925141329300006a', 'department': 'Directing', 'job': 'Script Supervisor'}, {'adult': False, 'gender': 1, 'id': 17793, 'known_for_department': 'Art', 'name': 'Caroline Amies', 'original_name': 'Caroline Amies', 'popularity': 0.6, 'profile_path': None, 'credit_id': '52fe448bc3a36847f809c0e1', 'department': 'Art', 'job': 'Production Design'}, {'adult': False, 'gender': 0, 'id': 18991, 'known_for_department': 'Sound', 'name': 'Kieran Horgan', 'original_name': 'Kieran Horgan', 'popularity': 0.6, 'profile_path': None, 'credit_id': '5642314e9251412fc2000145', 'department': 'Sound', 'job': 'Sound mixer'}, {'adult': False, 'gender': 2, 'id': 19678, 'known_for_department': 'Editing', 'name': 'Ron Davis', 'original_name': 'Ron Davis', 'popularity': 0.6, 'profile_path': None, 'credit_id': '564230d4c3a3686a66000143', 'department': 'Sound', 'job': 'Sound Editor'}, {'adult': False, 'gender': 2, 'id': 24278, 'known_for_department': 'Acting', 'name': 'Bill Weston', 'original_name': 'Bill Weston', 'popularity': 0.98, 'profile_path': '/mQtWjSvfDlgI42NrE5E3nfICGbE.jpg', 'credit_id': '5606e0abc3a368120d002482', 'department': 'Crew', 'job': 'Stunts Coordinator'}, {'adult': False, 'gender': 2, 'id': 43143, 'known_for_department': 'Production', 'name': 'Arthur Lappin', 'original_name': 'Arthur Lappin', 'popularity': 0.6, 'profile_path': None, 'credit_id': '5762d738c3a368097a000092', 'department': 'Production', 'job': 'Co-Producer'}, {'adult': False, 'gender': 0, 'id': 43161, 'known_for_department': 'Production', 'name': 'Mary Alleguen', 'original_name': 'Mary Alleguen', 'popularity': 0.6, 'profile_path': None, 'credit_id': '5606e051c3a368120b0028f7', 'department': 'Production', 'job': 'Production Manager'}, {'adult': False, 'gender': 2, 'id': 53334, 'known_for_department': 'Directing', 'name': 'Jim Sheridan', 'original_name': 'Jim Sheridan', 'popularity': 1.013, 'profile_path': '/aWTmBt44TyUCb0t50avtFsPdTPp.jpg', 'credit_id': '52fe448bc3a36847f809c0ab', 'department': 'Writing', 'job': 'Screenplay'}, {'adult': False, 'gender': 2, 'id': 53334, 'known_for_department': 'Directing', 'name': 'Jim Sheridan', 'original_name': 'Jim Sheridan', 'popularity': 1.013, 'profile_path': '/aWTmBt44TyUCb0t50avtFsPdTPp.jpg', 'credit_id': '52fe448bc3a36847f809c0a5', 'department': 'Directing', 'job': 'Director'}, {'adult': False, 'gender': 2, 'id': 53334, 'known_for_department': 'Directing', 'name': 'Jim Sheridan', 'original_name': 'Jim Sheridan', 'popularity': 1.013, 'profile_path': '/aWTmBt44TyUCb0t50avtFsPdTPp.jpg', 'credit_id': '52fe448bc3a36847f809c0b1', 'department': 'Production', 'job': 'Producer'}, {'adult': False, 'gender': 2, 'id': 62642, 'known_for_department': 'Sound', 'name': 'Maurice Seezer', 'original_name': 'Maurice Seezer', 'popularity': 0.6, 'profile_path': None, 'credit_id': '5f2064835c5cc80036ca85b5', 'department': 'Sound', 'job': 'Songs'}, {'adult': False, 'gender': 2, 'id': 62641, 'known_for_department': 'Sound', 'name': 'Gavin Friday', 'original_name': 'Gavin Friday', 'popularity': 0.6, 'profile_path': None, 'credit_id': '5f206476c50ad20035b58cda', 'department': 'Sound', 'job': 'Songs'}, {'adult': False, 'gender': 0, 'id': 86332, 'known_for_department': 'Production', 'name': 'Gerry Toomey', 'original_name': 'Gerry Toomey', 'popularity': 0.6, 'profile_path': None, 'credit_id': '57093659c3a36810b4000151', 'department': 'Directing', 'job': 'Assistant Director'}, {'adult': False, 'gender': 0, 'id': 96490, 'known_for_department': 'Writing', 'name': 'Nye Heron', 'original_name': 'Nye Heron', 'popularity': 1.094, 'profile_path': None, 'credit_id': '5762d71ac3a368097a00008a', 'department': 'Production', 'job': 'Associate Producer'}, {'adult': False, 'gender': 0, 'id': 94737, 'known_for_department': 'Writing', 'name': 'Gerry Conlon', 'original_name': 'Gerry Conlon', 'popularity': 0.6, 'profile_path': None, 'credit_id': '5762d6acc3a36859a6000647', 'department': 'Writing', 'job': 'Book'}, {'adult': False, 'gender': 1, 'id': 232158, 'known_for_department': 'Sound', 'name': 'Susan Jacobs', 'original_name': 'Susan Jacobs', 'popularity': 0.6, 'profile_path': None, 'credit_id': '5762dc7d925141329e000054', 'department': 'Crew', 'job': 'Thanks'}, {'adult': False, 'gender': 2, 'id': 275201, 'known_for_department': 'Art', 'name': 'Rick Butler', 'original_name': 'Rick Butler', 'popularity': 0.6, 'profile_path': None, 'credit_id': '5606dff29251413050002354', 'department': 'Art', 'job': 'Art Direction'}, {'adult': False, 'gender': 0, 'id': 567973, 'known_for_department': 'Costume & Make-Up', 'name': 'Joan Bergin', 'original_name': 'Joan Bergin', 'popularity': 0.683, 'profile_path': None, 'credit_id': '5606e017c3a3681211002bd1', 'department': 'Costume & Make-Up', 'job': 'Costume Design'}, {'adult': False, 'gender': 2, 'id': 957967, 'known_for_department': 'Production', 'name': 'Simon Moseley', 'original_name': 'Simon Moseley', 'popularity': 0.6, 'profile_path': None, 'credit_id': '577d44129251415d98001151', 'department': 'Directing', 'job': 'Assistant Director'}, {'adult': False, 'gender': 0, 'id': 958799, 'known_for_department': 'Production', 'name': 'Nuala Moiselle', 'original_name': 'Nuala Moiselle', 'popularity': 0.694, 'profile_path': None, 'credit_id': '5606dfbcc3a36812150020ce', 'department': 'Production', 'job': 'Casting'}, {'adult': False, 'gender': 2, 'id': 968735, 'known_for_department': 'Production', 'name': 'Frank Moiselle', 'original_name': 'Frank Moiselle', 'popularity': 0.98, 'profile_path': None, 'credit_id': '5762dbecc3a36818c900003c', 'department': 'Production', 'job': 'Casting'}, {'adult': False, 'gender': 0, 'id': 1325557, 'known_for_department': 'Visual Effects', 'name': 'Martin Body', 'original_name': 'Martin Body', 'popularity': 0.6, 'profile_path': None, 'credit_id': '5762d866c3a368599c0006c1', 'department': 'Camera', 'job': 'Camera Operator'}, {'adult': False, 'gender': 0, 'id': 1371493, 'known_for_department': 'Crew', 'name': 'Patrick Condren', 'original_name': 'Patrick Condren', 'popularity': 0.6, 'profile_path': None, 'credit_id': '5606e0c292514130550023c6', 'department': 'Crew', 'job': 'Stunts'}, {'adult': False, 'gender': 0, 'id': 1401599, 'known_for_department': 'Production', 'name': 'Christian McWilliams', 'original_name': 'Christian McWilliams', 'popularity': 0.98, 'profile_path': None, 'credit_id': '577d471cc3a36817f800135e', 'department': 'Production', 'job': 'Location Manager'}, {'adult': False, 'gender': 0, 'id': 1406929, 'known_for_department': 'Production', 'name': \"Grania O'Shannon\", 'original_name': \"Grania O'Shannon\", 'popularity': 1.38, 'profile_path': None, 'credit_id': '5642392b9251412fca000287', 'department': 'Art', 'job': 'Location Scout'}, {'adult': False, 'gender': 1, 'id': 1407848, 'known_for_department': 'Costume & Make-Up', 'name': 'Orla Carrol', 'original_name': 'Orla Carrol', 'popularity': 0.6, 'profile_path': None, 'credit_id': '57126700c3a36860a8008a59', 'department': 'Costume & Make-Up', 'job': 'Hairstylist'}, {'adult': False, 'gender': 0, 'id': 1407864, 'known_for_department': 'Lighting', 'name': 'Noel Cullen', 'original_name': 'Noel Cullen', 'popularity': 0.6, 'profile_path': None, 'credit_id': '564235869251412fc200020c', 'department': 'Lighting', 'job': 'Electrician'}, {'adult': False, 'gender': 0, 'id': 1408358, 'known_for_department': 'Camera', 'name': 'Des Whelan', 'original_name': 'Des Whelan', 'popularity': 1.166, 'profile_path': None, 'credit_id': '5642373bc3a3686a53000231', 'department': 'Camera', 'job': 'Camera Operator'}, {'adult': False, 'gender': 1, 'id': 1429193, 'known_for_department': 'Production', 'name': 'Beverley Keogh', 'original_name': 'Beverley Keogh', 'popularity': 1.094, 'profile_path': None, 'credit_id': '5762dbca9251413293000034', 'department': 'Production', 'job': 'Casting'}, {'adult': False, 'gender': 0, 'id': 1445972, 'known_for_department': 'Visual Effects', 'name': 'Joss Williams', 'original_name': 'Joss Williams', 'popularity': 0.6, 'profile_path': None, 'credit_id': '5762de6cc3a36818cf00006d', 'department': 'Visual Effects', 'job': 'Special Effects Supervisor'}, {'adult': False, 'gender': 2, 'id': 1458557, 'known_for_department': 'Camera', 'name': 'Jonathan Hession', 'original_name': 'Jonathan Hession', 'popularity': 0.6, 'profile_path': None, 'credit_id': '56423605c3a3686a58000264', 'department': 'Camera', 'job': 'Still Photographer'}, {'adult': False, 'gender': 0, 'id': 1477808, 'known_for_department': 'Crew', 'name': 'Gerry Johnston', 'original_name': 'Gerry Johnston', 'popularity': 0.6, 'profile_path': None, 'credit_id': '564231e89251412fd4000196', 'department': 'Crew', 'job': 'Special Effects'}, {'adult': False, 'gender': 1, 'id': 1529539, 'known_for_department': 'Production', 'name': 'Kathy Sykes', 'original_name': 'Kathy Sykes', 'popularity': 0.6, 'profile_path': None, 'credit_id': '5762d7ed92514102ff000685', 'department': 'Production', 'job': 'Production Manager'}, {'adult': False, 'gender': 0, 'id': 1532214, 'known_for_department': 'Costume & Make-Up', 'name': 'Sue Wain', 'original_name': 'Sue Wain', 'popularity': 0.6, 'profile_path': None, 'credit_id': '5716c7b5925141695b00098f', 'department': 'Costume & Make-Up', 'job': 'Costume Supervisor'}, {'adult': False, 'gender': 0, 'id': 1534106, 'known_for_department': 'Costume & Make-Up', 'name': 'Anne Dunne', 'original_name': 'Anne Dunne', 'popularity': 0.6, 'profile_path': None, 'credit_id': '56422db69251412fca0000cb', 'department': 'Costume & Make-Up', 'job': 'Hairstylist'}, {'adult': False, 'gender': 0, 'id': 1534109, 'known_for_department': 'Art', 'name': 'Russ Bailey', 'original_name': 'Russ Bailey', 'popularity': 0.6, 'profile_path': None, 'credit_id': '56422f4ec3a3686a530000f8', 'department': 'Art', 'job': 'Construction Coordinator'}, {'adult': False, 'gender': 0, 'id': 1534134, 'known_for_department': 'Crew', 'name': 'Alan Walsh', 'original_name': 'Alan Walsh', 'popularity': 1.38, 'profile_path': None, 'credit_id': '564234c99251412fd1000219', 'department': 'Crew', 'job': 'Stunts'}, {'adult': False, 'gender': 0, 'id': 1534135, 'known_for_department': 'Lighting', 'name': 'Louis Conroy', 'original_name': 'Louis Conroy', 'popularity': 0.98, 'profile_path': None, 'credit_id': '564235369251412fc2000202', 'department': 'Lighting', 'job': 'Gaffer'}, {'adult': False, 'gender': 2, 'id': 1534136, 'known_for_department': 'Camera', 'name': 'John Murphy', 'original_name': 'John Murphy', 'popularity': 0.6, 'profile_path': None, 'credit_id': '564236c99251412fd100025f', 'department': 'Camera', 'job': 'Grip'}, {'adult': False, 'gender': 0, 'id': 1534138, 'known_for_department': 'Crew', 'name': 'James Hickey', 'original_name': 'James Hickey', 'popularity': 0.6, 'profile_path': None, 'credit_id': '564238b6c3a3686a660002a6', 'department': 'Crew', 'job': 'Legal Services'}, {'adult': False, 'gender': 0, 'id': 1559284, 'known_for_department': 'Costume & Make-Up', 'name': 'Toni Delaney', 'original_name': 'Toni Delaney', 'popularity': 0.6, 'profile_path': None, 'credit_id': '5762d7a4c3a368097a00009b', 'department': 'Costume & Make-Up', 'job': 'Makeup Artist'}, {'adult': False, 'gender': 0, 'id': 1562723, 'known_for_department': 'Lighting', 'name': 'Peter Bloor', 'original_name': 'Peter Bloor', 'popularity': 0.98, 'profile_path': None, 'credit_id': '56bb75dd92514131e700006d', 'department': 'Lighting', 'job': 'Lighting Technician'}, {'adult': False, 'gender': 0, 'id': 1576025, 'known_for_department': 'Editing', 'name': 'Peter Hunt', 'original_name': 'Peter Hunt', 'popularity': 0.6, 'profile_path': None, 'credit_id': '5762dd9ec3a36818dc000071', 'department': 'Editing', 'job': 'Color Timer'}, {'adult': False, 'gender': 0, 'id': 1596283, 'known_for_department': 'Crew', 'name': 'George A. Fleming', 'original_name': 'George A. Fleming', 'popularity': 0.6, 'profile_path': None, 'credit_id': '5762dcbac3a36818c9000066', 'department': 'Crew', 'job': 'Thanks'}, {'adult': False, 'gender': 0, 'id': 2181666, 'known_for_department': 'Costume & Make-Up', 'name': 'Patricia Kirkman', 'original_name': 'Patricia Kirkman', 'popularity': 0.6, 'profile_path': None, 'credit_id': '5febb5eb761421003e8971e4', 'department': 'Costume & Make-Up', 'job': 'Makeup & Hair Assistant'}]} {'movie_results': [{'id': 7984, 'genre_ids': [18], 'original_language': 'en', 'original_title': 'In the Name of the Father', 'poster_path': '/kUTImWLPIr6U4xhLsHrgky5vgJt.jpg', 'video': False, 'vote_average': 7.9, 'overview': \"A small time thief from Belfast, Gerry Conlon, is falsely implicated in the IRA bombing of a pub that kills several people while he is in London. He and his four friends are coerced by British police into confessing their guilt. Gerry's father and other relatives in London are also implicated in the crime. He spends fifteen years in prison with his father trying to prove his innocence.\", 'release_date': '1993-12-12', 'vote_count': 1208, 'title': 'In the Name of the Father', 'adult': False, 'backdrop_path': '/gUIVD0rFWVB8Okk8wU8dQxjOYnZ.jpg', 'popularity': 9.866}], 'person_results': [], 'tv_results': [], 'tv_episode_results': [], 'tv_season_results': []}\n",
      "Gender 0\n"
     ]
    },
    {
     "name": "stderr",
     "output_type": "stream",
     "text": [
      "\r",
      " 44%|███████████████████████████████████▊                                             | 73/165 [00:19<00:24,  3.82it/s]"
     ]
    },
    {
     "name": "stdout",
     "output_type": "stream",
     "text": [
      "Birthday 1982-07-24\n",
      "Gender 1\n"
     ]
    },
    {
     "name": "stderr",
     "output_type": "stream",
     "text": [
      "\r",
      " 45%|████████████████████████████████████▎                                            | 74/165 [00:20<00:23,  3.85it/s]"
     ]
    },
    {
     "name": "stdout",
     "output_type": "stream",
     "text": [
      "Birthday None\n",
      "{'adult': False, 'also_known_as': [], 'biography': '', 'birthday': None, 'deathday': None, 'gender': 1, 'homepage': None, 'id': 1220068, 'imdb_id': 'nm0414580', 'known_for_department': 'Acting', 'name': 'Paula Jacobs', 'place_of_birth': 'Liverpool, England, UK', 'popularity': 0.616, 'profile_path': None} {'id': 1245, 'cast': [{'adult': False, 'gender': 2, 'id': 4173, 'known_for_department': 'Acting', 'name': 'Anthony Hopkins', 'original_name': 'Anthony Hopkins', 'popularity': 8.213, 'profile_path': '/9ukJS2QWTJ22HcwR1ktMmoJ6RSL.jpg', 'cast_id': 1, 'character': 'James Stevens', 'credit_id': '52fe42e9c3a36847f802c503', 'order': 0}, {'adult': False, 'gender': 1, 'id': 7056, 'known_for_department': 'Acting', 'name': 'Emma Thompson', 'original_name': 'Emma Thompson', 'popularity': 8.804, 'profile_path': '/xr8Ki3CIqweWWqS5q0kUYdiK6oQ.jpg', 'cast_id': 2, 'character': 'Miss Kenton', 'credit_id': '52fe42e9c3a36847f802c507', 'order': 1}, {'adult': False, 'gender': 2, 'id': 1292, 'known_for_department': 'Acting', 'name': 'James Fox', 'original_name': 'James Fox', 'popularity': 1.452, 'profile_path': '/usTO4NoD08rV0woh7vXLX8gxzHO.jpg', 'cast_id': 3, 'character': 'Lord Darlington', 'credit_id': '52fe42e9c3a36847f802c50b', 'order': 2}, {'adult': False, 'gender': 2, 'id': 20006, 'known_for_department': 'Acting', 'name': 'Christopher Reeve', 'original_name': 'Christopher Reeve', 'popularity': 2.706, 'profile_path': '/vAGrPf3ajy6OVE3FhgABynZfybP.jpg', 'cast_id': 4, 'character': 'Jack Lewis', 'credit_id': '52fe42e9c3a36847f802c50f', 'order': 3}, {'adult': False, 'gender': 2, 'id': 3291, 'known_for_department': 'Acting', 'name': 'Hugh Grant', 'original_name': 'Hugh Grant', 'popularity': 2.575, 'profile_path': '/c2XQ7GIgNol91mGnWkgtQPe0Olz.jpg', 'cast_id': 5, 'character': 'Reginald Cardinal', 'credit_id': '52fe42e9c3a36847f802c513', 'order': 4}, {'adult': False, 'gender': 2, 'id': 386, 'known_for_department': 'Acting', 'name': 'Peter Vaughan', 'original_name': 'Peter Vaughan', 'popularity': 1.472, 'profile_path': '/oOW4ZZeLc9KArDs94k15qEVGzKJ.jpg', 'cast_id': 6, 'character': 'William Stevens', 'credit_id': '52fe42e9c3a36847f802c517', 'order': 5}, {'adult': False, 'gender': 2, 'id': 21343, 'known_for_department': 'Acting', 'name': 'Ben Chaplin', 'original_name': 'Ben Chaplin', 'popularity': 1.981, 'profile_path': '/oJc9gA7cRvRg1v4tgeAmpkaqFxO.jpg', 'cast_id': 7, 'character': 'Charlie, Head Footman', 'credit_id': '52fe42e9c3a36847f802c51b', 'order': 6}, {'adult': False, 'gender': 1, 'id': 1220068, 'known_for_department': 'Acting', 'name': 'Paula Jacobs', 'original_name': 'Paula Jacobs', 'popularity': 0.616, 'profile_path': None, 'cast_id': 16, 'character': 'Mrs. Mortimer, the cook', 'credit_id': '542efe230e0a26259f0007a5', 'order': 7}, {'adult': False, 'gender': 2, 'id': 3568, 'known_for_department': 'Acting', 'name': 'Patrick Godfrey', 'original_name': 'Patrick Godfrey', 'popularity': 1.667, 'profile_path': '/fGZMxe4VpV0rYDYbgXmyJlDO3f7.jpg', 'cast_id': 19, 'character': 'Spencer', 'credit_id': '542efe550e0a2625a6000708', 'order': 8}, {'adult': False, 'gender': 2, 'id': 2369, 'known_for_department': 'Acting', 'name': 'Michael Lonsdale', 'original_name': 'Michael Lonsdale', 'popularity': 1.231, 'profile_path': '/lQZktsBj1CFbIEIpXOZp55kCiB5.jpg', 'cast_id': 21, 'character': \"Dupont D'Ivry\", 'credit_id': '542efe7ac3a368043900070d', 'order': 9}, {'adult': False, 'gender': 2, 'id': 2479, 'known_for_department': 'Acting', 'name': 'Rupert Vansittart', 'original_name': 'Rupert Vansittart', 'popularity': 2.111, 'profile_path': '/lNrqLH0ombV0PoF3KilDzX1ujI9.jpg', 'cast_id': 22, 'character': 'Sir Geoffrey Wren', 'credit_id': '542efe89c3a368043d00079d', 'order': 10}, {'adult': False, 'gender': 2, 'id': 11276, 'known_for_department': 'Acting', 'name': 'Tim Pigott-Smith', 'original_name': 'Tim Pigott-Smith', 'popularity': 4.524, 'profile_path': '/37OZUY7cq8eoWxhKR2VD1ppusJM.jpg', 'cast_id': 23, 'character': 'Thomas Benn', 'credit_id': '542efe950e0a2625a6000711', 'order': 11}, {'adult': False, 'gender': 1, 'id': 17286, 'known_for_department': 'Acting', 'name': 'Lena Headey', 'original_name': 'Lena Headey', 'popularity': 8.562, 'profile_path': '/xR2IBnBlUdyBe5hecaVdtRuQqUE.jpg', 'cast_id': 24, 'character': 'Lizzie', 'credit_id': '542efea5c3a36804420007e3', 'order': 12}, {'adult': False, 'gender': 2, 'id': 116975, 'known_for_department': 'Acting', 'name': 'Paul Copley', 'original_name': 'Paul Copley', 'popularity': 1.4, 'profile_path': '/6iKI03PIqdooId5Hal6Nn0ccVTU.jpg', 'cast_id': 25, 'character': 'Harry Smith', 'credit_id': '542efebb0e0a26259f0007b2', 'order': 13}, {'adult': False, 'gender': 2, 'id': 44419, 'known_for_department': 'Acting', 'name': 'Peter Cellier', 'original_name': 'Peter Cellier', 'popularity': 1.4, 'profile_path': '/xuXpqKSWQkrnbmpFfO5zfQIOX2d.jpg', 'cast_id': 40, 'character': 'Sir Leonard Bax', 'credit_id': '56297024c3a3681b540006d7', 'order': 14}, {'adult': False, 'gender': 1, 'id': 1430048, 'known_for_department': 'Acting', 'name': 'Brigitte Kahn', 'original_name': 'Brigitte Kahn', 'popularity': 1.943, 'profile_path': None, 'cast_id': 43, 'character': 'Baroness', 'credit_id': '562970b5c3a3681b610006b8', 'order': 15}, {'adult': False, 'gender': 2, 'id': 184881, 'known_for_department': 'Acting', 'name': 'John Savident', 'original_name': 'John Savident', 'popularity': 1.453, 'profile_path': '/fAbTwsOLn0W6Cagb8mFasTzWW7V.jpg', 'cast_id': 44, 'character': 'Doctor Meredith', 'credit_id': '562970e1925141284700063d', 'order': 16}, {'adult': False, 'gender': 2, 'id': 36666, 'known_for_department': 'Acting', 'name': 'Pip Torrens', 'original_name': 'Pip Torrens', 'popularity': 4.765, 'profile_path': '/2CMGIZ0hXTB4FcCXGlfVGaHGBBm.jpg', 'cast_id': 50, 'character': 'Doctor Richard Carlisle', 'credit_id': '5629730dc3a3681b4b000633', 'order': 17}, {'adult': False, 'gender': 2, 'id': 12691, 'known_for_department': 'Acting', 'name': 'Peter Eyre', 'original_name': 'Peter Eyre', 'popularity': 1.553, 'profile_path': '/dx3aKRMtMZV28QOY1j6D8tp63gR.jpg', 'cast_id': 51, 'character': 'Lord Halifax', 'credit_id': '56297351c3a3681b5c0006ff', 'order': 18}, {'adult': False, 'gender': 2, 'id': 659, 'known_for_department': 'Acting', 'name': 'Wolf Kahler', 'original_name': 'Wolf Kahler', 'popularity': 1.737, 'profile_path': '/ilQJv4ZQwHC2OI41NZQE731mibm.jpg', 'cast_id': 52, 'character': 'German ambassador', 'credit_id': '56297382925141284a000724', 'order': 19}, {'adult': False, 'gender': 0, 'id': 1370647, 'known_for_department': 'Acting', 'name': 'Abigail Hopkins', 'original_name': 'Abigail Hopkins', 'popularity': 0.6, 'profile_path': None, 'cast_id': 18, 'character': 'Housemaid', 'credit_id': '542efe40c3a3680436000744', 'order': 20}, {'adult': False, 'gender': 0, 'id': 1370644, 'known_for_department': 'Acting', 'name': 'John Haycraft', 'original_name': 'John Haycraft', 'popularity': 0.98, 'profile_path': None, 'cast_id': 14, 'character': 'Auctioneer', 'credit_id': '542efdfcc3a368043d000791', 'order': 21}, {'adult': False, 'gender': 0, 'id': 1370645, 'known_for_department': 'Acting', 'name': 'Caroline Hunt', 'original_name': 'Caroline Hunt', 'popularity': 0.6, 'profile_path': None, 'cast_id': 15, 'character': 'Landlady', 'credit_id': '542efe0e0e0a26259c000756', 'order': 22}, {'adult': False, 'gender': 0, 'id': 1370646, 'known_for_department': 'Acting', 'name': 'Steve Dibben', 'original_name': 'Steve Dibben', 'popularity': 0.6, 'profile_path': None, 'cast_id': 17, 'character': 'George, Second Footman', 'credit_id': '542efe320e0a2625a6000702', 'order': 23}, {'adult': False, 'gender': 0, 'id': 10732, 'known_for_department': 'Acting', 'name': 'Terence Bayler', 'original_name': 'Terence Bayler', 'popularity': 1.215, 'profile_path': '/ui0sfTzTnum4IkFVrLdpOsUbJDL.jpg', 'cast_id': 20, 'character': 'Trimmer', 'credit_id': '542efe6cc3a36804420007dd', 'order': 24}, {'adult': False, 'gender': 2, 'id': 27169, 'known_for_department': 'Acting', 'name': 'Peter Halliday', 'original_name': 'Peter Halliday', 'popularity': 1.4, 'profile_path': '/m4eKAbVIYlEdGB2ldYEeqvimSaS.jpg', 'cast_id': 41, 'character': 'Canon Tufnell', 'credit_id': '562970469251412853000679', 'order': 25}, {'adult': False, 'gender': 2, 'id': 202194, 'known_for_department': 'Acting', 'name': 'Jeffry Wickham', 'original_name': 'Jeffry Wickham', 'popularity': 0.618, 'profile_path': '/8zrYr2SxySEOxDJEVasSN8ebhKd.jpg', 'cast_id': 42, 'character': 'Viscount Bigge', 'credit_id': '56297081c3a3681b4b0005cd', 'order': 26}, {'adult': False, 'gender': 2, 'id': 1212147, 'known_for_department': 'Acting', 'name': 'Tony Aitken', 'original_name': 'Tony Aitken', 'popularity': 0.98, 'profile_path': '/4vGvK4Tm2laz1jyg94kRej5DSLP.jpg', 'cast_id': 45, 'character': 'Postmaster', 'credit_id': '56297171925141285300069d', 'order': 27}, {'adult': False, 'gender': 2, 'id': 251768, 'known_for_department': 'Acting', 'name': 'Christopher Brown', 'original_name': 'Christopher Brown', 'popularity': 0.6, 'profile_path': None, 'cast_id': 46, 'character': 'Irma', 'credit_id': '56297231925141284a0006f4', 'order': 28}, {'adult': False, 'gender': 2, 'id': 186108, 'known_for_department': 'Acting', 'name': 'Ian Redford', 'original_name': 'Ian Redford', 'popularity': 0.987, 'profile_path': '/lMxqomwoi1XynkKnztPNJoHNF2s.jpg', 'cast_id': 47, 'character': 'Publican', 'credit_id': '56297274925141284c0006ee', 'order': 29}, {'adult': False, 'gender': 0, 'id': 54446, 'known_for_department': 'Acting', 'name': 'Jo Kendall', 'original_name': 'Jo Kendall', 'popularity': 0.728, 'profile_path': None, 'cast_id': 48, 'character': \"Publican's wife\", 'credit_id': '562972cfc3a3681b59000695', 'order': 30}, {'adult': False, 'gender': 0, 'id': 20069, 'known_for_department': 'Acting', 'name': 'Steven Beard', 'original_name': 'Steven Beard', 'popularity': 0.6, 'profile_path': None, 'cast_id': 49, 'character': 'Andrews', 'credit_id': '562972eec3a3681b52000706', 'order': 31}, {'adult': False, 'gender': 2, 'id': 206393, 'known_for_department': 'Acting', 'name': 'Miles Richardson', 'original_name': 'Miles Richardson', 'popularity': 0.84, 'profile_path': '/mDNEYyGeaWmjqFc5TZuSyRmW89a.jpg', 'cast_id': 53, 'character': 'Craddock (uncredited)', 'credit_id': '562973e1c3a3681b4b000645', 'order': 32}], 'crew': [{'adult': False, 'gender': 1, 'id': 970, 'known_for_department': 'Production', 'name': 'Celestia Fox', 'original_name': 'Celestia Fox', 'popularity': 0.828, 'profile_path': None, 'credit_id': '56292185c3a36848870024d5', 'department': 'Production', 'job': 'Casting'}, {'adult': False, 'gender': 2, 'id': 3960, 'known_for_department': 'Camera', 'name': 'Tony Pierce-Roberts', 'original_name': 'Tony Pierce-Roberts', 'popularity': 0.98, 'profile_path': None, 'credit_id': '56452406c3a36870e0006cf7', 'department': 'Camera', 'job': 'Director of Photography'}, {'adult': False, 'gender': 2, 'id': 4868, 'known_for_department': 'Editing', 'name': 'Andrew Marcus', 'original_name': 'Andrew Marcus', 'popularity': 0.98, 'profile_path': None, 'credit_id': '5629216d9251414cdb0025be', 'department': 'Editing', 'job': 'Editor'}, {'adult': False, 'gender': 0, 'id': 5333, 'known_for_department': 'Costume & Make-Up', 'name': 'Christine Beveridge', 'original_name': 'Christine Beveridge', 'popularity': 0.6, 'profile_path': None, 'credit_id': '577d42e6c3a36817e60012c2', 'department': 'Costume & Make-Up', 'job': 'Makeup Department Head'}, {'adult': False, 'gender': 2, 'id': 5342, 'known_for_department': 'Directing', 'name': 'Mike Nichols', 'original_name': 'Mike Nichols', 'popularity': 0.859, 'profile_path': '/eJgJEVil7iOJ9sTAXLCVRKfeKKM.jpg', 'credit_id': '52fe42e9c3a36847f802c52d', 'department': 'Production', 'job': 'Producer'}, {'adult': False, 'gender': 2, 'id': 8406, 'known_for_department': 'Production', 'name': 'John Calley', 'original_name': 'John Calley', 'popularity': 0.6, 'profile_path': None, 'credit_id': '577d4262c3a36817f8001132', 'department': 'Production', 'job': 'Producer'}, {'adult': False, 'gender': 1, 'id': 11381, 'known_for_department': 'Production', 'name': 'Joyce Herlihy', 'original_name': 'Joyce Herlihy', 'popularity': 0.6, 'profile_path': None, 'credit_id': '566418999251412d7b007c9e', 'department': 'Production', 'job': 'Production Supervisor'}, {'adult': False, 'gender': 2, 'id': 54441, 'known_for_department': 'Directing', 'name': 'James Ivory', 'original_name': 'James Ivory', 'popularity': 2.376, 'profile_path': '/4w9QeQuT2UK1v3IDy6pa8cGodW.jpg', 'credit_id': '52fe42e9c3a36847f802c521', 'department': 'Directing', 'job': 'Director'}, {'adult': False, 'gender': 1, 'id': 17165, 'known_for_department': 'Art', 'name': 'Luciana Arrighi', 'original_name': 'Luciana Arrighi', 'popularity': 1.116, 'profile_path': None, 'credit_id': '562921999251414cd2002753', 'department': 'Art', 'job': 'Production Design'}, {'adult': False, 'gender': 1, 'id': 17166, 'known_for_department': 'Costume & Make-Up', 'name': 'Jenny Beavan', 'original_name': 'Jenny Beavan', 'popularity': 0.6, 'profile_path': None, 'credit_id': '56292208c3a368488c0028d2', 'department': 'Costume & Make-Up', 'job': 'Costume Design'}, {'adult': False, 'gender': 0, 'id': 17599, 'known_for_department': 'Production', 'name': 'Bernard Bellew', 'original_name': 'Bernard Bellew', 'popularity': 1.38, 'profile_path': None, 'credit_id': '577d43909251415d950011ff', 'department': 'Directing', 'job': 'Assistant Director'}, {'adult': False, 'gender': 0, 'id': 31293, 'known_for_department': 'Editing', 'name': 'Derek Holding', 'original_name': 'Derek Holding', 'popularity': 0.98, 'profile_path': None, 'credit_id': '564b70d39251414dcd003d78', 'department': 'Editing', 'job': 'Dialogue Editor'}, {'adult': False, 'gender': 1, 'id': 54443, 'known_for_department': 'Writing', 'name': 'Ruth Prawer Jhabvala', 'original_name': 'Ruth Prawer Jhabvala', 'popularity': 0.98, 'profile_path': None, 'credit_id': '52fe42e9c3a36847f802c539', 'department': 'Writing', 'job': 'Screenplay'}, {'adult': False, 'gender': 2, 'id': 54448, 'known_for_department': 'Production', 'name': 'Ismail Merchant', 'original_name': 'Ismail Merchant', 'popularity': 1.22, 'profile_path': '/8tL8R8eOhjEFQyEg8uXA8GBNwoA.jpg', 'credit_id': '52fe42e9c3a36847f802c527', 'department': 'Production', 'job': 'Producer'}, {'adult': False, 'gender': 2, 'id': 54449, 'known_for_department': 'Sound', 'name': 'Richard Robbins', 'original_name': 'Richard Robbins', 'popularity': 0.6, 'profile_path': None, 'credit_id': '56452583c3a36870dd00714d', 'department': 'Sound', 'job': 'Original Music Composer'}, {'adult': False, 'gender': 2, 'id': 83664, 'known_for_department': 'Writing', 'name': 'Kazuo Ishiguro', 'original_name': 'Kazuo Ishiguro', 'popularity': 0.6, 'profile_path': '/qeYBJhJJ753mkWlKIPbb12iPTnM.jpg', 'credit_id': '52fe42e9c3a36847f802c533', 'department': 'Writing', 'job': 'Novel'}, {'adult': False, 'gender': 2, 'id': 84892, 'known_for_department': 'Sound', 'name': 'Harry Rabinowitz', 'original_name': 'Harry Rabinowitz', 'popularity': 0.6, 'profile_path': '/b3LA4jHHeMIBCppO3corqB2prut.jpg', 'credit_id': '577d47f59251415da1001351', 'department': 'Sound', 'job': 'Music Director'}, {'adult': False, 'gender': 2, 'id': 121680, 'known_for_department': 'Art', 'name': 'Ian Whittaker', 'original_name': 'Ian Whittaker', 'popularity': 0.6, 'profile_path': None, 'credit_id': '562921ebc3a368488300248a', 'department': 'Art', 'job': 'Set Decoration'}, {'adult': False, 'gender': 2, 'id': 957967, 'known_for_department': 'Production', 'name': 'Simon Moseley', 'original_name': 'Simon Moseley', 'popularity': 0.6, 'profile_path': None, 'credit_id': '577d43d4c3a36817fb0010c8', 'department': 'Directing', 'job': 'Assistant Director'}, {'adult': False, 'gender': 0, 'id': 1043954, 'known_for_department': 'Production', 'name': 'Donald Rosenfeld', 'original_name': 'Donald Rosenfeld', 'popularity': 0.84, 'profile_path': None, 'credit_id': '56292124c3a36848870024c0', 'department': 'Production', 'job': 'Associate Producer'}, {'adult': False, 'gender': 0, 'id': 1080783, 'known_for_department': 'Production', 'name': 'Paul Bradley', 'original_name': 'Paul Bradley', 'popularity': 0.6, 'profile_path': None, 'credit_id': '562920ecc3a368487d0026db', 'department': 'Production', 'job': 'Executive Producer'}, {'adult': False, 'gender': 2, 'id': 1223799, 'known_for_department': 'Directing', 'name': 'Christopher Newman', 'original_name': 'Christopher Newman', 'popularity': 1.08, 'profile_path': '/ih2QUcObX8Xaq9GailAUSf5B1hg.jpg', 'credit_id': '562922d3c3a368488700250d', 'department': 'Directing', 'job': 'Assistant Director'}, {'adult': False, 'gender': 0, 'id': 1325557, 'known_for_department': 'Visual Effects', 'name': 'Martin Body', 'original_name': 'Martin Body', 'popularity': 0.6, 'profile_path': None, 'credit_id': '5762d8a292514103110006c2', 'department': 'Camera', 'job': 'Camera Operator'}, {'adult': False, 'gender': 0, 'id': 1325557, 'known_for_department': 'Visual Effects', 'name': 'Martin Body', 'original_name': 'Martin Body', 'popularity': 0.6, 'profile_path': None, 'credit_id': '577d45cfc3a36817f80012e3', 'department': 'Visual Effects', 'job': 'Visual Effects'}, {'adult': False, 'gender': 0, 'id': 1336164, 'known_for_department': 'Costume & Make-Up', 'name': 'Carol Hemming', 'original_name': 'Carol Hemming', 'popularity': 0.6, 'profile_path': None, 'credit_id': '577d431cc3a36817e1001209', 'department': 'Costume & Make-Up', 'job': 'Hair Department Head'}, {'adult': False, 'gender': 1, 'id': 1394104, 'known_for_department': 'Directing', 'name': 'Diana Dill', 'original_name': 'Diana Dill', 'popularity': 0.6, 'profile_path': None, 'credit_id': '56641816c3a3682bd2007f12', 'department': 'Directing', 'job': 'Script Supervisor'}, {'adult': False, 'gender': 0, 'id': 1401599, 'known_for_department': 'Production', 'name': 'Christian McWilliams', 'original_name': 'Christian McWilliams', 'popularity': 0.98, 'profile_path': None, 'credit_id': '577d46ee9251415d9500138b', 'department': 'Production', 'job': 'Location Manager'}, {'adult': False, 'gender': 2, 'id': 1402238, 'known_for_department': 'Art', 'name': 'Arthur Wicks', 'original_name': 'Arthur Wicks', 'popularity': 0.6, 'profile_path': None, 'credit_id': '5e13d7bb6262080012c43e30', 'department': 'Art', 'job': 'Property Master'}, {'adult': False, 'gender': 0, 'id': 1405243, 'known_for_department': 'Crew', 'name': 'Brian Baverstock', 'original_name': 'Brian Baverstock', 'popularity': 0.692, 'profile_path': None, 'credit_id': '577d486bc3a36817f100147f', 'department': 'Crew', 'job': 'Driver'}, {'adult': False, 'gender': 2, 'id': 1408816, 'known_for_department': 'Camera', 'name': 'Roger Pearce', 'original_name': 'Roger Pearce', 'popularity': 0.6, 'profile_path': None, 'credit_id': '562923509251414cd80025d7', 'department': 'Camera', 'job': 'Camera Operator'}, {'adult': False, 'gender': 0, 'id': 1415951, 'known_for_department': 'Costume & Make-Up', 'name': 'Norma Webb', 'original_name': 'Norma Webb', 'popularity': 0.6, 'profile_path': None, 'credit_id': '562922849251414cd50024e1', 'department': 'Costume & Make-Up', 'job': 'Makeup Artist'}, {'adult': False, 'gender': 2, 'id': 1425504, 'known_for_department': 'Lighting', 'name': 'Tommy Finch', 'original_name': 'Tommy Finch', 'popularity': 0.6, 'profile_path': None, 'credit_id': '56292327c3a36848800026fe', 'department': 'Lighting', 'job': 'Gaffer'}, {'adult': False, 'gender': 2, 'id': 1427554, 'known_for_department': 'Sound', 'name': \"Robin O'Donoghue\", 'original_name': \"Robin O'Donoghue\", 'popularity': 0.6, 'profile_path': None, 'credit_id': '5664187e9251412ad90080c9', 'department': 'Sound', 'job': 'Sound Re-Recording Mixer'}, {'adult': False, 'gender': 2, 'id': 1462916, 'known_for_department': 'Art', 'name': 'John Ralph', 'original_name': 'John Ralph', 'popularity': 0.6, 'profile_path': None, 'credit_id': '562921c99251414ce100261f', 'department': 'Art', 'job': 'Art Direction'}, {'adult': False, 'gender': 0, 'id': 1484993, 'known_for_department': 'Costume & Make-Up', 'name': 'John Bright', 'original_name': 'John Bright', 'popularity': 0.6, 'profile_path': None, 'credit_id': '577d42b99251415d950011a3', 'department': 'Costume & Make-Up', 'job': 'Costume Design'}, {'adult': False, 'gender': 0, 'id': 1532767, 'known_for_department': 'Crew', 'name': 'Garth Inns', 'original_name': 'Garth Inns', 'popularity': 0.6, 'profile_path': None, 'credit_id': '577d44bc9251415d9b0012f3', 'department': 'Visual Effects', 'job': 'Special Effects Supervisor'}, {'adult': False, 'gender': 0, 'id': 1550209, 'known_for_department': 'Crew', 'name': 'Elizabeth Aldrich', 'original_name': 'Elizabeth Aldrich', 'popularity': 0.6, 'profile_path': None, 'credit_id': '577d49639251415d980013bb', 'department': 'Crew', 'job': 'Choreographer'}, {'adult': False, 'gender': 0, 'id': 1602327, 'known_for_department': 'Costume & Make-Up', 'name': 'Paolo Mantini', 'original_name': 'Paolo Mantini', 'popularity': 0.6, 'profile_path': None, 'credit_id': '577d43419251415d950011dc', 'department': 'Costume & Make-Up', 'job': 'Hairstylist'}, {'adult': False, 'gender': 0, 'id': 1605893, 'known_for_department': 'Sound', 'name': 'Geoff Alexander', 'original_name': 'Geoff Alexander', 'popularity': 0.6, 'profile_path': None, 'credit_id': '577d47b99251415d9b00144f', 'department': 'Sound', 'job': 'Music'}, {'adult': False, 'gender': 2, 'id': 1646271, 'known_for_department': 'Editing', 'name': 'John Dowdell', 'original_name': 'John Dowdell', 'popularity': 0.6, 'profile_path': None, 'credit_id': '577d4a43c3a36817e30015aa', 'department': 'Crew', 'job': 'Telecine Colorist'}]} {'movie_results': [{'adult': False, 'backdrop_path': '/2xr4m005pcRhdBihKgaknnxtPlF.jpg', 'genre_ids': [18, 10749], 'id': 1245, 'original_language': 'en', 'original_title': 'The Remains of the Day', 'overview': \"A rule bound head butler's world of manners and decorum in the household he maintains is tested by the arrival of a housekeeper who falls in love with him in post-WWI Britain. The possibility of romance and his master's cultivation of ties with the Nazi cause challenge his carefully maintained veneer of servitude.\", 'poster_path': '/qtwipjmSypSQuSvz5BNirSxZqbg.jpg', 'release_date': '1993-11-05', 'title': 'The Remains of the Day', 'video': False, 'vote_average': 7.4, 'vote_count': 853, 'popularity': 7.785}], 'person_results': [], 'tv_results': [], 'tv_episode_results': [], 'tv_season_results': []}\n",
      "Gender 1\n"
     ]
    },
    {
     "name": "stderr",
     "output_type": "stream",
     "text": [
      "\r",
      " 45%|████████████████████████████████████▊                                            | 75/165 [00:20<00:23,  3.81it/s]"
     ]
    },
    {
     "name": "stdout",
     "output_type": "stream",
     "text": [
      "Birthday 1960-12-03\n",
      "Gender 1\n"
     ]
    },
    {
     "name": "stderr",
     "output_type": "stream",
     "text": [
      "\r",
      " 46%|█████████████████████████████████████▎                                           | 76/165 [00:20<00:23,  3.73it/s]"
     ]
    },
    {
     "name": "stdout",
     "output_type": "stream",
     "text": [
      "Birthday 1956-07-09\n",
      "Gender 2\n"
     ]
    },
    {
     "name": "stderr",
     "output_type": "stream",
     "text": [
      "\r",
      " 47%|█████████████████████████████████████▊                                           | 77/165 [00:20<00:23,  3.73it/s]"
     ]
    },
    {
     "name": "stdout",
     "output_type": "stream",
     "text": [
      "Birthday 1937-06-01\n",
      "Gender 2\n"
     ]
    },
    {
     "name": "stderr",
     "output_type": "stream",
     "text": [
      "\r",
      " 47%|██████████████████████████████████████▎                                          | 78/165 [00:21<00:23,  3.71it/s]"
     ]
    },
    {
     "name": "stdout",
     "output_type": "stream",
     "text": [
      "Birthday 1929-04-05\n",
      "Gender 0\n"
     ]
    },
    {
     "name": "stderr",
     "output_type": "stream",
     "text": [
      "\r",
      " 48%|██████████████████████████████████████▊                                          | 79/165 [00:21<00:23,  3.71it/s]"
     ]
    },
    {
     "name": "stdout",
     "output_type": "stream",
     "text": [
      "Birthday 1925-01-26\n",
      "Gender 2\n"
     ]
    },
    {
     "name": "stderr",
     "output_type": "stream",
     "text": [
      "\r",
      " 48%|███████████████████████████████████████▎                                         | 80/165 [00:21<00:22,  3.74it/s]"
     ]
    },
    {
     "name": "stdout",
     "output_type": "stream",
     "text": [
      "Birthday 1954-02-18\n",
      "Gender 2\n"
     ]
    },
    {
     "name": "stderr",
     "output_type": "stream",
     "text": [
      "\r",
      " 49%|███████████████████████████████████████▊                                         | 81/165 [00:22<00:22,  3.73it/s]"
     ]
    },
    {
     "name": "stdout",
     "output_type": "stream",
     "text": [
      "Birthday 1949-04-20\n",
      "Gender 1\n"
     ]
    },
    {
     "name": "stderr",
     "output_type": "stream",
     "text": [
      "\r",
      " 50%|████████████████████████████████████████▎                                        | 82/165 [00:22<00:21,  3.79it/s]"
     ]
    },
    {
     "name": "stdout",
     "output_type": "stream",
     "text": [
      "Birthday 1962-11-19\n",
      "Gender 1\n"
     ]
    },
    {
     "name": "stderr",
     "output_type": "stream",
     "text": [
      "\r",
      " 50%|████████████████████████████████████████▋                                        | 83/165 [00:22<00:21,  3.75it/s]"
     ]
    },
    {
     "name": "stdout",
     "output_type": "stream",
     "text": [
      "Birthday 1958-03-03\n",
      "Gender 1\n"
     ]
    },
    {
     "name": "stderr",
     "output_type": "stream",
     "text": [
      "\r",
      " 51%|█████████████████████████████████████████▏                                       | 84/165 [00:22<00:21,  3.80it/s]"
     ]
    },
    {
     "name": "stdout",
     "output_type": "stream",
     "text": [
      "Birthday 1971-10-29\n",
      "Gender 1\n"
     ]
    },
    {
     "name": "stderr",
     "output_type": "stream",
     "text": [
      "\r",
      " 52%|█████████████████████████████████████████▋                                       | 85/165 [00:23<00:20,  3.83it/s]"
     ]
    },
    {
     "name": "stdout",
     "output_type": "stream",
     "text": [
      "Birthday 1946-10-04\n",
      "Gender 1\n"
     ]
    },
    {
     "name": "stderr",
     "output_type": "stream",
     "text": [
      "\r",
      " 52%|██████████████████████████████████████████▏                                      | 86/165 [00:23<00:21,  3.74it/s]"
     ]
    },
    {
     "name": "stdout",
     "output_type": "stream",
     "text": [
      "Birthday 1955-03-17\n",
      "Gender 2\n"
     ]
    },
    {
     "name": "stderr",
     "output_type": "stream",
     "text": [
      "\r",
      " 53%|██████████████████████████████████████████▋                                      | 87/165 [00:23<00:20,  3.76it/s]"
     ]
    },
    {
     "name": "stdout",
     "output_type": "stream",
     "text": [
      "Birthday 1954-06-06\n",
      "Gender 2\n"
     ]
    },
    {
     "name": "stderr",
     "output_type": "stream",
     "text": [
      "\r",
      " 53%|███████████████████████████████████████████▏                                     | 88/165 [00:23<00:20,  3.74it/s]"
     ]
    },
    {
     "name": "stdout",
     "output_type": "stream",
     "text": [
      "Birthday 1970-04-29\n",
      "Gender 1\n"
     ]
    },
    {
     "name": "stderr",
     "output_type": "stream",
     "text": [
      " 54%|███████████████████████████████████████████▋                                     | 89/165 [00:24<00:20,  3.66it/s]"
     ]
    },
    {
     "name": "stdout",
     "output_type": "stream",
     "text": [
      "Birthday 1926-02-08\n",
      "Gender 2\n",
      "longueur movie 0 []\n"
     ]
    },
    {
     "name": "stderr",
     "output_type": "stream",
     "text": [
      "\n"
     ]
    },
    {
     "ename": "IndexError",
     "evalue": "list index out of range",
     "output_type": "error",
     "traceback": [
      "\u001b[1;31m---------------------------------------------------------------------------\u001b[0m",
      "\u001b[1;31mIndexError\u001b[0m                                Traceback (most recent call last)",
      "\u001b[1;32m<ipython-input-38-6cee94c47572>\u001b[0m in \u001b[0;36m<module>\u001b[1;34m\u001b[0m\n\u001b[1;32m----> 1\u001b[1;33m \u001b[0mtest\u001b[0m\u001b[1;33m.\u001b[0m\u001b[0mgetAPI_MDB\u001b[0m\u001b[1;33m(\u001b[0m\u001b[1;33m)\u001b[0m\u001b[1;33m\u001b[0m\u001b[1;33m\u001b[0m\u001b[0m\n\u001b[0m",
      "\u001b[1;32m<ipython-input-35-b031ccabfc8b>\u001b[0m in \u001b[0;36mgetAPI_MDB\u001b[1;34m(self)\u001b[0m\n\u001b[0;32m    443\u001b[0m                             \u001b[1;32mif\u001b[0m \u001b[0mjellyfish\u001b[0m\u001b[1;33m.\u001b[0m\u001b[0mdamerau_levenshtein_distance\u001b[0m\u001b[1;33m(\u001b[0m\u001b[0mresponse_credit\u001b[0m\u001b[1;33m[\u001b[0m\u001b[1;34m\"crew\"\u001b[0m\u001b[1;33m]\u001b[0m\u001b[1;33m[\u001b[0m\u001b[0macteurs\u001b[0m\u001b[1;33m]\u001b[0m\u001b[1;33m[\u001b[0m\u001b[1;34m\"name\"\u001b[0m\u001b[1;33m]\u001b[0m\u001b[1;33m,\u001b[0m \u001b[0mself\u001b[0m\u001b[1;33m.\u001b[0m\u001b[0mdata\u001b[0m\u001b[1;33m[\u001b[0m\u001b[1;34m\"name\"\u001b[0m\u001b[1;33m]\u001b[0m\u001b[1;33m[\u001b[0m\u001b[0mmovie_count\u001b[0m\u001b[1;33m]\u001b[0m\u001b[1;33m)\u001b[0m \u001b[1;33m<\u001b[0m \u001b[1;36m2\u001b[0m\u001b[1;33m:\u001b[0m\u001b[1;33m\u001b[0m\u001b[1;33m\u001b[0m\u001b[0m\n\u001b[0;32m    444\u001b[0m                                 \u001b[0mid_indiv\u001b[0m \u001b[1;33m=\u001b[0m \u001b[0mresponse_credit\u001b[0m\u001b[1;33m[\u001b[0m\u001b[1;34m\"cast\"\u001b[0m\u001b[1;33m]\u001b[0m\u001b[1;33m[\u001b[0m\u001b[0macteurs\u001b[0m\u001b[1;33m]\u001b[0m\u001b[1;33m[\u001b[0m\u001b[1;34m\"id\"\u001b[0m\u001b[1;33m]\u001b[0m\u001b[1;33m\u001b[0m\u001b[1;33m\u001b[0m\u001b[0m\n\u001b[1;32m--> 445\u001b[1;33m                         \u001b[1;32mif\u001b[0m \u001b[1;32mnot\u001b[0m \u001b[0many\u001b[0m\u001b[1;33m(\u001b[0m\u001b[0mjellyfish\u001b[0m\u001b[1;33m.\u001b[0m\u001b[0mdamerau_levenshtein_distance\u001b[0m\u001b[1;33m(\u001b[0m\u001b[0mresponse_credit\u001b[0m\u001b[1;33m[\u001b[0m\u001b[1;34m\"crew\"\u001b[0m\u001b[1;33m]\u001b[0m\u001b[1;33m[\u001b[0m\u001b[0macteurs\u001b[0m\u001b[1;33m]\u001b[0m\u001b[1;33m[\u001b[0m\u001b[1;34m\"name\"\u001b[0m\u001b[1;33m]\u001b[0m\u001b[1;33m,\u001b[0m \u001b[0mself\u001b[0m\u001b[1;33m.\u001b[0m\u001b[0mdata\u001b[0m\u001b[1;33m[\u001b[0m\u001b[1;34m\"name\"\u001b[0m\u001b[1;33m]\u001b[0m\u001b[1;33m[\u001b[0m\u001b[0mmovie_count\u001b[0m\u001b[1;33m]\u001b[0m\u001b[1;33m)\u001b[0m \u001b[1;33m<\u001b[0m \u001b[1;36m2\u001b[0m \u001b[1;32mfor\u001b[0m \u001b[0macteurs\u001b[0m \u001b[1;32min\u001b[0m \u001b[0mrange\u001b[0m\u001b[1;33m(\u001b[0m\u001b[0mlen\u001b[0m\u001b[1;33m(\u001b[0m\u001b[0mresponse_credit\u001b[0m\u001b[1;33m[\u001b[0m\u001b[1;34m\"cast\"\u001b[0m\u001b[1;33m]\u001b[0m\u001b[1;33m)\u001b[0m\u001b[1;33m)\u001b[0m\u001b[1;33m)\u001b[0m\u001b[1;33m:\u001b[0m\u001b[1;33m\u001b[0m\u001b[1;33m\u001b[0m\u001b[0m\n\u001b[0m\u001b[0;32m    446\u001b[0m                             \u001b[0mprint\u001b[0m\u001b[1;33m(\u001b[0m\u001b[1;34m\"Pas acteur dans liste crew\"\u001b[0m\u001b[1;33m,\u001b[0m \u001b[0mself\u001b[0m\u001b[1;33m.\u001b[0m\u001b[0mdata\u001b[0m\u001b[1;33m[\u001b[0m\u001b[1;34m\"name\"\u001b[0m\u001b[1;33m]\u001b[0m\u001b[1;33m[\u001b[0m\u001b[0mmovie_count\u001b[0m\u001b[1;33m]\u001b[0m\u001b[1;33m,\u001b[0m\u001b[0mresponse_credit\u001b[0m\u001b[1;33m[\u001b[0m\u001b[1;34m\"crew\"\u001b[0m\u001b[1;33m]\u001b[0m\u001b[1;33m)\u001b[0m\u001b[1;33m\u001b[0m\u001b[1;33m\u001b[0m\u001b[0m\n\u001b[0;32m    447\u001b[0m                     \u001b[1;32melse\u001b[0m\u001b[1;33m:\u001b[0m\u001b[1;33m\u001b[0m\u001b[1;33m\u001b[0m\u001b[0m\n",
      "\u001b[1;32m<ipython-input-35-b031ccabfc8b>\u001b[0m in \u001b[0;36m<genexpr>\u001b[1;34m(.0)\u001b[0m\n\u001b[0;32m    443\u001b[0m                             \u001b[1;32mif\u001b[0m \u001b[0mjellyfish\u001b[0m\u001b[1;33m.\u001b[0m\u001b[0mdamerau_levenshtein_distance\u001b[0m\u001b[1;33m(\u001b[0m\u001b[0mresponse_credit\u001b[0m\u001b[1;33m[\u001b[0m\u001b[1;34m\"crew\"\u001b[0m\u001b[1;33m]\u001b[0m\u001b[1;33m[\u001b[0m\u001b[0macteurs\u001b[0m\u001b[1;33m]\u001b[0m\u001b[1;33m[\u001b[0m\u001b[1;34m\"name\"\u001b[0m\u001b[1;33m]\u001b[0m\u001b[1;33m,\u001b[0m \u001b[0mself\u001b[0m\u001b[1;33m.\u001b[0m\u001b[0mdata\u001b[0m\u001b[1;33m[\u001b[0m\u001b[1;34m\"name\"\u001b[0m\u001b[1;33m]\u001b[0m\u001b[1;33m[\u001b[0m\u001b[0mmovie_count\u001b[0m\u001b[1;33m]\u001b[0m\u001b[1;33m)\u001b[0m \u001b[1;33m<\u001b[0m \u001b[1;36m2\u001b[0m\u001b[1;33m:\u001b[0m\u001b[1;33m\u001b[0m\u001b[1;33m\u001b[0m\u001b[0m\n\u001b[0;32m    444\u001b[0m                                 \u001b[0mid_indiv\u001b[0m \u001b[1;33m=\u001b[0m \u001b[0mresponse_credit\u001b[0m\u001b[1;33m[\u001b[0m\u001b[1;34m\"cast\"\u001b[0m\u001b[1;33m]\u001b[0m\u001b[1;33m[\u001b[0m\u001b[0macteurs\u001b[0m\u001b[1;33m]\u001b[0m\u001b[1;33m[\u001b[0m\u001b[1;34m\"id\"\u001b[0m\u001b[1;33m]\u001b[0m\u001b[1;33m\u001b[0m\u001b[1;33m\u001b[0m\u001b[0m\n\u001b[1;32m--> 445\u001b[1;33m                         \u001b[1;32mif\u001b[0m \u001b[1;32mnot\u001b[0m \u001b[0many\u001b[0m\u001b[1;33m(\u001b[0m\u001b[0mjellyfish\u001b[0m\u001b[1;33m.\u001b[0m\u001b[0mdamerau_levenshtein_distance\u001b[0m\u001b[1;33m(\u001b[0m\u001b[0mresponse_credit\u001b[0m\u001b[1;33m[\u001b[0m\u001b[1;34m\"crew\"\u001b[0m\u001b[1;33m]\u001b[0m\u001b[1;33m[\u001b[0m\u001b[0macteurs\u001b[0m\u001b[1;33m]\u001b[0m\u001b[1;33m[\u001b[0m\u001b[1;34m\"name\"\u001b[0m\u001b[1;33m]\u001b[0m\u001b[1;33m,\u001b[0m \u001b[0mself\u001b[0m\u001b[1;33m.\u001b[0m\u001b[0mdata\u001b[0m\u001b[1;33m[\u001b[0m\u001b[1;34m\"name\"\u001b[0m\u001b[1;33m]\u001b[0m\u001b[1;33m[\u001b[0m\u001b[0mmovie_count\u001b[0m\u001b[1;33m]\u001b[0m\u001b[1;33m)\u001b[0m \u001b[1;33m<\u001b[0m \u001b[1;36m2\u001b[0m \u001b[1;32mfor\u001b[0m \u001b[0macteurs\u001b[0m \u001b[1;32min\u001b[0m \u001b[0mrange\u001b[0m\u001b[1;33m(\u001b[0m\u001b[0mlen\u001b[0m\u001b[1;33m(\u001b[0m\u001b[0mresponse_credit\u001b[0m\u001b[1;33m[\u001b[0m\u001b[1;34m\"cast\"\u001b[0m\u001b[1;33m]\u001b[0m\u001b[1;33m)\u001b[0m\u001b[1;33m)\u001b[0m\u001b[1;33m)\u001b[0m\u001b[1;33m:\u001b[0m\u001b[1;33m\u001b[0m\u001b[1;33m\u001b[0m\u001b[0m\n\u001b[0m\u001b[0;32m    446\u001b[0m                             \u001b[0mprint\u001b[0m\u001b[1;33m(\u001b[0m\u001b[1;34m\"Pas acteur dans liste crew\"\u001b[0m\u001b[1;33m,\u001b[0m \u001b[0mself\u001b[0m\u001b[1;33m.\u001b[0m\u001b[0mdata\u001b[0m\u001b[1;33m[\u001b[0m\u001b[1;34m\"name\"\u001b[0m\u001b[1;33m]\u001b[0m\u001b[1;33m[\u001b[0m\u001b[0mmovie_count\u001b[0m\u001b[1;33m]\u001b[0m\u001b[1;33m,\u001b[0m\u001b[0mresponse_credit\u001b[0m\u001b[1;33m[\u001b[0m\u001b[1;34m\"crew\"\u001b[0m\u001b[1;33m]\u001b[0m\u001b[1;33m)\u001b[0m\u001b[1;33m\u001b[0m\u001b[1;33m\u001b[0m\u001b[0m\n\u001b[0;32m    447\u001b[0m                     \u001b[1;32melse\u001b[0m\u001b[1;33m:\u001b[0m\u001b[1;33m\u001b[0m\u001b[1;33m\u001b[0m\u001b[0m\n",
      "\u001b[1;31mIndexError\u001b[0m: list index out of range"
     ]
    }
   ],
   "source": [
    "test.getAPI_MDB()"
   ]
  },
  {
   "cell_type": "code",
   "execution_count": 45,
   "metadata": {},
   "outputs": [
    {
     "name": "stdout",
     "output_type": "stream",
     "text": [
      "https://www.rottentomatoes.com/m/lglfo\n",
      "ça fonfonctionne\n",
      "404\n"
     ]
    }
   ],
   "source": [
    "\n",
    "url_rotten = \"https://www.rottentomatoes.com/m/lglfo\"\n",
    "print(url_rotten)\n",
    "response_rotten = requests.get(url_rotten)\n",
    "if response_rotten.status_code == requests.codes.ok:\n",
    "    print(\"tkt bg\")\n",
    "else:\n",
    "    print(\"ça fonfonctionne\")\n",
    "    print(response_rotten.status_code)\n",
    "    \n",
    "        for i in tqdm(self.data['film']):\n",
    "            #time.sleep(10) # Crawlerdelay\n",
    "            standardization = i.lower().replace(\"&\", \"and\").replace(\"the\",\"\").replace(\".\",\"\").replace(\"'\", \"\").replace(\",\", \" \").replace(\" \", \"_\")\n",
    "            url_rotten = \"https://www.rottentomatoes.com/m/{}\".format(standardization)\n",
    "            response_rotten = requests.get(url_rotten)\n",
    "            if response_rotten.status_code == requests.codes.ok:\n",
    "                sel = Selector(text = response_rotten.text)   # Scrapy chose over BeautifulSoup for selector CSS\n",
    "                self.links['rotten'].append(sel)\n",
    "            else:\n",
    "                print(url_rotten)"
   ]
  },
  {
   "cell_type": "code",
   "execution_count": 40,
   "metadata": {},
   "outputs": [
    {
     "name": "stdout",
     "output_type": "stream",
     "text": [
      "The Grifters Stephen Frears Directing\n"
     ]
    }
   ],
   "source": [
    "print(test.data[\"film\"][28],test.data[\"name\"][28], test.data[\"category\"][28])\n"
   ]
  },
  {
   "cell_type": "code",
   "execution_count": 10,
   "metadata": {},
   "outputs": [
    {
     "data": {
      "text/plain": [
       "1"
      ]
     },
     "execution_count": 10,
     "metadata": {},
     "output_type": "execute_result"
    }
   ],
   "source": []
  }
 ],
 "metadata": {
  "kernelspec": {
   "display_name": "Python 3",
   "language": "python",
   "name": "python3"
  },
  "language_info": {
   "codemirror_mode": {
    "name": "ipython",
    "version": 3
   },
   "file_extension": ".py",
   "mimetype": "text/x-python",
   "name": "python",
   "nbconvert_exporter": "python",
   "pygments_lexer": "ipython3",
   "version": "3.8.3"
  }
 },
 "nbformat": 4,
 "nbformat_minor": 4
}
